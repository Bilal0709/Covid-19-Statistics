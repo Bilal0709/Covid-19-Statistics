{
 "cells": [
  {
   "cell_type": "code",
   "execution_count": 41,
   "metadata": {},
   "outputs": [],
   "source": [
    "import pandas as pd\n",
    "import matplotlib.pyplot as plt\n",
    "from matplotlib import style\n",
    "%matplotlib inline\n",
    "plt.rcParams['figure.figsize']=17,8\n",
    "import plotly\n",
    "import plotly.express as px\n",
    "import plotly.graph_objects as go \n",
    "import cufflinks as cf\n",
    "import plotly.offline as pyo\n",
    "from plotly.offline import init_notebook_mode,plot,iplot\n",
    "import folium\n"
   ]
  },
  {
   "cell_type": "code",
   "execution_count": null,
   "metadata": {},
   "outputs": [],
   "source": []
  },
  {
   "cell_type": "code",
   "execution_count": 2,
   "metadata": {},
   "outputs": [
    {
     "data": {
      "text/html": [
       "<div>\n",
       "<style scoped>\n",
       "    .dataframe tbody tr th:only-of-type {\n",
       "        vertical-align: middle;\n",
       "    }\n",
       "\n",
       "    .dataframe tbody tr th {\n",
       "        vertical-align: top;\n",
       "    }\n",
       "\n",
       "    .dataframe thead th {\n",
       "        text-align: right;\n",
       "    }\n",
       "</style>\n",
       "<table border=\"1\" class=\"dataframe\">\n",
       "  <thead>\n",
       "    <tr style=\"text-align: right;\">\n",
       "      <th></th>\n",
       "      <th>Unnamed: 0</th>\n",
       "      <th>Unnamed: 1</th>\n",
       "      <th>Unnamed: 2</th>\n",
       "      <th>Unnamed: 3</th>\n",
       "    </tr>\n",
       "  </thead>\n",
       "  <tbody>\n",
       "    <tr>\n",
       "      <td>0</td>\n",
       "      <td>NaN</td>\n",
       "      <td>NaN</td>\n",
       "      <td>NaN</td>\n",
       "      <td>NaN</td>\n",
       "    </tr>\n",
       "    <tr>\n",
       "      <td>1</td>\n",
       "      <td>Country Name</td>\n",
       "      <td>Total cases</td>\n",
       "      <td>Total Death</td>\n",
       "      <td>Total recovery</td>\n",
       "    </tr>\n",
       "    <tr>\n",
       "      <td>2</td>\n",
       "      <td>USA</td>\n",
       "      <td>1178832</td>\n",
       "      <td>68445</td>\n",
       "      <td>170181</td>\n",
       "    </tr>\n",
       "    <tr>\n",
       "      <td>3</td>\n",
       "      <td>Spain</td>\n",
       "      <td>248155</td>\n",
       "      <td>25376</td>\n",
       "      <td>146233</td>\n",
       "    </tr>\n",
       "    <tr>\n",
       "      <td>4</td>\n",
       "      <td>Italy</td>\n",
       "      <td>211228</td>\n",
       "      <td>29184</td>\n",
       "      <td>79914</td>\n",
       "    </tr>\n",
       "    <tr>\n",
       "      <td>...</td>\n",
       "      <td>...</td>\n",
       "      <td>...</td>\n",
       "      <td>...</td>\n",
       "      <td>...</td>\n",
       "    </tr>\n",
       "    <tr>\n",
       "      <td>212</td>\n",
       "      <td>Western Sahara</td>\n",
       "      <td>6</td>\n",
       "      <td>0</td>\n",
       "      <td>5</td>\n",
       "    </tr>\n",
       "    <tr>\n",
       "      <td>213</td>\n",
       "      <td>Anguilla</td>\n",
       "      <td>3</td>\n",
       "      <td>0</td>\n",
       "      <td>3</td>\n",
       "    </tr>\n",
       "    <tr>\n",
       "      <td>214</td>\n",
       "      <td>Comoros</td>\n",
       "      <td>5</td>\n",
       "      <td>0</td>\n",
       "      <td>NaN</td>\n",
       "    </tr>\n",
       "    <tr>\n",
       "      <td>215</td>\n",
       "      <td>Saint Pierre Miquelon</td>\n",
       "      <td>1</td>\n",
       "      <td>0</td>\n",
       "      <td>NaN</td>\n",
       "    </tr>\n",
       "    <tr>\n",
       "      <td>216</td>\n",
       "      <td>Total:</td>\n",
       "      <td>3542470</td>\n",
       "      <td>248502</td>\n",
       "      <td>1114164</td>\n",
       "    </tr>\n",
       "  </tbody>\n",
       "</table>\n",
       "<p>217 rows × 4 columns</p>\n",
       "</div>"
      ],
      "text/plain": [
       "                Unnamed: 0   Unnamed: 1   Unnamed: 2      Unnamed: 3\n",
       "0                      NaN          NaN          NaN             NaN\n",
       "1             Country Name  Total cases  Total Death  Total recovery\n",
       "2                      USA      1178832        68445          170181\n",
       "3                    Spain       248155        25376          146233\n",
       "4                    Italy       211228        29184           79914\n",
       "..                     ...          ...          ...             ...\n",
       "212         Western Sahara            6            0               5\n",
       "213               Anguilla            3            0               3\n",
       "214                Comoros            5            0             NaN\n",
       "215  Saint Pierre Miquelon            1            0             NaN\n",
       "216                 Total:      3542470       248502         1114164\n",
       "\n",
       "[217 rows x 4 columns]"
      ]
     },
     "execution_count": 2,
     "metadata": {},
     "output_type": "execute_result"
    }
   ],
   "source": [
    "df=pd.read_excel(r\"C:\\Users\\BILAL ABID\\Desktop\\Covid 19 statistics.xlsx\")\n",
    "df\n"
   ]
  },
  {
   "cell_type": "code",
   "execution_count": 3,
   "metadata": {},
   "outputs": [],
   "source": [
    "# Create a new variable called 'header' from the first row of the dataset\n",
    "header=df.iloc[1]"
   ]
  },
  {
   "cell_type": "code",
   "execution_count": 4,
   "metadata": {},
   "outputs": [
    {
     "data": {
      "text/plain": [
       "Unnamed: 0      Country Name\n",
       "Unnamed: 1       Total cases\n",
       "Unnamed: 2       Total Death\n",
       "Unnamed: 3    Total recovery\n",
       "Name: 1, dtype: object"
      ]
     },
     "execution_count": 4,
     "metadata": {},
     "output_type": "execute_result"
    }
   ],
   "source": [
    "header"
   ]
  },
  {
   "cell_type": "code",
   "execution_count": 5,
   "metadata": {},
   "outputs": [],
   "source": [
    "df = df[1:]"
   ]
  },
  {
   "cell_type": "code",
   "execution_count": 6,
   "metadata": {},
   "outputs": [
    {
     "data": {
      "text/html": [
       "<div>\n",
       "<style scoped>\n",
       "    .dataframe tbody tr th:only-of-type {\n",
       "        vertical-align: middle;\n",
       "    }\n",
       "\n",
       "    .dataframe tbody tr th {\n",
       "        vertical-align: top;\n",
       "    }\n",
       "\n",
       "    .dataframe thead th {\n",
       "        text-align: right;\n",
       "    }\n",
       "</style>\n",
       "<table border=\"1\" class=\"dataframe\">\n",
       "  <thead>\n",
       "    <tr style=\"text-align: right;\">\n",
       "      <th></th>\n",
       "      <th>Unnamed: 0</th>\n",
       "      <th>Unnamed: 1</th>\n",
       "      <th>Unnamed: 2</th>\n",
       "      <th>Unnamed: 3</th>\n",
       "    </tr>\n",
       "  </thead>\n",
       "  <tbody>\n",
       "    <tr>\n",
       "      <td>1</td>\n",
       "      <td>Country Name</td>\n",
       "      <td>Total cases</td>\n",
       "      <td>Total Death</td>\n",
       "      <td>Total recovery</td>\n",
       "    </tr>\n",
       "    <tr>\n",
       "      <td>2</td>\n",
       "      <td>USA</td>\n",
       "      <td>1178832</td>\n",
       "      <td>68445</td>\n",
       "      <td>170181</td>\n",
       "    </tr>\n",
       "    <tr>\n",
       "      <td>3</td>\n",
       "      <td>Spain</td>\n",
       "      <td>248155</td>\n",
       "      <td>25376</td>\n",
       "      <td>146233</td>\n",
       "    </tr>\n",
       "    <tr>\n",
       "      <td>4</td>\n",
       "      <td>Italy</td>\n",
       "      <td>211228</td>\n",
       "      <td>29184</td>\n",
       "      <td>79914</td>\n",
       "    </tr>\n",
       "    <tr>\n",
       "      <td>5</td>\n",
       "      <td>UK</td>\n",
       "      <td>187066</td>\n",
       "      <td>28752</td>\n",
       "      <td>NaN</td>\n",
       "    </tr>\n",
       "    <tr>\n",
       "      <td>...</td>\n",
       "      <td>...</td>\n",
       "      <td>...</td>\n",
       "      <td>...</td>\n",
       "      <td>...</td>\n",
       "    </tr>\n",
       "    <tr>\n",
       "      <td>212</td>\n",
       "      <td>Western Sahara</td>\n",
       "      <td>6</td>\n",
       "      <td>0</td>\n",
       "      <td>5</td>\n",
       "    </tr>\n",
       "    <tr>\n",
       "      <td>213</td>\n",
       "      <td>Anguilla</td>\n",
       "      <td>3</td>\n",
       "      <td>0</td>\n",
       "      <td>3</td>\n",
       "    </tr>\n",
       "    <tr>\n",
       "      <td>214</td>\n",
       "      <td>Comoros</td>\n",
       "      <td>5</td>\n",
       "      <td>0</td>\n",
       "      <td>NaN</td>\n",
       "    </tr>\n",
       "    <tr>\n",
       "      <td>215</td>\n",
       "      <td>Saint Pierre Miquelon</td>\n",
       "      <td>1</td>\n",
       "      <td>0</td>\n",
       "      <td>NaN</td>\n",
       "    </tr>\n",
       "    <tr>\n",
       "      <td>216</td>\n",
       "      <td>Total:</td>\n",
       "      <td>3542470</td>\n",
       "      <td>248502</td>\n",
       "      <td>1114164</td>\n",
       "    </tr>\n",
       "  </tbody>\n",
       "</table>\n",
       "<p>216 rows × 4 columns</p>\n",
       "</div>"
      ],
      "text/plain": [
       "                Unnamed: 0   Unnamed: 1   Unnamed: 2      Unnamed: 3\n",
       "1             Country Name  Total cases  Total Death  Total recovery\n",
       "2                      USA      1178832        68445          170181\n",
       "3                    Spain       248155        25376          146233\n",
       "4                    Italy       211228        29184           79914\n",
       "5                       UK       187066        28752             NaN\n",
       "..                     ...          ...          ...             ...\n",
       "212         Western Sahara            6            0               5\n",
       "213               Anguilla            3            0               3\n",
       "214                Comoros            5            0             NaN\n",
       "215  Saint Pierre Miquelon            1            0             NaN\n",
       "216                 Total:      3542470       248502         1114164\n",
       "\n",
       "[216 rows x 4 columns]"
      ]
     },
     "execution_count": 6,
     "metadata": {},
     "output_type": "execute_result"
    }
   ],
   "source": [
    "df\n",
    "\n"
   ]
  },
  {
   "cell_type": "code",
   "execution_count": 7,
   "metadata": {},
   "outputs": [],
   "source": [
    "df=df.rename(columns=header)"
   ]
  },
  {
   "cell_type": "code",
   "execution_count": 8,
   "metadata": {},
   "outputs": [],
   "source": [
    "df=df[1:]"
   ]
  },
  {
   "cell_type": "code",
   "execution_count": 12,
   "metadata": {
    "scrolled": true
   },
   "outputs": [
    {
     "data": {
      "text/html": [
       "<div>\n",
       "<style scoped>\n",
       "    .dataframe tbody tr th:only-of-type {\n",
       "        vertical-align: middle;\n",
       "    }\n",
       "\n",
       "    .dataframe tbody tr th {\n",
       "        vertical-align: top;\n",
       "    }\n",
       "\n",
       "    .dataframe thead th {\n",
       "        text-align: right;\n",
       "    }\n",
       "</style>\n",
       "<table border=\"1\" class=\"dataframe\">\n",
       "  <thead>\n",
       "    <tr style=\"text-align: right;\">\n",
       "      <th></th>\n",
       "      <th>Country Name</th>\n",
       "      <th>Total cases</th>\n",
       "      <th>Total Death</th>\n",
       "      <th>Total recovery</th>\n",
       "    </tr>\n",
       "  </thead>\n",
       "  <tbody>\n",
       "    <tr>\n",
       "      <td>2</td>\n",
       "      <td>USA</td>\n",
       "      <td>1178832</td>\n",
       "      <td>68445</td>\n",
       "      <td>170181</td>\n",
       "    </tr>\n",
       "    <tr>\n",
       "      <td>3</td>\n",
       "      <td>Spain</td>\n",
       "      <td>248155</td>\n",
       "      <td>25376</td>\n",
       "      <td>146233</td>\n",
       "    </tr>\n",
       "    <tr>\n",
       "      <td>4</td>\n",
       "      <td>Italy</td>\n",
       "      <td>211228</td>\n",
       "      <td>29184</td>\n",
       "      <td>79914</td>\n",
       "    </tr>\n",
       "    <tr>\n",
       "      <td>5</td>\n",
       "      <td>UK</td>\n",
       "      <td>187066</td>\n",
       "      <td>28752</td>\n",
       "      <td>NaN</td>\n",
       "    </tr>\n",
       "    <tr>\n",
       "      <td>6</td>\n",
       "      <td>France</td>\n",
       "      <td>169446</td>\n",
       "      <td>24926</td>\n",
       "      <td>50562</td>\n",
       "    </tr>\n",
       "    <tr>\n",
       "      <td>...</td>\n",
       "      <td>...</td>\n",
       "      <td>...</td>\n",
       "      <td>...</td>\n",
       "      <td>...</td>\n",
       "    </tr>\n",
       "    <tr>\n",
       "      <td>212</td>\n",
       "      <td>Western Sahara</td>\n",
       "      <td>6</td>\n",
       "      <td>0</td>\n",
       "      <td>5</td>\n",
       "    </tr>\n",
       "    <tr>\n",
       "      <td>213</td>\n",
       "      <td>Anguilla</td>\n",
       "      <td>3</td>\n",
       "      <td>0</td>\n",
       "      <td>3</td>\n",
       "    </tr>\n",
       "    <tr>\n",
       "      <td>214</td>\n",
       "      <td>Comoros</td>\n",
       "      <td>5</td>\n",
       "      <td>0</td>\n",
       "      <td>NaN</td>\n",
       "    </tr>\n",
       "    <tr>\n",
       "      <td>215</td>\n",
       "      <td>Saint Pierre Miquelon</td>\n",
       "      <td>1</td>\n",
       "      <td>0</td>\n",
       "      <td>NaN</td>\n",
       "    </tr>\n",
       "    <tr>\n",
       "      <td>216</td>\n",
       "      <td>Total:</td>\n",
       "      <td>3542470</td>\n",
       "      <td>248502</td>\n",
       "      <td>1114164</td>\n",
       "    </tr>\n",
       "  </tbody>\n",
       "</table>\n",
       "<p>215 rows × 4 columns</p>\n",
       "</div>"
      ],
      "text/plain": [
       "              Country Name Total cases Total Death Total recovery\n",
       "2                      USA     1178832       68445         170181\n",
       "3                    Spain      248155       25376         146233\n",
       "4                    Italy      211228       29184          79914\n",
       "5                       UK      187066       28752            NaN\n",
       "6                   France      169446       24926          50562\n",
       "..                     ...         ...         ...            ...\n",
       "212         Western Sahara           6           0              5\n",
       "213               Anguilla           3           0              3\n",
       "214                Comoros           5           0            NaN\n",
       "215  Saint Pierre Miquelon           1           0            NaN\n",
       "216                 Total:     3542470      248502        1114164\n",
       "\n",
       "[215 rows x 4 columns]"
      ]
     },
     "execution_count": 12,
     "metadata": {},
     "output_type": "execute_result"
    }
   ],
   "source": [
    "df\n"
   ]
  },
  {
   "cell_type": "code",
   "execution_count": 13,
   "metadata": {},
   "outputs": [],
   "source": [
    "# Each index subtract 1\n",
    "df.index= df.index -1 "
   ]
  },
  {
   "cell_type": "code",
   "execution_count": 14,
   "metadata": {},
   "outputs": [
    {
     "data": {
      "text/html": [
       "<div>\n",
       "<style scoped>\n",
       "    .dataframe tbody tr th:only-of-type {\n",
       "        vertical-align: middle;\n",
       "    }\n",
       "\n",
       "    .dataframe tbody tr th {\n",
       "        vertical-align: top;\n",
       "    }\n",
       "\n",
       "    .dataframe thead th {\n",
       "        text-align: right;\n",
       "    }\n",
       "</style>\n",
       "<table border=\"1\" class=\"dataframe\">\n",
       "  <thead>\n",
       "    <tr style=\"text-align: right;\">\n",
       "      <th></th>\n",
       "      <th>Country Name</th>\n",
       "      <th>Total cases</th>\n",
       "      <th>Total Death</th>\n",
       "      <th>Total recovery</th>\n",
       "    </tr>\n",
       "  </thead>\n",
       "  <tbody>\n",
       "    <tr>\n",
       "      <td>1</td>\n",
       "      <td>USA</td>\n",
       "      <td>1178832</td>\n",
       "      <td>68445</td>\n",
       "      <td>170181</td>\n",
       "    </tr>\n",
       "    <tr>\n",
       "      <td>2</td>\n",
       "      <td>Spain</td>\n",
       "      <td>248155</td>\n",
       "      <td>25376</td>\n",
       "      <td>146233</td>\n",
       "    </tr>\n",
       "    <tr>\n",
       "      <td>3</td>\n",
       "      <td>Italy</td>\n",
       "      <td>211228</td>\n",
       "      <td>29184</td>\n",
       "      <td>79914</td>\n",
       "    </tr>\n",
       "    <tr>\n",
       "      <td>4</td>\n",
       "      <td>UK</td>\n",
       "      <td>187066</td>\n",
       "      <td>28752</td>\n",
       "      <td>NaN</td>\n",
       "    </tr>\n",
       "    <tr>\n",
       "      <td>5</td>\n",
       "      <td>France</td>\n",
       "      <td>169446</td>\n",
       "      <td>24926</td>\n",
       "      <td>50562</td>\n",
       "    </tr>\n",
       "    <tr>\n",
       "      <td>...</td>\n",
       "      <td>...</td>\n",
       "      <td>...</td>\n",
       "      <td>...</td>\n",
       "      <td>...</td>\n",
       "    </tr>\n",
       "    <tr>\n",
       "      <td>211</td>\n",
       "      <td>Western Sahara</td>\n",
       "      <td>6</td>\n",
       "      <td>0</td>\n",
       "      <td>5</td>\n",
       "    </tr>\n",
       "    <tr>\n",
       "      <td>212</td>\n",
       "      <td>Anguilla</td>\n",
       "      <td>3</td>\n",
       "      <td>0</td>\n",
       "      <td>3</td>\n",
       "    </tr>\n",
       "    <tr>\n",
       "      <td>213</td>\n",
       "      <td>Comoros</td>\n",
       "      <td>5</td>\n",
       "      <td>0</td>\n",
       "      <td>NaN</td>\n",
       "    </tr>\n",
       "    <tr>\n",
       "      <td>214</td>\n",
       "      <td>Saint Pierre Miquelon</td>\n",
       "      <td>1</td>\n",
       "      <td>0</td>\n",
       "      <td>NaN</td>\n",
       "    </tr>\n",
       "    <tr>\n",
       "      <td>215</td>\n",
       "      <td>Total:</td>\n",
       "      <td>3542470</td>\n",
       "      <td>248502</td>\n",
       "      <td>1114164</td>\n",
       "    </tr>\n",
       "  </tbody>\n",
       "</table>\n",
       "<p>215 rows × 4 columns</p>\n",
       "</div>"
      ],
      "text/plain": [
       "              Country Name Total cases Total Death Total recovery\n",
       "1                      USA     1178832       68445         170181\n",
       "2                    Spain      248155       25376         146233\n",
       "3                    Italy      211228       29184          79914\n",
       "4                       UK      187066       28752            NaN\n",
       "5                   France      169446       24926          50562\n",
       "..                     ...         ...         ...            ...\n",
       "211         Western Sahara           6           0              5\n",
       "212               Anguilla           3           0              3\n",
       "213                Comoros           5           0            NaN\n",
       "214  Saint Pierre Miquelon           1           0            NaN\n",
       "215                 Total:     3542470      248502        1114164\n",
       "\n",
       "[215 rows x 4 columns]"
      ]
     },
     "execution_count": 14,
     "metadata": {},
     "output_type": "execute_result"
    }
   ],
   "source": [
    "df"
   ]
  },
  {
   "cell_type": "code",
   "execution_count": null,
   "metadata": {},
   "outputs": [],
   "source": [
    " "
   ]
  },
  {
   "cell_type": "code",
   "execution_count": 16,
   "metadata": {},
   "outputs": [
    {
     "data": {
      "text/html": [
       "<div>\n",
       "<style scoped>\n",
       "    .dataframe tbody tr th:only-of-type {\n",
       "        vertical-align: middle;\n",
       "    }\n",
       "\n",
       "    .dataframe tbody tr th {\n",
       "        vertical-align: top;\n",
       "    }\n",
       "\n",
       "    .dataframe thead th {\n",
       "        text-align: right;\n",
       "    }\n",
       "</style>\n",
       "<table border=\"1\" class=\"dataframe\">\n",
       "  <thead>\n",
       "    <tr style=\"text-align: right;\">\n",
       "      <th></th>\n",
       "      <th>Country Name</th>\n",
       "      <th>Total cases</th>\n",
       "      <th>Total Death</th>\n",
       "      <th>Total recovery</th>\n",
       "    </tr>\n",
       "  </thead>\n",
       "  <tbody>\n",
       "    <tr>\n",
       "      <td>1</td>\n",
       "      <td>USA</td>\n",
       "      <td>1178832</td>\n",
       "      <td>68445</td>\n",
       "      <td>170181</td>\n",
       "    </tr>\n",
       "    <tr>\n",
       "      <td>2</td>\n",
       "      <td>Spain</td>\n",
       "      <td>248155</td>\n",
       "      <td>25376</td>\n",
       "      <td>146233</td>\n",
       "    </tr>\n",
       "    <tr>\n",
       "      <td>3</td>\n",
       "      <td>Italy</td>\n",
       "      <td>211228</td>\n",
       "      <td>29184</td>\n",
       "      <td>79914</td>\n",
       "    </tr>\n",
       "    <tr>\n",
       "      <td>4</td>\n",
       "      <td>UK</td>\n",
       "      <td>187066</td>\n",
       "      <td>28752</td>\n",
       "      <td>NaN</td>\n",
       "    </tr>\n",
       "    <tr>\n",
       "      <td>5</td>\n",
       "      <td>France</td>\n",
       "      <td>169446</td>\n",
       "      <td>24926</td>\n",
       "      <td>50562</td>\n",
       "    </tr>\n",
       "    <tr>\n",
       "      <td>...</td>\n",
       "      <td>...</td>\n",
       "      <td>...</td>\n",
       "      <td>...</td>\n",
       "      <td>...</td>\n",
       "    </tr>\n",
       "    <tr>\n",
       "      <td>211</td>\n",
       "      <td>Western Sahara</td>\n",
       "      <td>6</td>\n",
       "      <td>0</td>\n",
       "      <td>5</td>\n",
       "    </tr>\n",
       "    <tr>\n",
       "      <td>212</td>\n",
       "      <td>Anguilla</td>\n",
       "      <td>3</td>\n",
       "      <td>0</td>\n",
       "      <td>3</td>\n",
       "    </tr>\n",
       "    <tr>\n",
       "      <td>213</td>\n",
       "      <td>Comoros</td>\n",
       "      <td>5</td>\n",
       "      <td>0</td>\n",
       "      <td>NaN</td>\n",
       "    </tr>\n",
       "    <tr>\n",
       "      <td>214</td>\n",
       "      <td>Saint Pierre Miquelon</td>\n",
       "      <td>1</td>\n",
       "      <td>0</td>\n",
       "      <td>NaN</td>\n",
       "    </tr>\n",
       "    <tr>\n",
       "      <td>215</td>\n",
       "      <td>Total:</td>\n",
       "      <td>3542470</td>\n",
       "      <td>248502</td>\n",
       "      <td>1114164</td>\n",
       "    </tr>\n",
       "  </tbody>\n",
       "</table>\n",
       "<p>215 rows × 4 columns</p>\n",
       "</div>"
      ],
      "text/plain": [
       "              Country Name Total cases Total Death Total recovery\n",
       "1                      USA     1178832       68445         170181\n",
       "2                    Spain      248155       25376         146233\n",
       "3                    Italy      211228       29184          79914\n",
       "4                       UK      187066       28752            NaN\n",
       "5                   France      169446       24926          50562\n",
       "..                     ...         ...         ...            ...\n",
       "211         Western Sahara           6           0              5\n",
       "212               Anguilla           3           0              3\n",
       "213                Comoros           5           0            NaN\n",
       "214  Saint Pierre Miquelon           1           0            NaN\n",
       "215                 Total:     3542470      248502        1114164\n",
       "\n",
       "[215 rows x 4 columns]"
      ]
     },
     "execution_count": 16,
     "metadata": {},
     "output_type": "execute_result"
    }
   ],
   "source": [
    "df"
   ]
  },
  {
   "cell_type": "code",
   "execution_count": 17,
   "metadata": {},
   "outputs": [
    {
     "data": {
      "text/html": [
       "<div>\n",
       "<style scoped>\n",
       "    .dataframe tbody tr th:only-of-type {\n",
       "        vertical-align: middle;\n",
       "    }\n",
       "\n",
       "    .dataframe tbody tr th {\n",
       "        vertical-align: top;\n",
       "    }\n",
       "\n",
       "    .dataframe thead th {\n",
       "        text-align: right;\n",
       "    }\n",
       "</style>\n",
       "<table border=\"1\" class=\"dataframe\">\n",
       "  <thead>\n",
       "    <tr style=\"text-align: right;\">\n",
       "      <th></th>\n",
       "      <th>Country Name</th>\n",
       "      <th>Total cases</th>\n",
       "      <th>Total Death</th>\n",
       "      <th>Total recovery</th>\n",
       "    </tr>\n",
       "  </thead>\n",
       "  <tbody>\n",
       "    <tr>\n",
       "      <td>1</td>\n",
       "      <td>USA</td>\n",
       "      <td>1178832</td>\n",
       "      <td>68445</td>\n",
       "      <td>170181</td>\n",
       "    </tr>\n",
       "    <tr>\n",
       "      <td>2</td>\n",
       "      <td>Spain</td>\n",
       "      <td>248155</td>\n",
       "      <td>25376</td>\n",
       "      <td>146233</td>\n",
       "    </tr>\n",
       "    <tr>\n",
       "      <td>3</td>\n",
       "      <td>Italy</td>\n",
       "      <td>211228</td>\n",
       "      <td>29184</td>\n",
       "      <td>79914</td>\n",
       "    </tr>\n",
       "    <tr>\n",
       "      <td>4</td>\n",
       "      <td>UK</td>\n",
       "      <td>187066</td>\n",
       "      <td>28752</td>\n",
       "      <td>NaN</td>\n",
       "    </tr>\n",
       "    <tr>\n",
       "      <td>5</td>\n",
       "      <td>France</td>\n",
       "      <td>169446</td>\n",
       "      <td>24926</td>\n",
       "      <td>50562</td>\n",
       "    </tr>\n",
       "    <tr>\n",
       "      <td>...</td>\n",
       "      <td>...</td>\n",
       "      <td>...</td>\n",
       "      <td>...</td>\n",
       "      <td>...</td>\n",
       "    </tr>\n",
       "    <tr>\n",
       "      <td>211</td>\n",
       "      <td>Western Sahara</td>\n",
       "      <td>6</td>\n",
       "      <td>0</td>\n",
       "      <td>5</td>\n",
       "    </tr>\n",
       "    <tr>\n",
       "      <td>212</td>\n",
       "      <td>Anguilla</td>\n",
       "      <td>3</td>\n",
       "      <td>0</td>\n",
       "      <td>3</td>\n",
       "    </tr>\n",
       "    <tr>\n",
       "      <td>213</td>\n",
       "      <td>Comoros</td>\n",
       "      <td>5</td>\n",
       "      <td>0</td>\n",
       "      <td>NaN</td>\n",
       "    </tr>\n",
       "    <tr>\n",
       "      <td>214</td>\n",
       "      <td>Saint Pierre Miquelon</td>\n",
       "      <td>1</td>\n",
       "      <td>0</td>\n",
       "      <td>NaN</td>\n",
       "    </tr>\n",
       "    <tr>\n",
       "      <td>215</td>\n",
       "      <td>Total:</td>\n",
       "      <td>3542470</td>\n",
       "      <td>248502</td>\n",
       "      <td>1114164</td>\n",
       "    </tr>\n",
       "  </tbody>\n",
       "</table>\n",
       "<p>215 rows × 4 columns</p>\n",
       "</div>"
      ],
      "text/plain": [
       "              Country Name Total cases Total Death Total recovery\n",
       "1                      USA     1178832       68445         170181\n",
       "2                    Spain      248155       25376         146233\n",
       "3                    Italy      211228       29184          79914\n",
       "4                       UK      187066       28752            NaN\n",
       "5                   France      169446       24926          50562\n",
       "..                     ...         ...         ...            ...\n",
       "211         Western Sahara           6           0              5\n",
       "212               Anguilla           3           0              3\n",
       "213                Comoros           5           0            NaN\n",
       "214  Saint Pierre Miquelon           1           0            NaN\n",
       "215                 Total:     3542470      248502        1114164\n",
       "\n",
       "[215 rows x 4 columns]"
      ]
     },
     "execution_count": 17,
     "metadata": {},
     "output_type": "execute_result"
    }
   ],
   "source": [
    "df"
   ]
  },
  {
   "cell_type": "code",
   "execution_count": 18,
   "metadata": {},
   "outputs": [],
   "source": [
    "#Selct first 40 Rows\n",
    "df = df.head(40)    "
   ]
  },
  {
   "cell_type": "code",
   "execution_count": 19,
   "metadata": {},
   "outputs": [
    {
     "data": {
      "text/html": [
       "<div>\n",
       "<style scoped>\n",
       "    .dataframe tbody tr th:only-of-type {\n",
       "        vertical-align: middle;\n",
       "    }\n",
       "\n",
       "    .dataframe tbody tr th {\n",
       "        vertical-align: top;\n",
       "    }\n",
       "\n",
       "    .dataframe thead th {\n",
       "        text-align: right;\n",
       "    }\n",
       "</style>\n",
       "<table border=\"1\" class=\"dataframe\">\n",
       "  <thead>\n",
       "    <tr style=\"text-align: right;\">\n",
       "      <th></th>\n",
       "      <th>Country Name</th>\n",
       "      <th>Total cases</th>\n",
       "      <th>Total Death</th>\n",
       "      <th>Total recovery</th>\n",
       "    </tr>\n",
       "  </thead>\n",
       "  <tbody>\n",
       "    <tr>\n",
       "      <td>1</td>\n",
       "      <td>USA</td>\n",
       "      <td>1178832</td>\n",
       "      <td>68445</td>\n",
       "      <td>170181</td>\n",
       "    </tr>\n",
       "    <tr>\n",
       "      <td>2</td>\n",
       "      <td>Spain</td>\n",
       "      <td>248155</td>\n",
       "      <td>25376</td>\n",
       "      <td>146233</td>\n",
       "    </tr>\n",
       "    <tr>\n",
       "      <td>3</td>\n",
       "      <td>Italy</td>\n",
       "      <td>211228</td>\n",
       "      <td>29184</td>\n",
       "      <td>79914</td>\n",
       "    </tr>\n",
       "    <tr>\n",
       "      <td>4</td>\n",
       "      <td>UK</td>\n",
       "      <td>187066</td>\n",
       "      <td>28752</td>\n",
       "      <td>NaN</td>\n",
       "    </tr>\n",
       "    <tr>\n",
       "      <td>5</td>\n",
       "      <td>France</td>\n",
       "      <td>169446</td>\n",
       "      <td>24926</td>\n",
       "      <td>50562</td>\n",
       "    </tr>\n",
       "    <tr>\n",
       "      <td>6</td>\n",
       "      <td>Germany</td>\n",
       "      <td>165327</td>\n",
       "      <td>6830</td>\n",
       "      <td>129000</td>\n",
       "    </tr>\n",
       "    <tr>\n",
       "      <td>7</td>\n",
       "      <td>Turkey</td>\n",
       "      <td>126358</td>\n",
       "      <td>3414</td>\n",
       "      <td>58259</td>\n",
       "    </tr>\n",
       "    <tr>\n",
       "      <td>8</td>\n",
       "      <td>Russia</td>\n",
       "      <td>133677</td>\n",
       "      <td>1275</td>\n",
       "      <td>15013</td>\n",
       "    </tr>\n",
       "    <tr>\n",
       "      <td>9</td>\n",
       "      <td>Iran</td>\n",
       "      <td>97250</td>\n",
       "      <td>6221</td>\n",
       "      <td>77350</td>\n",
       "    </tr>\n",
       "    <tr>\n",
       "      <td>10</td>\n",
       "      <td>Brazil</td>\n",
       "      <td>93621</td>\n",
       "      <td>6572</td>\n",
       "      <td>38039</td>\n",
       "    </tr>\n",
       "    <tr>\n",
       "      <td>11</td>\n",
       "      <td>China</td>\n",
       "      <td>82876</td>\n",
       "      <td>4633</td>\n",
       "      <td>77685</td>\n",
       "    </tr>\n",
       "    <tr>\n",
       "      <td>12</td>\n",
       "      <td>Canada</td>\n",
       "      <td>58161</td>\n",
       "      <td>3737</td>\n",
       "      <td>23621</td>\n",
       "    </tr>\n",
       "    <tr>\n",
       "      <td>13</td>\n",
       "      <td>Belgium</td>\n",
       "      <td>50002</td>\n",
       "      <td>7827</td>\n",
       "      <td>12211</td>\n",
       "    </tr>\n",
       "    <tr>\n",
       "      <td>14</td>\n",
       "      <td>Peru</td>\n",
       "      <td>44609</td>\n",
       "      <td>1276</td>\n",
       "      <td>12434</td>\n",
       "    </tr>\n",
       "    <tr>\n",
       "      <td>15</td>\n",
       "      <td>Netherlands</td>\n",
       "      <td>40681</td>\n",
       "      <td>5081</td>\n",
       "      <td>NaN</td>\n",
       "    </tr>\n",
       "    <tr>\n",
       "      <td>16</td>\n",
       "      <td>India</td>\n",
       "      <td>42141</td>\n",
       "      <td>1423</td>\n",
       "      <td>10819</td>\n",
       "    </tr>\n",
       "    <tr>\n",
       "      <td>17</td>\n",
       "      <td>Switzerland</td>\n",
       "      <td>29929</td>\n",
       "      <td>1770</td>\n",
       "      <td>24200</td>\n",
       "    </tr>\n",
       "    <tr>\n",
       "      <td>18</td>\n",
       "      <td>Ecuador</td>\n",
       "      <td>28592</td>\n",
       "      <td>1679</td>\n",
       "      <td>2132</td>\n",
       "    </tr>\n",
       "    <tr>\n",
       "      <td>19</td>\n",
       "      <td>Saudi Arabia</td>\n",
       "      <td>26821</td>\n",
       "      <td>183</td>\n",
       "      <td>3765</td>\n",
       "    </tr>\n",
       "    <tr>\n",
       "      <td>20</td>\n",
       "      <td>Portugal</td>\n",
       "      <td>25393</td>\n",
       "      <td>1039</td>\n",
       "      <td>1671</td>\n",
       "    </tr>\n",
       "    <tr>\n",
       "      <td>21</td>\n",
       "      <td>Sweden</td>\n",
       "      <td>22644</td>\n",
       "      <td>2685</td>\n",
       "      <td>1005</td>\n",
       "    </tr>\n",
       "    <tr>\n",
       "      <td>22</td>\n",
       "      <td>Ireland</td>\n",
       "      <td>21519</td>\n",
       "      <td>1307</td>\n",
       "      <td>13386</td>\n",
       "    </tr>\n",
       "    <tr>\n",
       "      <td>23</td>\n",
       "      <td>Mexico</td>\n",
       "      <td>22254</td>\n",
       "      <td>2085</td>\n",
       "      <td>12377</td>\n",
       "    </tr>\n",
       "    <tr>\n",
       "      <td>24</td>\n",
       "      <td>Pakistan</td>\n",
       "      <td>19952</td>\n",
       "      <td>475</td>\n",
       "      <td>4753</td>\n",
       "    </tr>\n",
       "    <tr>\n",
       "      <td>25</td>\n",
       "      <td>Chile</td>\n",
       "      <td>19862</td>\n",
       "      <td>260</td>\n",
       "      <td>9572</td>\n",
       "    </tr>\n",
       "    <tr>\n",
       "      <td>26</td>\n",
       "      <td>Singapore</td>\n",
       "      <td>17995</td>\n",
       "      <td>18</td>\n",
       "      <td>1347</td>\n",
       "    </tr>\n",
       "    <tr>\n",
       "      <td>27</td>\n",
       "      <td>Israel</td>\n",
       "      <td>16269</td>\n",
       "      <td>233</td>\n",
       "      <td>9593</td>\n",
       "    </tr>\n",
       "    <tr>\n",
       "      <td>28</td>\n",
       "      <td>Belarus</td>\n",
       "      <td>16739</td>\n",
       "      <td>101</td>\n",
       "      <td>3117</td>\n",
       "    </tr>\n",
       "    <tr>\n",
       "      <td>29</td>\n",
       "      <td>Austria</td>\n",
       "      <td>15585</td>\n",
       "      <td>603</td>\n",
       "      <td>13180</td>\n",
       "    </tr>\n",
       "    <tr>\n",
       "      <td>30</td>\n",
       "      <td>Qatar</td>\n",
       "      <td>15648</td>\n",
       "      <td>12</td>\n",
       "      <td>1534</td>\n",
       "    </tr>\n",
       "    <tr>\n",
       "      <td>31</td>\n",
       "      <td>Japan</td>\n",
       "      <td>14305</td>\n",
       "      <td>455</td>\n",
       "      <td>2975</td>\n",
       "    </tr>\n",
       "    <tr>\n",
       "      <td>32</td>\n",
       "      <td>UAE</td>\n",
       "      <td>14160</td>\n",
       "      <td>127</td>\n",
       "      <td>2664</td>\n",
       "    </tr>\n",
       "    <tr>\n",
       "      <td>33</td>\n",
       "      <td>Poland</td>\n",
       "      <td>13645</td>\n",
       "      <td>677</td>\n",
       "      <td>3762</td>\n",
       "    </tr>\n",
       "    <tr>\n",
       "      <td>34</td>\n",
       "      <td>Romania</td>\n",
       "      <td>12897</td>\n",
       "      <td>798</td>\n",
       "      <td>4547</td>\n",
       "    </tr>\n",
       "    <tr>\n",
       "      <td>35</td>\n",
       "      <td>Ukraine</td>\n",
       "      <td>11961</td>\n",
       "      <td>286</td>\n",
       "      <td>1498</td>\n",
       "    </tr>\n",
       "    <tr>\n",
       "      <td>36</td>\n",
       "      <td>Indonesia</td>\n",
       "      <td>11135</td>\n",
       "      <td>862</td>\n",
       "      <td>1665</td>\n",
       "    </tr>\n",
       "    <tr>\n",
       "      <td>37</td>\n",
       "      <td>S. Korea</td>\n",
       "      <td>10786</td>\n",
       "      <td>252</td>\n",
       "      <td>9123</td>\n",
       "    </tr>\n",
       "    <tr>\n",
       "      <td>38</td>\n",
       "      <td>Denmark</td>\n",
       "      <td>9503</td>\n",
       "      <td>490</td>\n",
       "      <td>6889</td>\n",
       "    </tr>\n",
       "    <tr>\n",
       "      <td>39</td>\n",
       "      <td>Serbia</td>\n",
       "      <td>9519</td>\n",
       "      <td>193</td>\n",
       "      <td>1426</td>\n",
       "    </tr>\n",
       "    <tr>\n",
       "      <td>40</td>\n",
       "      <td>Philippines</td>\n",
       "      <td>9084</td>\n",
       "      <td>627</td>\n",
       "      <td>1124</td>\n",
       "    </tr>\n",
       "  </tbody>\n",
       "</table>\n",
       "</div>"
      ],
      "text/plain": [
       "    Country Name Total cases Total Death Total recovery\n",
       "1            USA     1178832       68445         170181\n",
       "2          Spain      248155       25376         146233\n",
       "3          Italy      211228       29184          79914\n",
       "4             UK      187066       28752            NaN\n",
       "5         France      169446       24926          50562\n",
       "6        Germany      165327        6830         129000\n",
       "7         Turkey      126358        3414          58259\n",
       "8         Russia      133677        1275          15013\n",
       "9           Iran       97250        6221          77350\n",
       "10        Brazil       93621        6572          38039\n",
       "11         China       82876        4633          77685\n",
       "12        Canada       58161        3737          23621\n",
       "13       Belgium       50002        7827          12211\n",
       "14          Peru       44609        1276          12434\n",
       "15   Netherlands       40681        5081            NaN\n",
       "16         India       42141        1423          10819\n",
       "17   Switzerland       29929        1770          24200\n",
       "18       Ecuador       28592        1679           2132\n",
       "19  Saudi Arabia       26821         183           3765\n",
       "20      Portugal       25393        1039           1671\n",
       "21        Sweden       22644        2685           1005\n",
       "22       Ireland       21519        1307          13386\n",
       "23        Mexico       22254        2085          12377\n",
       "24      Pakistan       19952         475           4753\n",
       "25         Chile       19862         260           9572\n",
       "26     Singapore       17995          18           1347\n",
       "27        Israel       16269         233           9593\n",
       "28       Belarus       16739         101           3117\n",
       "29       Austria       15585         603          13180\n",
       "30         Qatar       15648          12           1534\n",
       "31         Japan       14305         455           2975\n",
       "32           UAE       14160         127           2664\n",
       "33        Poland       13645         677           3762\n",
       "34       Romania       12897         798           4547\n",
       "35       Ukraine       11961         286           1498\n",
       "36     Indonesia       11135         862           1665\n",
       "37      S. Korea       10786         252           9123\n",
       "38       Denmark        9503         490           6889\n",
       "39        Serbia        9519         193           1426\n",
       "40   Philippines        9084         627           1124"
      ]
     },
     "execution_count": 19,
     "metadata": {},
     "output_type": "execute_result"
    }
   ],
   "source": [
    "df"
   ]
  },
  {
   "cell_type": "code",
   "execution_count": 20,
   "metadata": {},
   "outputs": [],
   "source": [
    "df['Active Cases']=df['Total cases']-(df['Total Death']+df['Total recovery'])"
   ]
  },
  {
   "cell_type": "code",
   "execution_count": 21,
   "metadata": {},
   "outputs": [
    {
     "data": {
      "text/html": [
       "<div>\n",
       "<style scoped>\n",
       "    .dataframe tbody tr th:only-of-type {\n",
       "        vertical-align: middle;\n",
       "    }\n",
       "\n",
       "    .dataframe tbody tr th {\n",
       "        vertical-align: top;\n",
       "    }\n",
       "\n",
       "    .dataframe thead th {\n",
       "        text-align: right;\n",
       "    }\n",
       "</style>\n",
       "<table border=\"1\" class=\"dataframe\">\n",
       "  <thead>\n",
       "    <tr style=\"text-align: right;\">\n",
       "      <th></th>\n",
       "      <th>Country Name</th>\n",
       "      <th>Total cases</th>\n",
       "      <th>Total Death</th>\n",
       "      <th>Total recovery</th>\n",
       "      <th>Active Cases</th>\n",
       "    </tr>\n",
       "  </thead>\n",
       "  <tbody>\n",
       "    <tr>\n",
       "      <td>1</td>\n",
       "      <td>USA</td>\n",
       "      <td>1178832</td>\n",
       "      <td>68445</td>\n",
       "      <td>170181</td>\n",
       "      <td>940206</td>\n",
       "    </tr>\n",
       "    <tr>\n",
       "      <td>2</td>\n",
       "      <td>Spain</td>\n",
       "      <td>248155</td>\n",
       "      <td>25376</td>\n",
       "      <td>146233</td>\n",
       "      <td>76546</td>\n",
       "    </tr>\n",
       "    <tr>\n",
       "      <td>3</td>\n",
       "      <td>Italy</td>\n",
       "      <td>211228</td>\n",
       "      <td>29184</td>\n",
       "      <td>79914</td>\n",
       "      <td>102130</td>\n",
       "    </tr>\n",
       "    <tr>\n",
       "      <td>4</td>\n",
       "      <td>UK</td>\n",
       "      <td>187066</td>\n",
       "      <td>28752</td>\n",
       "      <td>NaN</td>\n",
       "      <td>NaN</td>\n",
       "    </tr>\n",
       "    <tr>\n",
       "      <td>5</td>\n",
       "      <td>France</td>\n",
       "      <td>169446</td>\n",
       "      <td>24926</td>\n",
       "      <td>50562</td>\n",
       "      <td>93958</td>\n",
       "    </tr>\n",
       "    <tr>\n",
       "      <td>6</td>\n",
       "      <td>Germany</td>\n",
       "      <td>165327</td>\n",
       "      <td>6830</td>\n",
       "      <td>129000</td>\n",
       "      <td>29497</td>\n",
       "    </tr>\n",
       "    <tr>\n",
       "      <td>7</td>\n",
       "      <td>Turkey</td>\n",
       "      <td>126358</td>\n",
       "      <td>3414</td>\n",
       "      <td>58259</td>\n",
       "      <td>64685</td>\n",
       "    </tr>\n",
       "    <tr>\n",
       "      <td>8</td>\n",
       "      <td>Russia</td>\n",
       "      <td>133677</td>\n",
       "      <td>1275</td>\n",
       "      <td>15013</td>\n",
       "      <td>117389</td>\n",
       "    </tr>\n",
       "    <tr>\n",
       "      <td>9</td>\n",
       "      <td>Iran</td>\n",
       "      <td>97250</td>\n",
       "      <td>6221</td>\n",
       "      <td>77350</td>\n",
       "      <td>13679</td>\n",
       "    </tr>\n",
       "    <tr>\n",
       "      <td>10</td>\n",
       "      <td>Brazil</td>\n",
       "      <td>93621</td>\n",
       "      <td>6572</td>\n",
       "      <td>38039</td>\n",
       "      <td>49010</td>\n",
       "    </tr>\n",
       "    <tr>\n",
       "      <td>11</td>\n",
       "      <td>China</td>\n",
       "      <td>82876</td>\n",
       "      <td>4633</td>\n",
       "      <td>77685</td>\n",
       "      <td>558</td>\n",
       "    </tr>\n",
       "    <tr>\n",
       "      <td>12</td>\n",
       "      <td>Canada</td>\n",
       "      <td>58161</td>\n",
       "      <td>3737</td>\n",
       "      <td>23621</td>\n",
       "      <td>30803</td>\n",
       "    </tr>\n",
       "    <tr>\n",
       "      <td>13</td>\n",
       "      <td>Belgium</td>\n",
       "      <td>50002</td>\n",
       "      <td>7827</td>\n",
       "      <td>12211</td>\n",
       "      <td>29964</td>\n",
       "    </tr>\n",
       "    <tr>\n",
       "      <td>14</td>\n",
       "      <td>Peru</td>\n",
       "      <td>44609</td>\n",
       "      <td>1276</td>\n",
       "      <td>12434</td>\n",
       "      <td>30899</td>\n",
       "    </tr>\n",
       "    <tr>\n",
       "      <td>15</td>\n",
       "      <td>Netherlands</td>\n",
       "      <td>40681</td>\n",
       "      <td>5081</td>\n",
       "      <td>NaN</td>\n",
       "      <td>NaN</td>\n",
       "    </tr>\n",
       "    <tr>\n",
       "      <td>16</td>\n",
       "      <td>India</td>\n",
       "      <td>42141</td>\n",
       "      <td>1423</td>\n",
       "      <td>10819</td>\n",
       "      <td>29899</td>\n",
       "    </tr>\n",
       "    <tr>\n",
       "      <td>17</td>\n",
       "      <td>Switzerland</td>\n",
       "      <td>29929</td>\n",
       "      <td>1770</td>\n",
       "      <td>24200</td>\n",
       "      <td>3959</td>\n",
       "    </tr>\n",
       "    <tr>\n",
       "      <td>18</td>\n",
       "      <td>Ecuador</td>\n",
       "      <td>28592</td>\n",
       "      <td>1679</td>\n",
       "      <td>2132</td>\n",
       "      <td>24781</td>\n",
       "    </tr>\n",
       "    <tr>\n",
       "      <td>19</td>\n",
       "      <td>Saudi Arabia</td>\n",
       "      <td>26821</td>\n",
       "      <td>183</td>\n",
       "      <td>3765</td>\n",
       "      <td>22873</td>\n",
       "    </tr>\n",
       "    <tr>\n",
       "      <td>20</td>\n",
       "      <td>Portugal</td>\n",
       "      <td>25393</td>\n",
       "      <td>1039</td>\n",
       "      <td>1671</td>\n",
       "      <td>22683</td>\n",
       "    </tr>\n",
       "    <tr>\n",
       "      <td>21</td>\n",
       "      <td>Sweden</td>\n",
       "      <td>22644</td>\n",
       "      <td>2685</td>\n",
       "      <td>1005</td>\n",
       "      <td>18954</td>\n",
       "    </tr>\n",
       "    <tr>\n",
       "      <td>22</td>\n",
       "      <td>Ireland</td>\n",
       "      <td>21519</td>\n",
       "      <td>1307</td>\n",
       "      <td>13386</td>\n",
       "      <td>6826</td>\n",
       "    </tr>\n",
       "    <tr>\n",
       "      <td>23</td>\n",
       "      <td>Mexico</td>\n",
       "      <td>22254</td>\n",
       "      <td>2085</td>\n",
       "      <td>12377</td>\n",
       "      <td>7792</td>\n",
       "    </tr>\n",
       "    <tr>\n",
       "      <td>24</td>\n",
       "      <td>Pakistan</td>\n",
       "      <td>19952</td>\n",
       "      <td>475</td>\n",
       "      <td>4753</td>\n",
       "      <td>14724</td>\n",
       "    </tr>\n",
       "    <tr>\n",
       "      <td>25</td>\n",
       "      <td>Chile</td>\n",
       "      <td>19862</td>\n",
       "      <td>260</td>\n",
       "      <td>9572</td>\n",
       "      <td>10030</td>\n",
       "    </tr>\n",
       "    <tr>\n",
       "      <td>26</td>\n",
       "      <td>Singapore</td>\n",
       "      <td>17995</td>\n",
       "      <td>18</td>\n",
       "      <td>1347</td>\n",
       "      <td>16630</td>\n",
       "    </tr>\n",
       "    <tr>\n",
       "      <td>27</td>\n",
       "      <td>Israel</td>\n",
       "      <td>16269</td>\n",
       "      <td>233</td>\n",
       "      <td>9593</td>\n",
       "      <td>6443</td>\n",
       "    </tr>\n",
       "    <tr>\n",
       "      <td>28</td>\n",
       "      <td>Belarus</td>\n",
       "      <td>16739</td>\n",
       "      <td>101</td>\n",
       "      <td>3117</td>\n",
       "      <td>13521</td>\n",
       "    </tr>\n",
       "    <tr>\n",
       "      <td>29</td>\n",
       "      <td>Austria</td>\n",
       "      <td>15585</td>\n",
       "      <td>603</td>\n",
       "      <td>13180</td>\n",
       "      <td>1802</td>\n",
       "    </tr>\n",
       "    <tr>\n",
       "      <td>30</td>\n",
       "      <td>Qatar</td>\n",
       "      <td>15648</td>\n",
       "      <td>12</td>\n",
       "      <td>1534</td>\n",
       "      <td>14102</td>\n",
       "    </tr>\n",
       "    <tr>\n",
       "      <td>31</td>\n",
       "      <td>Japan</td>\n",
       "      <td>14305</td>\n",
       "      <td>455</td>\n",
       "      <td>2975</td>\n",
       "      <td>10875</td>\n",
       "    </tr>\n",
       "    <tr>\n",
       "      <td>32</td>\n",
       "      <td>UAE</td>\n",
       "      <td>14160</td>\n",
       "      <td>127</td>\n",
       "      <td>2664</td>\n",
       "      <td>11369</td>\n",
       "    </tr>\n",
       "    <tr>\n",
       "      <td>33</td>\n",
       "      <td>Poland</td>\n",
       "      <td>13645</td>\n",
       "      <td>677</td>\n",
       "      <td>3762</td>\n",
       "      <td>9206</td>\n",
       "    </tr>\n",
       "    <tr>\n",
       "      <td>34</td>\n",
       "      <td>Romania</td>\n",
       "      <td>12897</td>\n",
       "      <td>798</td>\n",
       "      <td>4547</td>\n",
       "      <td>7552</td>\n",
       "    </tr>\n",
       "    <tr>\n",
       "      <td>35</td>\n",
       "      <td>Ukraine</td>\n",
       "      <td>11961</td>\n",
       "      <td>286</td>\n",
       "      <td>1498</td>\n",
       "      <td>10177</td>\n",
       "    </tr>\n",
       "    <tr>\n",
       "      <td>36</td>\n",
       "      <td>Indonesia</td>\n",
       "      <td>11135</td>\n",
       "      <td>862</td>\n",
       "      <td>1665</td>\n",
       "      <td>8608</td>\n",
       "    </tr>\n",
       "    <tr>\n",
       "      <td>37</td>\n",
       "      <td>S. Korea</td>\n",
       "      <td>10786</td>\n",
       "      <td>252</td>\n",
       "      <td>9123</td>\n",
       "      <td>1411</td>\n",
       "    </tr>\n",
       "    <tr>\n",
       "      <td>38</td>\n",
       "      <td>Denmark</td>\n",
       "      <td>9503</td>\n",
       "      <td>490</td>\n",
       "      <td>6889</td>\n",
       "      <td>2124</td>\n",
       "    </tr>\n",
       "    <tr>\n",
       "      <td>39</td>\n",
       "      <td>Serbia</td>\n",
       "      <td>9519</td>\n",
       "      <td>193</td>\n",
       "      <td>1426</td>\n",
       "      <td>7900</td>\n",
       "    </tr>\n",
       "    <tr>\n",
       "      <td>40</td>\n",
       "      <td>Philippines</td>\n",
       "      <td>9084</td>\n",
       "      <td>627</td>\n",
       "      <td>1124</td>\n",
       "      <td>7333</td>\n",
       "    </tr>\n",
       "  </tbody>\n",
       "</table>\n",
       "</div>"
      ],
      "text/plain": [
       "    Country Name Total cases Total Death Total recovery Active Cases\n",
       "1            USA     1178832       68445         170181       940206\n",
       "2          Spain      248155       25376         146233        76546\n",
       "3          Italy      211228       29184          79914       102130\n",
       "4             UK      187066       28752            NaN          NaN\n",
       "5         France      169446       24926          50562        93958\n",
       "6        Germany      165327        6830         129000        29497\n",
       "7         Turkey      126358        3414          58259        64685\n",
       "8         Russia      133677        1275          15013       117389\n",
       "9           Iran       97250        6221          77350        13679\n",
       "10        Brazil       93621        6572          38039        49010\n",
       "11         China       82876        4633          77685          558\n",
       "12        Canada       58161        3737          23621        30803\n",
       "13       Belgium       50002        7827          12211        29964\n",
       "14          Peru       44609        1276          12434        30899\n",
       "15   Netherlands       40681        5081            NaN          NaN\n",
       "16         India       42141        1423          10819        29899\n",
       "17   Switzerland       29929        1770          24200         3959\n",
       "18       Ecuador       28592        1679           2132        24781\n",
       "19  Saudi Arabia       26821         183           3765        22873\n",
       "20      Portugal       25393        1039           1671        22683\n",
       "21        Sweden       22644        2685           1005        18954\n",
       "22       Ireland       21519        1307          13386         6826\n",
       "23        Mexico       22254        2085          12377         7792\n",
       "24      Pakistan       19952         475           4753        14724\n",
       "25         Chile       19862         260           9572        10030\n",
       "26     Singapore       17995          18           1347        16630\n",
       "27        Israel       16269         233           9593         6443\n",
       "28       Belarus       16739         101           3117        13521\n",
       "29       Austria       15585         603          13180         1802\n",
       "30         Qatar       15648          12           1534        14102\n",
       "31         Japan       14305         455           2975        10875\n",
       "32           UAE       14160         127           2664        11369\n",
       "33        Poland       13645         677           3762         9206\n",
       "34       Romania       12897         798           4547         7552\n",
       "35       Ukraine       11961         286           1498        10177\n",
       "36     Indonesia       11135         862           1665         8608\n",
       "37      S. Korea       10786         252           9123         1411\n",
       "38       Denmark        9503         490           6889         2124\n",
       "39        Serbia        9519         193           1426         7900\n",
       "40   Philippines        9084         627           1124         7333"
      ]
     },
     "execution_count": 21,
     "metadata": {},
     "output_type": "execute_result"
    }
   ],
   "source": [
    "\n",
    "df"
   ]
  },
  {
   "cell_type": "code",
   "execution_count": null,
   "metadata": {},
   "outputs": [],
   "source": []
  },
  {
   "cell_type": "code",
   "execution_count": 42,
   "metadata": {},
   "outputs": [
    {
     "data": {
      "text/plain": [
       "<matplotlib.axes._subplots.AxesSubplot at 0x1e7f50ac488>"
      ]
     },
     "execution_count": 42,
     "metadata": {},
     "output_type": "execute_result"
    },
    {
     "data": {
      "image/png": "[encoded data removed]",
      "text/plain": [
       "<Figure size 1224x576 with 1 Axes>"
      ]
     },
     "metadata": {
      "needs_background": "light"
     },
     "output_type": "display_data"
    }
   ],
   "source": [
    "df.plot(kind=\"bar\",x='Country Name',y='Active Cases')"
   ]
  },
  {
   "cell_type": "code",
   "execution_count": 29,
   "metadata": {
    "scrolled": false
   },
   "outputs": [
    {
     "data": {
      "application/vnd.plotly.v1+json": {
       "config": {
        "plotlyServerURL": "https://plot.ly"
       },
       "data": [
        {
         "alignmentgroup": "True",
         "hovertemplate": "Country Name=%{x}<br>Total cases=%{y}<extra></extra>",
         "legendgroup": "",
         "marker": {
          "color": "#636efa"
         },
         "name": "",
         "offsetgroup": "",
         "orientation": "v",
         "showlegend": false,
         "textposition": "auto",
         "type": "bar",
         "x": [
          "USA",
          "Spain",
          "Italy",
          "UK",
          "France",
          "Germany",
          "Turkey",
          "Russia",
          "Iran",
          "Brazil",
          "China",
          "Canada",
          "Belgium",
          "Peru",
          "Netherlands",
          "India",
          "Switzerland",
          "Ecuador",
          "Saudi Arabia",
          "Portugal",
          "Sweden",
          "Ireland",
          "Mexico",
          "Pakistan",
          "Chile",
          "Singapore",
          "Israel",
          "Belarus",
          "Austria",
          "Qatar",
          "Japan",
          "UAE",
          "Poland",
          "Romania",
          "Ukraine",
          "Indonesia",
          "S. Korea",
          "Denmark",
          "Serbia",
          "Philippines"
         ],
         "xaxis": "x",
         "y": [
          1178832,
          248155,
          211228,
          187066,
          169446,
          165327,
          126358,
          133677,
          97250,
          93621,
          82876,
          58161,
          50002,
          44609,
          40681,
          42141,
          29929,
          28592,
          26821,
          25393,
          22644,
          21519,
          22254,
          19952,
          19862,
          17995,
          16269,
          16739,
          15585,
          15648,
          14305,
          14160,
          13645,
          12897,
          11961,
          11135,
          10786,
          9503,
          9519,
          9084
         ],
         "yaxis": "y"
        }
       ],
       "layout": {
        "barmode": "relative",
        "legend": {
         "tracegroupgap": 0
        },
        "margin": {
         "t": 60
        },
        "template": {
         "data": {
          "bar": [
           {
            "error_x": {
             "color": "#2a3f5f"
            },
            "error_y": {
             "color": "#2a3f5f"
            },
            "marker": {
             "line": {
              "color": "#E5ECF6",
              "width": 0.5
             }
            },
            "type": "bar"
           }
          ],
          "barpolar": [
           {
            "marker": {
             "line": {
              "color": "#E5ECF6",
              "width": 0.5
             }
            },
            "type": "barpolar"
           }
          ],
          "carpet": [
           {
            "aaxis": {
             "endlinecolor": "#2a3f5f",
             "gridcolor": "white",
             "linecolor": "white",
             "minorgridcolor": "white",
             "startlinecolor": "#2a3f5f"
            },
            "baxis": {
             "endlinecolor": "#2a3f5f",
             "gridcolor": "white",
             "linecolor": "white",
             "minorgridcolor": "white",
             "startlinecolor": "#2a3f5f"
            },
            "type": "carpet"
           }
          ],
          "choropleth": [
           {
            "colorbar": {
             "outlinewidth": 0,
             "ticks": ""
            },
            "type": "choropleth"
           }
          ],
          "contour": [
           {
            "colorbar": {
             "outlinewidth": 0,
             "ticks": ""
            },
            "colorscale": [
             [
              0,
              "#0d0887"
             ],
             [
              0.1111111111111111,
              "#46039f"
             ],
             [
              0.2222222222222222,
              "#7201a8"
             ],
             [
              0.3333333333333333,
              "#9c179e"
             ],
             [
              0.4444444444444444,
              "#bd3786"
             ],
             [
              0.5555555555555556,
              "#d8576b"
             ],
             [
              0.6666666666666666,
              "#ed7953"
             ],
             [
              0.7777777777777778,
              "#fb9f3a"
             ],
             [
              0.8888888888888888,
              "#fdca26"
             ],
             [
              1,
              "#f0f921"
             ]
            ],
            "type": "contour"
           }
          ],
          "contourcarpet": [
           {
            "colorbar": {
             "outlinewidth": 0,
             "ticks": ""
            },
            "type": "contourcarpet"
           }
          ],
          "heatmap": [
           {
            "colorbar": {
             "outlinewidth": 0,
             "ticks": ""
            },
            "colorscale": [
             [
              0,
              "#0d0887"
             ],
             [
              0.1111111111111111,
              "#46039f"
             ],
             [
              0.2222222222222222,
              "#7201a8"
             ],
             [
              0.3333333333333333,
              "#9c179e"
             ],
             [
              0.4444444444444444,
              "#bd3786"
             ],
             [
              0.5555555555555556,
              "#d8576b"
             ],
             [
              0.6666666666666666,
              "#ed7953"
             ],
             [
              0.7777777777777778,
              "#fb9f3a"
             ],
             [
              0.8888888888888888,
              "#fdca26"
             ],
             [
              1,
              "#f0f921"
             ]
            ],
            "type": "heatmap"
           }
          ],
          "heatmapgl": [
           {
            "colorbar": {
             "outlinewidth": 0,
             "ticks": ""
            },
            "colorscale": [
             [
              0,
              "#0d0887"
             ],
             [
              0.1111111111111111,
              "#46039f"
             ],
             [
              0.2222222222222222,
              "#7201a8"
             ],
             [
              0.3333333333333333,
              "#9c179e"
             ],
             [
              0.4444444444444444,
              "#bd3786"
             ],
             [
              0.5555555555555556,
              "#d8576b"
             ],
             [
              0.6666666666666666,
              "#ed7953"
             ],
             [
              0.7777777777777778,
              "#fb9f3a"
             ],
             [
              0.8888888888888888,
              "#fdca26"
             ],
             [
              1,
              "#f0f921"
             ]
            ],
            "type": "heatmapgl"
           }
          ],
          "histogram": [
           {
            "marker": {
             "colorbar": {
              "outlinewidth": 0,
              "ticks": ""
             }
            },
            "type": "histogram"
           }
          ],
          "histogram2d": [
           {
            "colorbar": {
             "outlinewidth": 0,
             "ticks": ""
            },
            "colorscale": [
             [
              0,
              "#0d0887"
             ],
             [
              0.1111111111111111,
              "#46039f"
             ],
             [
              0.2222222222222222,
              "#7201a8"
             ],
             [
              0.3333333333333333,
              "#9c179e"
             ],
             [
              0.4444444444444444,
              "#bd3786"
             ],
             [
              0.5555555555555556,
              "#d8576b"
             ],
             [
              0.6666666666666666,
              "#ed7953"
             ],
             [
              0.7777777777777778,
              "#fb9f3a"
             ],
             [
              0.8888888888888888,
              "#fdca26"
             ],
             [
              1,
              "#f0f921"
             ]
            ],
            "type": "histogram2d"
           }
          ],
          "histogram2dcontour": [
           {
            "colorbar": {
             "outlinewidth": 0,
             "ticks": ""
            },
            "colorscale": [
             [
              0,
              "#0d0887"
             ],
             [
              0.1111111111111111,
              "#46039f"
             ],
             [
              0.2222222222222222,
              "#7201a8"
             ],
             [
              0.3333333333333333,
              "#9c179e"
             ],
             [
              0.4444444444444444,
              "#bd3786"
             ],
             [
              0.5555555555555556,
              "#d8576b"
             ],
             [
              0.6666666666666666,
              "#ed7953"
             ],
             [
              0.7777777777777778,
              "#fb9f3a"
             ],
             [
              0.8888888888888888,
              "#fdca26"
             ],
             [
              1,
              "#f0f921"
             ]
            ],
            "type": "histogram2dcontour"
           }
          ],
          "mesh3d": [
           {
            "colorbar": {
             "outlinewidth": 0,
             "ticks": ""
            },
            "type": "mesh3d"
           }
          ],
          "parcoords": [
           {
            "line": {
             "colorbar": {
              "outlinewidth": 0,
              "ticks": ""
             }
            },
            "type": "parcoords"
           }
          ],
          "pie": [
           {
            "automargin": true,
            "type": "pie"
           }
          ],
          "scatter": [
           {
            "marker": {
             "colorbar": {
              "outlinewidth": 0,
              "ticks": ""
             }
            },
            "type": "scatter"
           }
          ],
          "scatter3d": [
           {
            "line": {
             "colorbar": {
              "outlinewidth": 0,
              "ticks": ""
             }
            },
            "marker": {
             "colorbar": {
              "outlinewidth": 0,
              "ticks": ""
             }
            },
            "type": "scatter3d"
           }
          ],
          "scattercarpet": [
           {
            "marker": {
             "colorbar": {
              "outlinewidth": 0,
              "ticks": ""
             }
            },
            "type": "scattercarpet"
           }
          ],
          "scattergeo": [
           {
            "marker": {
             "colorbar": {
              "outlinewidth": 0,
              "ticks": ""
             }
            },
            "type": "scattergeo"
           }
          ],
          "scattergl": [
           {
            "marker": {
             "colorbar": {
              "outlinewidth": 0,
              "ticks": ""
             }
            },
            "type": "scattergl"
           }
          ],
          "scattermapbox": [
           {
            "marker": {
             "colorbar": {
              "outlinewidth": 0,
              "ticks": ""
             }
            },
            "type": "scattermapbox"
           }
          ],
          "scatterpolar": [
           {
            "marker": {
             "colorbar": {
              "outlinewidth": 0,
              "ticks": ""
             }
            },
            "type": "scatterpolar"
           }
          ],
          "scatterpolargl": [
           {
            "marker": {
             "colorbar": {
              "outlinewidth": 0,
              "ticks": ""
             }
            },
            "type": "scatterpolargl"
           }
          ],
          "scatterternary": [
           {
            "marker": {
             "colorbar": {
              "outlinewidth": 0,
              "ticks": ""
             }
            },
            "type": "scatterternary"
           }
          ],
          "surface": [
           {
            "colorbar": {
             "outlinewidth": 0,
             "ticks": ""
            },
            "colorscale": [
             [
              0,
              "#0d0887"
             ],
             [
              0.1111111111111111,
              "#46039f"
             ],
             [
              0.2222222222222222,
              "#7201a8"
             ],
             [
              0.3333333333333333,
              "#9c179e"
             ],
             [
              0.4444444444444444,
              "#bd3786"
             ],
             [
              0.5555555555555556,
              "#d8576b"
             ],
             [
              0.6666666666666666,
              "#ed7953"
             ],
             [
              0.7777777777777778,
              "#fb9f3a"
             ],
             [
              0.8888888888888888,
              "#fdca26"
             ],
             [
              1,
              "#f0f921"
             ]
            ],
            "type": "surface"
           }
          ],
          "table": [
           {
            "cells": {
             "fill": {
              "color": "#EBF0F8"
             },
             "line": {
              "color": "white"
             }
            },
            "header": {
             "fill": {
              "color": "#C8D4E3"
             },
             "line": {
              "color": "white"
             }
            },
            "type": "table"
           }
          ]
         },
         "layout": {
          "annotationdefaults": {
           "arrowcolor": "#2a3f5f",
           "arrowhead": 0,
           "arrowwidth": 1
          },
          "coloraxis": {
           "colorbar": {
            "outlinewidth": 0,
            "ticks": ""
           }
          },
          "colorscale": {
           "diverging": [
            [
             0,
             "#8e0152"
            ],
            [
             0.1,
             "#c51b7d"
            ],
            [
             0.2,
             "#de77ae"
            ],
            [
             0.3,
             "#f1b6da"
            ],
            [
             0.4,
             "#fde0ef"
            ],
            [
             0.5,
             "#f7f7f7"
            ],
            [
             0.6,
             "#e6f5d0"
            ],
            [
             0.7,
             "#b8e186"
            ],
            [
             0.8,
             "#7fbc41"
            ],
            [
             0.9,
             "#4d9221"
            ],
            [
             1,
             "#276419"
            ]
           ],
           "sequential": [
            [
             0,
             "#0d0887"
            ],
            [
             0.1111111111111111,
             "#46039f"
            ],
            [
             0.2222222222222222,
             "#7201a8"
            ],
            [
             0.3333333333333333,
             "#9c179e"
            ],
            [
             0.4444444444444444,
             "#bd3786"
            ],
            [
             0.5555555555555556,
             "#d8576b"
            ],
            [
             0.6666666666666666,
             "#ed7953"
            ],
            [
             0.7777777777777778,
             "#fb9f3a"
            ],
            [
             0.8888888888888888,
             "#fdca26"
            ],
            [
             1,
             "#f0f921"
            ]
           ],
           "sequentialminus": [
            [
             0,
             "#0d0887"
            ],
            [
             0.1111111111111111,
             "#46039f"
            ],
            [
             0.2222222222222222,
             "#7201a8"
            ],
            [
             0.3333333333333333,
             "#9c179e"
            ],
            [
             0.4444444444444444,
             "#bd3786"
            ],
            [
             0.5555555555555556,
             "#d8576b"
            ],
            [
             0.6666666666666666,
             "#ed7953"
            ],
            [
             0.7777777777777778,
             "#fb9f3a"
            ],
            [
             0.8888888888888888,
             "#fdca26"
            ],
            [
             1,
             "#f0f921"
            ]
           ]
          },
          "colorway": [
           "#636efa",
           "#EF553B",
           "#00cc96",
           "#ab63fa",
           "#FFA15A",
           "#19d3f3",
           "#FF6692",
           "#B6E880",
           "#FF97FF",
           "#FECB52"
          ],
          "font": {
           "color": "#2a3f5f"
          },
          "geo": {
           "bgcolor": "white",
           "lakecolor": "white",
           "landcolor": "#E5ECF6",
           "showlakes": true,
           "showland": true,
           "subunitcolor": "white"
          },
          "hoverlabel": {
           "align": "left"
          },
          "hovermode": "closest",
          "mapbox": {
           "style": "light"
          },
          "paper_bgcolor": "white",
          "plot_bgcolor": "#E5ECF6",
          "polar": {
           "angularaxis": {
            "gridcolor": "white",
            "linecolor": "white",
            "ticks": ""
           },
           "bgcolor": "#E5ECF6",
           "radialaxis": {
            "gridcolor": "white",
            "linecolor": "white",
            "ticks": ""
           }
          },
          "scene": {
           "xaxis": {
            "backgroundcolor": "#E5ECF6",
            "gridcolor": "white",
            "gridwidth": 2,
            "linecolor": "white",
            "showbackground": true,
            "ticks": "",
            "zerolinecolor": "white"
           },
           "yaxis": {
            "backgroundcolor": "#E5ECF6",
            "gridcolor": "white",
            "gridwidth": 2,
            "linecolor": "white",
            "showbackground": true,
            "ticks": "",
            "zerolinecolor": "white"
           },
           "zaxis": {
            "backgroundcolor": "#E5ECF6",
            "gridcolor": "white",
            "gridwidth": 2,
            "linecolor": "white",
            "showbackground": true,
            "ticks": "",
            "zerolinecolor": "white"
           }
          },
          "shapedefaults": {
           "line": {
            "color": "#2a3f5f"
           }
          },
          "ternary": {
           "aaxis": {
            "gridcolor": "white",
            "linecolor": "white",
            "ticks": ""
           },
           "baxis": {
            "gridcolor": "white",
            "linecolor": "white",
            "ticks": ""
           },
           "bgcolor": "#E5ECF6",
           "caxis": {
            "gridcolor": "white",
            "linecolor": "white",
            "ticks": ""
           }
          },
          "title": {
           "x": 0.05
          },
          "xaxis": {
           "automargin": true,
           "gridcolor": "white",
           "linecolor": "white",
           "ticks": "",
           "title": {
            "standoff": 15
           },
           "zerolinecolor": "white",
           "zerolinewidth": 2
          },
          "yaxis": {
           "automargin": true,
           "gridcolor": "white",
           "linecolor": "white",
           "ticks": "",
           "title": {
            "standoff": 15
           },
           "zerolinecolor": "white",
           "zerolinewidth": 2
          }
         }
        },
        "xaxis": {
         "anchor": "y",
         "domain": [
          0,
          1
         ],
         "title": {
          "text": "Country Name"
         }
        },
        "yaxis": {
         "anchor": "x",
         "domain": [
          0,
          1
         ],
         "title": {
          "text": "Total cases"
         }
        }
       }
      },
      "text/html": [
       "<div>\n",
       "        \n",
       "        \n",
       "            <div id=\"dfc0bb5e-925a-4f24-869a-9780118afe79\" class=\"plotly-graph-div\" style=\"height:525px; width:100%;\"></div>\n",
       "            <script type=\"text/javascript\">\n",
       "                require([\"plotly\"], function(Plotly) {\n",
       "                    window.PLOTLYENV=window.PLOTLYENV || {};\n",
       "                    \n",
       "                if (document.getElementById(\"dfc0bb5e-925a-4f24-869a-9780118afe79\")) {\n",
       "                    Plotly.newPlot(\n",
       "                        'dfc0bb5e-925a-4f24-869a-9780118afe79',\n",
       "                        [{\"alignmentgroup\": \"True\", \"hovertemplate\": \"Country Name=%{x}<br>Total cases=%{y}<extra></extra>\", \"legendgroup\": \"\", \"marker\": {\"color\": \"#636efa\"}, \"name\": \"\", \"offsetgroup\": \"\", \"orientation\": \"v\", \"showlegend\": false, \"textposition\": \"auto\", \"type\": \"bar\", \"x\": [\"USA\", \"Spain\", \"Italy\", \"UK\", \"France\", \"Germany\", \"Turkey\", \"Russia\", \"Iran\", \"Brazil\", \"China\", \"Canada\", \"Belgium\", \"Peru\", \"Netherlands\", \"India\", \"Switzerland\", \"Ecuador\", \"Saudi Arabia\", \"Portugal\", \"Sweden\", \"Ireland\", \"Mexico\", \"Pakistan\", \"Chile\", \"Singapore\", \"Israel\", \"Belarus\", \"Austria\", \"Qatar\", \"Japan\", \"UAE\", \"Poland\", \"Romania\", \"Ukraine\", \"Indonesia\", \"S. Korea\", \"Denmark\", \"Serbia\", \"Philippines\"], \"xaxis\": \"x\", \"y\": [1178832, 248155, 211228, 187066, 169446, 165327, 126358, 133677, 97250, 93621, 82876, 58161, 50002, 44609, 40681, 42141, 29929, 28592, 26821, 25393, 22644, 21519, 22254, 19952, 19862, 17995, 16269, 16739, 15585, 15648, 14305, 14160, 13645, 12897, 11961, 11135, 10786, 9503, 9519, 9084], \"yaxis\": \"y\"}],\n",
       "                        {\"barmode\": \"relative\", \"legend\": {\"tracegroupgap\": 0}, \"margin\": {\"t\": 60}, \"template\": {\"data\": {\"bar\": [{\"error_x\": {\"color\": \"#2a3f5f\"}, \"error_y\": {\"color\": \"#2a3f5f\"}, \"marker\": {\"line\": {\"color\": \"#E5ECF6\", \"width\": 0.5}}, \"type\": \"bar\"}], \"barpolar\": [{\"marker\": {\"line\": {\"color\": \"#E5ECF6\", \"width\": 0.5}}, \"type\": \"barpolar\"}], \"carpet\": [{\"aaxis\": {\"endlinecolor\": \"#2a3f5f\", \"gridcolor\": \"white\", \"linecolor\": \"white\", \"minorgridcolor\": \"white\", \"startlinecolor\": \"#2a3f5f\"}, \"baxis\": {\"endlinecolor\": \"#2a3f5f\", \"gridcolor\": \"white\", \"linecolor\": \"white\", \"minorgridcolor\": \"white\", \"startlinecolor\": \"#2a3f5f\"}, \"type\": \"carpet\"}], \"choropleth\": [{\"colorbar\": {\"outlinewidth\": 0, \"ticks\": \"\"}, \"type\": \"choropleth\"}], \"contour\": [{\"colorbar\": {\"outlinewidth\": 0, \"ticks\": \"\"}, \"colorscale\": [[0.0, \"#0d0887\"], [0.1111111111111111, \"#46039f\"], [0.2222222222222222, \"#7201a8\"], [0.3333333333333333, \"#9c179e\"], [0.4444444444444444, \"#bd3786\"], [0.5555555555555556, \"#d8576b\"], [0.6666666666666666, \"#ed7953\"], [0.7777777777777778, \"#fb9f3a\"], [0.8888888888888888, \"#fdca26\"], [1.0, \"#f0f921\"]], \"type\": \"contour\"}], \"contourcarpet\": [{\"colorbar\": {\"outlinewidth\": 0, \"ticks\": \"\"}, \"type\": \"contourcarpet\"}], \"heatmap\": [{\"colorbar\": {\"outlinewidth\": 0, \"ticks\": \"\"}, \"colorscale\": [[0.0, \"#0d0887\"], [0.1111111111111111, \"#46039f\"], [0.2222222222222222, \"#7201a8\"], [0.3333333333333333, \"#9c179e\"], [0.4444444444444444, \"#bd3786\"], [0.5555555555555556, \"#d8576b\"], [0.6666666666666666, \"#ed7953\"], [0.7777777777777778, \"#fb9f3a\"], [0.8888888888888888, \"#fdca26\"], [1.0, \"#f0f921\"]], \"type\": \"heatmap\"}], \"heatmapgl\": [{\"colorbar\": {\"outlinewidth\": 0, \"ticks\": \"\"}, \"colorscale\": [[0.0, \"#0d0887\"], [0.1111111111111111, \"#46039f\"], [0.2222222222222222, \"#7201a8\"], [0.3333333333333333, \"#9c179e\"], [0.4444444444444444, \"#bd3786\"], [0.5555555555555556, \"#d8576b\"], [0.6666666666666666, \"#ed7953\"], [0.7777777777777778, \"#fb9f3a\"], [0.8888888888888888, \"#fdca26\"], [1.0, \"#f0f921\"]], \"type\": \"heatmapgl\"}], \"histogram\": [{\"marker\": {\"colorbar\": {\"outlinewidth\": 0, \"ticks\": \"\"}}, \"type\": \"histogram\"}], \"histogram2d\": [{\"colorbar\": {\"outlinewidth\": 0, \"ticks\": \"\"}, \"colorscale\": [[0.0, \"#0d0887\"], [0.1111111111111111, \"#46039f\"], [0.2222222222222222, \"#7201a8\"], [0.3333333333333333, \"#9c179e\"], [0.4444444444444444, \"#bd3786\"], [0.5555555555555556, \"#d8576b\"], [0.6666666666666666, \"#ed7953\"], [0.7777777777777778, \"#fb9f3a\"], [0.8888888888888888, \"#fdca26\"], [1.0, \"#f0f921\"]], \"type\": \"histogram2d\"}], \"histogram2dcontour\": [{\"colorbar\": {\"outlinewidth\": 0, \"ticks\": \"\"}, \"colorscale\": [[0.0, \"#0d0887\"], [0.1111111111111111, \"#46039f\"], [0.2222222222222222, \"#7201a8\"], [0.3333333333333333, \"#9c179e\"], [0.4444444444444444, \"#bd3786\"], [0.5555555555555556, \"#d8576b\"], [0.6666666666666666, \"#ed7953\"], [0.7777777777777778, \"#fb9f3a\"], [0.8888888888888888, \"#fdca26\"], [1.0, \"#f0f921\"]], \"type\": \"histogram2dcontour\"}], \"mesh3d\": [{\"colorbar\": {\"outlinewidth\": 0, \"ticks\": \"\"}, \"type\": \"mesh3d\"}], \"parcoords\": [{\"line\": {\"colorbar\": {\"outlinewidth\": 0, \"ticks\": \"\"}}, \"type\": \"parcoords\"}], \"pie\": [{\"automargin\": true, \"type\": \"pie\"}], \"scatter\": [{\"marker\": {\"colorbar\": {\"outlinewidth\": 0, \"ticks\": \"\"}}, \"type\": \"scatter\"}], \"scatter3d\": [{\"line\": {\"colorbar\": {\"outlinewidth\": 0, \"ticks\": \"\"}}, \"marker\": {\"colorbar\": {\"outlinewidth\": 0, \"ticks\": \"\"}}, \"type\": \"scatter3d\"}], \"scattercarpet\": [{\"marker\": {\"colorbar\": {\"outlinewidth\": 0, \"ticks\": \"\"}}, \"type\": \"scattercarpet\"}], \"scattergeo\": [{\"marker\": {\"colorbar\": {\"outlinewidth\": 0, \"ticks\": \"\"}}, \"type\": \"scattergeo\"}], \"scattergl\": [{\"marker\": {\"colorbar\": {\"outlinewidth\": 0, \"ticks\": \"\"}}, \"type\": \"scattergl\"}], \"scattermapbox\": [{\"marker\": {\"colorbar\": {\"outlinewidth\": 0, \"ticks\": \"\"}}, \"type\": \"scattermapbox\"}], \"scatterpolar\": [{\"marker\": {\"colorbar\": {\"outlinewidth\": 0, \"ticks\": \"\"}}, \"type\": \"scatterpolar\"}], \"scatterpolargl\": [{\"marker\": {\"colorbar\": {\"outlinewidth\": 0, \"ticks\": \"\"}}, \"type\": \"scatterpolargl\"}], \"scatterternary\": [{\"marker\": {\"colorbar\": {\"outlinewidth\": 0, \"ticks\": \"\"}}, \"type\": \"scatterternary\"}], \"surface\": [{\"colorbar\": {\"outlinewidth\": 0, \"ticks\": \"\"}, \"colorscale\": [[0.0, \"#0d0887\"], [0.1111111111111111, \"#46039f\"], [0.2222222222222222, \"#7201a8\"], [0.3333333333333333, \"#9c179e\"], [0.4444444444444444, \"#bd3786\"], [0.5555555555555556, \"#d8576b\"], [0.6666666666666666, \"#ed7953\"], [0.7777777777777778, \"#fb9f3a\"], [0.8888888888888888, \"#fdca26\"], [1.0, \"#f0f921\"]], \"type\": \"surface\"}], \"table\": [{\"cells\": {\"fill\": {\"color\": \"#EBF0F8\"}, \"line\": {\"color\": \"white\"}}, \"header\": {\"fill\": {\"color\": \"#C8D4E3\"}, \"line\": {\"color\": \"white\"}}, \"type\": \"table\"}]}, \"layout\": {\"annotationdefaults\": {\"arrowcolor\": \"#2a3f5f\", \"arrowhead\": 0, \"arrowwidth\": 1}, \"coloraxis\": {\"colorbar\": {\"outlinewidth\": 0, \"ticks\": \"\"}}, \"colorscale\": {\"diverging\": [[0, \"#8e0152\"], [0.1, \"#c51b7d\"], [0.2, \"#de77ae\"], [0.3, \"#f1b6da\"], [0.4, \"#fde0ef\"], [0.5, \"#f7f7f7\"], [0.6, \"#e6f5d0\"], [0.7, \"#b8e186\"], [0.8, \"#7fbc41\"], [0.9, \"#4d9221\"], [1, \"#276419\"]], \"sequential\": [[0.0, \"#0d0887\"], [0.1111111111111111, \"#46039f\"], [0.2222222222222222, \"#7201a8\"], [0.3333333333333333, \"#9c179e\"], [0.4444444444444444, \"#bd3786\"], [0.5555555555555556, \"#d8576b\"], [0.6666666666666666, \"#ed7953\"], [0.7777777777777778, \"#fb9f3a\"], [0.8888888888888888, \"#fdca26\"], [1.0, \"#f0f921\"]], \"sequentialminus\": [[0.0, \"#0d0887\"], [0.1111111111111111, \"#46039f\"], [0.2222222222222222, \"#7201a8\"], [0.3333333333333333, \"#9c179e\"], [0.4444444444444444, \"#bd3786\"], [0.5555555555555556, \"#d8576b\"], [0.6666666666666666, \"#ed7953\"], [0.7777777777777778, \"#fb9f3a\"], [0.8888888888888888, \"#fdca26\"], [1.0, \"#f0f921\"]]}, \"colorway\": [\"#636efa\", \"#EF553B\", \"#00cc96\", \"#ab63fa\", \"#FFA15A\", \"#19d3f3\", \"#FF6692\", \"#B6E880\", \"#FF97FF\", \"#FECB52\"], \"font\": {\"color\": \"#2a3f5f\"}, \"geo\": {\"bgcolor\": \"white\", \"lakecolor\": \"white\", \"landcolor\": \"#E5ECF6\", \"showlakes\": true, \"showland\": true, \"subunitcolor\": \"white\"}, \"hoverlabel\": {\"align\": \"left\"}, \"hovermode\": \"closest\", \"mapbox\": {\"style\": \"light\"}, \"paper_bgcolor\": \"white\", \"plot_bgcolor\": \"#E5ECF6\", \"polar\": {\"angularaxis\": {\"gridcolor\": \"white\", \"linecolor\": \"white\", \"ticks\": \"\"}, \"bgcolor\": \"#E5ECF6\", \"radialaxis\": {\"gridcolor\": \"white\", \"linecolor\": \"white\", \"ticks\": \"\"}}, \"scene\": {\"xaxis\": {\"backgroundcolor\": \"#E5ECF6\", \"gridcolor\": \"white\", \"gridwidth\": 2, \"linecolor\": \"white\", \"showbackground\": true, \"ticks\": \"\", \"zerolinecolor\": \"white\"}, \"yaxis\": {\"backgroundcolor\": \"#E5ECF6\", \"gridcolor\": \"white\", \"gridwidth\": 2, \"linecolor\": \"white\", \"showbackground\": true, \"ticks\": \"\", \"zerolinecolor\": \"white\"}, \"zaxis\": {\"backgroundcolor\": \"#E5ECF6\", \"gridcolor\": \"white\", \"gridwidth\": 2, \"linecolor\": \"white\", \"showbackground\": true, \"ticks\": \"\", \"zerolinecolor\": \"white\"}}, \"shapedefaults\": {\"line\": {\"color\": \"#2a3f5f\"}}, \"ternary\": {\"aaxis\": {\"gridcolor\": \"white\", \"linecolor\": \"white\", \"ticks\": \"\"}, \"baxis\": {\"gridcolor\": \"white\", \"linecolor\": \"white\", \"ticks\": \"\"}, \"bgcolor\": \"#E5ECF6\", \"caxis\": {\"gridcolor\": \"white\", \"linecolor\": \"white\", \"ticks\": \"\"}}, \"title\": {\"x\": 0.05}, \"xaxis\": {\"automargin\": true, \"gridcolor\": \"white\", \"linecolor\": \"white\", \"ticks\": \"\", \"title\": {\"standoff\": 15}, \"zerolinecolor\": \"white\", \"zerolinewidth\": 2}, \"yaxis\": {\"automargin\": true, \"gridcolor\": \"white\", \"linecolor\": \"white\", \"ticks\": \"\", \"title\": {\"standoff\": 15}, \"zerolinecolor\": \"white\", \"zerolinewidth\": 2}}}, \"xaxis\": {\"anchor\": \"y\", \"domain\": [0.0, 1.0], \"title\": {\"text\": \"Country Name\"}}, \"yaxis\": {\"anchor\": \"x\", \"domain\": [0.0, 1.0], \"title\": {\"text\": \"Total cases\"}}},\n",
       "                        {\"responsive\": true}\n",
       "                    ).then(function(){\n",
       "                            \n",
       "var gd = document.getElementById('dfc0bb5e-925a-4f24-869a-9780118afe79');\n",
       "var x = new MutationObserver(function (mutations, observer) {{\n",
       "        var display = window.getComputedStyle(gd).display;\n",
       "        if (!display || display === 'none') {{\n",
       "            console.log([gd, 'removed!']);\n",
       "            Plotly.purge(gd);\n",
       "            observer.disconnect();\n",
       "        }}\n",
       "}});\n",
       "\n",
       "// Listen for the removal of the full notebook cells\n",
       "var notebookContainer = gd.closest('#notebook-container');\n",
       "if (notebookContainer) {{\n",
       "    x.observe(notebookContainer, {childList: true});\n",
       "}}\n",
       "\n",
       "// Listen for the clearing of the current output cell\n",
       "var outputEl = gd.closest('.output');\n",
       "if (outputEl) {{\n",
       "    x.observe(outputEl, {childList: true});\n",
       "}}\n",
       "\n",
       "                        })\n",
       "                };\n",
       "                });\n",
       "            </script>\n",
       "        </div>"
      ]
     },
     "metadata": {},
     "output_type": "display_data"
    }
   ],
   "source": [
    "px.bar(df,x='Country Name',y='Total cases')"
   ]
  },
  {
   "cell_type": "code",
   "execution_count": 31,
   "metadata": {
    "scrolled": true
   },
   "outputs": [
    {
     "data": {
      "application/vnd.plotly.v1+json": {
       "config": {
        "plotlyServerURL": "https://plot.ly"
       },
       "data": [
        {
         "alignmentgroup": "True",
         "hovertemplate": "Country Name=%{x}<br>Total Death=%{y}<extra></extra>",
         "legendgroup": "",
         "marker": {
          "color": "#636efa"
         },
         "name": "",
         "offsetgroup": "",
         "orientation": "v",
         "showlegend": false,
         "textposition": "auto",
         "type": "bar",
         "x": [
          "USA",
          "Spain",
          "Italy",
          "UK",
          "France",
          "Germany",
          "Turkey",
          "Russia",
          "Iran",
          "Brazil",
          "China",
          "Canada",
          "Belgium",
          "Peru",
          "Netherlands",
          "India",
          "Switzerland",
          "Ecuador",
          "Saudi Arabia",
          "Portugal",
          "Sweden",
          "Ireland",
          "Mexico",
          "Pakistan",
          "Chile",
          "Singapore",
          "Israel",
          "Belarus",
          "Austria",
          "Qatar",
          "Japan",
          "UAE",
          "Poland",
          "Romania",
          "Ukraine",
          "Indonesia",
          "S. Korea",
          "Denmark",
          "Serbia",
          "Philippines"
         ],
         "xaxis": "x",
         "y": [
          68445,
          25376,
          29184,
          28752,
          24926,
          6830,
          3414,
          1275,
          6221,
          6572,
          4633,
          3737,
          7827,
          1276,
          5081,
          1423,
          1770,
          1679,
          183,
          1039,
          2685,
          1307,
          2085,
          475,
          260,
          18,
          233,
          101,
          603,
          12,
          455,
          127,
          677,
          798,
          286,
          862,
          252,
          490,
          193,
          627
         ],
         "yaxis": "y"
        }
       ],
       "layout": {
        "barmode": "relative",
        "legend": {
         "tracegroupgap": 0
        },
        "margin": {
         "t": 60
        },
        "template": {
         "data": {
          "bar": [
           {
            "error_x": {
             "color": "#2a3f5f"
            },
            "error_y": {
             "color": "#2a3f5f"
            },
            "marker": {
             "line": {
              "color": "#E5ECF6",
              "width": 0.5
             }
            },
            "type": "bar"
           }
          ],
          "barpolar": [
           {
            "marker": {
             "line": {
              "color": "#E5ECF6",
              "width": 0.5
             }
            },
            "type": "barpolar"
           }
          ],
          "carpet": [
           {
            "aaxis": {
             "endlinecolor": "#2a3f5f",
             "gridcolor": "white",
             "linecolor": "white",
             "minorgridcolor": "white",
             "startlinecolor": "#2a3f5f"
            },
            "baxis": {
             "endlinecolor": "#2a3f5f",
             "gridcolor": "white",
             "linecolor": "white",
             "minorgridcolor": "white",
             "startlinecolor": "#2a3f5f"
            },
            "type": "carpet"
           }
          ],
          "choropleth": [
           {
            "colorbar": {
             "outlinewidth": 0,
             "ticks": ""
            },
            "type": "choropleth"
           }
          ],
          "contour": [
           {
            "colorbar": {
             "outlinewidth": 0,
             "ticks": ""
            },
            "colorscale": [
             [
              0,
              "#0d0887"
             ],
             [
              0.1111111111111111,
              "#46039f"
             ],
             [
              0.2222222222222222,
              "#7201a8"
             ],
             [
              0.3333333333333333,
              "#9c179e"
             ],
             [
              0.4444444444444444,
              "#bd3786"
             ],
             [
              0.5555555555555556,
              "#d8576b"
             ],
             [
              0.6666666666666666,
              "#ed7953"
             ],
             [
              0.7777777777777778,
              "#fb9f3a"
             ],
             [
              0.8888888888888888,
              "#fdca26"
             ],
             [
              1,
              "#f0f921"
             ]
            ],
            "type": "contour"
           }
          ],
          "contourcarpet": [
           {
            "colorbar": {
             "outlinewidth": 0,
             "ticks": ""
            },
            "type": "contourcarpet"
           }
          ],
          "heatmap": [
           {
            "colorbar": {
             "outlinewidth": 0,
             "ticks": ""
            },
            "colorscale": [
             [
              0,
              "#0d0887"
             ],
             [
              0.1111111111111111,
              "#46039f"
             ],
             [
              0.2222222222222222,
              "#7201a8"
             ],
             [
              0.3333333333333333,
              "#9c179e"
             ],
             [
              0.4444444444444444,
              "#bd3786"
             ],
             [
              0.5555555555555556,
              "#d8576b"
             ],
             [
              0.6666666666666666,
              "#ed7953"
             ],
             [
              0.7777777777777778,
              "#fb9f3a"
             ],
             [
              0.8888888888888888,
              "#fdca26"
             ],
             [
              1,
              "#f0f921"
             ]
            ],
            "type": "heatmap"
           }
          ],
          "heatmapgl": [
           {
            "colorbar": {
             "outlinewidth": 0,
             "ticks": ""
            },
            "colorscale": [
             [
              0,
              "#0d0887"
             ],
             [
              0.1111111111111111,
              "#46039f"
             ],
             [
              0.2222222222222222,
              "#7201a8"
             ],
             [
              0.3333333333333333,
              "#9c179e"
             ],
             [
              0.4444444444444444,
              "#bd3786"
             ],
             [
              0.5555555555555556,
              "#d8576b"
             ],
             [
              0.6666666666666666,
              "#ed7953"
             ],
             [
              0.7777777777777778,
              "#fb9f3a"
             ],
             [
              0.8888888888888888,
              "#fdca26"
             ],
             [
              1,
              "#f0f921"
             ]
            ],
            "type": "heatmapgl"
           }
          ],
          "histogram": [
           {
            "marker": {
             "colorbar": {
              "outlinewidth": 0,
              "ticks": ""
             }
            },
            "type": "histogram"
           }
          ],
          "histogram2d": [
           {
            "colorbar": {
             "outlinewidth": 0,
             "ticks": ""
            },
            "colorscale": [
             [
              0,
              "#0d0887"
             ],
             [
              0.1111111111111111,
              "#46039f"
             ],
             [
              0.2222222222222222,
              "#7201a8"
             ],
             [
              0.3333333333333333,
              "#9c179e"
             ],
             [
              0.4444444444444444,
              "#bd3786"
             ],
             [
              0.5555555555555556,
              "#d8576b"
             ],
             [
              0.6666666666666666,
              "#ed7953"
             ],
             [
              0.7777777777777778,
              "#fb9f3a"
             ],
             [
              0.8888888888888888,
              "#fdca26"
             ],
             [
              1,
              "#f0f921"
             ]
            ],
            "type": "histogram2d"
           }
          ],
          "histogram2dcontour": [
           {
            "colorbar": {
             "outlinewidth": 0,
             "ticks": ""
            },
            "colorscale": [
             [
              0,
              "#0d0887"
             ],
             [
              0.1111111111111111,
              "#46039f"
             ],
             [
              0.2222222222222222,
              "#7201a8"
             ],
             [
              0.3333333333333333,
              "#9c179e"
             ],
             [
              0.4444444444444444,
              "#bd3786"
             ],
             [
              0.5555555555555556,
              "#d8576b"
             ],
             [
              0.6666666666666666,
              "#ed7953"
             ],
             [
              0.7777777777777778,
              "#fb9f3a"
             ],
             [
              0.8888888888888888,
              "#fdca26"
             ],
             [
              1,
              "#f0f921"
             ]
            ],
            "type": "histogram2dcontour"
           }
          ],
          "mesh3d": [
           {
            "colorbar": {
             "outlinewidth": 0,
             "ticks": ""
            },
            "type": "mesh3d"
           }
          ],
          "parcoords": [
           {
            "line": {
             "colorbar": {
              "outlinewidth": 0,
              "ticks": ""
             }
            },
            "type": "parcoords"
           }
          ],
          "pie": [
           {
            "automargin": true,
            "type": "pie"
           }
          ],
          "scatter": [
           {
            "marker": {
             "colorbar": {
              "outlinewidth": 0,
              "ticks": ""
             }
            },
            "type": "scatter"
           }
          ],
          "scatter3d": [
           {
            "line": {
             "colorbar": {
              "outlinewidth": 0,
              "ticks": ""
             }
            },
            "marker": {
             "colorbar": {
              "outlinewidth": 0,
              "ticks": ""
             }
            },
            "type": "scatter3d"
           }
          ],
          "scattercarpet": [
           {
            "marker": {
             "colorbar": {
              "outlinewidth": 0,
              "ticks": ""
             }
            },
            "type": "scattercarpet"
           }
          ],
          "scattergeo": [
           {
            "marker": {
             "colorbar": {
              "outlinewidth": 0,
              "ticks": ""
             }
            },
            "type": "scattergeo"
           }
          ],
          "scattergl": [
           {
            "marker": {
             "colorbar": {
              "outlinewidth": 0,
              "ticks": ""
             }
            },
            "type": "scattergl"
           }
          ],
          "scattermapbox": [
           {
            "marker": {
             "colorbar": {
              "outlinewidth": 0,
              "ticks": ""
             }
            },
            "type": "scattermapbox"
           }
          ],
          "scatterpolar": [
           {
            "marker": {
             "colorbar": {
              "outlinewidth": 0,
              "ticks": ""
             }
            },
            "type": "scatterpolar"
           }
          ],
          "scatterpolargl": [
           {
            "marker": {
             "colorbar": {
              "outlinewidth": 0,
              "ticks": ""
             }
            },
            "type": "scatterpolargl"
           }
          ],
          "scatterternary": [
           {
            "marker": {
             "colorbar": {
              "outlinewidth": 0,
              "ticks": ""
             }
            },
            "type": "scatterternary"
           }
          ],
          "surface": [
           {
            "colorbar": {
             "outlinewidth": 0,
             "ticks": ""
            },
            "colorscale": [
             [
              0,
              "#0d0887"
             ],
             [
              0.1111111111111111,
              "#46039f"
             ],
             [
              0.2222222222222222,
              "#7201a8"
             ],
             [
              0.3333333333333333,
              "#9c179e"
             ],
             [
              0.4444444444444444,
              "#bd3786"
             ],
             [
              0.5555555555555556,
              "#d8576b"
             ],
             [
              0.6666666666666666,
              "#ed7953"
             ],
             [
              0.7777777777777778,
              "#fb9f3a"
             ],
             [
              0.8888888888888888,
              "#fdca26"
             ],
             [
              1,
              "#f0f921"
             ]
            ],
            "type": "surface"
           }
          ],
          "table": [
           {
            "cells": {
             "fill": {
              "color": "#EBF0F8"
             },
             "line": {
              "color": "white"
             }
            },
            "header": {
             "fill": {
              "color": "#C8D4E3"
             },
             "line": {
              "color": "white"
             }
            },
            "type": "table"
           }
          ]
         },
         "layout": {
          "annotationdefaults": {
           "arrowcolor": "#2a3f5f",
           "arrowhead": 0,
           "arrowwidth": 1
          },
          "coloraxis": {
           "colorbar": {
            "outlinewidth": 0,
            "ticks": ""
           }
          },
          "colorscale": {
           "diverging": [
            [
             0,
             "#8e0152"
            ],
            [
             0.1,
             "#c51b7d"
            ],
            [
             0.2,
             "#de77ae"
            ],
            [
             0.3,
             "#f1b6da"
            ],
            [
             0.4,
             "#fde0ef"
            ],
            [
             0.5,
             "#f7f7f7"
            ],
            [
             0.6,
             "#e6f5d0"
            ],
            [
             0.7,
             "#b8e186"
            ],
            [
             0.8,
             "#7fbc41"
            ],
            [
             0.9,
             "#4d9221"
            ],
            [
             1,
             "#276419"
            ]
           ],
           "sequential": [
            [
             0,
             "#0d0887"
            ],
            [
             0.1111111111111111,
             "#46039f"
            ],
            [
             0.2222222222222222,
             "#7201a8"
            ],
            [
             0.3333333333333333,
             "#9c179e"
            ],
            [
             0.4444444444444444,
             "#bd3786"
            ],
            [
             0.5555555555555556,
             "#d8576b"
            ],
            [
             0.6666666666666666,
             "#ed7953"
            ],
            [
             0.7777777777777778,
             "#fb9f3a"
            ],
            [
             0.8888888888888888,
             "#fdca26"
            ],
            [
             1,
             "#f0f921"
            ]
           ],
           "sequentialminus": [
            [
             0,
             "#0d0887"
            ],
            [
             0.1111111111111111,
             "#46039f"
            ],
            [
             0.2222222222222222,
             "#7201a8"
            ],
            [
             0.3333333333333333,
             "#9c179e"
            ],
            [
             0.4444444444444444,
             "#bd3786"
            ],
            [
             0.5555555555555556,
             "#d8576b"
            ],
            [
             0.6666666666666666,
             "#ed7953"
            ],
            [
             0.7777777777777778,
             "#fb9f3a"
            ],
            [
             0.8888888888888888,
             "#fdca26"
            ],
            [
             1,
             "#f0f921"
            ]
           ]
          },
          "colorway": [
           "#636efa",
           "#EF553B",
           "#00cc96",
           "#ab63fa",
           "#FFA15A",
           "#19d3f3",
           "#FF6692",
           "#B6E880",
           "#FF97FF",
           "#FECB52"
          ],
          "font": {
           "color": "#2a3f5f"
          },
          "geo": {
           "bgcolor": "white",
           "lakecolor": "white",
           "landcolor": "#E5ECF6",
           "showlakes": true,
           "showland": true,
           "subunitcolor": "white"
          },
          "hoverlabel": {
           "align": "left"
          },
          "hovermode": "closest",
          "mapbox": {
           "style": "light"
          },
          "paper_bgcolor": "white",
          "plot_bgcolor": "#E5ECF6",
          "polar": {
           "angularaxis": {
            "gridcolor": "white",
            "linecolor": "white",
            "ticks": ""
           },
           "bgcolor": "#E5ECF6",
           "radialaxis": {
            "gridcolor": "white",
            "linecolor": "white",
            "ticks": ""
           }
          },
          "scene": {
           "xaxis": {
            "backgroundcolor": "#E5ECF6",
            "gridcolor": "white",
            "gridwidth": 2,
            "linecolor": "white",
            "showbackground": true,
            "ticks": "",
            "zerolinecolor": "white"
           },
           "yaxis": {
            "backgroundcolor": "#E5ECF6",
            "gridcolor": "white",
            "gridwidth": 2,
            "linecolor": "white",
            "showbackground": true,
            "ticks": "",
            "zerolinecolor": "white"
           },
           "zaxis": {
            "backgroundcolor": "#E5ECF6",
            "gridcolor": "white",
            "gridwidth": 2,
            "linecolor": "white",
            "showbackground": true,
            "ticks": "",
            "zerolinecolor": "white"
           }
          },
          "shapedefaults": {
           "line": {
            "color": "#2a3f5f"
           }
          },
          "ternary": {
           "aaxis": {
            "gridcolor": "white",
            "linecolor": "white",
            "ticks": ""
           },
           "baxis": {
            "gridcolor": "white",
            "linecolor": "white",
            "ticks": ""
           },
           "bgcolor": "#E5ECF6",
           "caxis": {
            "gridcolor": "white",
            "linecolor": "white",
            "ticks": ""
           }
          },
          "title": {
           "x": 0.05
          },
          "xaxis": {
           "automargin": true,
           "gridcolor": "white",
           "linecolor": "white",
           "ticks": "",
           "title": {
            "standoff": 15
           },
           "zerolinecolor": "white",
           "zerolinewidth": 2
          },
          "yaxis": {
           "automargin": true,
           "gridcolor": "white",
           "linecolor": "white",
           "ticks": "",
           "title": {
            "standoff": 15
           },
           "zerolinecolor": "white",
           "zerolinewidth": 2
          }
         }
        },
        "xaxis": {
         "anchor": "y",
         "domain": [
          0,
          1
         ],
         "title": {
          "text": "Country Name"
         }
        },
        "yaxis": {
         "anchor": "x",
         "domain": [
          0,
          1
         ],
         "title": {
          "text": "Total Death"
         }
        }
       }
      },
      "text/html": [
       "<div>\n",
       "        \n",
       "        \n",
       "            <div id=\"8d89b1f9-e81e-49f7-a33f-dce1d9e05554\" class=\"plotly-graph-div\" style=\"height:525px; width:100%;\"></div>\n",
       "            <script type=\"text/javascript\">\n",
       "                require([\"plotly\"], function(Plotly) {\n",
       "                    window.PLOTLYENV=window.PLOTLYENV || {};\n",
       "                    \n",
       "                if (document.getElementById(\"8d89b1f9-e81e-49f7-a33f-dce1d9e05554\")) {\n",
       "                    Plotly.newPlot(\n",
       "                        '8d89b1f9-e81e-49f7-a33f-dce1d9e05554',\n",
       "                        [{\"alignmentgroup\": \"True\", \"hovertemplate\": \"Country Name=%{x}<br>Total Death=%{y}<extra></extra>\", \"legendgroup\": \"\", \"marker\": {\"color\": \"#636efa\"}, \"name\": \"\", \"offsetgroup\": \"\", \"orientation\": \"v\", \"showlegend\": false, \"textposition\": \"auto\", \"type\": \"bar\", \"x\": [\"USA\", \"Spain\", \"Italy\", \"UK\", \"France\", \"Germany\", \"Turkey\", \"Russia\", \"Iran\", \"Brazil\", \"China\", \"Canada\", \"Belgium\", \"Peru\", \"Netherlands\", \"India\", \"Switzerland\", \"Ecuador\", \"Saudi Arabia\", \"Portugal\", \"Sweden\", \"Ireland\", \"Mexico\", \"Pakistan\", \"Chile\", \"Singapore\", \"Israel\", \"Belarus\", \"Austria\", \"Qatar\", \"Japan\", \"UAE\", \"Poland\", \"Romania\", \"Ukraine\", \"Indonesia\", \"S. Korea\", \"Denmark\", \"Serbia\", \"Philippines\"], \"xaxis\": \"x\", \"y\": [68445, 25376, 29184, 28752, 24926, 6830, 3414, 1275, 6221, 6572, 4633, 3737, 7827, 1276, 5081, 1423, 1770, 1679, 183, 1039, 2685, 1307, 2085, 475, 260, 18, 233, 101, 603, 12, 455, 127, 677, 798, 286, 862, 252, 490, 193, 627], \"yaxis\": \"y\"}],\n",
       "                        {\"barmode\": \"relative\", \"legend\": {\"tracegroupgap\": 0}, \"margin\": {\"t\": 60}, \"template\": {\"data\": {\"bar\": [{\"error_x\": {\"color\": \"#2a3f5f\"}, \"error_y\": {\"color\": \"#2a3f5f\"}, \"marker\": {\"line\": {\"color\": \"#E5ECF6\", \"width\": 0.5}}, \"type\": \"bar\"}], \"barpolar\": [{\"marker\": {\"line\": {\"color\": \"#E5ECF6\", \"width\": 0.5}}, \"type\": \"barpolar\"}], \"carpet\": [{\"aaxis\": {\"endlinecolor\": \"#2a3f5f\", \"gridcolor\": \"white\", \"linecolor\": \"white\", \"minorgridcolor\": \"white\", \"startlinecolor\": \"#2a3f5f\"}, \"baxis\": {\"endlinecolor\": \"#2a3f5f\", \"gridcolor\": \"white\", \"linecolor\": \"white\", \"minorgridcolor\": \"white\", \"startlinecolor\": \"#2a3f5f\"}, \"type\": \"carpet\"}], \"choropleth\": [{\"colorbar\": {\"outlinewidth\": 0, \"ticks\": \"\"}, \"type\": \"choropleth\"}], \"contour\": [{\"colorbar\": {\"outlinewidth\": 0, \"ticks\": \"\"}, \"colorscale\": [[0.0, \"#0d0887\"], [0.1111111111111111, \"#46039f\"], [0.2222222222222222, \"#7201a8\"], [0.3333333333333333, \"#9c179e\"], [0.4444444444444444, \"#bd3786\"], [0.5555555555555556, \"#d8576b\"], [0.6666666666666666, \"#ed7953\"], [0.7777777777777778, \"#fb9f3a\"], [0.8888888888888888, \"#fdca26\"], [1.0, \"#f0f921\"]], \"type\": \"contour\"}], \"contourcarpet\": [{\"colorbar\": {\"outlinewidth\": 0, \"ticks\": \"\"}, \"type\": \"contourcarpet\"}], \"heatmap\": [{\"colorbar\": {\"outlinewidth\": 0, \"ticks\": \"\"}, \"colorscale\": [[0.0, \"#0d0887\"], [0.1111111111111111, \"#46039f\"], [0.2222222222222222, \"#7201a8\"], [0.3333333333333333, \"#9c179e\"], [0.4444444444444444, \"#bd3786\"], [0.5555555555555556, \"#d8576b\"], [0.6666666666666666, \"#ed7953\"], [0.7777777777777778, \"#fb9f3a\"], [0.8888888888888888, \"#fdca26\"], [1.0, \"#f0f921\"]], \"type\": \"heatmap\"}], \"heatmapgl\": [{\"colorbar\": {\"outlinewidth\": 0, \"ticks\": \"\"}, \"colorscale\": [[0.0, \"#0d0887\"], [0.1111111111111111, \"#46039f\"], [0.2222222222222222, \"#7201a8\"], [0.3333333333333333, \"#9c179e\"], [0.4444444444444444, \"#bd3786\"], [0.5555555555555556, \"#d8576b\"], [0.6666666666666666, \"#ed7953\"], [0.7777777777777778, \"#fb9f3a\"], [0.8888888888888888, \"#fdca26\"], [1.0, \"#f0f921\"]], \"type\": \"heatmapgl\"}], \"histogram\": [{\"marker\": {\"colorbar\": {\"outlinewidth\": 0, \"ticks\": \"\"}}, \"type\": \"histogram\"}], \"histogram2d\": [{\"colorbar\": {\"outlinewidth\": 0, \"ticks\": \"\"}, \"colorscale\": [[0.0, \"#0d0887\"], [0.1111111111111111, \"#46039f\"], [0.2222222222222222, \"#7201a8\"], [0.3333333333333333, \"#9c179e\"], [0.4444444444444444, \"#bd3786\"], [0.5555555555555556, \"#d8576b\"], [0.6666666666666666, \"#ed7953\"], [0.7777777777777778, \"#fb9f3a\"], [0.8888888888888888, \"#fdca26\"], [1.0, \"#f0f921\"]], \"type\": \"histogram2d\"}], \"histogram2dcontour\": [{\"colorbar\": {\"outlinewidth\": 0, \"ticks\": \"\"}, \"colorscale\": [[0.0, \"#0d0887\"], [0.1111111111111111, \"#46039f\"], [0.2222222222222222, \"#7201a8\"], [0.3333333333333333, \"#9c179e\"], [0.4444444444444444, \"#bd3786\"], [0.5555555555555556, \"#d8576b\"], [0.6666666666666666, \"#ed7953\"], [0.7777777777777778, \"#fb9f3a\"], [0.8888888888888888, \"#fdca26\"], [1.0, \"#f0f921\"]], \"type\": \"histogram2dcontour\"}], \"mesh3d\": [{\"colorbar\": {\"outlinewidth\": 0, \"ticks\": \"\"}, \"type\": \"mesh3d\"}], \"parcoords\": [{\"line\": {\"colorbar\": {\"outlinewidth\": 0, \"ticks\": \"\"}}, \"type\": \"parcoords\"}], \"pie\": [{\"automargin\": true, \"type\": \"pie\"}], \"scatter\": [{\"marker\": {\"colorbar\": {\"outlinewidth\": 0, \"ticks\": \"\"}}, \"type\": \"scatter\"}], \"scatter3d\": [{\"line\": {\"colorbar\": {\"outlinewidth\": 0, \"ticks\": \"\"}}, \"marker\": {\"colorbar\": {\"outlinewidth\": 0, \"ticks\": \"\"}}, \"type\": \"scatter3d\"}], \"scattercarpet\": [{\"marker\": {\"colorbar\": {\"outlinewidth\": 0, \"ticks\": \"\"}}, \"type\": \"scattercarpet\"}], \"scattergeo\": [{\"marker\": {\"colorbar\": {\"outlinewidth\": 0, \"ticks\": \"\"}}, \"type\": \"scattergeo\"}], \"scattergl\": [{\"marker\": {\"colorbar\": {\"outlinewidth\": 0, \"ticks\": \"\"}}, \"type\": \"scattergl\"}], \"scattermapbox\": [{\"marker\": {\"colorbar\": {\"outlinewidth\": 0, \"ticks\": \"\"}}, \"type\": \"scattermapbox\"}], \"scatterpolar\": [{\"marker\": {\"colorbar\": {\"outlinewidth\": 0, \"ticks\": \"\"}}, \"type\": \"scatterpolar\"}], \"scatterpolargl\": [{\"marker\": {\"colorbar\": {\"outlinewidth\": 0, \"ticks\": \"\"}}, \"type\": \"scatterpolargl\"}], \"scatterternary\": [{\"marker\": {\"colorbar\": {\"outlinewidth\": 0, \"ticks\": \"\"}}, \"type\": \"scatterternary\"}], \"surface\": [{\"colorbar\": {\"outlinewidth\": 0, \"ticks\": \"\"}, \"colorscale\": [[0.0, \"#0d0887\"], [0.1111111111111111, \"#46039f\"], [0.2222222222222222, \"#7201a8\"], [0.3333333333333333, \"#9c179e\"], [0.4444444444444444, \"#bd3786\"], [0.5555555555555556, \"#d8576b\"], [0.6666666666666666, \"#ed7953\"], [0.7777777777777778, \"#fb9f3a\"], [0.8888888888888888, \"#fdca26\"], [1.0, \"#f0f921\"]], \"type\": \"surface\"}], \"table\": [{\"cells\": {\"fill\": {\"color\": \"#EBF0F8\"}, \"line\": {\"color\": \"white\"}}, \"header\": {\"fill\": {\"color\": \"#C8D4E3\"}, \"line\": {\"color\": \"white\"}}, \"type\": \"table\"}]}, \"layout\": {\"annotationdefaults\": {\"arrowcolor\": \"#2a3f5f\", \"arrowhead\": 0, \"arrowwidth\": 1}, \"coloraxis\": {\"colorbar\": {\"outlinewidth\": 0, \"ticks\": \"\"}}, \"colorscale\": {\"diverging\": [[0, \"#8e0152\"], [0.1, \"#c51b7d\"], [0.2, \"#de77ae\"], [0.3, \"#f1b6da\"], [0.4, \"#fde0ef\"], [0.5, \"#f7f7f7\"], [0.6, \"#e6f5d0\"], [0.7, \"#b8e186\"], [0.8, \"#7fbc41\"], [0.9, \"#4d9221\"], [1, \"#276419\"]], \"sequential\": [[0.0, \"#0d0887\"], [0.1111111111111111, \"#46039f\"], [0.2222222222222222, \"#7201a8\"], [0.3333333333333333, \"#9c179e\"], [0.4444444444444444, \"#bd3786\"], [0.5555555555555556, \"#d8576b\"], [0.6666666666666666, \"#ed7953\"], [0.7777777777777778, \"#fb9f3a\"], [0.8888888888888888, \"#fdca26\"], [1.0, \"#f0f921\"]], \"sequentialminus\": [[0.0, \"#0d0887\"], [0.1111111111111111, \"#46039f\"], [0.2222222222222222, \"#7201a8\"], [0.3333333333333333, \"#9c179e\"], [0.4444444444444444, \"#bd3786\"], [0.5555555555555556, \"#d8576b\"], [0.6666666666666666, \"#ed7953\"], [0.7777777777777778, \"#fb9f3a\"], [0.8888888888888888, \"#fdca26\"], [1.0, \"#f0f921\"]]}, \"colorway\": [\"#636efa\", \"#EF553B\", \"#00cc96\", \"#ab63fa\", \"#FFA15A\", \"#19d3f3\", \"#FF6692\", \"#B6E880\", \"#FF97FF\", \"#FECB52\"], \"font\": {\"color\": \"#2a3f5f\"}, \"geo\": {\"bgcolor\": \"white\", \"lakecolor\": \"white\", \"landcolor\": \"#E5ECF6\", \"showlakes\": true, \"showland\": true, \"subunitcolor\": \"white\"}, \"hoverlabel\": {\"align\": \"left\"}, \"hovermode\": \"closest\", \"mapbox\": {\"style\": \"light\"}, \"paper_bgcolor\": \"white\", \"plot_bgcolor\": \"#E5ECF6\", \"polar\": {\"angularaxis\": {\"gridcolor\": \"white\", \"linecolor\": \"white\", \"ticks\": \"\"}, \"bgcolor\": \"#E5ECF6\", \"radialaxis\": {\"gridcolor\": \"white\", \"linecolor\": \"white\", \"ticks\": \"\"}}, \"scene\": {\"xaxis\": {\"backgroundcolor\": \"#E5ECF6\", \"gridcolor\": \"white\", \"gridwidth\": 2, \"linecolor\": \"white\", \"showbackground\": true, \"ticks\": \"\", \"zerolinecolor\": \"white\"}, \"yaxis\": {\"backgroundcolor\": \"#E5ECF6\", \"gridcolor\": \"white\", \"gridwidth\": 2, \"linecolor\": \"white\", \"showbackground\": true, \"ticks\": \"\", \"zerolinecolor\": \"white\"}, \"zaxis\": {\"backgroundcolor\": \"#E5ECF6\", \"gridcolor\": \"white\", \"gridwidth\": 2, \"linecolor\": \"white\", \"showbackground\": true, \"ticks\": \"\", \"zerolinecolor\": \"white\"}}, \"shapedefaults\": {\"line\": {\"color\": \"#2a3f5f\"}}, \"ternary\": {\"aaxis\": {\"gridcolor\": \"white\", \"linecolor\": \"white\", \"ticks\": \"\"}, \"baxis\": {\"gridcolor\": \"white\", \"linecolor\": \"white\", \"ticks\": \"\"}, \"bgcolor\": \"#E5ECF6\", \"caxis\": {\"gridcolor\": \"white\", \"linecolor\": \"white\", \"ticks\": \"\"}}, \"title\": {\"x\": 0.05}, \"xaxis\": {\"automargin\": true, \"gridcolor\": \"white\", \"linecolor\": \"white\", \"ticks\": \"\", \"title\": {\"standoff\": 15}, \"zerolinecolor\": \"white\", \"zerolinewidth\": 2}, \"yaxis\": {\"automargin\": true, \"gridcolor\": \"white\", \"linecolor\": \"white\", \"ticks\": \"\", \"title\": {\"standoff\": 15}, \"zerolinecolor\": \"white\", \"zerolinewidth\": 2}}}, \"xaxis\": {\"anchor\": \"y\", \"domain\": [0.0, 1.0], \"title\": {\"text\": \"Country Name\"}}, \"yaxis\": {\"anchor\": \"x\", \"domain\": [0.0, 1.0], \"title\": {\"text\": \"Total Death\"}}},\n",
       "                        {\"responsive\": true}\n",
       "                    ).then(function(){\n",
       "                            \n",
       "var gd = document.getElementById('8d89b1f9-e81e-49f7-a33f-dce1d9e05554');\n",
       "var x = new MutationObserver(function (mutations, observer) {{\n",
       "        var display = window.getComputedStyle(gd).display;\n",
       "        if (!display || display === 'none') {{\n",
       "            console.log([gd, 'removed!']);\n",
       "            Plotly.purge(gd);\n",
       "            observer.disconnect();\n",
       "        }}\n",
       "}});\n",
       "\n",
       "// Listen for the removal of the full notebook cells\n",
       "var notebookContainer = gd.closest('#notebook-container');\n",
       "if (notebookContainer) {{\n",
       "    x.observe(notebookContainer, {childList: true});\n",
       "}}\n",
       "\n",
       "// Listen for the clearing of the current output cell\n",
       "var outputEl = gd.closest('.output');\n",
       "if (outputEl) {{\n",
       "    x.observe(outputEl, {childList: true});\n",
       "}}\n",
       "\n",
       "                        })\n",
       "                };\n",
       "                });\n",
       "            </script>\n",
       "        </div>"
      ]
     },
     "metadata": {},
     "output_type": "display_data"
    }
   ],
   "source": [
    "px.bar(df,x='Country Name',y='Total Death')"
   ]
  },
  {
   "cell_type": "code",
   "execution_count": 33,
   "metadata": {},
   "outputs": [
    {
     "data": {
      "application/vnd.plotly.v1+json": {
       "config": {
        "plotlyServerURL": "https://plot.ly"
       },
       "data": [
        {
         "alignmentgroup": "True",
         "hovertemplate": "Country Name=%{x}<br>Total recovery=%{y}<extra></extra>",
         "legendgroup": "",
         "marker": {
          "color": "#636efa"
         },
         "name": "",
         "offsetgroup": "",
         "orientation": "v",
         "showlegend": false,
         "textposition": "auto",
         "type": "bar",
         "x": [
          "USA",
          "Spain",
          "Italy",
          "UK",
          "France",
          "Germany",
          "Turkey",
          "Russia",
          "Iran",
          "Brazil",
          "China",
          "Canada",
          "Belgium",
          "Peru",
          "Netherlands",
          "India",
          "Switzerland",
          "Ecuador",
          "Saudi Arabia",
          "Portugal",
          "Sweden",
          "Ireland",
          "Mexico",
          "Pakistan",
          "Chile",
          "Singapore",
          "Israel",
          "Belarus",
          "Austria",
          "Qatar",
          "Japan",
          "UAE",
          "Poland",
          "Romania",
          "Ukraine",
          "Indonesia",
          "S. Korea",
          "Denmark",
          "Serbia",
          "Philippines"
         ],
         "xaxis": "x",
         "y": [
          170181,
          146233,
          79914,
          null,
          50562,
          129000,
          58259,
          15013,
          77350,
          38039,
          77685,
          23621,
          12211,
          12434,
          null,
          10819,
          24200,
          2132,
          3765,
          1671,
          1005,
          13386,
          12377,
          4753,
          9572,
          1347,
          9593,
          3117,
          13180,
          1534,
          2975,
          2664,
          3762,
          4547,
          1498,
          1665,
          9123,
          6889,
          1426,
          1124
         ],
         "yaxis": "y"
        }
       ],
       "layout": {
        "barmode": "relative",
        "legend": {
         "tracegroupgap": 0
        },
        "margin": {
         "t": 60
        },
        "template": {
         "data": {
          "bar": [
           {
            "error_x": {
             "color": "#2a3f5f"
            },
            "error_y": {
             "color": "#2a3f5f"
            },
            "marker": {
             "line": {
              "color": "#E5ECF6",
              "width": 0.5
             }
            },
            "type": "bar"
           }
          ],
          "barpolar": [
           {
            "marker": {
             "line": {
              "color": "#E5ECF6",
              "width": 0.5
             }
            },
            "type": "barpolar"
           }
          ],
          "carpet": [
           {
            "aaxis": {
             "endlinecolor": "#2a3f5f",
             "gridcolor": "white",
             "linecolor": "white",
             "minorgridcolor": "white",
             "startlinecolor": "#2a3f5f"
            },
            "baxis": {
             "endlinecolor": "#2a3f5f",
             "gridcolor": "white",
             "linecolor": "white",
             "minorgridcolor": "white",
             "startlinecolor": "#2a3f5f"
            },
            "type": "carpet"
           }
          ],
          "choropleth": [
           {
            "colorbar": {
             "outlinewidth": 0,
             "ticks": ""
            },
            "type": "choropleth"
           }
          ],
          "contour": [
           {
            "colorbar": {
             "outlinewidth": 0,
             "ticks": ""
            },
            "colorscale": [
             [
              0,
              "#0d0887"
             ],
             [
              0.1111111111111111,
              "#46039f"
             ],
             [
              0.2222222222222222,
              "#7201a8"
             ],
             [
              0.3333333333333333,
              "#9c179e"
             ],
             [
              0.4444444444444444,
              "#bd3786"
             ],
             [
              0.5555555555555556,
              "#d8576b"
             ],
             [
              0.6666666666666666,
              "#ed7953"
             ],
             [
              0.7777777777777778,
              "#fb9f3a"
             ],
             [
              0.8888888888888888,
              "#fdca26"
             ],
             [
              1,
              "#f0f921"
             ]
            ],
            "type": "contour"
           }
          ],
          "contourcarpet": [
           {
            "colorbar": {
             "outlinewidth": 0,
             "ticks": ""
            },
            "type": "contourcarpet"
           }
          ],
          "heatmap": [
           {
            "colorbar": {
             "outlinewidth": 0,
             "ticks": ""
            },
            "colorscale": [
             [
              0,
              "#0d0887"
             ],
             [
              0.1111111111111111,
              "#46039f"
             ],
             [
              0.2222222222222222,
              "#7201a8"
             ],
             [
              0.3333333333333333,
              "#9c179e"
             ],
             [
              0.4444444444444444,
              "#bd3786"
             ],
             [
              0.5555555555555556,
              "#d8576b"
             ],
             [
              0.6666666666666666,
              "#ed7953"
             ],
             [
              0.7777777777777778,
              "#fb9f3a"
             ],
             [
              0.8888888888888888,
              "#fdca26"
             ],
             [
              1,
              "#f0f921"
             ]
            ],
            "type": "heatmap"
           }
          ],
          "heatmapgl": [
           {
            "colorbar": {
             "outlinewidth": 0,
             "ticks": ""
            },
            "colorscale": [
             [
              0,
              "#0d0887"
             ],
             [
              0.1111111111111111,
              "#46039f"
             ],
             [
              0.2222222222222222,
              "#7201a8"
             ],
             [
              0.3333333333333333,
              "#9c179e"
             ],
             [
              0.4444444444444444,
              "#bd3786"
             ],
             [
              0.5555555555555556,
              "#d8576b"
             ],
             [
              0.6666666666666666,
              "#ed7953"
             ],
             [
              0.7777777777777778,
              "#fb9f3a"
             ],
             [
              0.8888888888888888,
              "#fdca26"
             ],
             [
              1,
              "#f0f921"
             ]
            ],
            "type": "heatmapgl"
           }
          ],
          "histogram": [
           {
            "marker": {
             "colorbar": {
              "outlinewidth": 0,
              "ticks": ""
             }
            },
            "type": "histogram"
           }
          ],
          "histogram2d": [
           {
            "colorbar": {
             "outlinewidth": 0,
             "ticks": ""
            },
            "colorscale": [
             [
              0,
              "#0d0887"
             ],
             [
              0.1111111111111111,
              "#46039f"
             ],
             [
              0.2222222222222222,
              "#7201a8"
             ],
             [
              0.3333333333333333,
              "#9c179e"
             ],
             [
              0.4444444444444444,
              "#bd3786"
             ],
             [
              0.5555555555555556,
              "#d8576b"
             ],
             [
              0.6666666666666666,
              "#ed7953"
             ],
             [
              0.7777777777777778,
              "#fb9f3a"
             ],
             [
              0.8888888888888888,
              "#fdca26"
             ],
             [
              1,
              "#f0f921"
             ]
            ],
            "type": "histogram2d"
           }
          ],
          "histogram2dcontour": [
           {
            "colorbar": {
             "outlinewidth": 0,
             "ticks": ""
            },
            "colorscale": [
             [
              0,
              "#0d0887"
             ],
             [
              0.1111111111111111,
              "#46039f"
             ],
             [
              0.2222222222222222,
              "#7201a8"
             ],
             [
              0.3333333333333333,
              "#9c179e"
             ],
             [
              0.4444444444444444,
              "#bd3786"
             ],
             [
              0.5555555555555556,
              "#d8576b"
             ],
             [
              0.6666666666666666,
              "#ed7953"
             ],
             [
              0.7777777777777778,
              "#fb9f3a"
             ],
             [
              0.8888888888888888,
              "#fdca26"
             ],
             [
              1,
              "#f0f921"
             ]
            ],
            "type": "histogram2dcontour"
           }
          ],
          "mesh3d": [
           {
            "colorbar": {
             "outlinewidth": 0,
             "ticks": ""
            },
            "type": "mesh3d"
           }
          ],
          "parcoords": [
           {
            "line": {
             "colorbar": {
              "outlinewidth": 0,
              "ticks": ""
             }
            },
            "type": "parcoords"
           }
          ],
          "pie": [
           {
            "automargin": true,
            "type": "pie"
           }
          ],
          "scatter": [
           {
            "marker": {
             "colorbar": {
              "outlinewidth": 0,
              "ticks": ""
             }
            },
            "type": "scatter"
           }
          ],
          "scatter3d": [
           {
            "line": {
             "colorbar": {
              "outlinewidth": 0,
              "ticks": ""
             }
            },
            "marker": {
             "colorbar": {
              "outlinewidth": 0,
              "ticks": ""
             }
            },
            "type": "scatter3d"
           }
          ],
          "scattercarpet": [
           {
            "marker": {
             "colorbar": {
              "outlinewidth": 0,
              "ticks": ""
             }
            },
            "type": "scattercarpet"
           }
          ],
          "scattergeo": [
           {
            "marker": {
             "colorbar": {
              "outlinewidth": 0,
              "ticks": ""
             }
            },
            "type": "scattergeo"
           }
          ],
          "scattergl": [
           {
            "marker": {
             "colorbar": {
              "outlinewidth": 0,
              "ticks": ""
             }
            },
            "type": "scattergl"
           }
          ],
          "scattermapbox": [
           {
            "marker": {
             "colorbar": {
              "outlinewidth": 0,
              "ticks": ""
             }
            },
            "type": "scattermapbox"
           }
          ],
          "scatterpolar": [
           {
            "marker": {
             "colorbar": {
              "outlinewidth": 0,
              "ticks": ""
             }
            },
            "type": "scatterpolar"
           }
          ],
          "scatterpolargl": [
           {
            "marker": {
             "colorbar": {
              "outlinewidth": 0,
              "ticks": ""
             }
            },
            "type": "scatterpolargl"
           }
          ],
          "scatterternary": [
           {
            "marker": {
             "colorbar": {
              "outlinewidth": 0,
              "ticks": ""
             }
            },
            "type": "scatterternary"
           }
          ],
          "surface": [
           {
            "colorbar": {
             "outlinewidth": 0,
             "ticks": ""
            },
            "colorscale": [
             [
              0,
              "#0d0887"
             ],
             [
              0.1111111111111111,
              "#46039f"
             ],
             [
              0.2222222222222222,
              "#7201a8"
             ],
             [
              0.3333333333333333,
              "#9c179e"
             ],
             [
              0.4444444444444444,
              "#bd3786"
             ],
             [
              0.5555555555555556,
              "#d8576b"
             ],
             [
              0.6666666666666666,
              "#ed7953"
             ],
             [
              0.7777777777777778,
              "#fb9f3a"
             ],
             [
              0.8888888888888888,
              "#fdca26"
             ],
             [
              1,
              "#f0f921"
             ]
            ],
            "type": "surface"
           }
          ],
          "table": [
           {
            "cells": {
             "fill": {
              "color": "#EBF0F8"
             },
             "line": {
              "color": "white"
             }
            },
            "header": {
             "fill": {
              "color": "#C8D4E3"
             },
             "line": {
              "color": "white"
             }
            },
            "type": "table"
           }
          ]
         },
         "layout": {
          "annotationdefaults": {
           "arrowcolor": "#2a3f5f",
           "arrowhead": 0,
           "arrowwidth": 1
          },
          "coloraxis": {
           "colorbar": {
            "outlinewidth": 0,
            "ticks": ""
           }
          },
          "colorscale": {
           "diverging": [
            [
             0,
             "#8e0152"
            ],
            [
             0.1,
             "#c51b7d"
            ],
            [
             0.2,
             "#de77ae"
            ],
            [
             0.3,
             "#f1b6da"
            ],
            [
             0.4,
             "#fde0ef"
            ],
            [
             0.5,
             "#f7f7f7"
            ],
            [
             0.6,
             "#e6f5d0"
            ],
            [
             0.7,
             "#b8e186"
            ],
            [
             0.8,
             "#7fbc41"
            ],
            [
             0.9,
             "#4d9221"
            ],
            [
             1,
             "#276419"
            ]
           ],
           "sequential": [
            [
             0,
             "#0d0887"
            ],
            [
             0.1111111111111111,
             "#46039f"
            ],
            [
             0.2222222222222222,
             "#7201a8"
            ],
            [
             0.3333333333333333,
             "#9c179e"
            ],
            [
             0.4444444444444444,
             "#bd3786"
            ],
            [
             0.5555555555555556,
             "#d8576b"
            ],
            [
             0.6666666666666666,
             "#ed7953"
            ],
            [
             0.7777777777777778,
             "#fb9f3a"
            ],
            [
             0.8888888888888888,
             "#fdca26"
            ],
            [
             1,
             "#f0f921"
            ]
           ],
           "sequentialminus": [
            [
             0,
             "#0d0887"
            ],
            [
             0.1111111111111111,
             "#46039f"
            ],
            [
             0.2222222222222222,
             "#7201a8"
            ],
            [
             0.3333333333333333,
             "#9c179e"
            ],
            [
             0.4444444444444444,
             "#bd3786"
            ],
            [
             0.5555555555555556,
             "#d8576b"
            ],
            [
             0.6666666666666666,
             "#ed7953"
            ],
            [
             0.7777777777777778,
             "#fb9f3a"
            ],
            [
             0.8888888888888888,
             "#fdca26"
            ],
            [
             1,
             "#f0f921"
            ]
           ]
          },
          "colorway": [
           "#636efa",
           "#EF553B",
           "#00cc96",
           "#ab63fa",
           "#FFA15A",
           "#19d3f3",
           "#FF6692",
           "#B6E880",
           "#FF97FF",
           "#FECB52"
          ],
          "font": {
           "color": "#2a3f5f"
          },
          "geo": {
           "bgcolor": "white",
           "lakecolor": "white",
           "landcolor": "#E5ECF6",
           "showlakes": true,
           "showland": true,
           "subunitcolor": "white"
          },
          "hoverlabel": {
           "align": "left"
          },
          "hovermode": "closest",
          "mapbox": {
           "style": "light"
          },
          "paper_bgcolor": "white",
          "plot_bgcolor": "#E5ECF6",
          "polar": {
           "angularaxis": {
            "gridcolor": "white",
            "linecolor": "white",
            "ticks": ""
           },
           "bgcolor": "#E5ECF6",
           "radialaxis": {
            "gridcolor": "white",
            "linecolor": "white",
            "ticks": ""
           }
          },
          "scene": {
           "xaxis": {
            "backgroundcolor": "#E5ECF6",
            "gridcolor": "white",
            "gridwidth": 2,
            "linecolor": "white",
            "showbackground": true,
            "ticks": "",
            "zerolinecolor": "white"
           },
           "yaxis": {
            "backgroundcolor": "#E5ECF6",
            "gridcolor": "white",
            "gridwidth": 2,
            "linecolor": "white",
            "showbackground": true,
            "ticks": "",
            "zerolinecolor": "white"
           },
           "zaxis": {
            "backgroundcolor": "#E5ECF6",
            "gridcolor": "white",
            "gridwidth": 2,
            "linecolor": "white",
            "showbackground": true,
            "ticks": "",
            "zerolinecolor": "white"
           }
          },
          "shapedefaults": {
           "line": {
            "color": "#2a3f5f"
           }
          },
          "ternary": {
           "aaxis": {
            "gridcolor": "white",
            "linecolor": "white",
            "ticks": ""
           },
           "baxis": {
            "gridcolor": "white",
            "linecolor": "white",
            "ticks": ""
           },
           "bgcolor": "#E5ECF6",
           "caxis": {
            "gridcolor": "white",
            "linecolor": "white",
            "ticks": ""
           }
          },
          "title": {
           "x": 0.05
          },
          "xaxis": {
           "automargin": true,
           "gridcolor": "white",
           "linecolor": "white",
           "ticks": "",
           "title": {
            "standoff": 15
           },
           "zerolinecolor": "white",
           "zerolinewidth": 2
          },
          "yaxis": {
           "automargin": true,
           "gridcolor": "white",
           "linecolor": "white",
           "ticks": "",
           "title": {
            "standoff": 15
           },
           "zerolinecolor": "white",
           "zerolinewidth": 2
          }
         }
        },
        "xaxis": {
         "anchor": "y",
         "domain": [
          0,
          1
         ],
         "title": {
          "text": "Country Name"
         }
        },
        "yaxis": {
         "anchor": "x",
         "domain": [
          0,
          1
         ],
         "title": {
          "text": "Total recovery"
         }
        }
       }
      },
      "text/html": [
       "<div>\n",
       "        \n",
       "        \n",
       "            <div id=\"403f3f1e-9e18-4893-92a9-9e5650c625b5\" class=\"plotly-graph-div\" style=\"height:525px; width:100%;\"></div>\n",
       "            <script type=\"text/javascript\">\n",
       "                require([\"plotly\"], function(Plotly) {\n",
       "                    window.PLOTLYENV=window.PLOTLYENV || {};\n",
       "                    \n",
       "                if (document.getElementById(\"403f3f1e-9e18-4893-92a9-9e5650c625b5\")) {\n",
       "                    Plotly.newPlot(\n",
       "                        '403f3f1e-9e18-4893-92a9-9e5650c625b5',\n",
       "                        [{\"alignmentgroup\": \"True\", \"hovertemplate\": \"Country Name=%{x}<br>Total recovery=%{y}<extra></extra>\", \"legendgroup\": \"\", \"marker\": {\"color\": \"#636efa\"}, \"name\": \"\", \"offsetgroup\": \"\", \"orientation\": \"v\", \"showlegend\": false, \"textposition\": \"auto\", \"type\": \"bar\", \"x\": [\"USA\", \"Spain\", \"Italy\", \"UK\", \"France\", \"Germany\", \"Turkey\", \"Russia\", \"Iran\", \"Brazil\", \"China\", \"Canada\", \"Belgium\", \"Peru\", \"Netherlands\", \"India\", \"Switzerland\", \"Ecuador\", \"Saudi Arabia\", \"Portugal\", \"Sweden\", \"Ireland\", \"Mexico\", \"Pakistan\", \"Chile\", \"Singapore\", \"Israel\", \"Belarus\", \"Austria\", \"Qatar\", \"Japan\", \"UAE\", \"Poland\", \"Romania\", \"Ukraine\", \"Indonesia\", \"S. Korea\", \"Denmark\", \"Serbia\", \"Philippines\"], \"xaxis\": \"x\", \"y\": [170181, 146233, 79914, null, 50562, 129000, 58259, 15013, 77350, 38039, 77685, 23621, 12211, 12434, null, 10819, 24200, 2132, 3765, 1671, 1005, 13386, 12377, 4753, 9572, 1347, 9593, 3117, 13180, 1534, 2975, 2664, 3762, 4547, 1498, 1665, 9123, 6889, 1426, 1124], \"yaxis\": \"y\"}],\n",
       "                        {\"barmode\": \"relative\", \"legend\": {\"tracegroupgap\": 0}, \"margin\": {\"t\": 60}, \"template\": {\"data\": {\"bar\": [{\"error_x\": {\"color\": \"#2a3f5f\"}, \"error_y\": {\"color\": \"#2a3f5f\"}, \"marker\": {\"line\": {\"color\": \"#E5ECF6\", \"width\": 0.5}}, \"type\": \"bar\"}], \"barpolar\": [{\"marker\": {\"line\": {\"color\": \"#E5ECF6\", \"width\": 0.5}}, \"type\": \"barpolar\"}], \"carpet\": [{\"aaxis\": {\"endlinecolor\": \"#2a3f5f\", \"gridcolor\": \"white\", \"linecolor\": \"white\", \"minorgridcolor\": \"white\", \"startlinecolor\": \"#2a3f5f\"}, \"baxis\": {\"endlinecolor\": \"#2a3f5f\", \"gridcolor\": \"white\", \"linecolor\": \"white\", \"minorgridcolor\": \"white\", \"startlinecolor\": \"#2a3f5f\"}, \"type\": \"carpet\"}], \"choropleth\": [{\"colorbar\": {\"outlinewidth\": 0, \"ticks\": \"\"}, \"type\": \"choropleth\"}], \"contour\": [{\"colorbar\": {\"outlinewidth\": 0, \"ticks\": \"\"}, \"colorscale\": [[0.0, \"#0d0887\"], [0.1111111111111111, \"#46039f\"], [0.2222222222222222, \"#7201a8\"], [0.3333333333333333, \"#9c179e\"], [0.4444444444444444, \"#bd3786\"], [0.5555555555555556, \"#d8576b\"], [0.6666666666666666, \"#ed7953\"], [0.7777777777777778, \"#fb9f3a\"], [0.8888888888888888, \"#fdca26\"], [1.0, \"#f0f921\"]], \"type\": \"contour\"}], \"contourcarpet\": [{\"colorbar\": {\"outlinewidth\": 0, \"ticks\": \"\"}, \"type\": \"contourcarpet\"}], \"heatmap\": [{\"colorbar\": {\"outlinewidth\": 0, \"ticks\": \"\"}, \"colorscale\": [[0.0, \"#0d0887\"], [0.1111111111111111, \"#46039f\"], [0.2222222222222222, \"#7201a8\"], [0.3333333333333333, \"#9c179e\"], [0.4444444444444444, \"#bd3786\"], [0.5555555555555556, \"#d8576b\"], [0.6666666666666666, \"#ed7953\"], [0.7777777777777778, \"#fb9f3a\"], [0.8888888888888888, \"#fdca26\"], [1.0, \"#f0f921\"]], \"type\": \"heatmap\"}], \"heatmapgl\": [{\"colorbar\": {\"outlinewidth\": 0, \"ticks\": \"\"}, \"colorscale\": [[0.0, \"#0d0887\"], [0.1111111111111111, \"#46039f\"], [0.2222222222222222, \"#7201a8\"], [0.3333333333333333, \"#9c179e\"], [0.4444444444444444, \"#bd3786\"], [0.5555555555555556, \"#d8576b\"], [0.6666666666666666, \"#ed7953\"], [0.7777777777777778, \"#fb9f3a\"], [0.8888888888888888, \"#fdca26\"], [1.0, \"#f0f921\"]], \"type\": \"heatmapgl\"}], \"histogram\": [{\"marker\": {\"colorbar\": {\"outlinewidth\": 0, \"ticks\": \"\"}}, \"type\": \"histogram\"}], \"histogram2d\": [{\"colorbar\": {\"outlinewidth\": 0, \"ticks\": \"\"}, \"colorscale\": [[0.0, \"#0d0887\"], [0.1111111111111111, \"#46039f\"], [0.2222222222222222, \"#7201a8\"], [0.3333333333333333, \"#9c179e\"], [0.4444444444444444, \"#bd3786\"], [0.5555555555555556, \"#d8576b\"], [0.6666666666666666, \"#ed7953\"], [0.7777777777777778, \"#fb9f3a\"], [0.8888888888888888, \"#fdca26\"], [1.0, \"#f0f921\"]], \"type\": \"histogram2d\"}], \"histogram2dcontour\": [{\"colorbar\": {\"outlinewidth\": 0, \"ticks\": \"\"}, \"colorscale\": [[0.0, \"#0d0887\"], [0.1111111111111111, \"#46039f\"], [0.2222222222222222, \"#7201a8\"], [0.3333333333333333, \"#9c179e\"], [0.4444444444444444, \"#bd3786\"], [0.5555555555555556, \"#d8576b\"], [0.6666666666666666, \"#ed7953\"], [0.7777777777777778, \"#fb9f3a\"], [0.8888888888888888, \"#fdca26\"], [1.0, \"#f0f921\"]], \"type\": \"histogram2dcontour\"}], \"mesh3d\": [{\"colorbar\": {\"outlinewidth\": 0, \"ticks\": \"\"}, \"type\": \"mesh3d\"}], \"parcoords\": [{\"line\": {\"colorbar\": {\"outlinewidth\": 0, \"ticks\": \"\"}}, \"type\": \"parcoords\"}], \"pie\": [{\"automargin\": true, \"type\": \"pie\"}], \"scatter\": [{\"marker\": {\"colorbar\": {\"outlinewidth\": 0, \"ticks\": \"\"}}, \"type\": \"scatter\"}], \"scatter3d\": [{\"line\": {\"colorbar\": {\"outlinewidth\": 0, \"ticks\": \"\"}}, \"marker\": {\"colorbar\": {\"outlinewidth\": 0, \"ticks\": \"\"}}, \"type\": \"scatter3d\"}], \"scattercarpet\": [{\"marker\": {\"colorbar\": {\"outlinewidth\": 0, \"ticks\": \"\"}}, \"type\": \"scattercarpet\"}], \"scattergeo\": [{\"marker\": {\"colorbar\": {\"outlinewidth\": 0, \"ticks\": \"\"}}, \"type\": \"scattergeo\"}], \"scattergl\": [{\"marker\": {\"colorbar\": {\"outlinewidth\": 0, \"ticks\": \"\"}}, \"type\": \"scattergl\"}], \"scattermapbox\": [{\"marker\": {\"colorbar\": {\"outlinewidth\": 0, \"ticks\": \"\"}}, \"type\": \"scattermapbox\"}], \"scatterpolar\": [{\"marker\": {\"colorbar\": {\"outlinewidth\": 0, \"ticks\": \"\"}}, \"type\": \"scatterpolar\"}], \"scatterpolargl\": [{\"marker\": {\"colorbar\": {\"outlinewidth\": 0, \"ticks\": \"\"}}, \"type\": \"scatterpolargl\"}], \"scatterternary\": [{\"marker\": {\"colorbar\": {\"outlinewidth\": 0, \"ticks\": \"\"}}, \"type\": \"scatterternary\"}], \"surface\": [{\"colorbar\": {\"outlinewidth\": 0, \"ticks\": \"\"}, \"colorscale\": [[0.0, \"#0d0887\"], [0.1111111111111111, \"#46039f\"], [0.2222222222222222, \"#7201a8\"], [0.3333333333333333, \"#9c179e\"], [0.4444444444444444, \"#bd3786\"], [0.5555555555555556, \"#d8576b\"], [0.6666666666666666, \"#ed7953\"], [0.7777777777777778, \"#fb9f3a\"], [0.8888888888888888, \"#fdca26\"], [1.0, \"#f0f921\"]], \"type\": \"surface\"}], \"table\": [{\"cells\": {\"fill\": {\"color\": \"#EBF0F8\"}, \"line\": {\"color\": \"white\"}}, \"header\": {\"fill\": {\"color\": \"#C8D4E3\"}, \"line\": {\"color\": \"white\"}}, \"type\": \"table\"}]}, \"layout\": {\"annotationdefaults\": {\"arrowcolor\": \"#2a3f5f\", \"arrowhead\": 0, \"arrowwidth\": 1}, \"coloraxis\": {\"colorbar\": {\"outlinewidth\": 0, \"ticks\": \"\"}}, \"colorscale\": {\"diverging\": [[0, \"#8e0152\"], [0.1, \"#c51b7d\"], [0.2, \"#de77ae\"], [0.3, \"#f1b6da\"], [0.4, \"#fde0ef\"], [0.5, \"#f7f7f7\"], [0.6, \"#e6f5d0\"], [0.7, \"#b8e186\"], [0.8, \"#7fbc41\"], [0.9, \"#4d9221\"], [1, \"#276419\"]], \"sequential\": [[0.0, \"#0d0887\"], [0.1111111111111111, \"#46039f\"], [0.2222222222222222, \"#7201a8\"], [0.3333333333333333, \"#9c179e\"], [0.4444444444444444, \"#bd3786\"], [0.5555555555555556, \"#d8576b\"], [0.6666666666666666, \"#ed7953\"], [0.7777777777777778, \"#fb9f3a\"], [0.8888888888888888, \"#fdca26\"], [1.0, \"#f0f921\"]], \"sequentialminus\": [[0.0, \"#0d0887\"], [0.1111111111111111, \"#46039f\"], [0.2222222222222222, \"#7201a8\"], [0.3333333333333333, \"#9c179e\"], [0.4444444444444444, \"#bd3786\"], [0.5555555555555556, \"#d8576b\"], [0.6666666666666666, \"#ed7953\"], [0.7777777777777778, \"#fb9f3a\"], [0.8888888888888888, \"#fdca26\"], [1.0, \"#f0f921\"]]}, \"colorway\": [\"#636efa\", \"#EF553B\", \"#00cc96\", \"#ab63fa\", \"#FFA15A\", \"#19d3f3\", \"#FF6692\", \"#B6E880\", \"#FF97FF\", \"#FECB52\"], \"font\": {\"color\": \"#2a3f5f\"}, \"geo\": {\"bgcolor\": \"white\", \"lakecolor\": \"white\", \"landcolor\": \"#E5ECF6\", \"showlakes\": true, \"showland\": true, \"subunitcolor\": \"white\"}, \"hoverlabel\": {\"align\": \"left\"}, \"hovermode\": \"closest\", \"mapbox\": {\"style\": \"light\"}, \"paper_bgcolor\": \"white\", \"plot_bgcolor\": \"#E5ECF6\", \"polar\": {\"angularaxis\": {\"gridcolor\": \"white\", \"linecolor\": \"white\", \"ticks\": \"\"}, \"bgcolor\": \"#E5ECF6\", \"radialaxis\": {\"gridcolor\": \"white\", \"linecolor\": \"white\", \"ticks\": \"\"}}, \"scene\": {\"xaxis\": {\"backgroundcolor\": \"#E5ECF6\", \"gridcolor\": \"white\", \"gridwidth\": 2, \"linecolor\": \"white\", \"showbackground\": true, \"ticks\": \"\", \"zerolinecolor\": \"white\"}, \"yaxis\": {\"backgroundcolor\": \"#E5ECF6\", \"gridcolor\": \"white\", \"gridwidth\": 2, \"linecolor\": \"white\", \"showbackground\": true, \"ticks\": \"\", \"zerolinecolor\": \"white\"}, \"zaxis\": {\"backgroundcolor\": \"#E5ECF6\", \"gridcolor\": \"white\", \"gridwidth\": 2, \"linecolor\": \"white\", \"showbackground\": true, \"ticks\": \"\", \"zerolinecolor\": \"white\"}}, \"shapedefaults\": {\"line\": {\"color\": \"#2a3f5f\"}}, \"ternary\": {\"aaxis\": {\"gridcolor\": \"white\", \"linecolor\": \"white\", \"ticks\": \"\"}, \"baxis\": {\"gridcolor\": \"white\", \"linecolor\": \"white\", \"ticks\": \"\"}, \"bgcolor\": \"#E5ECF6\", \"caxis\": {\"gridcolor\": \"white\", \"linecolor\": \"white\", \"ticks\": \"\"}}, \"title\": {\"x\": 0.05}, \"xaxis\": {\"automargin\": true, \"gridcolor\": \"white\", \"linecolor\": \"white\", \"ticks\": \"\", \"title\": {\"standoff\": 15}, \"zerolinecolor\": \"white\", \"zerolinewidth\": 2}, \"yaxis\": {\"automargin\": true, \"gridcolor\": \"white\", \"linecolor\": \"white\", \"ticks\": \"\", \"title\": {\"standoff\": 15}, \"zerolinecolor\": \"white\", \"zerolinewidth\": 2}}}, \"xaxis\": {\"anchor\": \"y\", \"domain\": [0.0, 1.0], \"title\": {\"text\": \"Country Name\"}}, \"yaxis\": {\"anchor\": \"x\", \"domain\": [0.0, 1.0], \"title\": {\"text\": \"Total recovery\"}}},\n",
       "                        {\"responsive\": true}\n",
       "                    ).then(function(){\n",
       "                            \n",
       "var gd = document.getElementById('403f3f1e-9e18-4893-92a9-9e5650c625b5');\n",
       "var x = new MutationObserver(function (mutations, observer) {{\n",
       "        var display = window.getComputedStyle(gd).display;\n",
       "        if (!display || display === 'none') {{\n",
       "            console.log([gd, 'removed!']);\n",
       "            Plotly.purge(gd);\n",
       "            observer.disconnect();\n",
       "        }}\n",
       "}});\n",
       "\n",
       "// Listen for the removal of the full notebook cells\n",
       "var notebookContainer = gd.closest('#notebook-container');\n",
       "if (notebookContainer) {{\n",
       "    x.observe(notebookContainer, {childList: true});\n",
       "}}\n",
       "\n",
       "// Listen for the clearing of the current output cell\n",
       "var outputEl = gd.closest('.output');\n",
       "if (outputEl) {{\n",
       "    x.observe(outputEl, {childList: true});\n",
       "}}\n",
       "\n",
       "                        })\n",
       "                };\n",
       "                });\n",
       "            </script>\n",
       "        </div>"
      ]
     },
     "metadata": {},
     "output_type": "display_data"
    }
   ],
   "source": [
    "px.bar(df,x='Country Name',y='Total recovery')"
   ]
  },
  {
   "cell_type": "code",
   "execution_count": 36,
   "metadata": {},
   "outputs": [
    {
     "data": {
      "application/vnd.plotly.v1+json": {
       "config": {
        "plotlyServerURL": "https://plot.ly"
       },
       "data": [
        {
         "alignmentgroup": "True",
         "hovertemplate": "Country Name=%{x}<br>Active Cases=%{y}<extra></extra>",
         "legendgroup": "",
         "marker": {
          "color": "#636efa"
         },
         "name": "",
         "offsetgroup": "",
         "orientation": "v",
         "showlegend": false,
         "textposition": "auto",
         "type": "bar",
         "x": [
          "USA",
          "Spain",
          "Italy",
          "UK",
          "France",
          "Germany",
          "Turkey",
          "Russia",
          "Iran",
          "Brazil",
          "China",
          "Canada",
          "Belgium",
          "Peru",
          "Netherlands",
          "India",
          "Switzerland",
          "Ecuador",
          "Saudi Arabia",
          "Portugal",
          "Sweden",
          "Ireland",
          "Mexico",
          "Pakistan",
          "Chile",
          "Singapore",
          "Israel",
          "Belarus",
          "Austria",
          "Qatar",
          "Japan",
          "UAE",
          "Poland",
          "Romania",
          "Ukraine",
          "Indonesia",
          "S. Korea",
          "Denmark",
          "Serbia",
          "Philippines"
         ],
         "xaxis": "x",
         "y": [
          940206,
          76546,
          102130,
          null,
          93958,
          29497,
          64685,
          117389,
          13679,
          49010,
          558,
          30803,
          29964,
          30899,
          null,
          29899,
          3959,
          24781,
          22873,
          22683,
          18954,
          6826,
          7792,
          14724,
          10030,
          16630,
          6443,
          13521,
          1802,
          14102,
          10875,
          11369,
          9206,
          7552,
          10177,
          8608,
          1411,
          2124,
          7900,
          7333
         ],
         "yaxis": "y"
        }
       ],
       "layout": {
        "barmode": "relative",
        "legend": {
         "tracegroupgap": 0
        },
        "margin": {
         "t": 60
        },
        "template": {
         "data": {
          "bar": [
           {
            "error_x": {
             "color": "#2a3f5f"
            },
            "error_y": {
             "color": "#2a3f5f"
            },
            "marker": {
             "line": {
              "color": "#E5ECF6",
              "width": 0.5
             }
            },
            "type": "bar"
           }
          ],
          "barpolar": [
           {
            "marker": {
             "line": {
              "color": "#E5ECF6",
              "width": 0.5
             }
            },
            "type": "barpolar"
           }
          ],
          "carpet": [
           {
            "aaxis": {
             "endlinecolor": "#2a3f5f",
             "gridcolor": "white",
             "linecolor": "white",
             "minorgridcolor": "white",
             "startlinecolor": "#2a3f5f"
            },
            "baxis": {
             "endlinecolor": "#2a3f5f",
             "gridcolor": "white",
             "linecolor": "white",
             "minorgridcolor": "white",
             "startlinecolor": "#2a3f5f"
            },
            "type": "carpet"
           }
          ],
          "choropleth": [
           {
            "colorbar": {
             "outlinewidth": 0,
             "ticks": ""
            },
            "type": "choropleth"
           }
          ],
          "contour": [
           {
            "colorbar": {
             "outlinewidth": 0,
             "ticks": ""
            },
            "colorscale": [
             [
              0,
              "#0d0887"
             ],
             [
              0.1111111111111111,
              "#46039f"
             ],
             [
              0.2222222222222222,
              "#7201a8"
             ],
             [
              0.3333333333333333,
              "#9c179e"
             ],
             [
              0.4444444444444444,
              "#bd3786"
             ],
             [
              0.5555555555555556,
              "#d8576b"
             ],
             [
              0.6666666666666666,
              "#ed7953"
             ],
             [
              0.7777777777777778,
              "#fb9f3a"
             ],
             [
              0.8888888888888888,
              "#fdca26"
             ],
             [
              1,
              "#f0f921"
             ]
            ],
            "type": "contour"
           }
          ],
          "contourcarpet": [
           {
            "colorbar": {
             "outlinewidth": 0,
             "ticks": ""
            },
            "type": "contourcarpet"
           }
          ],
          "heatmap": [
           {
            "colorbar": {
             "outlinewidth": 0,
             "ticks": ""
            },
            "colorscale": [
             [
              0,
              "#0d0887"
             ],
             [
              0.1111111111111111,
              "#46039f"
             ],
             [
              0.2222222222222222,
              "#7201a8"
             ],
             [
              0.3333333333333333,
              "#9c179e"
             ],
             [
              0.4444444444444444,
              "#bd3786"
             ],
             [
              0.5555555555555556,
              "#d8576b"
             ],
             [
              0.6666666666666666,
              "#ed7953"
             ],
             [
              0.7777777777777778,
              "#fb9f3a"
             ],
             [
              0.8888888888888888,
              "#fdca26"
             ],
             [
              1,
              "#f0f921"
             ]
            ],
            "type": "heatmap"
           }
          ],
          "heatmapgl": [
           {
            "colorbar": {
             "outlinewidth": 0,
             "ticks": ""
            },
            "colorscale": [
             [
              0,
              "#0d0887"
             ],
             [
              0.1111111111111111,
              "#46039f"
             ],
             [
              0.2222222222222222,
              "#7201a8"
             ],
             [
              0.3333333333333333,
              "#9c179e"
             ],
             [
              0.4444444444444444,
              "#bd3786"
             ],
             [
              0.5555555555555556,
              "#d8576b"
             ],
             [
              0.6666666666666666,
              "#ed7953"
             ],
             [
              0.7777777777777778,
              "#fb9f3a"
             ],
             [
              0.8888888888888888,
              "#fdca26"
             ],
             [
              1,
              "#f0f921"
             ]
            ],
            "type": "heatmapgl"
           }
          ],
          "histogram": [
           {
            "marker": {
             "colorbar": {
              "outlinewidth": 0,
              "ticks": ""
             }
            },
            "type": "histogram"
           }
          ],
          "histogram2d": [
           {
            "colorbar": {
             "outlinewidth": 0,
             "ticks": ""
            },
            "colorscale": [
             [
              0,
              "#0d0887"
             ],
             [
              0.1111111111111111,
              "#46039f"
             ],
             [
              0.2222222222222222,
              "#7201a8"
             ],
             [
              0.3333333333333333,
              "#9c179e"
             ],
             [
              0.4444444444444444,
              "#bd3786"
             ],
             [
              0.5555555555555556,
              "#d8576b"
             ],
             [
              0.6666666666666666,
              "#ed7953"
             ],
             [
              0.7777777777777778,
              "#fb9f3a"
             ],
             [
              0.8888888888888888,
              "#fdca26"
             ],
             [
              1,
              "#f0f921"
             ]
            ],
            "type": "histogram2d"
           }
          ],
          "histogram2dcontour": [
           {
            "colorbar": {
             "outlinewidth": 0,
             "ticks": ""
            },
            "colorscale": [
             [
              0,
              "#0d0887"
             ],
             [
              0.1111111111111111,
              "#46039f"
             ],
             [
              0.2222222222222222,
              "#7201a8"
             ],
             [
              0.3333333333333333,
              "#9c179e"
             ],
             [
              0.4444444444444444,
              "#bd3786"
             ],
             [
              0.5555555555555556,
              "#d8576b"
             ],
             [
              0.6666666666666666,
              "#ed7953"
             ],
             [
              0.7777777777777778,
              "#fb9f3a"
             ],
             [
              0.8888888888888888,
              "#fdca26"
             ],
             [
              1,
              "#f0f921"
             ]
            ],
            "type": "histogram2dcontour"
           }
          ],
          "mesh3d": [
           {
            "colorbar": {
             "outlinewidth": 0,
             "ticks": ""
            },
            "type": "mesh3d"
           }
          ],
          "parcoords": [
           {
            "line": {
             "colorbar": {
              "outlinewidth": 0,
              "ticks": ""
             }
            },
            "type": "parcoords"
           }
          ],
          "pie": [
           {
            "automargin": true,
            "type": "pie"
           }
          ],
          "scatter": [
           {
            "marker": {
             "colorbar": {
              "outlinewidth": 0,
              "ticks": ""
             }
            },
            "type": "scatter"
           }
          ],
          "scatter3d": [
           {
            "line": {
             "colorbar": {
              "outlinewidth": 0,
              "ticks": ""
             }
            },
            "marker": {
             "colorbar": {
              "outlinewidth": 0,
              "ticks": ""
             }
            },
            "type": "scatter3d"
           }
          ],
          "scattercarpet": [
           {
            "marker": {
             "colorbar": {
              "outlinewidth": 0,
              "ticks": ""
             }
            },
            "type": "scattercarpet"
           }
          ],
          "scattergeo": [
           {
            "marker": {
             "colorbar": {
              "outlinewidth": 0,
              "ticks": ""
             }
            },
            "type": "scattergeo"
           }
          ],
          "scattergl": [
           {
            "marker": {
             "colorbar": {
              "outlinewidth": 0,
              "ticks": ""
             }
            },
            "type": "scattergl"
           }
          ],
          "scattermapbox": [
           {
            "marker": {
             "colorbar": {
              "outlinewidth": 0,
              "ticks": ""
             }
            },
            "type": "scattermapbox"
           }
          ],
          "scatterpolar": [
           {
            "marker": {
             "colorbar": {
              "outlinewidth": 0,
              "ticks": ""
             }
            },
            "type": "scatterpolar"
           }
          ],
          "scatterpolargl": [
           {
            "marker": {
             "colorbar": {
              "outlinewidth": 0,
              "ticks": ""
             }
            },
            "type": "scatterpolargl"
           }
          ],
          "scatterternary": [
           {
            "marker": {
             "colorbar": {
              "outlinewidth": 0,
              "ticks": ""
             }
            },
            "type": "scatterternary"
           }
          ],
          "surface": [
           {
            "colorbar": {
             "outlinewidth": 0,
             "ticks": ""
            },
            "colorscale": [
             [
              0,
              "#0d0887"
             ],
             [
              0.1111111111111111,
              "#46039f"
             ],
             [
              0.2222222222222222,
              "#7201a8"
             ],
             [
              0.3333333333333333,
              "#9c179e"
             ],
             [
              0.4444444444444444,
              "#bd3786"
             ],
             [
              0.5555555555555556,
              "#d8576b"
             ],
             [
              0.6666666666666666,
              "#ed7953"
             ],
             [
              0.7777777777777778,
              "#fb9f3a"
             ],
             [
              0.8888888888888888,
              "#fdca26"
             ],
             [
              1,
              "#f0f921"
             ]
            ],
            "type": "surface"
           }
          ],
          "table": [
           {
            "cells": {
             "fill": {
              "color": "#EBF0F8"
             },
             "line": {
              "color": "white"
             }
            },
            "header": {
             "fill": {
              "color": "#C8D4E3"
             },
             "line": {
              "color": "white"
             }
            },
            "type": "table"
           }
          ]
         },
         "layout": {
          "annotationdefaults": {
           "arrowcolor": "#2a3f5f",
           "arrowhead": 0,
           "arrowwidth": 1
          },
          "coloraxis": {
           "colorbar": {
            "outlinewidth": 0,
            "ticks": ""
           }
          },
          "colorscale": {
           "diverging": [
            [
             0,
             "#8e0152"
            ],
            [
             0.1,
             "#c51b7d"
            ],
            [
             0.2,
             "#de77ae"
            ],
            [
             0.3,
             "#f1b6da"
            ],
            [
             0.4,
             "#fde0ef"
            ],
            [
             0.5,
             "#f7f7f7"
            ],
            [
             0.6,
             "#e6f5d0"
            ],
            [
             0.7,
             "#b8e186"
            ],
            [
             0.8,
             "#7fbc41"
            ],
            [
             0.9,
             "#4d9221"
            ],
            [
             1,
             "#276419"
            ]
           ],
           "sequential": [
            [
             0,
             "#0d0887"
            ],
            [
             0.1111111111111111,
             "#46039f"
            ],
            [
             0.2222222222222222,
             "#7201a8"
            ],
            [
             0.3333333333333333,
             "#9c179e"
            ],
            [
             0.4444444444444444,
             "#bd3786"
            ],
            [
             0.5555555555555556,
             "#d8576b"
            ],
            [
             0.6666666666666666,
             "#ed7953"
            ],
            [
             0.7777777777777778,
             "#fb9f3a"
            ],
            [
             0.8888888888888888,
             "#fdca26"
            ],
            [
             1,
             "#f0f921"
            ]
           ],
           "sequentialminus": [
            [
             0,
             "#0d0887"
            ],
            [
             0.1111111111111111,
             "#46039f"
            ],
            [
             0.2222222222222222,
             "#7201a8"
            ],
            [
             0.3333333333333333,
             "#9c179e"
            ],
            [
             0.4444444444444444,
             "#bd3786"
            ],
            [
             0.5555555555555556,
             "#d8576b"
            ],
            [
             0.6666666666666666,
             "#ed7953"
            ],
            [
             0.7777777777777778,
             "#fb9f3a"
            ],
            [
             0.8888888888888888,
             "#fdca26"
            ],
            [
             1,
             "#f0f921"
            ]
           ]
          },
          "colorway": [
           "#636efa",
           "#EF553B",
           "#00cc96",
           "#ab63fa",
           "#FFA15A",
           "#19d3f3",
           "#FF6692",
           "#B6E880",
           "#FF97FF",
           "#FECB52"
          ],
          "font": {
           "color": "#2a3f5f"
          },
          "geo": {
           "bgcolor": "white",
           "lakecolor": "white",
           "landcolor": "#E5ECF6",
           "showlakes": true,
           "showland": true,
           "subunitcolor": "white"
          },
          "hoverlabel": {
           "align": "left"
          },
          "hovermode": "closest",
          "mapbox": {
           "style": "light"
          },
          "paper_bgcolor": "white",
          "plot_bgcolor": "#E5ECF6",
          "polar": {
           "angularaxis": {
            "gridcolor": "white",
            "linecolor": "white",
            "ticks": ""
           },
           "bgcolor": "#E5ECF6",
           "radialaxis": {
            "gridcolor": "white",
            "linecolor": "white",
            "ticks": ""
           }
          },
          "scene": {
           "xaxis": {
            "backgroundcolor": "#E5ECF6",
            "gridcolor": "white",
            "gridwidth": 2,
            "linecolor": "white",
            "showbackground": true,
            "ticks": "",
            "zerolinecolor": "white"
           },
           "yaxis": {
            "backgroundcolor": "#E5ECF6",
            "gridcolor": "white",
            "gridwidth": 2,
            "linecolor": "white",
            "showbackground": true,
            "ticks": "",
            "zerolinecolor": "white"
           },
           "zaxis": {
            "backgroundcolor": "#E5ECF6",
            "gridcolor": "white",
            "gridwidth": 2,
            "linecolor": "white",
            "showbackground": true,
            "ticks": "",
            "zerolinecolor": "white"
           }
          },
          "shapedefaults": {
           "line": {
            "color": "#2a3f5f"
           }
          },
          "ternary": {
           "aaxis": {
            "gridcolor": "white",
            "linecolor": "white",
            "ticks": ""
           },
           "baxis": {
            "gridcolor": "white",
            "linecolor": "white",
            "ticks": ""
           },
           "bgcolor": "#E5ECF6",
           "caxis": {
            "gridcolor": "white",
            "linecolor": "white",
            "ticks": ""
           }
          },
          "title": {
           "x": 0.05
          },
          "xaxis": {
           "automargin": true,
           "gridcolor": "white",
           "linecolor": "white",
           "ticks": "",
           "title": {
            "standoff": 15
           },
           "zerolinecolor": "white",
           "zerolinewidth": 2
          },
          "yaxis": {
           "automargin": true,
           "gridcolor": "white",
           "linecolor": "white",
           "ticks": "",
           "title": {
            "standoff": 15
           },
           "zerolinecolor": "white",
           "zerolinewidth": 2
          }
         }
        },
        "xaxis": {
         "anchor": "y",
         "domain": [
          0,
          1
         ],
         "title": {
          "text": "Country Name"
         }
        },
        "yaxis": {
         "anchor": "x",
         "domain": [
          0,
          1
         ],
         "title": {
          "text": "Active Cases"
         }
        }
       }
      },
      "text/html": [
       "<div>\n",
       "        \n",
       "        \n",
       "            <div id=\"e5f67e6a-64a5-445e-bc2b-52e7269d2b71\" class=\"plotly-graph-div\" style=\"height:525px; width:100%;\"></div>\n",
       "            <script type=\"text/javascript\">\n",
       "                require([\"plotly\"], function(Plotly) {\n",
       "                    window.PLOTLYENV=window.PLOTLYENV || {};\n",
       "                    \n",
       "                if (document.getElementById(\"e5f67e6a-64a5-445e-bc2b-52e7269d2b71\")) {\n",
       "                    Plotly.newPlot(\n",
       "                        'e5f67e6a-64a5-445e-bc2b-52e7269d2b71',\n",
       "                        [{\"alignmentgroup\": \"True\", \"hovertemplate\": \"Country Name=%{x}<br>Active Cases=%{y}<extra></extra>\", \"legendgroup\": \"\", \"marker\": {\"color\": \"#636efa\"}, \"name\": \"\", \"offsetgroup\": \"\", \"orientation\": \"v\", \"showlegend\": false, \"textposition\": \"auto\", \"type\": \"bar\", \"x\": [\"USA\", \"Spain\", \"Italy\", \"UK\", \"France\", \"Germany\", \"Turkey\", \"Russia\", \"Iran\", \"Brazil\", \"China\", \"Canada\", \"Belgium\", \"Peru\", \"Netherlands\", \"India\", \"Switzerland\", \"Ecuador\", \"Saudi Arabia\", \"Portugal\", \"Sweden\", \"Ireland\", \"Mexico\", \"Pakistan\", \"Chile\", \"Singapore\", \"Israel\", \"Belarus\", \"Austria\", \"Qatar\", \"Japan\", \"UAE\", \"Poland\", \"Romania\", \"Ukraine\", \"Indonesia\", \"S. Korea\", \"Denmark\", \"Serbia\", \"Philippines\"], \"xaxis\": \"x\", \"y\": [940206, 76546, 102130, null, 93958, 29497, 64685, 117389, 13679, 49010, 558, 30803, 29964, 30899, null, 29899, 3959, 24781, 22873, 22683, 18954, 6826, 7792, 14724, 10030, 16630, 6443, 13521, 1802, 14102, 10875, 11369, 9206, 7552, 10177, 8608, 1411, 2124, 7900, 7333], \"yaxis\": \"y\"}],\n",
       "                        {\"barmode\": \"relative\", \"legend\": {\"tracegroupgap\": 0}, \"margin\": {\"t\": 60}, \"template\": {\"data\": {\"bar\": [{\"error_x\": {\"color\": \"#2a3f5f\"}, \"error_y\": {\"color\": \"#2a3f5f\"}, \"marker\": {\"line\": {\"color\": \"#E5ECF6\", \"width\": 0.5}}, \"type\": \"bar\"}], \"barpolar\": [{\"marker\": {\"line\": {\"color\": \"#E5ECF6\", \"width\": 0.5}}, \"type\": \"barpolar\"}], \"carpet\": [{\"aaxis\": {\"endlinecolor\": \"#2a3f5f\", \"gridcolor\": \"white\", \"linecolor\": \"white\", \"minorgridcolor\": \"white\", \"startlinecolor\": \"#2a3f5f\"}, \"baxis\": {\"endlinecolor\": \"#2a3f5f\", \"gridcolor\": \"white\", \"linecolor\": \"white\", \"minorgridcolor\": \"white\", \"startlinecolor\": \"#2a3f5f\"}, \"type\": \"carpet\"}], \"choropleth\": [{\"colorbar\": {\"outlinewidth\": 0, \"ticks\": \"\"}, \"type\": \"choropleth\"}], \"contour\": [{\"colorbar\": {\"outlinewidth\": 0, \"ticks\": \"\"}, \"colorscale\": [[0.0, \"#0d0887\"], [0.1111111111111111, \"#46039f\"], [0.2222222222222222, \"#7201a8\"], [0.3333333333333333, \"#9c179e\"], [0.4444444444444444, \"#bd3786\"], [0.5555555555555556, \"#d8576b\"], [0.6666666666666666, \"#ed7953\"], [0.7777777777777778, \"#fb9f3a\"], [0.8888888888888888, \"#fdca26\"], [1.0, \"#f0f921\"]], \"type\": \"contour\"}], \"contourcarpet\": [{\"colorbar\": {\"outlinewidth\": 0, \"ticks\": \"\"}, \"type\": \"contourcarpet\"}], \"heatmap\": [{\"colorbar\": {\"outlinewidth\": 0, \"ticks\": \"\"}, \"colorscale\": [[0.0, \"#0d0887\"], [0.1111111111111111, \"#46039f\"], [0.2222222222222222, \"#7201a8\"], [0.3333333333333333, \"#9c179e\"], [0.4444444444444444, \"#bd3786\"], [0.5555555555555556, \"#d8576b\"], [0.6666666666666666, \"#ed7953\"], [0.7777777777777778, \"#fb9f3a\"], [0.8888888888888888, \"#fdca26\"], [1.0, \"#f0f921\"]], \"type\": \"heatmap\"}], \"heatmapgl\": [{\"colorbar\": {\"outlinewidth\": 0, \"ticks\": \"\"}, \"colorscale\": [[0.0, \"#0d0887\"], [0.1111111111111111, \"#46039f\"], [0.2222222222222222, \"#7201a8\"], [0.3333333333333333, \"#9c179e\"], [0.4444444444444444, \"#bd3786\"], [0.5555555555555556, \"#d8576b\"], [0.6666666666666666, \"#ed7953\"], [0.7777777777777778, \"#fb9f3a\"], [0.8888888888888888, \"#fdca26\"], [1.0, \"#f0f921\"]], \"type\": \"heatmapgl\"}], \"histogram\": [{\"marker\": {\"colorbar\": {\"outlinewidth\": 0, \"ticks\": \"\"}}, \"type\": \"histogram\"}], \"histogram2d\": [{\"colorbar\": {\"outlinewidth\": 0, \"ticks\": \"\"}, \"colorscale\": [[0.0, \"#0d0887\"], [0.1111111111111111, \"#46039f\"], [0.2222222222222222, \"#7201a8\"], [0.3333333333333333, \"#9c179e\"], [0.4444444444444444, \"#bd3786\"], [0.5555555555555556, \"#d8576b\"], [0.6666666666666666, \"#ed7953\"], [0.7777777777777778, \"#fb9f3a\"], [0.8888888888888888, \"#fdca26\"], [1.0, \"#f0f921\"]], \"type\": \"histogram2d\"}], \"histogram2dcontour\": [{\"colorbar\": {\"outlinewidth\": 0, \"ticks\": \"\"}, \"colorscale\": [[0.0, \"#0d0887\"], [0.1111111111111111, \"#46039f\"], [0.2222222222222222, \"#7201a8\"], [0.3333333333333333, \"#9c179e\"], [0.4444444444444444, \"#bd3786\"], [0.5555555555555556, \"#d8576b\"], [0.6666666666666666, \"#ed7953\"], [0.7777777777777778, \"#fb9f3a\"], [0.8888888888888888, \"#fdca26\"], [1.0, \"#f0f921\"]], \"type\": \"histogram2dcontour\"}], \"mesh3d\": [{\"colorbar\": {\"outlinewidth\": 0, \"ticks\": \"\"}, \"type\": \"mesh3d\"}], \"parcoords\": [{\"line\": {\"colorbar\": {\"outlinewidth\": 0, \"ticks\": \"\"}}, \"type\": \"parcoords\"}], \"pie\": [{\"automargin\": true, \"type\": \"pie\"}], \"scatter\": [{\"marker\": {\"colorbar\": {\"outlinewidth\": 0, \"ticks\": \"\"}}, \"type\": \"scatter\"}], \"scatter3d\": [{\"line\": {\"colorbar\": {\"outlinewidth\": 0, \"ticks\": \"\"}}, \"marker\": {\"colorbar\": {\"outlinewidth\": 0, \"ticks\": \"\"}}, \"type\": \"scatter3d\"}], \"scattercarpet\": [{\"marker\": {\"colorbar\": {\"outlinewidth\": 0, \"ticks\": \"\"}}, \"type\": \"scattercarpet\"}], \"scattergeo\": [{\"marker\": {\"colorbar\": {\"outlinewidth\": 0, \"ticks\": \"\"}}, \"type\": \"scattergeo\"}], \"scattergl\": [{\"marker\": {\"colorbar\": {\"outlinewidth\": 0, \"ticks\": \"\"}}, \"type\": \"scattergl\"}], \"scattermapbox\": [{\"marker\": {\"colorbar\": {\"outlinewidth\": 0, \"ticks\": \"\"}}, \"type\": \"scattermapbox\"}], \"scatterpolar\": [{\"marker\": {\"colorbar\": {\"outlinewidth\": 0, \"ticks\": \"\"}}, \"type\": \"scatterpolar\"}], \"scatterpolargl\": [{\"marker\": {\"colorbar\": {\"outlinewidth\": 0, \"ticks\": \"\"}}, \"type\": \"scatterpolargl\"}], \"scatterternary\": [{\"marker\": {\"colorbar\": {\"outlinewidth\": 0, \"ticks\": \"\"}}, \"type\": \"scatterternary\"}], \"surface\": [{\"colorbar\": {\"outlinewidth\": 0, \"ticks\": \"\"}, \"colorscale\": [[0.0, \"#0d0887\"], [0.1111111111111111, \"#46039f\"], [0.2222222222222222, \"#7201a8\"], [0.3333333333333333, \"#9c179e\"], [0.4444444444444444, \"#bd3786\"], [0.5555555555555556, \"#d8576b\"], [0.6666666666666666, \"#ed7953\"], [0.7777777777777778, \"#fb9f3a\"], [0.8888888888888888, \"#fdca26\"], [1.0, \"#f0f921\"]], \"type\": \"surface\"}], \"table\": [{\"cells\": {\"fill\": {\"color\": \"#EBF0F8\"}, \"line\": {\"color\": \"white\"}}, \"header\": {\"fill\": {\"color\": \"#C8D4E3\"}, \"line\": {\"color\": \"white\"}}, \"type\": \"table\"}]}, \"layout\": {\"annotationdefaults\": {\"arrowcolor\": \"#2a3f5f\", \"arrowhead\": 0, \"arrowwidth\": 1}, \"coloraxis\": {\"colorbar\": {\"outlinewidth\": 0, \"ticks\": \"\"}}, \"colorscale\": {\"diverging\": [[0, \"#8e0152\"], [0.1, \"#c51b7d\"], [0.2, \"#de77ae\"], [0.3, \"#f1b6da\"], [0.4, \"#fde0ef\"], [0.5, \"#f7f7f7\"], [0.6, \"#e6f5d0\"], [0.7, \"#b8e186\"], [0.8, \"#7fbc41\"], [0.9, \"#4d9221\"], [1, \"#276419\"]], \"sequential\": [[0.0, \"#0d0887\"], [0.1111111111111111, \"#46039f\"], [0.2222222222222222, \"#7201a8\"], [0.3333333333333333, \"#9c179e\"], [0.4444444444444444, \"#bd3786\"], [0.5555555555555556, \"#d8576b\"], [0.6666666666666666, \"#ed7953\"], [0.7777777777777778, \"#fb9f3a\"], [0.8888888888888888, \"#fdca26\"], [1.0, \"#f0f921\"]], \"sequentialminus\": [[0.0, \"#0d0887\"], [0.1111111111111111, \"#46039f\"], [0.2222222222222222, \"#7201a8\"], [0.3333333333333333, \"#9c179e\"], [0.4444444444444444, \"#bd3786\"], [0.5555555555555556, \"#d8576b\"], [0.6666666666666666, \"#ed7953\"], [0.7777777777777778, \"#fb9f3a\"], [0.8888888888888888, \"#fdca26\"], [1.0, \"#f0f921\"]]}, \"colorway\": [\"#636efa\", \"#EF553B\", \"#00cc96\", \"#ab63fa\", \"#FFA15A\", \"#19d3f3\", \"#FF6692\", \"#B6E880\", \"#FF97FF\", \"#FECB52\"], \"font\": {\"color\": \"#2a3f5f\"}, \"geo\": {\"bgcolor\": \"white\", \"lakecolor\": \"white\", \"landcolor\": \"#E5ECF6\", \"showlakes\": true, \"showland\": true, \"subunitcolor\": \"white\"}, \"hoverlabel\": {\"align\": \"left\"}, \"hovermode\": \"closest\", \"mapbox\": {\"style\": \"light\"}, \"paper_bgcolor\": \"white\", \"plot_bgcolor\": \"#E5ECF6\", \"polar\": {\"angularaxis\": {\"gridcolor\": \"white\", \"linecolor\": \"white\", \"ticks\": \"\"}, \"bgcolor\": \"#E5ECF6\", \"radialaxis\": {\"gridcolor\": \"white\", \"linecolor\": \"white\", \"ticks\": \"\"}}, \"scene\": {\"xaxis\": {\"backgroundcolor\": \"#E5ECF6\", \"gridcolor\": \"white\", \"gridwidth\": 2, \"linecolor\": \"white\", \"showbackground\": true, \"ticks\": \"\", \"zerolinecolor\": \"white\"}, \"yaxis\": {\"backgroundcolor\": \"#E5ECF6\", \"gridcolor\": \"white\", \"gridwidth\": 2, \"linecolor\": \"white\", \"showbackground\": true, \"ticks\": \"\", \"zerolinecolor\": \"white\"}, \"zaxis\": {\"backgroundcolor\": \"#E5ECF6\", \"gridcolor\": \"white\", \"gridwidth\": 2, \"linecolor\": \"white\", \"showbackground\": true, \"ticks\": \"\", \"zerolinecolor\": \"white\"}}, \"shapedefaults\": {\"line\": {\"color\": \"#2a3f5f\"}}, \"ternary\": {\"aaxis\": {\"gridcolor\": \"white\", \"linecolor\": \"white\", \"ticks\": \"\"}, \"baxis\": {\"gridcolor\": \"white\", \"linecolor\": \"white\", \"ticks\": \"\"}, \"bgcolor\": \"#E5ECF6\", \"caxis\": {\"gridcolor\": \"white\", \"linecolor\": \"white\", \"ticks\": \"\"}}, \"title\": {\"x\": 0.05}, \"xaxis\": {\"automargin\": true, \"gridcolor\": \"white\", \"linecolor\": \"white\", \"ticks\": \"\", \"title\": {\"standoff\": 15}, \"zerolinecolor\": \"white\", \"zerolinewidth\": 2}, \"yaxis\": {\"automargin\": true, \"gridcolor\": \"white\", \"linecolor\": \"white\", \"ticks\": \"\", \"title\": {\"standoff\": 15}, \"zerolinecolor\": \"white\", \"zerolinewidth\": 2}}}, \"xaxis\": {\"anchor\": \"y\", \"domain\": [0.0, 1.0], \"title\": {\"text\": \"Country Name\"}}, \"yaxis\": {\"anchor\": \"x\", \"domain\": [0.0, 1.0], \"title\": {\"text\": \"Active Cases\"}}},\n",
       "                        {\"responsive\": true}\n",
       "                    ).then(function(){\n",
       "                            \n",
       "var gd = document.getElementById('e5f67e6a-64a5-445e-bc2b-52e7269d2b71');\n",
       "var x = new MutationObserver(function (mutations, observer) {{\n",
       "        var display = window.getComputedStyle(gd).display;\n",
       "        if (!display || display === 'none') {{\n",
       "            console.log([gd, 'removed!']);\n",
       "            Plotly.purge(gd);\n",
       "            observer.disconnect();\n",
       "        }}\n",
       "}});\n",
       "\n",
       "// Listen for the removal of the full notebook cells\n",
       "var notebookContainer = gd.closest('#notebook-container');\n",
       "if (notebookContainer) {{\n",
       "    x.observe(notebookContainer, {childList: true});\n",
       "}}\n",
       "\n",
       "// Listen for the clearing of the current output cell\n",
       "var outputEl = gd.closest('.output');\n",
       "if (outputEl) {{\n",
       "    x.observe(outputEl, {childList: true});\n",
       "}}\n",
       "\n",
       "                        })\n",
       "                };\n",
       "                });\n",
       "            </script>\n",
       "        </div>"
      ]
     },
     "metadata": {},
     "output_type": "display_data"
    }
   ],
   "source": [
    "px.bar(df,x='Country Name',y='Active Cases')"
   ]
  },
  {
   "cell_type": "code",
   "execution_count": 44,
   "metadata": {},
   "outputs": [
    {
     "data": {
      "application/vnd.plotly.v1+json": {
       "config": {
        "plotlyServerURL": "https://plot.ly"
       },
       "data": [
        {
         "hovertemplate": "Country Name=%{x}<br>Active Cases=%{y}<extra></extra>",
         "legendgroup": "",
         "marker": {
          "color": "#636efa",
          "symbol": "circle"
         },
         "mode": "markers",
         "name": "",
         "showlegend": false,
         "type": "scatter",
         "x": [
          "USA",
          "Spain",
          "Italy",
          "UK",
          "France",
          "Germany",
          "Turkey",
          "Russia",
          "Iran",
          "Brazil",
          "China",
          "Canada",
          "Belgium",
          "Peru",
          "Netherlands",
          "India",
          "Switzerland",
          "Ecuador",
          "Saudi Arabia",
          "Portugal"
         ],
         "xaxis": "x",
         "y": [
          940206,
          76546,
          102130,
          null,
          93958,
          29497,
          64685,
          117389,
          13679,
          49010,
          558,
          30803,
          29964,
          30899,
          null,
          29899,
          3959,
          24781,
          22873,
          22683
         ],
         "yaxis": "y"
        }
       ],
       "layout": {
        "legend": {
         "tracegroupgap": 0
        },
        "margin": {
         "t": 60
        },
        "template": {
         "data": {
          "bar": [
           {
            "error_x": {
             "color": "#2a3f5f"
            },
            "error_y": {
             "color": "#2a3f5f"
            },
            "marker": {
             "line": {
              "color": "#E5ECF6",
              "width": 0.5
             }
            },
            "type": "bar"
           }
          ],
          "barpolar": [
           {
            "marker": {
             "line": {
              "color": "#E5ECF6",
              "width": 0.5
             }
            },
            "type": "barpolar"
           }
          ],
          "carpet": [
           {
            "aaxis": {
             "endlinecolor": "#2a3f5f",
             "gridcolor": "white",
             "linecolor": "white",
             "minorgridcolor": "white",
             "startlinecolor": "#2a3f5f"
            },
            "baxis": {
             "endlinecolor": "#2a3f5f",
             "gridcolor": "white",
             "linecolor": "white",
             "minorgridcolor": "white",
             "startlinecolor": "#2a3f5f"
            },
            "type": "carpet"
           }
          ],
          "choropleth": [
           {
            "colorbar": {
             "outlinewidth": 0,
             "ticks": ""
            },
            "type": "choropleth"
           }
          ],
          "contour": [
           {
            "colorbar": {
             "outlinewidth": 0,
             "ticks": ""
            },
            "colorscale": [
             [
              0,
              "#0d0887"
             ],
             [
              0.1111111111111111,
              "#46039f"
             ],
             [
              0.2222222222222222,
              "#7201a8"
             ],
             [
              0.3333333333333333,
              "#9c179e"
             ],
             [
              0.4444444444444444,
              "#bd3786"
             ],
             [
              0.5555555555555556,
              "#d8576b"
             ],
             [
              0.6666666666666666,
              "#ed7953"
             ],
             [
              0.7777777777777778,
              "#fb9f3a"
             ],
             [
              0.8888888888888888,
              "#fdca26"
             ],
             [
              1,
              "#f0f921"
             ]
            ],
            "type": "contour"
           }
          ],
          "contourcarpet": [
           {
            "colorbar": {
             "outlinewidth": 0,
             "ticks": ""
            },
            "type": "contourcarpet"
           }
          ],
          "heatmap": [
           {
            "colorbar": {
             "outlinewidth": 0,
             "ticks": ""
            },
            "colorscale": [
             [
              0,
              "#0d0887"
             ],
             [
              0.1111111111111111,
              "#46039f"
             ],
             [
              0.2222222222222222,
              "#7201a8"
             ],
             [
              0.3333333333333333,
              "#9c179e"
             ],
             [
              0.4444444444444444,
              "#bd3786"
             ],
             [
              0.5555555555555556,
              "#d8576b"
             ],
             [
              0.6666666666666666,
              "#ed7953"
             ],
             [
              0.7777777777777778,
              "#fb9f3a"
             ],
             [
              0.8888888888888888,
              "#fdca26"
             ],
             [
              1,
              "#f0f921"
             ]
            ],
            "type": "heatmap"
           }
          ],
          "heatmapgl": [
           {
            "colorbar": {
             "outlinewidth": 0,
             "ticks": ""
            },
            "colorscale": [
             [
              0,
              "#0d0887"
             ],
             [
              0.1111111111111111,
              "#46039f"
             ],
             [
              0.2222222222222222,
              "#7201a8"
             ],
             [
              0.3333333333333333,
              "#9c179e"
             ],
             [
              0.4444444444444444,
              "#bd3786"
             ],
             [
              0.5555555555555556,
              "#d8576b"
             ],
             [
              0.6666666666666666,
              "#ed7953"
             ],
             [
              0.7777777777777778,
              "#fb9f3a"
             ],
             [
              0.8888888888888888,
              "#fdca26"
             ],
             [
              1,
              "#f0f921"
             ]
            ],
            "type": "heatmapgl"
           }
          ],
          "histogram": [
           {
            "marker": {
             "colorbar": {
              "outlinewidth": 0,
              "ticks": ""
             }
            },
            "type": "histogram"
           }
          ],
          "histogram2d": [
           {
            "colorbar": {
             "outlinewidth": 0,
             "ticks": ""
            },
            "colorscale": [
             [
              0,
              "#0d0887"
             ],
             [
              0.1111111111111111,
              "#46039f"
             ],
             [
              0.2222222222222222,
              "#7201a8"
             ],
             [
              0.3333333333333333,
              "#9c179e"
             ],
             [
              0.4444444444444444,
              "#bd3786"
             ],
             [
              0.5555555555555556,
              "#d8576b"
             ],
             [
              0.6666666666666666,
              "#ed7953"
             ],
             [
              0.7777777777777778,
              "#fb9f3a"
             ],
             [
              0.8888888888888888,
              "#fdca26"
             ],
             [
              1,
              "#f0f921"
             ]
            ],
            "type": "histogram2d"
           }
          ],
          "histogram2dcontour": [
           {
            "colorbar": {
             "outlinewidth": 0,
             "ticks": ""
            },
            "colorscale": [
             [
              0,
              "#0d0887"
             ],
             [
              0.1111111111111111,
              "#46039f"
             ],
             [
              0.2222222222222222,
              "#7201a8"
             ],
             [
              0.3333333333333333,
              "#9c179e"
             ],
             [
              0.4444444444444444,
              "#bd3786"
             ],
             [
              0.5555555555555556,
              "#d8576b"
             ],
             [
              0.6666666666666666,
              "#ed7953"
             ],
             [
              0.7777777777777778,
              "#fb9f3a"
             ],
             [
              0.8888888888888888,
              "#fdca26"
             ],
             [
              1,
              "#f0f921"
             ]
            ],
            "type": "histogram2dcontour"
           }
          ],
          "mesh3d": [
           {
            "colorbar": {
             "outlinewidth": 0,
             "ticks": ""
            },
            "type": "mesh3d"
           }
          ],
          "parcoords": [
           {
            "line": {
             "colorbar": {
              "outlinewidth": 0,
              "ticks": ""
             }
            },
            "type": "parcoords"
           }
          ],
          "pie": [
           {
            "automargin": true,
            "type": "pie"
           }
          ],
          "scatter": [
           {
            "marker": {
             "colorbar": {
              "outlinewidth": 0,
              "ticks": ""
             }
            },
            "type": "scatter"
           }
          ],
          "scatter3d": [
           {
            "line": {
             "colorbar": {
              "outlinewidth": 0,
              "ticks": ""
             }
            },
            "marker": {
             "colorbar": {
              "outlinewidth": 0,
              "ticks": ""
             }
            },
            "type": "scatter3d"
           }
          ],
          "scattercarpet": [
           {
            "marker": {
             "colorbar": {
              "outlinewidth": 0,
              "ticks": ""
             }
            },
            "type": "scattercarpet"
           }
          ],
          "scattergeo": [
           {
            "marker": {
             "colorbar": {
              "outlinewidth": 0,
              "ticks": ""
             }
            },
            "type": "scattergeo"
           }
          ],
          "scattergl": [
           {
            "marker": {
             "colorbar": {
              "outlinewidth": 0,
              "ticks": ""
             }
            },
            "type": "scattergl"
           }
          ],
          "scattermapbox": [
           {
            "marker": {
             "colorbar": {
              "outlinewidth": 0,
              "ticks": ""
             }
            },
            "type": "scattermapbox"
           }
          ],
          "scatterpolar": [
           {
            "marker": {
             "colorbar": {
              "outlinewidth": 0,
              "ticks": ""
             }
            },
            "type": "scatterpolar"
           }
          ],
          "scatterpolargl": [
           {
            "marker": {
             "colorbar": {
              "outlinewidth": 0,
              "ticks": ""
             }
            },
            "type": "scatterpolargl"
           }
          ],
          "scatterternary": [
           {
            "marker": {
             "colorbar": {
              "outlinewidth": 0,
              "ticks": ""
             }
            },
            "type": "scatterternary"
           }
          ],
          "surface": [
           {
            "colorbar": {
             "outlinewidth": 0,
             "ticks": ""
            },
            "colorscale": [
             [
              0,
              "#0d0887"
             ],
             [
              0.1111111111111111,
              "#46039f"
             ],
             [
              0.2222222222222222,
              "#7201a8"
             ],
             [
              0.3333333333333333,
              "#9c179e"
             ],
             [
              0.4444444444444444,
              "#bd3786"
             ],
             [
              0.5555555555555556,
              "#d8576b"
             ],
             [
              0.6666666666666666,
              "#ed7953"
             ],
             [
              0.7777777777777778,
              "#fb9f3a"
             ],
             [
              0.8888888888888888,
              "#fdca26"
             ],
             [
              1,
              "#f0f921"
             ]
            ],
            "type": "surface"
           }
          ],
          "table": [
           {
            "cells": {
             "fill": {
              "color": "#EBF0F8"
             },
             "line": {
              "color": "white"
             }
            },
            "header": {
             "fill": {
              "color": "#C8D4E3"
             },
             "line": {
              "color": "white"
             }
            },
            "type": "table"
           }
          ]
         },
         "layout": {
          "annotationdefaults": {
           "arrowcolor": "#2a3f5f",
           "arrowhead": 0,
           "arrowwidth": 1
          },
          "coloraxis": {
           "colorbar": {
            "outlinewidth": 0,
            "ticks": ""
           }
          },
          "colorscale": {
           "diverging": [
            [
             0,
             "#8e0152"
            ],
            [
             0.1,
             "#c51b7d"
            ],
            [
             0.2,
             "#de77ae"
            ],
            [
             0.3,
             "#f1b6da"
            ],
            [
             0.4,
             "#fde0ef"
            ],
            [
             0.5,
             "#f7f7f7"
            ],
            [
             0.6,
             "#e6f5d0"
            ],
            [
             0.7,
             "#b8e186"
            ],
            [
             0.8,
             "#7fbc41"
            ],
            [
             0.9,
             "#4d9221"
            ],
            [
             1,
             "#276419"
            ]
           ],
           "sequential": [
            [
             0,
             "#0d0887"
            ],
            [
             0.1111111111111111,
             "#46039f"
            ],
            [
             0.2222222222222222,
             "#7201a8"
            ],
            [
             0.3333333333333333,
             "#9c179e"
            ],
            [
             0.4444444444444444,
             "#bd3786"
            ],
            [
             0.5555555555555556,
             "#d8576b"
            ],
            [
             0.6666666666666666,
             "#ed7953"
            ],
            [
             0.7777777777777778,
             "#fb9f3a"
            ],
            [
             0.8888888888888888,
             "#fdca26"
            ],
            [
             1,
             "#f0f921"
            ]
           ],
           "sequentialminus": [
            [
             0,
             "#0d0887"
            ],
            [
             0.1111111111111111,
             "#46039f"
            ],
            [
             0.2222222222222222,
             "#7201a8"
            ],
            [
             0.3333333333333333,
             "#9c179e"
            ],
            [
             0.4444444444444444,
             "#bd3786"
            ],
            [
             0.5555555555555556,
             "#d8576b"
            ],
            [
             0.6666666666666666,
             "#ed7953"
            ],
            [
             0.7777777777777778,
             "#fb9f3a"
            ],
            [
             0.8888888888888888,
             "#fdca26"
            ],
            [
             1,
             "#f0f921"
            ]
           ]
          },
          "colorway": [
           "#636efa",
           "#EF553B",
           "#00cc96",
           "#ab63fa",
           "#FFA15A",
           "#19d3f3",
           "#FF6692",
           "#B6E880",
           "#FF97FF",
           "#FECB52"
          ],
          "font": {
           "color": "#2a3f5f"
          },
          "geo": {
           "bgcolor": "white",
           "lakecolor": "white",
           "landcolor": "#E5ECF6",
           "showlakes": true,
           "showland": true,
           "subunitcolor": "white"
          },
          "hoverlabel": {
           "align": "left"
          },
          "hovermode": "closest",
          "mapbox": {
           "style": "light"
          },
          "paper_bgcolor": "white",
          "plot_bgcolor": "#E5ECF6",
          "polar": {
           "angularaxis": {
            "gridcolor": "white",
            "linecolor": "white",
            "ticks": ""
           },
           "bgcolor": "#E5ECF6",
           "radialaxis": {
            "gridcolor": "white",
            "linecolor": "white",
            "ticks": ""
           }
          },
          "scene": {
           "xaxis": {
            "backgroundcolor": "#E5ECF6",
            "gridcolor": "white",
            "gridwidth": 2,
            "linecolor": "white",
            "showbackground": true,
            "ticks": "",
            "zerolinecolor": "white"
           },
           "yaxis": {
            "backgroundcolor": "#E5ECF6",
            "gridcolor": "white",
            "gridwidth": 2,
            "linecolor": "white",
            "showbackground": true,
            "ticks": "",
            "zerolinecolor": "white"
           },
           "zaxis": {
            "backgroundcolor": "#E5ECF6",
            "gridcolor": "white",
            "gridwidth": 2,
            "linecolor": "white",
            "showbackground": true,
            "ticks": "",
            "zerolinecolor": "white"
           }
          },
          "shapedefaults": {
           "line": {
            "color": "#2a3f5f"
           }
          },
          "ternary": {
           "aaxis": {
            "gridcolor": "white",
            "linecolor": "white",
            "ticks": ""
           },
           "baxis": {
            "gridcolor": "white",
            "linecolor": "white",
            "ticks": ""
           },
           "bgcolor": "#E5ECF6",
           "caxis": {
            "gridcolor": "white",
            "linecolor": "white",
            "ticks": ""
           }
          },
          "title": {
           "x": 0.05
          },
          "xaxis": {
           "automargin": true,
           "gridcolor": "white",
           "linecolor": "white",
           "ticks": "",
           "title": {
            "standoff": 15
           },
           "zerolinecolor": "white",
           "zerolinewidth": 2
          },
          "yaxis": {
           "automargin": true,
           "gridcolor": "white",
           "linecolor": "white",
           "ticks": "",
           "title": {
            "standoff": 15
           },
           "zerolinecolor": "white",
           "zerolinewidth": 2
          }
         }
        },
        "xaxis": {
         "anchor": "y",
         "domain": [
          0,
          1
         ],
         "title": {
          "text": "Country Name"
         }
        },
        "yaxis": {
         "anchor": "x",
         "domain": [
          0,
          1
         ],
         "title": {
          "text": "Active Cases"
         }
        }
       }
      },
      "text/html": [
       "<div>\n",
       "        \n",
       "        \n",
       "            <div id=\"4f756012-d782-4ed3-85c2-218f854af2c2\" class=\"plotly-graph-div\" style=\"height:525px; width:100%;\"></div>\n",
       "            <script type=\"text/javascript\">\n",
       "                require([\"plotly\"], function(Plotly) {\n",
       "                    window.PLOTLYENV=window.PLOTLYENV || {};\n",
       "                    \n",
       "                if (document.getElementById(\"4f756012-d782-4ed3-85c2-218f854af2c2\")) {\n",
       "                    Plotly.newPlot(\n",
       "                        '4f756012-d782-4ed3-85c2-218f854af2c2',\n",
       "                        [{\"hovertemplate\": \"Country Name=%{x}<br>Active Cases=%{y}<extra></extra>\", \"legendgroup\": \"\", \"marker\": {\"color\": \"#636efa\", \"symbol\": \"circle\"}, \"mode\": \"markers\", \"name\": \"\", \"showlegend\": false, \"type\": \"scatter\", \"x\": [\"USA\", \"Spain\", \"Italy\", \"UK\", \"France\", \"Germany\", \"Turkey\", \"Russia\", \"Iran\", \"Brazil\", \"China\", \"Canada\", \"Belgium\", \"Peru\", \"Netherlands\", \"India\", \"Switzerland\", \"Ecuador\", \"Saudi Arabia\", \"Portugal\"], \"xaxis\": \"x\", \"y\": [940206, 76546, 102130, null, 93958, 29497, 64685, 117389, 13679, 49010, 558, 30803, 29964, 30899, null, 29899, 3959, 24781, 22873, 22683], \"yaxis\": \"y\"}],\n",
       "                        {\"legend\": {\"tracegroupgap\": 0}, \"margin\": {\"t\": 60}, \"template\": {\"data\": {\"bar\": [{\"error_x\": {\"color\": \"#2a3f5f\"}, \"error_y\": {\"color\": \"#2a3f5f\"}, \"marker\": {\"line\": {\"color\": \"#E5ECF6\", \"width\": 0.5}}, \"type\": \"bar\"}], \"barpolar\": [{\"marker\": {\"line\": {\"color\": \"#E5ECF6\", \"width\": 0.5}}, \"type\": \"barpolar\"}], \"carpet\": [{\"aaxis\": {\"endlinecolor\": \"#2a3f5f\", \"gridcolor\": \"white\", \"linecolor\": \"white\", \"minorgridcolor\": \"white\", \"startlinecolor\": \"#2a3f5f\"}, \"baxis\": {\"endlinecolor\": \"#2a3f5f\", \"gridcolor\": \"white\", \"linecolor\": \"white\", \"minorgridcolor\": \"white\", \"startlinecolor\": \"#2a3f5f\"}, \"type\": \"carpet\"}], \"choropleth\": [{\"colorbar\": {\"outlinewidth\": 0, \"ticks\": \"\"}, \"type\": \"choropleth\"}], \"contour\": [{\"colorbar\": {\"outlinewidth\": 0, \"ticks\": \"\"}, \"colorscale\": [[0.0, \"#0d0887\"], [0.1111111111111111, \"#46039f\"], [0.2222222222222222, \"#7201a8\"], [0.3333333333333333, \"#9c179e\"], [0.4444444444444444, \"#bd3786\"], [0.5555555555555556, \"#d8576b\"], [0.6666666666666666, \"#ed7953\"], [0.7777777777777778, \"#fb9f3a\"], [0.8888888888888888, \"#fdca26\"], [1.0, \"#f0f921\"]], \"type\": \"contour\"}], \"contourcarpet\": [{\"colorbar\": {\"outlinewidth\": 0, \"ticks\": \"\"}, \"type\": \"contourcarpet\"}], \"heatmap\": [{\"colorbar\": {\"outlinewidth\": 0, \"ticks\": \"\"}, \"colorscale\": [[0.0, \"#0d0887\"], [0.1111111111111111, \"#46039f\"], [0.2222222222222222, \"#7201a8\"], [0.3333333333333333, \"#9c179e\"], [0.4444444444444444, \"#bd3786\"], [0.5555555555555556, \"#d8576b\"], [0.6666666666666666, \"#ed7953\"], [0.7777777777777778, \"#fb9f3a\"], [0.8888888888888888, \"#fdca26\"], [1.0, \"#f0f921\"]], \"type\": \"heatmap\"}], \"heatmapgl\": [{\"colorbar\": {\"outlinewidth\": 0, \"ticks\": \"\"}, \"colorscale\": [[0.0, \"#0d0887\"], [0.1111111111111111, \"#46039f\"], [0.2222222222222222, \"#7201a8\"], [0.3333333333333333, \"#9c179e\"], [0.4444444444444444, \"#bd3786\"], [0.5555555555555556, \"#d8576b\"], [0.6666666666666666, \"#ed7953\"], [0.7777777777777778, \"#fb9f3a\"], [0.8888888888888888, \"#fdca26\"], [1.0, \"#f0f921\"]], \"type\": \"heatmapgl\"}], \"histogram\": [{\"marker\": {\"colorbar\": {\"outlinewidth\": 0, \"ticks\": \"\"}}, \"type\": \"histogram\"}], \"histogram2d\": [{\"colorbar\": {\"outlinewidth\": 0, \"ticks\": \"\"}, \"colorscale\": [[0.0, \"#0d0887\"], [0.1111111111111111, \"#46039f\"], [0.2222222222222222, \"#7201a8\"], [0.3333333333333333, \"#9c179e\"], [0.4444444444444444, \"#bd3786\"], [0.5555555555555556, \"#d8576b\"], [0.6666666666666666, \"#ed7953\"], [0.7777777777777778, \"#fb9f3a\"], [0.8888888888888888, \"#fdca26\"], [1.0, \"#f0f921\"]], \"type\": \"histogram2d\"}], \"histogram2dcontour\": [{\"colorbar\": {\"outlinewidth\": 0, \"ticks\": \"\"}, \"colorscale\": [[0.0, \"#0d0887\"], [0.1111111111111111, \"#46039f\"], [0.2222222222222222, \"#7201a8\"], [0.3333333333333333, \"#9c179e\"], [0.4444444444444444, \"#bd3786\"], [0.5555555555555556, \"#d8576b\"], [0.6666666666666666, \"#ed7953\"], [0.7777777777777778, \"#fb9f3a\"], [0.8888888888888888, \"#fdca26\"], [1.0, \"#f0f921\"]], \"type\": \"histogram2dcontour\"}], \"mesh3d\": [{\"colorbar\": {\"outlinewidth\": 0, \"ticks\": \"\"}, \"type\": \"mesh3d\"}], \"parcoords\": [{\"line\": {\"colorbar\": {\"outlinewidth\": 0, \"ticks\": \"\"}}, \"type\": \"parcoords\"}], \"pie\": [{\"automargin\": true, \"type\": \"pie\"}], \"scatter\": [{\"marker\": {\"colorbar\": {\"outlinewidth\": 0, \"ticks\": \"\"}}, \"type\": \"scatter\"}], \"scatter3d\": [{\"line\": {\"colorbar\": {\"outlinewidth\": 0, \"ticks\": \"\"}}, \"marker\": {\"colorbar\": {\"outlinewidth\": 0, \"ticks\": \"\"}}, \"type\": \"scatter3d\"}], \"scattercarpet\": [{\"marker\": {\"colorbar\": {\"outlinewidth\": 0, \"ticks\": \"\"}}, \"type\": \"scattercarpet\"}], \"scattergeo\": [{\"marker\": {\"colorbar\": {\"outlinewidth\": 0, \"ticks\": \"\"}}, \"type\": \"scattergeo\"}], \"scattergl\": [{\"marker\": {\"colorbar\": {\"outlinewidth\": 0, \"ticks\": \"\"}}, \"type\": \"scattergl\"}], \"scattermapbox\": [{\"marker\": {\"colorbar\": {\"outlinewidth\": 0, \"ticks\": \"\"}}, \"type\": \"scattermapbox\"}], \"scatterpolar\": [{\"marker\": {\"colorbar\": {\"outlinewidth\": 0, \"ticks\": \"\"}}, \"type\": \"scatterpolar\"}], \"scatterpolargl\": [{\"marker\": {\"colorbar\": {\"outlinewidth\": 0, \"ticks\": \"\"}}, \"type\": \"scatterpolargl\"}], \"scatterternary\": [{\"marker\": {\"colorbar\": {\"outlinewidth\": 0, \"ticks\": \"\"}}, \"type\": \"scatterternary\"}], \"surface\": [{\"colorbar\": {\"outlinewidth\": 0, \"ticks\": \"\"}, \"colorscale\": [[0.0, \"#0d0887\"], [0.1111111111111111, \"#46039f\"], [0.2222222222222222, \"#7201a8\"], [0.3333333333333333, \"#9c179e\"], [0.4444444444444444, \"#bd3786\"], [0.5555555555555556, \"#d8576b\"], [0.6666666666666666, \"#ed7953\"], [0.7777777777777778, \"#fb9f3a\"], [0.8888888888888888, \"#fdca26\"], [1.0, \"#f0f921\"]], \"type\": \"surface\"}], \"table\": [{\"cells\": {\"fill\": {\"color\": \"#EBF0F8\"}, \"line\": {\"color\": \"white\"}}, \"header\": {\"fill\": {\"color\": \"#C8D4E3\"}, \"line\": {\"color\": \"white\"}}, \"type\": \"table\"}]}, \"layout\": {\"annotationdefaults\": {\"arrowcolor\": \"#2a3f5f\", \"arrowhead\": 0, \"arrowwidth\": 1}, \"coloraxis\": {\"colorbar\": {\"outlinewidth\": 0, \"ticks\": \"\"}}, \"colorscale\": {\"diverging\": [[0, \"#8e0152\"], [0.1, \"#c51b7d\"], [0.2, \"#de77ae\"], [0.3, \"#f1b6da\"], [0.4, \"#fde0ef\"], [0.5, \"#f7f7f7\"], [0.6, \"#e6f5d0\"], [0.7, \"#b8e186\"], [0.8, \"#7fbc41\"], [0.9, \"#4d9221\"], [1, \"#276419\"]], \"sequential\": [[0.0, \"#0d0887\"], [0.1111111111111111, \"#46039f\"], [0.2222222222222222, \"#7201a8\"], [0.3333333333333333, \"#9c179e\"], [0.4444444444444444, \"#bd3786\"], [0.5555555555555556, \"#d8576b\"], [0.6666666666666666, \"#ed7953\"], [0.7777777777777778, \"#fb9f3a\"], [0.8888888888888888, \"#fdca26\"], [1.0, \"#f0f921\"]], \"sequentialminus\": [[0.0, \"#0d0887\"], [0.1111111111111111, \"#46039f\"], [0.2222222222222222, \"#7201a8\"], [0.3333333333333333, \"#9c179e\"], [0.4444444444444444, \"#bd3786\"], [0.5555555555555556, \"#d8576b\"], [0.6666666666666666, \"#ed7953\"], [0.7777777777777778, \"#fb9f3a\"], [0.8888888888888888, \"#fdca26\"], [1.0, \"#f0f921\"]]}, \"colorway\": [\"#636efa\", \"#EF553B\", \"#00cc96\", \"#ab63fa\", \"#FFA15A\", \"#19d3f3\", \"#FF6692\", \"#B6E880\", \"#FF97FF\", \"#FECB52\"], \"font\": {\"color\": \"#2a3f5f\"}, \"geo\": {\"bgcolor\": \"white\", \"lakecolor\": \"white\", \"landcolor\": \"#E5ECF6\", \"showlakes\": true, \"showland\": true, \"subunitcolor\": \"white\"}, \"hoverlabel\": {\"align\": \"left\"}, \"hovermode\": \"closest\", \"mapbox\": {\"style\": \"light\"}, \"paper_bgcolor\": \"white\", \"plot_bgcolor\": \"#E5ECF6\", \"polar\": {\"angularaxis\": {\"gridcolor\": \"white\", \"linecolor\": \"white\", \"ticks\": \"\"}, \"bgcolor\": \"#E5ECF6\", \"radialaxis\": {\"gridcolor\": \"white\", \"linecolor\": \"white\", \"ticks\": \"\"}}, \"scene\": {\"xaxis\": {\"backgroundcolor\": \"#E5ECF6\", \"gridcolor\": \"white\", \"gridwidth\": 2, \"linecolor\": \"white\", \"showbackground\": true, \"ticks\": \"\", \"zerolinecolor\": \"white\"}, \"yaxis\": {\"backgroundcolor\": \"#E5ECF6\", \"gridcolor\": \"white\", \"gridwidth\": 2, \"linecolor\": \"white\", \"showbackground\": true, \"ticks\": \"\", \"zerolinecolor\": \"white\"}, \"zaxis\": {\"backgroundcolor\": \"#E5ECF6\", \"gridcolor\": \"white\", \"gridwidth\": 2, \"linecolor\": \"white\", \"showbackground\": true, \"ticks\": \"\", \"zerolinecolor\": \"white\"}}, \"shapedefaults\": {\"line\": {\"color\": \"#2a3f5f\"}}, \"ternary\": {\"aaxis\": {\"gridcolor\": \"white\", \"linecolor\": \"white\", \"ticks\": \"\"}, \"baxis\": {\"gridcolor\": \"white\", \"linecolor\": \"white\", \"ticks\": \"\"}, \"bgcolor\": \"#E5ECF6\", \"caxis\": {\"gridcolor\": \"white\", \"linecolor\": \"white\", \"ticks\": \"\"}}, \"title\": {\"x\": 0.05}, \"xaxis\": {\"automargin\": true, \"gridcolor\": \"white\", \"linecolor\": \"white\", \"ticks\": \"\", \"title\": {\"standoff\": 15}, \"zerolinecolor\": \"white\", \"zerolinewidth\": 2}, \"yaxis\": {\"automargin\": true, \"gridcolor\": \"white\", \"linecolor\": \"white\", \"ticks\": \"\", \"title\": {\"standoff\": 15}, \"zerolinecolor\": \"white\", \"zerolinewidth\": 2}}}, \"xaxis\": {\"anchor\": \"y\", \"domain\": [0.0, 1.0], \"title\": {\"text\": \"Country Name\"}}, \"yaxis\": {\"anchor\": \"x\", \"domain\": [0.0, 1.0], \"title\": {\"text\": \"Active Cases\"}}},\n",
       "                        {\"responsive\": true}\n",
       "                    ).then(function(){\n",
       "                            \n",
       "var gd = document.getElementById('4f756012-d782-4ed3-85c2-218f854af2c2');\n",
       "var x = new MutationObserver(function (mutations, observer) {{\n",
       "        var display = window.getComputedStyle(gd).display;\n",
       "        if (!display || display === 'none') {{\n",
       "            console.log([gd, 'removed!']);\n",
       "            Plotly.purge(gd);\n",
       "            observer.disconnect();\n",
       "        }}\n",
       "}});\n",
       "\n",
       "// Listen for the removal of the full notebook cells\n",
       "var notebookContainer = gd.closest('#notebook-container');\n",
       "if (notebookContainer) {{\n",
       "    x.observe(notebookContainer, {childList: true});\n",
       "}}\n",
       "\n",
       "// Listen for the clearing of the current output cell\n",
       "var outputEl = gd.closest('.output');\n",
       "if (outputEl) {{\n",
       "    x.observe(outputEl, {childList: true});\n",
       "}}\n",
       "\n",
       "                        })\n",
       "                };\n",
       "                });\n",
       "            </script>\n",
       "        </div>"
      ]
     },
     "metadata": {},
     "output_type": "display_data"
    }
   ],
   "source": [
    "px.scatter(df,x='Country Name',y='Active Cases')\n"
   ]
  },
  {
   "cell_type": "code",
   "execution_count": 55,
   "metadata": {},
   "outputs": [
    {
     "data": {
      "application/vnd.plotly.v1+json": {
       "config": {
        "plotlyServerURL": "https://plot.ly"
       },
       "data": [
        {
         "hovertemplate": "Country Name=%{x}<br>Active Cases=%{y}<extra></extra>",
         "legendgroup": "",
         "line": {
          "color": "#636efa",
          "dash": "solid"
         },
         "mode": "lines",
         "name": "",
         "showlegend": false,
         "type": "scatter",
         "x": [
          "USA",
          "Spain",
          "Italy",
          "UK",
          "France",
          "Germany",
          "Turkey",
          "Russia",
          "Iran",
          "Brazil",
          "China",
          "Canada",
          "Belgium",
          "Peru",
          "Netherlands",
          "India",
          "Switzerland",
          "Ecuador",
          "Saudi Arabia",
          "Portugal"
         ],
         "xaxis": "x",
         "y": [
          940206,
          76546,
          102130,
          null,
          93958,
          29497,
          64685,
          117389,
          13679,
          49010,
          558,
          30803,
          29964,
          30899,
          null,
          29899,
          3959,
          24781,
          22873,
          22683
         ],
         "yaxis": "y"
        }
       ],
       "layout": {
        "legend": {
         "tracegroupgap": 0
        },
        "margin": {
         "t": 60
        },
        "template": {
         "data": {
          "bar": [
           {
            "error_x": {
             "color": "#2a3f5f"
            },
            "error_y": {
             "color": "#2a3f5f"
            },
            "marker": {
             "line": {
              "color": "#E5ECF6",
              "width": 0.5
             }
            },
            "type": "bar"
           }
          ],
          "barpolar": [
           {
            "marker": {
             "line": {
              "color": "#E5ECF6",
              "width": 0.5
             }
            },
            "type": "barpolar"
           }
          ],
          "carpet": [
           {
            "aaxis": {
             "endlinecolor": "#2a3f5f",
             "gridcolor": "white",
             "linecolor": "white",
             "minorgridcolor": "white",
             "startlinecolor": "#2a3f5f"
            },
            "baxis": {
             "endlinecolor": "#2a3f5f",
             "gridcolor": "white",
             "linecolor": "white",
             "minorgridcolor": "white",
             "startlinecolor": "#2a3f5f"
            },
            "type": "carpet"
           }
          ],
          "choropleth": [
           {
            "colorbar": {
             "outlinewidth": 0,
             "ticks": ""
            },
            "type": "choropleth"
           }
          ],
          "contour": [
           {
            "colorbar": {
             "outlinewidth": 0,
             "ticks": ""
            },
            "colorscale": [
             [
              0,
              "#0d0887"
             ],
             [
              0.1111111111111111,
              "#46039f"
             ],
             [
              0.2222222222222222,
              "#7201a8"
             ],
             [
              0.3333333333333333,
              "#9c179e"
             ],
             [
              0.4444444444444444,
              "#bd3786"
             ],
             [
              0.5555555555555556,
              "#d8576b"
             ],
             [
              0.6666666666666666,
              "#ed7953"
             ],
             [
              0.7777777777777778,
              "#fb9f3a"
             ],
             [
              0.8888888888888888,
              "#fdca26"
             ],
             [
              1,
              "#f0f921"
             ]
            ],
            "type": "contour"
           }
          ],
          "contourcarpet": [
           {
            "colorbar": {
             "outlinewidth": 0,
             "ticks": ""
            },
            "type": "contourcarpet"
           }
          ],
          "heatmap": [
           {
            "colorbar": {
             "outlinewidth": 0,
             "ticks": ""
            },
            "colorscale": [
             [
              0,
              "#0d0887"
             ],
             [
              0.1111111111111111,
              "#46039f"
             ],
             [
              0.2222222222222222,
              "#7201a8"
             ],
             [
              0.3333333333333333,
              "#9c179e"
             ],
             [
              0.4444444444444444,
              "#bd3786"
             ],
             [
              0.5555555555555556,
              "#d8576b"
             ],
             [
              0.6666666666666666,
              "#ed7953"
             ],
             [
              0.7777777777777778,
              "#fb9f3a"
             ],
             [
              0.8888888888888888,
              "#fdca26"
             ],
             [
              1,
              "#f0f921"
             ]
            ],
            "type": "heatmap"
           }
          ],
          "heatmapgl": [
           {
            "colorbar": {
             "outlinewidth": 0,
             "ticks": ""
            },
            "colorscale": [
             [
              0,
              "#0d0887"
             ],
             [
              0.1111111111111111,
              "#46039f"
             ],
             [
              0.2222222222222222,
              "#7201a8"
             ],
             [
              0.3333333333333333,
              "#9c179e"
             ],
             [
              0.4444444444444444,
              "#bd3786"
             ],
             [
              0.5555555555555556,
              "#d8576b"
             ],
             [
              0.6666666666666666,
              "#ed7953"
             ],
             [
              0.7777777777777778,
              "#fb9f3a"
             ],
             [
              0.8888888888888888,
              "#fdca26"
             ],
             [
              1,
              "#f0f921"
             ]
            ],
            "type": "heatmapgl"
           }
          ],
          "histogram": [
           {
            "marker": {
             "colorbar": {
              "outlinewidth": 0,
              "ticks": ""
             }
            },
            "type": "histogram"
           }
          ],
          "histogram2d": [
           {
            "colorbar": {
             "outlinewidth": 0,
             "ticks": ""
            },
            "colorscale": [
             [
              0,
              "#0d0887"
             ],
             [
              0.1111111111111111,
              "#46039f"
             ],
             [
              0.2222222222222222,
              "#7201a8"
             ],
             [
              0.3333333333333333,
              "#9c179e"
             ],
             [
              0.4444444444444444,
              "#bd3786"
             ],
             [
              0.5555555555555556,
              "#d8576b"
             ],
             [
              0.6666666666666666,
              "#ed7953"
             ],
             [
              0.7777777777777778,
              "#fb9f3a"
             ],
             [
              0.8888888888888888,
              "#fdca26"
             ],
             [
              1,
              "#f0f921"
             ]
            ],
            "type": "histogram2d"
           }
          ],
          "histogram2dcontour": [
           {
            "colorbar": {
             "outlinewidth": 0,
             "ticks": ""
            },
            "colorscale": [
             [
              0,
              "#0d0887"
             ],
             [
              0.1111111111111111,
              "#46039f"
             ],
             [
              0.2222222222222222,
              "#7201a8"
             ],
             [
              0.3333333333333333,
              "#9c179e"
             ],
             [
              0.4444444444444444,
              "#bd3786"
             ],
             [
              0.5555555555555556,
              "#d8576b"
             ],
             [
              0.6666666666666666,
              "#ed7953"
             ],
             [
              0.7777777777777778,
              "#fb9f3a"
             ],
             [
              0.8888888888888888,
              "#fdca26"
             ],
             [
              1,
              "#f0f921"
             ]
            ],
            "type": "histogram2dcontour"
           }
          ],
          "mesh3d": [
           {
            "colorbar": {
             "outlinewidth": 0,
             "ticks": ""
            },
            "type": "mesh3d"
           }
          ],
          "parcoords": [
           {
            "line": {
             "colorbar": {
              "outlinewidth": 0,
              "ticks": ""
             }
            },
            "type": "parcoords"
           }
          ],
          "pie": [
           {
            "automargin": true,
            "type": "pie"
           }
          ],
          "scatter": [
           {
            "marker": {
             "colorbar": {
              "outlinewidth": 0,
              "ticks": ""
             }
            },
            "type": "scatter"
           }
          ],
          "scatter3d": [
           {
            "line": {
             "colorbar": {
              "outlinewidth": 0,
              "ticks": ""
             }
            },
            "marker": {
             "colorbar": {
              "outlinewidth": 0,
              "ticks": ""
             }
            },
            "type": "scatter3d"
           }
          ],
          "scattercarpet": [
           {
            "marker": {
             "colorbar": {
              "outlinewidth": 0,
              "ticks": ""
             }
            },
            "type": "scattercarpet"
           }
          ],
          "scattergeo": [
           {
            "marker": {
             "colorbar": {
              "outlinewidth": 0,
              "ticks": ""
             }
            },
            "type": "scattergeo"
           }
          ],
          "scattergl": [
           {
            "marker": {
             "colorbar": {
              "outlinewidth": 0,
              "ticks": ""
             }
            },
            "type": "scattergl"
           }
          ],
          "scattermapbox": [
           {
            "marker": {
             "colorbar": {
              "outlinewidth": 0,
              "ticks": ""
             }
            },
            "type": "scattermapbox"
           }
          ],
          "scatterpolar": [
           {
            "marker": {
             "colorbar": {
              "outlinewidth": 0,
              "ticks": ""
             }
            },
            "type": "scatterpolar"
           }
          ],
          "scatterpolargl": [
           {
            "marker": {
             "colorbar": {
              "outlinewidth": 0,
              "ticks": ""
             }
            },
            "type": "scatterpolargl"
           }
          ],
          "scatterternary": [
           {
            "marker": {
             "colorbar": {
              "outlinewidth": 0,
              "ticks": ""
             }
            },
            "type": "scatterternary"
           }
          ],
          "surface": [
           {
            "colorbar": {
             "outlinewidth": 0,
             "ticks": ""
            },
            "colorscale": [
             [
              0,
              "#0d0887"
             ],
             [
              0.1111111111111111,
              "#46039f"
             ],
             [
              0.2222222222222222,
              "#7201a8"
             ],
             [
              0.3333333333333333,
              "#9c179e"
             ],
             [
              0.4444444444444444,
              "#bd3786"
             ],
             [
              0.5555555555555556,
              "#d8576b"
             ],
             [
              0.6666666666666666,
              "#ed7953"
             ],
             [
              0.7777777777777778,
              "#fb9f3a"
             ],
             [
              0.8888888888888888,
              "#fdca26"
             ],
             [
              1,
              "#f0f921"
             ]
            ],
            "type": "surface"
           }
          ],
          "table": [
           {
            "cells": {
             "fill": {
              "color": "#EBF0F8"
             },
             "line": {
              "color": "white"
             }
            },
            "header": {
             "fill": {
              "color": "#C8D4E3"
             },
             "line": {
              "color": "white"
             }
            },
            "type": "table"
           }
          ]
         },
         "layout": {
          "annotationdefaults": {
           "arrowcolor": "#2a3f5f",
           "arrowhead": 0,
           "arrowwidth": 1
          },
          "coloraxis": {
           "colorbar": {
            "outlinewidth": 0,
            "ticks": ""
           }
          },
          "colorscale": {
           "diverging": [
            [
             0,
             "#8e0152"
            ],
            [
             0.1,
             "#c51b7d"
            ],
            [
             0.2,
             "#de77ae"
            ],
            [
             0.3,
             "#f1b6da"
            ],
            [
             0.4,
             "#fde0ef"
            ],
            [
             0.5,
             "#f7f7f7"
            ],
            [
             0.6,
             "#e6f5d0"
            ],
            [
             0.7,
             "#b8e186"
            ],
            [
             0.8,
             "#7fbc41"
            ],
            [
             0.9,
             "#4d9221"
            ],
            [
             1,
             "#276419"
            ]
           ],
           "sequential": [
            [
             0,
             "#0d0887"
            ],
            [
             0.1111111111111111,
             "#46039f"
            ],
            [
             0.2222222222222222,
             "#7201a8"
            ],
            [
             0.3333333333333333,
             "#9c179e"
            ],
            [
             0.4444444444444444,
             "#bd3786"
            ],
            [
             0.5555555555555556,
             "#d8576b"
            ],
            [
             0.6666666666666666,
             "#ed7953"
            ],
            [
             0.7777777777777778,
             "#fb9f3a"
            ],
            [
             0.8888888888888888,
             "#fdca26"
            ],
            [
             1,
             "#f0f921"
            ]
           ],
           "sequentialminus": [
            [
             0,
             "#0d0887"
            ],
            [
             0.1111111111111111,
             "#46039f"
            ],
            [
             0.2222222222222222,
             "#7201a8"
            ],
            [
             0.3333333333333333,
             "#9c179e"
            ],
            [
             0.4444444444444444,
             "#bd3786"
            ],
            [
             0.5555555555555556,
             "#d8576b"
            ],
            [
             0.6666666666666666,
             "#ed7953"
            ],
            [
             0.7777777777777778,
             "#fb9f3a"
            ],
            [
             0.8888888888888888,
             "#fdca26"
            ],
            [
             1,
             "#f0f921"
            ]
           ]
          },
          "colorway": [
           "#636efa",
           "#EF553B",
           "#00cc96",
           "#ab63fa",
           "#FFA15A",
           "#19d3f3",
           "#FF6692",
           "#B6E880",
           "#FF97FF",
           "#FECB52"
          ],
          "font": {
           "color": "#2a3f5f"
          },
          "geo": {
           "bgcolor": "white",
           "lakecolor": "white",
           "landcolor": "#E5ECF6",
           "showlakes": true,
           "showland": true,
           "subunitcolor": "white"
          },
          "hoverlabel": {
           "align": "left"
          },
          "hovermode": "closest",
          "mapbox": {
           "style": "light"
          },
          "paper_bgcolor": "white",
          "plot_bgcolor": "#E5ECF6",
          "polar": {
           "angularaxis": {
            "gridcolor": "white",
            "linecolor": "white",
            "ticks": ""
           },
           "bgcolor": "#E5ECF6",
           "radialaxis": {
            "gridcolor": "white",
            "linecolor": "white",
            "ticks": ""
           }
          },
          "scene": {
           "xaxis": {
            "backgroundcolor": "#E5ECF6",
            "gridcolor": "white",
            "gridwidth": 2,
            "linecolor": "white",
            "showbackground": true,
            "ticks": "",
            "zerolinecolor": "white"
           },
           "yaxis": {
            "backgroundcolor": "#E5ECF6",
            "gridcolor": "white",
            "gridwidth": 2,
            "linecolor": "white",
            "showbackground": true,
            "ticks": "",
            "zerolinecolor": "white"
           },
           "zaxis": {
            "backgroundcolor": "#E5ECF6",
            "gridcolor": "white",
            "gridwidth": 2,
            "linecolor": "white",
            "showbackground": true,
            "ticks": "",
            "zerolinecolor": "white"
           }
          },
          "shapedefaults": {
           "line": {
            "color": "#2a3f5f"
           }
          },
          "ternary": {
           "aaxis": {
            "gridcolor": "white",
            "linecolor": "white",
            "ticks": ""
           },
           "baxis": {
            "gridcolor": "white",
            "linecolor": "white",
            "ticks": ""
           },
           "bgcolor": "#E5ECF6",
           "caxis": {
            "gridcolor": "white",
            "linecolor": "white",
            "ticks": ""
           }
          },
          "title": {
           "x": 0.05
          },
          "xaxis": {
           "automargin": true,
           "gridcolor": "white",
           "linecolor": "white",
           "ticks": "",
           "title": {
            "standoff": 15
           },
           "zerolinecolor": "white",
           "zerolinewidth": 2
          },
          "yaxis": {
           "automargin": true,
           "gridcolor": "white",
           "linecolor": "white",
           "ticks": "",
           "title": {
            "standoff": 15
           },
           "zerolinecolor": "white",
           "zerolinewidth": 2
          }
         }
        },
        "xaxis": {
         "anchor": "y",
         "domain": [
          0,
          1
         ],
         "title": {
          "text": "Country Name"
         }
        },
        "yaxis": {
         "anchor": "x",
         "domain": [
          0,
          1
         ],
         "title": {
          "text": "Active Cases"
         }
        }
       }
      },
      "text/html": [
       "<div>\n",
       "        \n",
       "        \n",
       "            <div id=\"8ab4b193-a702-4ca8-8c4e-d7063da0e711\" class=\"plotly-graph-div\" style=\"height:525px; width:100%;\"></div>\n",
       "            <script type=\"text/javascript\">\n",
       "                require([\"plotly\"], function(Plotly) {\n",
       "                    window.PLOTLYENV=window.PLOTLYENV || {};\n",
       "                    \n",
       "                if (document.getElementById(\"8ab4b193-a702-4ca8-8c4e-d7063da0e711\")) {\n",
       "                    Plotly.newPlot(\n",
       "                        '8ab4b193-a702-4ca8-8c4e-d7063da0e711',\n",
       "                        [{\"hovertemplate\": \"Country Name=%{x}<br>Active Cases=%{y}<extra></extra>\", \"legendgroup\": \"\", \"line\": {\"color\": \"#636efa\", \"dash\": \"solid\"}, \"mode\": \"lines\", \"name\": \"\", \"showlegend\": false, \"type\": \"scatter\", \"x\": [\"USA\", \"Spain\", \"Italy\", \"UK\", \"France\", \"Germany\", \"Turkey\", \"Russia\", \"Iran\", \"Brazil\", \"China\", \"Canada\", \"Belgium\", \"Peru\", \"Netherlands\", \"India\", \"Switzerland\", \"Ecuador\", \"Saudi Arabia\", \"Portugal\"], \"xaxis\": \"x\", \"y\": [940206, 76546, 102130, null, 93958, 29497, 64685, 117389, 13679, 49010, 558, 30803, 29964, 30899, null, 29899, 3959, 24781, 22873, 22683], \"yaxis\": \"y\"}],\n",
       "                        {\"legend\": {\"tracegroupgap\": 0}, \"margin\": {\"t\": 60}, \"template\": {\"data\": {\"bar\": [{\"error_x\": {\"color\": \"#2a3f5f\"}, \"error_y\": {\"color\": \"#2a3f5f\"}, \"marker\": {\"line\": {\"color\": \"#E5ECF6\", \"width\": 0.5}}, \"type\": \"bar\"}], \"barpolar\": [{\"marker\": {\"line\": {\"color\": \"#E5ECF6\", \"width\": 0.5}}, \"type\": \"barpolar\"}], \"carpet\": [{\"aaxis\": {\"endlinecolor\": \"#2a3f5f\", \"gridcolor\": \"white\", \"linecolor\": \"white\", \"minorgridcolor\": \"white\", \"startlinecolor\": \"#2a3f5f\"}, \"baxis\": {\"endlinecolor\": \"#2a3f5f\", \"gridcolor\": \"white\", \"linecolor\": \"white\", \"minorgridcolor\": \"white\", \"startlinecolor\": \"#2a3f5f\"}, \"type\": \"carpet\"}], \"choropleth\": [{\"colorbar\": {\"outlinewidth\": 0, \"ticks\": \"\"}, \"type\": \"choropleth\"}], \"contour\": [{\"colorbar\": {\"outlinewidth\": 0, \"ticks\": \"\"}, \"colorscale\": [[0.0, \"#0d0887\"], [0.1111111111111111, \"#46039f\"], [0.2222222222222222, \"#7201a8\"], [0.3333333333333333, \"#9c179e\"], [0.4444444444444444, \"#bd3786\"], [0.5555555555555556, \"#d8576b\"], [0.6666666666666666, \"#ed7953\"], [0.7777777777777778, \"#fb9f3a\"], [0.8888888888888888, \"#fdca26\"], [1.0, \"#f0f921\"]], \"type\": \"contour\"}], \"contourcarpet\": [{\"colorbar\": {\"outlinewidth\": 0, \"ticks\": \"\"}, \"type\": \"contourcarpet\"}], \"heatmap\": [{\"colorbar\": {\"outlinewidth\": 0, \"ticks\": \"\"}, \"colorscale\": [[0.0, \"#0d0887\"], [0.1111111111111111, \"#46039f\"], [0.2222222222222222, \"#7201a8\"], [0.3333333333333333, \"#9c179e\"], [0.4444444444444444, \"#bd3786\"], [0.5555555555555556, \"#d8576b\"], [0.6666666666666666, \"#ed7953\"], [0.7777777777777778, \"#fb9f3a\"], [0.8888888888888888, \"#fdca26\"], [1.0, \"#f0f921\"]], \"type\": \"heatmap\"}], \"heatmapgl\": [{\"colorbar\": {\"outlinewidth\": 0, \"ticks\": \"\"}, \"colorscale\": [[0.0, \"#0d0887\"], [0.1111111111111111, \"#46039f\"], [0.2222222222222222, \"#7201a8\"], [0.3333333333333333, \"#9c179e\"], [0.4444444444444444, \"#bd3786\"], [0.5555555555555556, \"#d8576b\"], [0.6666666666666666, \"#ed7953\"], [0.7777777777777778, \"#fb9f3a\"], [0.8888888888888888, \"#fdca26\"], [1.0, \"#f0f921\"]], \"type\": \"heatmapgl\"}], \"histogram\": [{\"marker\": {\"colorbar\": {\"outlinewidth\": 0, \"ticks\": \"\"}}, \"type\": \"histogram\"}], \"histogram2d\": [{\"colorbar\": {\"outlinewidth\": 0, \"ticks\": \"\"}, \"colorscale\": [[0.0, \"#0d0887\"], [0.1111111111111111, \"#46039f\"], [0.2222222222222222, \"#7201a8\"], [0.3333333333333333, \"#9c179e\"], [0.4444444444444444, \"#bd3786\"], [0.5555555555555556, \"#d8576b\"], [0.6666666666666666, \"#ed7953\"], [0.7777777777777778, \"#fb9f3a\"], [0.8888888888888888, \"#fdca26\"], [1.0, \"#f0f921\"]], \"type\": \"histogram2d\"}], \"histogram2dcontour\": [{\"colorbar\": {\"outlinewidth\": 0, \"ticks\": \"\"}, \"colorscale\": [[0.0, \"#0d0887\"], [0.1111111111111111, \"#46039f\"], [0.2222222222222222, \"#7201a8\"], [0.3333333333333333, \"#9c179e\"], [0.4444444444444444, \"#bd3786\"], [0.5555555555555556, \"#d8576b\"], [0.6666666666666666, \"#ed7953\"], [0.7777777777777778, \"#fb9f3a\"], [0.8888888888888888, \"#fdca26\"], [1.0, \"#f0f921\"]], \"type\": \"histogram2dcontour\"}], \"mesh3d\": [{\"colorbar\": {\"outlinewidth\": 0, \"ticks\": \"\"}, \"type\": \"mesh3d\"}], \"parcoords\": [{\"line\": {\"colorbar\": {\"outlinewidth\": 0, \"ticks\": \"\"}}, \"type\": \"parcoords\"}], \"pie\": [{\"automargin\": true, \"type\": \"pie\"}], \"scatter\": [{\"marker\": {\"colorbar\": {\"outlinewidth\": 0, \"ticks\": \"\"}}, \"type\": \"scatter\"}], \"scatter3d\": [{\"line\": {\"colorbar\": {\"outlinewidth\": 0, \"ticks\": \"\"}}, \"marker\": {\"colorbar\": {\"outlinewidth\": 0, \"ticks\": \"\"}}, \"type\": \"scatter3d\"}], \"scattercarpet\": [{\"marker\": {\"colorbar\": {\"outlinewidth\": 0, \"ticks\": \"\"}}, \"type\": \"scattercarpet\"}], \"scattergeo\": [{\"marker\": {\"colorbar\": {\"outlinewidth\": 0, \"ticks\": \"\"}}, \"type\": \"scattergeo\"}], \"scattergl\": [{\"marker\": {\"colorbar\": {\"outlinewidth\": 0, \"ticks\": \"\"}}, \"type\": \"scattergl\"}], \"scattermapbox\": [{\"marker\": {\"colorbar\": {\"outlinewidth\": 0, \"ticks\": \"\"}}, \"type\": \"scattermapbox\"}], \"scatterpolar\": [{\"marker\": {\"colorbar\": {\"outlinewidth\": 0, \"ticks\": \"\"}}, \"type\": \"scatterpolar\"}], \"scatterpolargl\": [{\"marker\": {\"colorbar\": {\"outlinewidth\": 0, \"ticks\": \"\"}}, \"type\": \"scatterpolargl\"}], \"scatterternary\": [{\"marker\": {\"colorbar\": {\"outlinewidth\": 0, \"ticks\": \"\"}}, \"type\": \"scatterternary\"}], \"surface\": [{\"colorbar\": {\"outlinewidth\": 0, \"ticks\": \"\"}, \"colorscale\": [[0.0, \"#0d0887\"], [0.1111111111111111, \"#46039f\"], [0.2222222222222222, \"#7201a8\"], [0.3333333333333333, \"#9c179e\"], [0.4444444444444444, \"#bd3786\"], [0.5555555555555556, \"#d8576b\"], [0.6666666666666666, \"#ed7953\"], [0.7777777777777778, \"#fb9f3a\"], [0.8888888888888888, \"#fdca26\"], [1.0, \"#f0f921\"]], \"type\": \"surface\"}], \"table\": [{\"cells\": {\"fill\": {\"color\": \"#EBF0F8\"}, \"line\": {\"color\": \"white\"}}, \"header\": {\"fill\": {\"color\": \"#C8D4E3\"}, \"line\": {\"color\": \"white\"}}, \"type\": \"table\"}]}, \"layout\": {\"annotationdefaults\": {\"arrowcolor\": \"#2a3f5f\", \"arrowhead\": 0, \"arrowwidth\": 1}, \"coloraxis\": {\"colorbar\": {\"outlinewidth\": 0, \"ticks\": \"\"}}, \"colorscale\": {\"diverging\": [[0, \"#8e0152\"], [0.1, \"#c51b7d\"], [0.2, \"#de77ae\"], [0.3, \"#f1b6da\"], [0.4, \"#fde0ef\"], [0.5, \"#f7f7f7\"], [0.6, \"#e6f5d0\"], [0.7, \"#b8e186\"], [0.8, \"#7fbc41\"], [0.9, \"#4d9221\"], [1, \"#276419\"]], \"sequential\": [[0.0, \"#0d0887\"], [0.1111111111111111, \"#46039f\"], [0.2222222222222222, \"#7201a8\"], [0.3333333333333333, \"#9c179e\"], [0.4444444444444444, \"#bd3786\"], [0.5555555555555556, \"#d8576b\"], [0.6666666666666666, \"#ed7953\"], [0.7777777777777778, \"#fb9f3a\"], [0.8888888888888888, \"#fdca26\"], [1.0, \"#f0f921\"]], \"sequentialminus\": [[0.0, \"#0d0887\"], [0.1111111111111111, \"#46039f\"], [0.2222222222222222, \"#7201a8\"], [0.3333333333333333, \"#9c179e\"], [0.4444444444444444, \"#bd3786\"], [0.5555555555555556, \"#d8576b\"], [0.6666666666666666, \"#ed7953\"], [0.7777777777777778, \"#fb9f3a\"], [0.8888888888888888, \"#fdca26\"], [1.0, \"#f0f921\"]]}, \"colorway\": [\"#636efa\", \"#EF553B\", \"#00cc96\", \"#ab63fa\", \"#FFA15A\", \"#19d3f3\", \"#FF6692\", \"#B6E880\", \"#FF97FF\", \"#FECB52\"], \"font\": {\"color\": \"#2a3f5f\"}, \"geo\": {\"bgcolor\": \"white\", \"lakecolor\": \"white\", \"landcolor\": \"#E5ECF6\", \"showlakes\": true, \"showland\": true, \"subunitcolor\": \"white\"}, \"hoverlabel\": {\"align\": \"left\"}, \"hovermode\": \"closest\", \"mapbox\": {\"style\": \"light\"}, \"paper_bgcolor\": \"white\", \"plot_bgcolor\": \"#E5ECF6\", \"polar\": {\"angularaxis\": {\"gridcolor\": \"white\", \"linecolor\": \"white\", \"ticks\": \"\"}, \"bgcolor\": \"#E5ECF6\", \"radialaxis\": {\"gridcolor\": \"white\", \"linecolor\": \"white\", \"ticks\": \"\"}}, \"scene\": {\"xaxis\": {\"backgroundcolor\": \"#E5ECF6\", \"gridcolor\": \"white\", \"gridwidth\": 2, \"linecolor\": \"white\", \"showbackground\": true, \"ticks\": \"\", \"zerolinecolor\": \"white\"}, \"yaxis\": {\"backgroundcolor\": \"#E5ECF6\", \"gridcolor\": \"white\", \"gridwidth\": 2, \"linecolor\": \"white\", \"showbackground\": true, \"ticks\": \"\", \"zerolinecolor\": \"white\"}, \"zaxis\": {\"backgroundcolor\": \"#E5ECF6\", \"gridcolor\": \"white\", \"gridwidth\": 2, \"linecolor\": \"white\", \"showbackground\": true, \"ticks\": \"\", \"zerolinecolor\": \"white\"}}, \"shapedefaults\": {\"line\": {\"color\": \"#2a3f5f\"}}, \"ternary\": {\"aaxis\": {\"gridcolor\": \"white\", \"linecolor\": \"white\", \"ticks\": \"\"}, \"baxis\": {\"gridcolor\": \"white\", \"linecolor\": \"white\", \"ticks\": \"\"}, \"bgcolor\": \"#E5ECF6\", \"caxis\": {\"gridcolor\": \"white\", \"linecolor\": \"white\", \"ticks\": \"\"}}, \"title\": {\"x\": 0.05}, \"xaxis\": {\"automargin\": true, \"gridcolor\": \"white\", \"linecolor\": \"white\", \"ticks\": \"\", \"title\": {\"standoff\": 15}, \"zerolinecolor\": \"white\", \"zerolinewidth\": 2}, \"yaxis\": {\"automargin\": true, \"gridcolor\": \"white\", \"linecolor\": \"white\", \"ticks\": \"\", \"title\": {\"standoff\": 15}, \"zerolinecolor\": \"white\", \"zerolinewidth\": 2}}}, \"xaxis\": {\"anchor\": \"y\", \"domain\": [0.0, 1.0], \"title\": {\"text\": \"Country Name\"}}, \"yaxis\": {\"anchor\": \"x\", \"domain\": [0.0, 1.0], \"title\": {\"text\": \"Active Cases\"}}},\n",
       "                        {\"responsive\": true}\n",
       "                    ).then(function(){\n",
       "                            \n",
       "var gd = document.getElementById('8ab4b193-a702-4ca8-8c4e-d7063da0e711');\n",
       "var x = new MutationObserver(function (mutations, observer) {{\n",
       "        var display = window.getComputedStyle(gd).display;\n",
       "        if (!display || display === 'none') {{\n",
       "            console.log([gd, 'removed!']);\n",
       "            Plotly.purge(gd);\n",
       "            observer.disconnect();\n",
       "        }}\n",
       "}});\n",
       "\n",
       "// Listen for the removal of the full notebook cells\n",
       "var notebookContainer = gd.closest('#notebook-container');\n",
       "if (notebookContainer) {{\n",
       "    x.observe(notebookContainer, {childList: true});\n",
       "}}\n",
       "\n",
       "// Listen for the clearing of the current output cell\n",
       "var outputEl = gd.closest('.output');\n",
       "if (outputEl) {{\n",
       "    x.observe(outputEl, {childList: true});\n",
       "}}\n",
       "\n",
       "                        })\n",
       "                };\n",
       "                });\n",
       "            </script>\n",
       "        </div>"
      ]
     },
     "metadata": {},
     "output_type": "display_data"
    }
   ],
   "source": [
    "px.line(df,x='Country Name',y='Active Cases')"
   ]
  },
  {
   "cell_type": "code",
   "execution_count": 62,
   "metadata": {},
   "outputs": [
    {
     "data": {
      "application/vnd.plotly.v1+json": {
       "config": {
        "plotlyServerURL": "https://plot.ly"
       },
       "data": [
        {
         "domain": {
          "x": [
           0,
           1
          ],
          "y": [
           0,
           1
          ]
         },
         "hovertemplate": "Country Name=%{label}<br>Total cases=%{value}<extra></extra>",
         "labels": [
          "USA",
          "Spain",
          "Italy",
          "UK",
          "France",
          "Germany",
          "Turkey",
          "Russia",
          "Iran",
          "Brazil",
          "China",
          "Canada",
          "Belgium",
          "Peru",
          "Netherlands",
          "India",
          "Switzerland",
          "Ecuador",
          "Saudi Arabia",
          "Portugal"
         ],
         "legendgroup": "",
         "name": "",
         "showlegend": true,
         "type": "pie",
         "values": [
          1178832,
          248155,
          211228,
          187066,
          169446,
          165327,
          126358,
          133677,
          97250,
          93621,
          82876,
          58161,
          50002,
          44609,
          40681,
          42141,
          29929,
          28592,
          26821,
          25393
         ]
        }
       ],
       "layout": {
        "legend": {
         "tracegroupgap": 0
        },
        "margin": {
         "t": 60
        },
        "template": {
         "data": {
          "bar": [
           {
            "error_x": {
             "color": "#2a3f5f"
            },
            "error_y": {
             "color": "#2a3f5f"
            },
            "marker": {
             "line": {
              "color": "#E5ECF6",
              "width": 0.5
             }
            },
            "type": "bar"
           }
          ],
          "barpolar": [
           {
            "marker": {
             "line": {
              "color": "#E5ECF6",
              "width": 0.5
             }
            },
            "type": "barpolar"
           }
          ],
          "carpet": [
           {
            "aaxis": {
             "endlinecolor": "#2a3f5f",
             "gridcolor": "white",
             "linecolor": "white",
             "minorgridcolor": "white",
             "startlinecolor": "#2a3f5f"
            },
            "baxis": {
             "endlinecolor": "#2a3f5f",
             "gridcolor": "white",
             "linecolor": "white",
             "minorgridcolor": "white",
             "startlinecolor": "#2a3f5f"
            },
            "type": "carpet"
           }
          ],
          "choropleth": [
           {
            "colorbar": {
             "outlinewidth": 0,
             "ticks": ""
            },
            "type": "choropleth"
           }
          ],
          "contour": [
           {
            "colorbar": {
             "outlinewidth": 0,
             "ticks": ""
            },
            "colorscale": [
             [
              0,
              "#0d0887"
             ],
             [
              0.1111111111111111,
              "#46039f"
             ],
             [
              0.2222222222222222,
              "#7201a8"
             ],
             [
              0.3333333333333333,
              "#9c179e"
             ],
             [
              0.4444444444444444,
              "#bd3786"
             ],
             [
              0.5555555555555556,
              "#d8576b"
             ],
             [
              0.6666666666666666,
              "#ed7953"
             ],
             [
              0.7777777777777778,
              "#fb9f3a"
             ],
             [
              0.8888888888888888,
              "#fdca26"
             ],
             [
              1,
              "#f0f921"
             ]
            ],
            "type": "contour"
           }
          ],
          "contourcarpet": [
           {
            "colorbar": {
             "outlinewidth": 0,
             "ticks": ""
            },
            "type": "contourcarpet"
           }
          ],
          "heatmap": [
           {
            "colorbar": {
             "outlinewidth": 0,
             "ticks": ""
            },
            "colorscale": [
             [
              0,
              "#0d0887"
             ],
             [
              0.1111111111111111,
              "#46039f"
             ],
             [
              0.2222222222222222,
              "#7201a8"
             ],
             [
              0.3333333333333333,
              "#9c179e"
             ],
             [
              0.4444444444444444,
              "#bd3786"
             ],
             [
              0.5555555555555556,
              "#d8576b"
             ],
             [
              0.6666666666666666,
              "#ed7953"
             ],
             [
              0.7777777777777778,
              "#fb9f3a"
             ],
             [
              0.8888888888888888,
              "#fdca26"
             ],
             [
              1,
              "#f0f921"
             ]
            ],
            "type": "heatmap"
           }
          ],
          "heatmapgl": [
           {
            "colorbar": {
             "outlinewidth": 0,
             "ticks": ""
            },
            "colorscale": [
             [
              0,
              "#0d0887"
             ],
             [
              0.1111111111111111,
              "#46039f"
             ],
             [
              0.2222222222222222,
              "#7201a8"
             ],
             [
              0.3333333333333333,
              "#9c179e"
             ],
             [
              0.4444444444444444,
              "#bd3786"
             ],
             [
              0.5555555555555556,
              "#d8576b"
             ],
             [
              0.6666666666666666,
              "#ed7953"
             ],
             [
              0.7777777777777778,
              "#fb9f3a"
             ],
             [
              0.8888888888888888,
              "#fdca26"
             ],
             [
              1,
              "#f0f921"
             ]
            ],
            "type": "heatmapgl"
           }
          ],
          "histogram": [
           {
            "marker": {
             "colorbar": {
              "outlinewidth": 0,
              "ticks": ""
             }
            },
            "type": "histogram"
           }
          ],
          "histogram2d": [
           {
            "colorbar": {
             "outlinewidth": 0,
             "ticks": ""
            },
            "colorscale": [
             [
              0,
              "#0d0887"
             ],
             [
              0.1111111111111111,
              "#46039f"
             ],
             [
              0.2222222222222222,
              "#7201a8"
             ],
             [
              0.3333333333333333,
              "#9c179e"
             ],
             [
              0.4444444444444444,
              "#bd3786"
             ],
             [
              0.5555555555555556,
              "#d8576b"
             ],
             [
              0.6666666666666666,
              "#ed7953"
             ],
             [
              0.7777777777777778,
              "#fb9f3a"
             ],
             [
              0.8888888888888888,
              "#fdca26"
             ],
             [
              1,
              "#f0f921"
             ]
            ],
            "type": "histogram2d"
           }
          ],
          "histogram2dcontour": [
           {
            "colorbar": {
             "outlinewidth": 0,
             "ticks": ""
            },
            "colorscale": [
             [
              0,
              "#0d0887"
             ],
             [
              0.1111111111111111,
              "#46039f"
             ],
             [
              0.2222222222222222,
              "#7201a8"
             ],
             [
              0.3333333333333333,
              "#9c179e"
             ],
             [
              0.4444444444444444,
              "#bd3786"
             ],
             [
              0.5555555555555556,
              "#d8576b"
             ],
             [
              0.6666666666666666,
              "#ed7953"
             ],
             [
              0.7777777777777778,
              "#fb9f3a"
             ],
             [
              0.8888888888888888,
              "#fdca26"
             ],
             [
              1,
              "#f0f921"
             ]
            ],
            "type": "histogram2dcontour"
           }
          ],
          "mesh3d": [
           {
            "colorbar": {
             "outlinewidth": 0,
             "ticks": ""
            },
            "type": "mesh3d"
           }
          ],
          "parcoords": [
           {
            "line": {
             "colorbar": {
              "outlinewidth": 0,
              "ticks": ""
             }
            },
            "type": "parcoords"
           }
          ],
          "pie": [
           {
            "automargin": true,
            "type": "pie"
           }
          ],
          "scatter": [
           {
            "marker": {
             "colorbar": {
              "outlinewidth": 0,
              "ticks": ""
             }
            },
            "type": "scatter"
           }
          ],
          "scatter3d": [
           {
            "line": {
             "colorbar": {
              "outlinewidth": 0,
              "ticks": ""
             }
            },
            "marker": {
             "colorbar": {
              "outlinewidth": 0,
              "ticks": ""
             }
            },
            "type": "scatter3d"
           }
          ],
          "scattercarpet": [
           {
            "marker": {
             "colorbar": {
              "outlinewidth": 0,
              "ticks": ""
             }
            },
            "type": "scattercarpet"
           }
          ],
          "scattergeo": [
           {
            "marker": {
             "colorbar": {
              "outlinewidth": 0,
              "ticks": ""
             }
            },
            "type": "scattergeo"
           }
          ],
          "scattergl": [
           {
            "marker": {
             "colorbar": {
              "outlinewidth": 0,
              "ticks": ""
             }
            },
            "type": "scattergl"
           }
          ],
          "scattermapbox": [
           {
            "marker": {
             "colorbar": {
              "outlinewidth": 0,
              "ticks": ""
             }
            },
            "type": "scattermapbox"
           }
          ],
          "scatterpolar": [
           {
            "marker": {
             "colorbar": {
              "outlinewidth": 0,
              "ticks": ""
             }
            },
            "type": "scatterpolar"
           }
          ],
          "scatterpolargl": [
           {
            "marker": {
             "colorbar": {
              "outlinewidth": 0,
              "ticks": ""
             }
            },
            "type": "scatterpolargl"
           }
          ],
          "scatterternary": [
           {
            "marker": {
             "colorbar": {
              "outlinewidth": 0,
              "ticks": ""
             }
            },
            "type": "scatterternary"
           }
          ],
          "surface": [
           {
            "colorbar": {
             "outlinewidth": 0,
             "ticks": ""
            },
            "colorscale": [
             [
              0,
              "#0d0887"
             ],
             [
              0.1111111111111111,
              "#46039f"
             ],
             [
              0.2222222222222222,
              "#7201a8"
             ],
             [
              0.3333333333333333,
              "#9c179e"
             ],
             [
              0.4444444444444444,
              "#bd3786"
             ],
             [
              0.5555555555555556,
              "#d8576b"
             ],
             [
              0.6666666666666666,
              "#ed7953"
             ],
             [
              0.7777777777777778,
              "#fb9f3a"
             ],
             [
              0.8888888888888888,
              "#fdca26"
             ],
             [
              1,
              "#f0f921"
             ]
            ],
            "type": "surface"
           }
          ],
          "table": [
           {
            "cells": {
             "fill": {
              "color": "#EBF0F8"
             },
             "line": {
              "color": "white"
             }
            },
            "header": {
             "fill": {
              "color": "#C8D4E3"
             },
             "line": {
              "color": "white"
             }
            },
            "type": "table"
           }
          ]
         },
         "layout": {
          "annotationdefaults": {
           "arrowcolor": "#2a3f5f",
           "arrowhead": 0,
           "arrowwidth": 1
          },
          "coloraxis": {
           "colorbar": {
            "outlinewidth": 0,
            "ticks": ""
           }
          },
          "colorscale": {
           "diverging": [
            [
             0,
             "#8e0152"
            ],
            [
             0.1,
             "#c51b7d"
            ],
            [
             0.2,
             "#de77ae"
            ],
            [
             0.3,
             "#f1b6da"
            ],
            [
             0.4,
             "#fde0ef"
            ],
            [
             0.5,
             "#f7f7f7"
            ],
            [
             0.6,
             "#e6f5d0"
            ],
            [
             0.7,
             "#b8e186"
            ],
            [
             0.8,
             "#7fbc41"
            ],
            [
             0.9,
             "#4d9221"
            ],
            [
             1,
             "#276419"
            ]
           ],
           "sequential": [
            [
             0,
             "#0d0887"
            ],
            [
             0.1111111111111111,
             "#46039f"
            ],
            [
             0.2222222222222222,
             "#7201a8"
            ],
            [
             0.3333333333333333,
             "#9c179e"
            ],
            [
             0.4444444444444444,
             "#bd3786"
            ],
            [
             0.5555555555555556,
             "#d8576b"
            ],
            [
             0.6666666666666666,
             "#ed7953"
            ],
            [
             0.7777777777777778,
             "#fb9f3a"
            ],
            [
             0.8888888888888888,
             "#fdca26"
            ],
            [
             1,
             "#f0f921"
            ]
           ],
           "sequentialminus": [
            [
             0,
             "#0d0887"
            ],
            [
             0.1111111111111111,
             "#46039f"
            ],
            [
             0.2222222222222222,
             "#7201a8"
            ],
            [
             0.3333333333333333,
             "#9c179e"
            ],
            [
             0.4444444444444444,
             "#bd3786"
            ],
            [
             0.5555555555555556,
             "#d8576b"
            ],
            [
             0.6666666666666666,
             "#ed7953"
            ],
            [
             0.7777777777777778,
             "#fb9f3a"
            ],
            [
             0.8888888888888888,
             "#fdca26"
            ],
            [
             1,
             "#f0f921"
            ]
           ]
          },
          "colorway": [
           "#636efa",
           "#EF553B",
           "#00cc96",
           "#ab63fa",
           "#FFA15A",
           "#19d3f3",
           "#FF6692",
           "#B6E880",
           "#FF97FF",
           "#FECB52"
          ],
          "font": {
           "color": "#2a3f5f"
          },
          "geo": {
           "bgcolor": "white",
           "lakecolor": "white",
           "landcolor": "#E5ECF6",
           "showlakes": true,
           "showland": true,
           "subunitcolor": "white"
          },
          "hoverlabel": {
           "align": "left"
          },
          "hovermode": "closest",
          "mapbox": {
           "style": "light"
          },
          "paper_bgcolor": "white",
          "plot_bgcolor": "#E5ECF6",
          "polar": {
           "angularaxis": {
            "gridcolor": "white",
            "linecolor": "white",
            "ticks": ""
           },
           "bgcolor": "#E5ECF6",
           "radialaxis": {
            "gridcolor": "white",
            "linecolor": "white",
            "ticks": ""
           }
          },
          "scene": {
           "xaxis": {
            "backgroundcolor": "#E5ECF6",
            "gridcolor": "white",
            "gridwidth": 2,
            "linecolor": "white",
            "showbackground": true,
            "ticks": "",
            "zerolinecolor": "white"
           },
           "yaxis": {
            "backgroundcolor": "#E5ECF6",
            "gridcolor": "white",
            "gridwidth": 2,
            "linecolor": "white",
            "showbackground": true,
            "ticks": "",
            "zerolinecolor": "white"
           },
           "zaxis": {
            "backgroundcolor": "#E5ECF6",
            "gridcolor": "white",
            "gridwidth": 2,
            "linecolor": "white",
            "showbackground": true,
            "ticks": "",
            "zerolinecolor": "white"
           }
          },
          "shapedefaults": {
           "line": {
            "color": "#2a3f5f"
           }
          },
          "ternary": {
           "aaxis": {
            "gridcolor": "white",
            "linecolor": "white",
            "ticks": ""
           },
           "baxis": {
            "gridcolor": "white",
            "linecolor": "white",
            "ticks": ""
           },
           "bgcolor": "#E5ECF6",
           "caxis": {
            "gridcolor": "white",
            "linecolor": "white",
            "ticks": ""
           }
          },
          "title": {
           "x": 0.05
          },
          "xaxis": {
           "automargin": true,
           "gridcolor": "white",
           "linecolor": "white",
           "ticks": "",
           "title": {
            "standoff": 15
           },
           "zerolinecolor": "white",
           "zerolinewidth": 2
          },
          "yaxis": {
           "automargin": true,
           "gridcolor": "white",
           "linecolor": "white",
           "ticks": "",
           "title": {
            "standoff": 15
           },
           "zerolinecolor": "white",
           "zerolinewidth": 2
          }
         }
        }
       }
      },
      "text/html": [
       "<div>\n",
       "        \n",
       "        \n",
       "            <div id=\"a2db1bfb-e0b3-4692-a27b-b204e7e0efc2\" class=\"plotly-graph-div\" style=\"height:525px; width:100%;\"></div>\n",
       "            <script type=\"text/javascript\">\n",
       "                require([\"plotly\"], function(Plotly) {\n",
       "                    window.PLOTLYENV=window.PLOTLYENV || {};\n",
       "                    \n",
       "                if (document.getElementById(\"a2db1bfb-e0b3-4692-a27b-b204e7e0efc2\")) {\n",
       "                    Plotly.newPlot(\n",
       "                        'a2db1bfb-e0b3-4692-a27b-b204e7e0efc2',\n",
       "                        [{\"domain\": {\"x\": [0.0, 1.0], \"y\": [0.0, 1.0]}, \"hovertemplate\": \"Country Name=%{label}<br>Total cases=%{value}<extra></extra>\", \"labels\": [\"USA\", \"Spain\", \"Italy\", \"UK\", \"France\", \"Germany\", \"Turkey\", \"Russia\", \"Iran\", \"Brazil\", \"China\", \"Canada\", \"Belgium\", \"Peru\", \"Netherlands\", \"India\", \"Switzerland\", \"Ecuador\", \"Saudi Arabia\", \"Portugal\"], \"legendgroup\": \"\", \"name\": \"\", \"showlegend\": true, \"type\": \"pie\", \"values\": [1178832, 248155, 211228, 187066, 169446, 165327, 126358, 133677, 97250, 93621, 82876, 58161, 50002, 44609, 40681, 42141, 29929, 28592, 26821, 25393]}],\n",
       "                        {\"legend\": {\"tracegroupgap\": 0}, \"margin\": {\"t\": 60}, \"template\": {\"data\": {\"bar\": [{\"error_x\": {\"color\": \"#2a3f5f\"}, \"error_y\": {\"color\": \"#2a3f5f\"}, \"marker\": {\"line\": {\"color\": \"#E5ECF6\", \"width\": 0.5}}, \"type\": \"bar\"}], \"barpolar\": [{\"marker\": {\"line\": {\"color\": \"#E5ECF6\", \"width\": 0.5}}, \"type\": \"barpolar\"}], \"carpet\": [{\"aaxis\": {\"endlinecolor\": \"#2a3f5f\", \"gridcolor\": \"white\", \"linecolor\": \"white\", \"minorgridcolor\": \"white\", \"startlinecolor\": \"#2a3f5f\"}, \"baxis\": {\"endlinecolor\": \"#2a3f5f\", \"gridcolor\": \"white\", \"linecolor\": \"white\", \"minorgridcolor\": \"white\", \"startlinecolor\": \"#2a3f5f\"}, \"type\": \"carpet\"}], \"choropleth\": [{\"colorbar\": {\"outlinewidth\": 0, \"ticks\": \"\"}, \"type\": \"choropleth\"}], \"contour\": [{\"colorbar\": {\"outlinewidth\": 0, \"ticks\": \"\"}, \"colorscale\": [[0.0, \"#0d0887\"], [0.1111111111111111, \"#46039f\"], [0.2222222222222222, \"#7201a8\"], [0.3333333333333333, \"#9c179e\"], [0.4444444444444444, \"#bd3786\"], [0.5555555555555556, \"#d8576b\"], [0.6666666666666666, \"#ed7953\"], [0.7777777777777778, \"#fb9f3a\"], [0.8888888888888888, \"#fdca26\"], [1.0, \"#f0f921\"]], \"type\": \"contour\"}], \"contourcarpet\": [{\"colorbar\": {\"outlinewidth\": 0, \"ticks\": \"\"}, \"type\": \"contourcarpet\"}], \"heatmap\": [{\"colorbar\": {\"outlinewidth\": 0, \"ticks\": \"\"}, \"colorscale\": [[0.0, \"#0d0887\"], [0.1111111111111111, \"#46039f\"], [0.2222222222222222, \"#7201a8\"], [0.3333333333333333, \"#9c179e\"], [0.4444444444444444, \"#bd3786\"], [0.5555555555555556, \"#d8576b\"], [0.6666666666666666, \"#ed7953\"], [0.7777777777777778, \"#fb9f3a\"], [0.8888888888888888, \"#fdca26\"], [1.0, \"#f0f921\"]], \"type\": \"heatmap\"}], \"heatmapgl\": [{\"colorbar\": {\"outlinewidth\": 0, \"ticks\": \"\"}, \"colorscale\": [[0.0, \"#0d0887\"], [0.1111111111111111, \"#46039f\"], [0.2222222222222222, \"#7201a8\"], [0.3333333333333333, \"#9c179e\"], [0.4444444444444444, \"#bd3786\"], [0.5555555555555556, \"#d8576b\"], [0.6666666666666666, \"#ed7953\"], [0.7777777777777778, \"#fb9f3a\"], [0.8888888888888888, \"#fdca26\"], [1.0, \"#f0f921\"]], \"type\": \"heatmapgl\"}], \"histogram\": [{\"marker\": {\"colorbar\": {\"outlinewidth\": 0, \"ticks\": \"\"}}, \"type\": \"histogram\"}], \"histogram2d\": [{\"colorbar\": {\"outlinewidth\": 0, \"ticks\": \"\"}, \"colorscale\": [[0.0, \"#0d0887\"], [0.1111111111111111, \"#46039f\"], [0.2222222222222222, \"#7201a8\"], [0.3333333333333333, \"#9c179e\"], [0.4444444444444444, \"#bd3786\"], [0.5555555555555556, \"#d8576b\"], [0.6666666666666666, \"#ed7953\"], [0.7777777777777778, \"#fb9f3a\"], [0.8888888888888888, \"#fdca26\"], [1.0, \"#f0f921\"]], \"type\": \"histogram2d\"}], \"histogram2dcontour\": [{\"colorbar\": {\"outlinewidth\": 0, \"ticks\": \"\"}, \"colorscale\": [[0.0, \"#0d0887\"], [0.1111111111111111, \"#46039f\"], [0.2222222222222222, \"#7201a8\"], [0.3333333333333333, \"#9c179e\"], [0.4444444444444444, \"#bd3786\"], [0.5555555555555556, \"#d8576b\"], [0.6666666666666666, \"#ed7953\"], [0.7777777777777778, \"#fb9f3a\"], [0.8888888888888888, \"#fdca26\"], [1.0, \"#f0f921\"]], \"type\": \"histogram2dcontour\"}], \"mesh3d\": [{\"colorbar\": {\"outlinewidth\": 0, \"ticks\": \"\"}, \"type\": \"mesh3d\"}], \"parcoords\": [{\"line\": {\"colorbar\": {\"outlinewidth\": 0, \"ticks\": \"\"}}, \"type\": \"parcoords\"}], \"pie\": [{\"automargin\": true, \"type\": \"pie\"}], \"scatter\": [{\"marker\": {\"colorbar\": {\"outlinewidth\": 0, \"ticks\": \"\"}}, \"type\": \"scatter\"}], \"scatter3d\": [{\"line\": {\"colorbar\": {\"outlinewidth\": 0, \"ticks\": \"\"}}, \"marker\": {\"colorbar\": {\"outlinewidth\": 0, \"ticks\": \"\"}}, \"type\": \"scatter3d\"}], \"scattercarpet\": [{\"marker\": {\"colorbar\": {\"outlinewidth\": 0, \"ticks\": \"\"}}, \"type\": \"scattercarpet\"}], \"scattergeo\": [{\"marker\": {\"colorbar\": {\"outlinewidth\": 0, \"ticks\": \"\"}}, \"type\": \"scattergeo\"}], \"scattergl\": [{\"marker\": {\"colorbar\": {\"outlinewidth\": 0, \"ticks\": \"\"}}, \"type\": \"scattergl\"}], \"scattermapbox\": [{\"marker\": {\"colorbar\": {\"outlinewidth\": 0, \"ticks\": \"\"}}, \"type\": \"scattermapbox\"}], \"scatterpolar\": [{\"marker\": {\"colorbar\": {\"outlinewidth\": 0, \"ticks\": \"\"}}, \"type\": \"scatterpolar\"}], \"scatterpolargl\": [{\"marker\": {\"colorbar\": {\"outlinewidth\": 0, \"ticks\": \"\"}}, \"type\": \"scatterpolargl\"}], \"scatterternary\": [{\"marker\": {\"colorbar\": {\"outlinewidth\": 0, \"ticks\": \"\"}}, \"type\": \"scatterternary\"}], \"surface\": [{\"colorbar\": {\"outlinewidth\": 0, \"ticks\": \"\"}, \"colorscale\": [[0.0, \"#0d0887\"], [0.1111111111111111, \"#46039f\"], [0.2222222222222222, \"#7201a8\"], [0.3333333333333333, \"#9c179e\"], [0.4444444444444444, \"#bd3786\"], [0.5555555555555556, \"#d8576b\"], [0.6666666666666666, \"#ed7953\"], [0.7777777777777778, \"#fb9f3a\"], [0.8888888888888888, \"#fdca26\"], [1.0, \"#f0f921\"]], \"type\": \"surface\"}], \"table\": [{\"cells\": {\"fill\": {\"color\": \"#EBF0F8\"}, \"line\": {\"color\": \"white\"}}, \"header\": {\"fill\": {\"color\": \"#C8D4E3\"}, \"line\": {\"color\": \"white\"}}, \"type\": \"table\"}]}, \"layout\": {\"annotationdefaults\": {\"arrowcolor\": \"#2a3f5f\", \"arrowhead\": 0, \"arrowwidth\": 1}, \"coloraxis\": {\"colorbar\": {\"outlinewidth\": 0, \"ticks\": \"\"}}, \"colorscale\": {\"diverging\": [[0, \"#8e0152\"], [0.1, \"#c51b7d\"], [0.2, \"#de77ae\"], [0.3, \"#f1b6da\"], [0.4, \"#fde0ef\"], [0.5, \"#f7f7f7\"], [0.6, \"#e6f5d0\"], [0.7, \"#b8e186\"], [0.8, \"#7fbc41\"], [0.9, \"#4d9221\"], [1, \"#276419\"]], \"sequential\": [[0.0, \"#0d0887\"], [0.1111111111111111, \"#46039f\"], [0.2222222222222222, \"#7201a8\"], [0.3333333333333333, \"#9c179e\"], [0.4444444444444444, \"#bd3786\"], [0.5555555555555556, \"#d8576b\"], [0.6666666666666666, \"#ed7953\"], [0.7777777777777778, \"#fb9f3a\"], [0.8888888888888888, \"#fdca26\"], [1.0, \"#f0f921\"]], \"sequentialminus\": [[0.0, \"#0d0887\"], [0.1111111111111111, \"#46039f\"], [0.2222222222222222, \"#7201a8\"], [0.3333333333333333, \"#9c179e\"], [0.4444444444444444, \"#bd3786\"], [0.5555555555555556, \"#d8576b\"], [0.6666666666666666, \"#ed7953\"], [0.7777777777777778, \"#fb9f3a\"], [0.8888888888888888, \"#fdca26\"], [1.0, \"#f0f921\"]]}, \"colorway\": [\"#636efa\", \"#EF553B\", \"#00cc96\", \"#ab63fa\", \"#FFA15A\", \"#19d3f3\", \"#FF6692\", \"#B6E880\", \"#FF97FF\", \"#FECB52\"], \"font\": {\"color\": \"#2a3f5f\"}, \"geo\": {\"bgcolor\": \"white\", \"lakecolor\": \"white\", \"landcolor\": \"#E5ECF6\", \"showlakes\": true, \"showland\": true, \"subunitcolor\": \"white\"}, \"hoverlabel\": {\"align\": \"left\"}, \"hovermode\": \"closest\", \"mapbox\": {\"style\": \"light\"}, \"paper_bgcolor\": \"white\", \"plot_bgcolor\": \"#E5ECF6\", \"polar\": {\"angularaxis\": {\"gridcolor\": \"white\", \"linecolor\": \"white\", \"ticks\": \"\"}, \"bgcolor\": \"#E5ECF6\", \"radialaxis\": {\"gridcolor\": \"white\", \"linecolor\": \"white\", \"ticks\": \"\"}}, \"scene\": {\"xaxis\": {\"backgroundcolor\": \"#E5ECF6\", \"gridcolor\": \"white\", \"gridwidth\": 2, \"linecolor\": \"white\", \"showbackground\": true, \"ticks\": \"\", \"zerolinecolor\": \"white\"}, \"yaxis\": {\"backgroundcolor\": \"#E5ECF6\", \"gridcolor\": \"white\", \"gridwidth\": 2, \"linecolor\": \"white\", \"showbackground\": true, \"ticks\": \"\", \"zerolinecolor\": \"white\"}, \"zaxis\": {\"backgroundcolor\": \"#E5ECF6\", \"gridcolor\": \"white\", \"gridwidth\": 2, \"linecolor\": \"white\", \"showbackground\": true, \"ticks\": \"\", \"zerolinecolor\": \"white\"}}, \"shapedefaults\": {\"line\": {\"color\": \"#2a3f5f\"}}, \"ternary\": {\"aaxis\": {\"gridcolor\": \"white\", \"linecolor\": \"white\", \"ticks\": \"\"}, \"baxis\": {\"gridcolor\": \"white\", \"linecolor\": \"white\", \"ticks\": \"\"}, \"bgcolor\": \"#E5ECF6\", \"caxis\": {\"gridcolor\": \"white\", \"linecolor\": \"white\", \"ticks\": \"\"}}, \"title\": {\"x\": 0.05}, \"xaxis\": {\"automargin\": true, \"gridcolor\": \"white\", \"linecolor\": \"white\", \"ticks\": \"\", \"title\": {\"standoff\": 15}, \"zerolinecolor\": \"white\", \"zerolinewidth\": 2}, \"yaxis\": {\"automargin\": true, \"gridcolor\": \"white\", \"linecolor\": \"white\", \"ticks\": \"\", \"title\": {\"standoff\": 15}, \"zerolinecolor\": \"white\", \"zerolinewidth\": 2}}}},\n",
       "                        {\"responsive\": true}\n",
       "                    ).then(function(){\n",
       "                            \n",
       "var gd = document.getElementById('a2db1bfb-e0b3-4692-a27b-b204e7e0efc2');\n",
       "var x = new MutationObserver(function (mutations, observer) {{\n",
       "        var display = window.getComputedStyle(gd).display;\n",
       "        if (!display || display === 'none') {{\n",
       "            console.log([gd, 'removed!']);\n",
       "            Plotly.purge(gd);\n",
       "            observer.disconnect();\n",
       "        }}\n",
       "}});\n",
       "\n",
       "// Listen for the removal of the full notebook cells\n",
       "var notebookContainer = gd.closest('#notebook-container');\n",
       "if (notebookContainer) {{\n",
       "    x.observe(notebookContainer, {childList: true});\n",
       "}}\n",
       "\n",
       "// Listen for the clearing of the current output cell\n",
       "var outputEl = gd.closest('.output');\n",
       "if (outputEl) {{\n",
       "    x.observe(outputEl, {childList: true});\n",
       "}}\n",
       "\n",
       "                        })\n",
       "                };\n",
       "                });\n",
       "            </script>\n",
       "        </div>"
      ]
     },
     "metadata": {},
     "output_type": "display_data"
    }
   ],
   "source": [
    "px.pie(df,names='Country Name',values='Total cases')"
   ]
  },
  {
   "cell_type": "code",
   "execution_count": 66,
   "metadata": {},
   "outputs": [
    {
     "data": {
      "application/vnd.plotly.v1+json": {
       "config": {
        "plotlyServerURL": "https://plot.ly"
       },
       "data": [
        {
         "domain": {
          "x": [
           0,
           1
          ],
          "y": [
           0,
           1
          ]
         },
         "hovertemplate": "Country Name=%{label}<br>Active Cases=%{value}<extra></extra>",
         "labels": [
          "USA",
          "Spain",
          "Italy",
          "UK",
          "France",
          "Germany",
          "Turkey",
          "Russia",
          "Iran",
          "Brazil",
          "China",
          "Canada",
          "Belgium",
          "Peru",
          "Netherlands",
          "India",
          "Switzerland",
          "Ecuador",
          "Saudi Arabia",
          "Portugal"
         ],
         "legendgroup": "",
         "name": "",
         "showlegend": true,
         "type": "pie",
         "values": [
          940206,
          76546,
          102130,
          null,
          93958,
          29497,
          64685,
          117389,
          13679,
          49010,
          558,
          30803,
          29964,
          30899,
          null,
          29899,
          3959,
          24781,
          22873,
          22683
         ]
        }
       ],
       "layout": {
        "legend": {
         "tracegroupgap": 0
        },
        "margin": {
         "t": 60
        },
        "template": {
         "data": {
          "bar": [
           {
            "error_x": {
             "color": "#2a3f5f"
            },
            "error_y": {
             "color": "#2a3f5f"
            },
            "marker": {
             "line": {
              "color": "#E5ECF6",
              "width": 0.5
             }
            },
            "type": "bar"
           }
          ],
          "barpolar": [
           {
            "marker": {
             "line": {
              "color": "#E5ECF6",
              "width": 0.5
             }
            },
            "type": "barpolar"
           }
          ],
          "carpet": [
           {
            "aaxis": {
             "endlinecolor": "#2a3f5f",
             "gridcolor": "white",
             "linecolor": "white",
             "minorgridcolor": "white",
             "startlinecolor": "#2a3f5f"
            },
            "baxis": {
             "endlinecolor": "#2a3f5f",
             "gridcolor": "white",
             "linecolor": "white",
             "minorgridcolor": "white",
             "startlinecolor": "#2a3f5f"
            },
            "type": "carpet"
           }
          ],
          "choropleth": [
           {
            "colorbar": {
             "outlinewidth": 0,
             "ticks": ""
            },
            "type": "choropleth"
           }
          ],
          "contour": [
           {
            "colorbar": {
             "outlinewidth": 0,
             "ticks": ""
            },
            "colorscale": [
             [
              0,
              "#0d0887"
             ],
             [
              0.1111111111111111,
              "#46039f"
             ],
             [
              0.2222222222222222,
              "#7201a8"
             ],
             [
              0.3333333333333333,
              "#9c179e"
             ],
             [
              0.4444444444444444,
              "#bd3786"
             ],
             [
              0.5555555555555556,
              "#d8576b"
             ],
             [
              0.6666666666666666,
              "#ed7953"
             ],
             [
              0.7777777777777778,
              "#fb9f3a"
             ],
             [
              0.8888888888888888,
              "#fdca26"
             ],
             [
              1,
              "#f0f921"
             ]
            ],
            "type": "contour"
           }
          ],
          "contourcarpet": [
           {
            "colorbar": {
             "outlinewidth": 0,
             "ticks": ""
            },
            "type": "contourcarpet"
           }
          ],
          "heatmap": [
           {
            "colorbar": {
             "outlinewidth": 0,
             "ticks": ""
            },
            "colorscale": [
             [
              0,
              "#0d0887"
             ],
             [
              0.1111111111111111,
              "#46039f"
             ],
             [
              0.2222222222222222,
              "#7201a8"
             ],
             [
              0.3333333333333333,
              "#9c179e"
             ],
             [
              0.4444444444444444,
              "#bd3786"
             ],
             [
              0.5555555555555556,
              "#d8576b"
             ],
             [
              0.6666666666666666,
              "#ed7953"
             ],
             [
              0.7777777777777778,
              "#fb9f3a"
             ],
             [
              0.8888888888888888,
              "#fdca26"
             ],
             [
              1,
              "#f0f921"
             ]
            ],
            "type": "heatmap"
           }
          ],
          "heatmapgl": [
           {
            "colorbar": {
             "outlinewidth": 0,
             "ticks": ""
            },
            "colorscale": [
             [
              0,
              "#0d0887"
             ],
             [
              0.1111111111111111,
              "#46039f"
             ],
             [
              0.2222222222222222,
              "#7201a8"
             ],
             [
              0.3333333333333333,
              "#9c179e"
             ],
             [
              0.4444444444444444,
              "#bd3786"
             ],
             [
              0.5555555555555556,
              "#d8576b"
             ],
             [
              0.6666666666666666,
              "#ed7953"
             ],
             [
              0.7777777777777778,
              "#fb9f3a"
             ],
             [
              0.8888888888888888,
              "#fdca26"
             ],
             [
              1,
              "#f0f921"
             ]
            ],
            "type": "heatmapgl"
           }
          ],
          "histogram": [
           {
            "marker": {
             "colorbar": {
              "outlinewidth": 0,
              "ticks": ""
             }
            },
            "type": "histogram"
           }
          ],
          "histogram2d": [
           {
            "colorbar": {
             "outlinewidth": 0,
             "ticks": ""
            },
            "colorscale": [
             [
              0,
              "#0d0887"
             ],
             [
              0.1111111111111111,
              "#46039f"
             ],
             [
              0.2222222222222222,
              "#7201a8"
             ],
             [
              0.3333333333333333,
              "#9c179e"
             ],
             [
              0.4444444444444444,
              "#bd3786"
             ],
             [
              0.5555555555555556,
              "#d8576b"
             ],
             [
              0.6666666666666666,
              "#ed7953"
             ],
             [
              0.7777777777777778,
              "#fb9f3a"
             ],
             [
              0.8888888888888888,
              "#fdca26"
             ],
             [
              1,
              "#f0f921"
             ]
            ],
            "type": "histogram2d"
           }
          ],
          "histogram2dcontour": [
           {
            "colorbar": {
             "outlinewidth": 0,
             "ticks": ""
            },
            "colorscale": [
             [
              0,
              "#0d0887"
             ],
             [
              0.1111111111111111,
              "#46039f"
             ],
             [
              0.2222222222222222,
              "#7201a8"
             ],
             [
              0.3333333333333333,
              "#9c179e"
             ],
             [
              0.4444444444444444,
              "#bd3786"
             ],
             [
              0.5555555555555556,
              "#d8576b"
             ],
             [
              0.6666666666666666,
              "#ed7953"
             ],
             [
              0.7777777777777778,
              "#fb9f3a"
             ],
             [
              0.8888888888888888,
              "#fdca26"
             ],
             [
              1,
              "#f0f921"
             ]
            ],
            "type": "histogram2dcontour"
           }
          ],
          "mesh3d": [
           {
            "colorbar": {
             "outlinewidth": 0,
             "ticks": ""
            },
            "type": "mesh3d"
           }
          ],
          "parcoords": [
           {
            "line": {
             "colorbar": {
              "outlinewidth": 0,
              "ticks": ""
             }
            },
            "type": "parcoords"
           }
          ],
          "pie": [
           {
            "automargin": true,
            "type": "pie"
           }
          ],
          "scatter": [
           {
            "marker": {
             "colorbar": {
              "outlinewidth": 0,
              "ticks": ""
             }
            },
            "type": "scatter"
           }
          ],
          "scatter3d": [
           {
            "line": {
             "colorbar": {
              "outlinewidth": 0,
              "ticks": ""
             }
            },
            "marker": {
             "colorbar": {
              "outlinewidth": 0,
              "ticks": ""
             }
            },
            "type": "scatter3d"
           }
          ],
          "scattercarpet": [
           {
            "marker": {
             "colorbar": {
              "outlinewidth": 0,
              "ticks": ""
             }
            },
            "type": "scattercarpet"
           }
          ],
          "scattergeo": [
           {
            "marker": {
             "colorbar": {
              "outlinewidth": 0,
              "ticks": ""
             }
            },
            "type": "scattergeo"
           }
          ],
          "scattergl": [
           {
            "marker": {
             "colorbar": {
              "outlinewidth": 0,
              "ticks": ""
             }
            },
            "type": "scattergl"
           }
          ],
          "scattermapbox": [
           {
            "marker": {
             "colorbar": {
              "outlinewidth": 0,
              "ticks": ""
             }
            },
            "type": "scattermapbox"
           }
          ],
          "scatterpolar": [
           {
            "marker": {
             "colorbar": {
              "outlinewidth": 0,
              "ticks": ""
             }
            },
            "type": "scatterpolar"
           }
          ],
          "scatterpolargl": [
           {
            "marker": {
             "colorbar": {
              "outlinewidth": 0,
              "ticks": ""
             }
            },
            "type": "scatterpolargl"
           }
          ],
          "scatterternary": [
           {
            "marker": {
             "colorbar": {
              "outlinewidth": 0,
              "ticks": ""
             }
            },
            "type": "scatterternary"
           }
          ],
          "surface": [
           {
            "colorbar": {
             "outlinewidth": 0,
             "ticks": ""
            },
            "colorscale": [
             [
              0,
              "#0d0887"
             ],
             [
              0.1111111111111111,
              "#46039f"
             ],
             [
              0.2222222222222222,
              "#7201a8"
             ],
             [
              0.3333333333333333,
              "#9c179e"
             ],
             [
              0.4444444444444444,
              "#bd3786"
             ],
             [
              0.5555555555555556,
              "#d8576b"
             ],
             [
              0.6666666666666666,
              "#ed7953"
             ],
             [
              0.7777777777777778,
              "#fb9f3a"
             ],
             [
              0.8888888888888888,
              "#fdca26"
             ],
             [
              1,
              "#f0f921"
             ]
            ],
            "type": "surface"
           }
          ],
          "table": [
           {
            "cells": {
             "fill": {
              "color": "#EBF0F8"
             },
             "line": {
              "color": "white"
             }
            },
            "header": {
             "fill": {
              "color": "#C8D4E3"
             },
             "line": {
              "color": "white"
             }
            },
            "type": "table"
           }
          ]
         },
         "layout": {
          "annotationdefaults": {
           "arrowcolor": "#2a3f5f",
           "arrowhead": 0,
           "arrowwidth": 1
          },
          "coloraxis": {
           "colorbar": {
            "outlinewidth": 0,
            "ticks": ""
           }
          },
          "colorscale": {
           "diverging": [
            [
             0,
             "#8e0152"
            ],
            [
             0.1,
             "#c51b7d"
            ],
            [
             0.2,
             "#de77ae"
            ],
            [
             0.3,
             "#f1b6da"
            ],
            [
             0.4,
             "#fde0ef"
            ],
            [
             0.5,
             "#f7f7f7"
            ],
            [
             0.6,
             "#e6f5d0"
            ],
            [
             0.7,
             "#b8e186"
            ],
            [
             0.8,
             "#7fbc41"
            ],
            [
             0.9,
             "#4d9221"
            ],
            [
             1,
             "#276419"
            ]
           ],
           "sequential": [
            [
             0,
             "#0d0887"
            ],
            [
             0.1111111111111111,
             "#46039f"
            ],
            [
             0.2222222222222222,
             "#7201a8"
            ],
            [
             0.3333333333333333,
             "#9c179e"
            ],
            [
             0.4444444444444444,
             "#bd3786"
            ],
            [
             0.5555555555555556,
             "#d8576b"
            ],
            [
             0.6666666666666666,
             "#ed7953"
            ],
            [
             0.7777777777777778,
             "#fb9f3a"
            ],
            [
             0.8888888888888888,
             "#fdca26"
            ],
            [
             1,
             "#f0f921"
            ]
           ],
           "sequentialminus": [
            [
             0,
             "#0d0887"
            ],
            [
             0.1111111111111111,
             "#46039f"
            ],
            [
             0.2222222222222222,
             "#7201a8"
            ],
            [
             0.3333333333333333,
             "#9c179e"
            ],
            [
             0.4444444444444444,
             "#bd3786"
            ],
            [
             0.5555555555555556,
             "#d8576b"
            ],
            [
             0.6666666666666666,
             "#ed7953"
            ],
            [
             0.7777777777777778,
             "#fb9f3a"
            ],
            [
             0.8888888888888888,
             "#fdca26"
            ],
            [
             1,
             "#f0f921"
            ]
           ]
          },
          "colorway": [
           "#636efa",
           "#EF553B",
           "#00cc96",
           "#ab63fa",
           "#FFA15A",
           "#19d3f3",
           "#FF6692",
           "#B6E880",
           "#FF97FF",
           "#FECB52"
          ],
          "font": {
           "color": "#2a3f5f"
          },
          "geo": {
           "bgcolor": "white",
           "lakecolor": "white",
           "landcolor": "#E5ECF6",
           "showlakes": true,
           "showland": true,
           "subunitcolor": "white"
          },
          "hoverlabel": {
           "align": "left"
          },
          "hovermode": "closest",
          "mapbox": {
           "style": "light"
          },
          "paper_bgcolor": "white",
          "plot_bgcolor": "#E5ECF6",
          "polar": {
           "angularaxis": {
            "gridcolor": "white",
            "linecolor": "white",
            "ticks": ""
           },
           "bgcolor": "#E5ECF6",
           "radialaxis": {
            "gridcolor": "white",
            "linecolor": "white",
            "ticks": ""
           }
          },
          "scene": {
           "xaxis": {
            "backgroundcolor": "#E5ECF6",
            "gridcolor": "white",
            "gridwidth": 2,
            "linecolor": "white",
            "showbackground": true,
            "ticks": "",
            "zerolinecolor": "white"
           },
           "yaxis": {
            "backgroundcolor": "#E5ECF6",
            "gridcolor": "white",
            "gridwidth": 2,
            "linecolor": "white",
            "showbackground": true,
            "ticks": "",
            "zerolinecolor": "white"
           },
           "zaxis": {
            "backgroundcolor": "#E5ECF6",
            "gridcolor": "white",
            "gridwidth": 2,
            "linecolor": "white",
            "showbackground": true,
            "ticks": "",
            "zerolinecolor": "white"
           }
          },
          "shapedefaults": {
           "line": {
            "color": "#2a3f5f"
           }
          },
          "ternary": {
           "aaxis": {
            "gridcolor": "white",
            "linecolor": "white",
            "ticks": ""
           },
           "baxis": {
            "gridcolor": "white",
            "linecolor": "white",
            "ticks": ""
           },
           "bgcolor": "#E5ECF6",
           "caxis": {
            "gridcolor": "white",
            "linecolor": "white",
            "ticks": ""
           }
          },
          "title": {
           "x": 0.05
          },
          "xaxis": {
           "automargin": true,
           "gridcolor": "white",
           "linecolor": "white",
           "ticks": "",
           "title": {
            "standoff": 15
           },
           "zerolinecolor": "white",
           "zerolinewidth": 2
          },
          "yaxis": {
           "automargin": true,
           "gridcolor": "white",
           "linecolor": "white",
           "ticks": "",
           "title": {
            "standoff": 15
           },
           "zerolinecolor": "white",
           "zerolinewidth": 2
          }
         }
        }
       }
      },
      "text/html": [
       "<div>\n",
       "        \n",
       "        \n",
       "            <div id=\"fe1d88cb-e9e5-46db-b91c-dce4e9637980\" class=\"plotly-graph-div\" style=\"height:525px; width:100%;\"></div>\n",
       "            <script type=\"text/javascript\">\n",
       "                require([\"plotly\"], function(Plotly) {\n",
       "                    window.PLOTLYENV=window.PLOTLYENV || {};\n",
       "                    \n",
       "                if (document.getElementById(\"fe1d88cb-e9e5-46db-b91c-dce4e9637980\")) {\n",
       "                    Plotly.newPlot(\n",
       "                        'fe1d88cb-e9e5-46db-b91c-dce4e9637980',\n",
       "                        [{\"domain\": {\"x\": [0.0, 1.0], \"y\": [0.0, 1.0]}, \"hovertemplate\": \"Country Name=%{label}<br>Active Cases=%{value}<extra></extra>\", \"labels\": [\"USA\", \"Spain\", \"Italy\", \"UK\", \"France\", \"Germany\", \"Turkey\", \"Russia\", \"Iran\", \"Brazil\", \"China\", \"Canada\", \"Belgium\", \"Peru\", \"Netherlands\", \"India\", \"Switzerland\", \"Ecuador\", \"Saudi Arabia\", \"Portugal\"], \"legendgroup\": \"\", \"name\": \"\", \"showlegend\": true, \"type\": \"pie\", \"values\": [940206, 76546, 102130, null, 93958, 29497, 64685, 117389, 13679, 49010, 558, 30803, 29964, 30899, null, 29899, 3959, 24781, 22873, 22683]}],\n",
       "                        {\"legend\": {\"tracegroupgap\": 0}, \"margin\": {\"t\": 60}, \"template\": {\"data\": {\"bar\": [{\"error_x\": {\"color\": \"#2a3f5f\"}, \"error_y\": {\"color\": \"#2a3f5f\"}, \"marker\": {\"line\": {\"color\": \"#E5ECF6\", \"width\": 0.5}}, \"type\": \"bar\"}], \"barpolar\": [{\"marker\": {\"line\": {\"color\": \"#E5ECF6\", \"width\": 0.5}}, \"type\": \"barpolar\"}], \"carpet\": [{\"aaxis\": {\"endlinecolor\": \"#2a3f5f\", \"gridcolor\": \"white\", \"linecolor\": \"white\", \"minorgridcolor\": \"white\", \"startlinecolor\": \"#2a3f5f\"}, \"baxis\": {\"endlinecolor\": \"#2a3f5f\", \"gridcolor\": \"white\", \"linecolor\": \"white\", \"minorgridcolor\": \"white\", \"startlinecolor\": \"#2a3f5f\"}, \"type\": \"carpet\"}], \"choropleth\": [{\"colorbar\": {\"outlinewidth\": 0, \"ticks\": \"\"}, \"type\": \"choropleth\"}], \"contour\": [{\"colorbar\": {\"outlinewidth\": 0, \"ticks\": \"\"}, \"colorscale\": [[0.0, \"#0d0887\"], [0.1111111111111111, \"#46039f\"], [0.2222222222222222, \"#7201a8\"], [0.3333333333333333, \"#9c179e\"], [0.4444444444444444, \"#bd3786\"], [0.5555555555555556, \"#d8576b\"], [0.6666666666666666, \"#ed7953\"], [0.7777777777777778, \"#fb9f3a\"], [0.8888888888888888, \"#fdca26\"], [1.0, \"#f0f921\"]], \"type\": \"contour\"}], \"contourcarpet\": [{\"colorbar\": {\"outlinewidth\": 0, \"ticks\": \"\"}, \"type\": \"contourcarpet\"}], \"heatmap\": [{\"colorbar\": {\"outlinewidth\": 0, \"ticks\": \"\"}, \"colorscale\": [[0.0, \"#0d0887\"], [0.1111111111111111, \"#46039f\"], [0.2222222222222222, \"#7201a8\"], [0.3333333333333333, \"#9c179e\"], [0.4444444444444444, \"#bd3786\"], [0.5555555555555556, \"#d8576b\"], [0.6666666666666666, \"#ed7953\"], [0.7777777777777778, \"#fb9f3a\"], [0.8888888888888888, \"#fdca26\"], [1.0, \"#f0f921\"]], \"type\": \"heatmap\"}], \"heatmapgl\": [{\"colorbar\": {\"outlinewidth\": 0, \"ticks\": \"\"}, \"colorscale\": [[0.0, \"#0d0887\"], [0.1111111111111111, \"#46039f\"], [0.2222222222222222, \"#7201a8\"], [0.3333333333333333, \"#9c179e\"], [0.4444444444444444, \"#bd3786\"], [0.5555555555555556, \"#d8576b\"], [0.6666666666666666, \"#ed7953\"], [0.7777777777777778, \"#fb9f3a\"], [0.8888888888888888, \"#fdca26\"], [1.0, \"#f0f921\"]], \"type\": \"heatmapgl\"}], \"histogram\": [{\"marker\": {\"colorbar\": {\"outlinewidth\": 0, \"ticks\": \"\"}}, \"type\": \"histogram\"}], \"histogram2d\": [{\"colorbar\": {\"outlinewidth\": 0, \"ticks\": \"\"}, \"colorscale\": [[0.0, \"#0d0887\"], [0.1111111111111111, \"#46039f\"], [0.2222222222222222, \"#7201a8\"], [0.3333333333333333, \"#9c179e\"], [0.4444444444444444, \"#bd3786\"], [0.5555555555555556, \"#d8576b\"], [0.6666666666666666, \"#ed7953\"], [0.7777777777777778, \"#fb9f3a\"], [0.8888888888888888, \"#fdca26\"], [1.0, \"#f0f921\"]], \"type\": \"histogram2d\"}], \"histogram2dcontour\": [{\"colorbar\": {\"outlinewidth\": 0, \"ticks\": \"\"}, \"colorscale\": [[0.0, \"#0d0887\"], [0.1111111111111111, \"#46039f\"], [0.2222222222222222, \"#7201a8\"], [0.3333333333333333, \"#9c179e\"], [0.4444444444444444, \"#bd3786\"], [0.5555555555555556, \"#d8576b\"], [0.6666666666666666, \"#ed7953\"], [0.7777777777777778, \"#fb9f3a\"], [0.8888888888888888, \"#fdca26\"], [1.0, \"#f0f921\"]], \"type\": \"histogram2dcontour\"}], \"mesh3d\": [{\"colorbar\": {\"outlinewidth\": 0, \"ticks\": \"\"}, \"type\": \"mesh3d\"}], \"parcoords\": [{\"line\": {\"colorbar\": {\"outlinewidth\": 0, \"ticks\": \"\"}}, \"type\": \"parcoords\"}], \"pie\": [{\"automargin\": true, \"type\": \"pie\"}], \"scatter\": [{\"marker\": {\"colorbar\": {\"outlinewidth\": 0, \"ticks\": \"\"}}, \"type\": \"scatter\"}], \"scatter3d\": [{\"line\": {\"colorbar\": {\"outlinewidth\": 0, \"ticks\": \"\"}}, \"marker\": {\"colorbar\": {\"outlinewidth\": 0, \"ticks\": \"\"}}, \"type\": \"scatter3d\"}], \"scattercarpet\": [{\"marker\": {\"colorbar\": {\"outlinewidth\": 0, \"ticks\": \"\"}}, \"type\": \"scattercarpet\"}], \"scattergeo\": [{\"marker\": {\"colorbar\": {\"outlinewidth\": 0, \"ticks\": \"\"}}, \"type\": \"scattergeo\"}], \"scattergl\": [{\"marker\": {\"colorbar\": {\"outlinewidth\": 0, \"ticks\": \"\"}}, \"type\": \"scattergl\"}], \"scattermapbox\": [{\"marker\": {\"colorbar\": {\"outlinewidth\": 0, \"ticks\": \"\"}}, \"type\": \"scattermapbox\"}], \"scatterpolar\": [{\"marker\": {\"colorbar\": {\"outlinewidth\": 0, \"ticks\": \"\"}}, \"type\": \"scatterpolar\"}], \"scatterpolargl\": [{\"marker\": {\"colorbar\": {\"outlinewidth\": 0, \"ticks\": \"\"}}, \"type\": \"scatterpolargl\"}], \"scatterternary\": [{\"marker\": {\"colorbar\": {\"outlinewidth\": 0, \"ticks\": \"\"}}, \"type\": \"scatterternary\"}], \"surface\": [{\"colorbar\": {\"outlinewidth\": 0, \"ticks\": \"\"}, \"colorscale\": [[0.0, \"#0d0887\"], [0.1111111111111111, \"#46039f\"], [0.2222222222222222, \"#7201a8\"], [0.3333333333333333, \"#9c179e\"], [0.4444444444444444, \"#bd3786\"], [0.5555555555555556, \"#d8576b\"], [0.6666666666666666, \"#ed7953\"], [0.7777777777777778, \"#fb9f3a\"], [0.8888888888888888, \"#fdca26\"], [1.0, \"#f0f921\"]], \"type\": \"surface\"}], \"table\": [{\"cells\": {\"fill\": {\"color\": \"#EBF0F8\"}, \"line\": {\"color\": \"white\"}}, \"header\": {\"fill\": {\"color\": \"#C8D4E3\"}, \"line\": {\"color\": \"white\"}}, \"type\": \"table\"}]}, \"layout\": {\"annotationdefaults\": {\"arrowcolor\": \"#2a3f5f\", \"arrowhead\": 0, \"arrowwidth\": 1}, \"coloraxis\": {\"colorbar\": {\"outlinewidth\": 0, \"ticks\": \"\"}}, \"colorscale\": {\"diverging\": [[0, \"#8e0152\"], [0.1, \"#c51b7d\"], [0.2, \"#de77ae\"], [0.3, \"#f1b6da\"], [0.4, \"#fde0ef\"], [0.5, \"#f7f7f7\"], [0.6, \"#e6f5d0\"], [0.7, \"#b8e186\"], [0.8, \"#7fbc41\"], [0.9, \"#4d9221\"], [1, \"#276419\"]], \"sequential\": [[0.0, \"#0d0887\"], [0.1111111111111111, \"#46039f\"], [0.2222222222222222, \"#7201a8\"], [0.3333333333333333, \"#9c179e\"], [0.4444444444444444, \"#bd3786\"], [0.5555555555555556, \"#d8576b\"], [0.6666666666666666, \"#ed7953\"], [0.7777777777777778, \"#fb9f3a\"], [0.8888888888888888, \"#fdca26\"], [1.0, \"#f0f921\"]], \"sequentialminus\": [[0.0, \"#0d0887\"], [0.1111111111111111, \"#46039f\"], [0.2222222222222222, \"#7201a8\"], [0.3333333333333333, \"#9c179e\"], [0.4444444444444444, \"#bd3786\"], [0.5555555555555556, \"#d8576b\"], [0.6666666666666666, \"#ed7953\"], [0.7777777777777778, \"#fb9f3a\"], [0.8888888888888888, \"#fdca26\"], [1.0, \"#f0f921\"]]}, \"colorway\": [\"#636efa\", \"#EF553B\", \"#00cc96\", \"#ab63fa\", \"#FFA15A\", \"#19d3f3\", \"#FF6692\", \"#B6E880\", \"#FF97FF\", \"#FECB52\"], \"font\": {\"color\": \"#2a3f5f\"}, \"geo\": {\"bgcolor\": \"white\", \"lakecolor\": \"white\", \"landcolor\": \"#E5ECF6\", \"showlakes\": true, \"showland\": true, \"subunitcolor\": \"white\"}, \"hoverlabel\": {\"align\": \"left\"}, \"hovermode\": \"closest\", \"mapbox\": {\"style\": \"light\"}, \"paper_bgcolor\": \"white\", \"plot_bgcolor\": \"#E5ECF6\", \"polar\": {\"angularaxis\": {\"gridcolor\": \"white\", \"linecolor\": \"white\", \"ticks\": \"\"}, \"bgcolor\": \"#E5ECF6\", \"radialaxis\": {\"gridcolor\": \"white\", \"linecolor\": \"white\", \"ticks\": \"\"}}, \"scene\": {\"xaxis\": {\"backgroundcolor\": \"#E5ECF6\", \"gridcolor\": \"white\", \"gridwidth\": 2, \"linecolor\": \"white\", \"showbackground\": true, \"ticks\": \"\", \"zerolinecolor\": \"white\"}, \"yaxis\": {\"backgroundcolor\": \"#E5ECF6\", \"gridcolor\": \"white\", \"gridwidth\": 2, \"linecolor\": \"white\", \"showbackground\": true, \"ticks\": \"\", \"zerolinecolor\": \"white\"}, \"zaxis\": {\"backgroundcolor\": \"#E5ECF6\", \"gridcolor\": \"white\", \"gridwidth\": 2, \"linecolor\": \"white\", \"showbackground\": true, \"ticks\": \"\", \"zerolinecolor\": \"white\"}}, \"shapedefaults\": {\"line\": {\"color\": \"#2a3f5f\"}}, \"ternary\": {\"aaxis\": {\"gridcolor\": \"white\", \"linecolor\": \"white\", \"ticks\": \"\"}, \"baxis\": {\"gridcolor\": \"white\", \"linecolor\": \"white\", \"ticks\": \"\"}, \"bgcolor\": \"#E5ECF6\", \"caxis\": {\"gridcolor\": \"white\", \"linecolor\": \"white\", \"ticks\": \"\"}}, \"title\": {\"x\": 0.05}, \"xaxis\": {\"automargin\": true, \"gridcolor\": \"white\", \"linecolor\": \"white\", \"ticks\": \"\", \"title\": {\"standoff\": 15}, \"zerolinecolor\": \"white\", \"zerolinewidth\": 2}, \"yaxis\": {\"automargin\": true, \"gridcolor\": \"white\", \"linecolor\": \"white\", \"ticks\": \"\", \"title\": {\"standoff\": 15}, \"zerolinecolor\": \"white\", \"zerolinewidth\": 2}}}},\n",
       "                        {\"responsive\": true}\n",
       "                    ).then(function(){\n",
       "                            \n",
       "var gd = document.getElementById('fe1d88cb-e9e5-46db-b91c-dce4e9637980');\n",
       "var x = new MutationObserver(function (mutations, observer) {{\n",
       "        var display = window.getComputedStyle(gd).display;\n",
       "        if (!display || display === 'none') {{\n",
       "            console.log([gd, 'removed!']);\n",
       "            Plotly.purge(gd);\n",
       "            observer.disconnect();\n",
       "        }}\n",
       "}});\n",
       "\n",
       "// Listen for the removal of the full notebook cells\n",
       "var notebookContainer = gd.closest('#notebook-container');\n",
       "if (notebookContainer) {{\n",
       "    x.observe(notebookContainer, {childList: true});\n",
       "}}\n",
       "\n",
       "// Listen for the clearing of the current output cell\n",
       "var outputEl = gd.closest('.output');\n",
       "if (outputEl) {{\n",
       "    x.observe(outputEl, {childList: true});\n",
       "}}\n",
       "\n",
       "                        })\n",
       "                };\n",
       "                });\n",
       "            </script>\n",
       "        </div>"
      ]
     },
     "metadata": {},
     "output_type": "display_data"
    }
   ],
   "source": [
    "px.pie(df,names='Country Name',values='Active Cases')"
   ]
  },
  {
   "cell_type": "code",
   "execution_count": 68,
   "metadata": {},
   "outputs": [
    {
     "data": {
      "application/vnd.plotly.v1+json": {
       "config": {
        "plotlyServerURL": "https://plot.ly"
       },
       "data": [
        {
         "domain": {
          "x": [
           0,
           1
          ],
          "y": [
           0,
           1
          ]
         },
         "hovertemplate": "Country Name=%{label}<br>Total recovery=%{value}<extra></extra>",
         "labels": [
          "USA",
          "Spain",
          "Italy",
          "UK",
          "France",
          "Germany",
          "Turkey",
          "Russia",
          "Iran",
          "Brazil",
          "China",
          "Canada",
          "Belgium",
          "Peru",
          "Netherlands",
          "India",
          "Switzerland",
          "Ecuador",
          "Saudi Arabia",
          "Portugal"
         ],
         "legendgroup": "",
         "name": "",
         "showlegend": true,
         "type": "pie",
         "values": [
          170181,
          146233,
          79914,
          null,
          50562,
          129000,
          58259,
          15013,
          77350,
          38039,
          77685,
          23621,
          12211,
          12434,
          null,
          10819,
          24200,
          2132,
          3765,
          1671
         ]
        }
       ],
       "layout": {
        "legend": {
         "tracegroupgap": 0
        },
        "margin": {
         "t": 60
        },
        "template": {
         "data": {
          "bar": [
           {
            "error_x": {
             "color": "#2a3f5f"
            },
            "error_y": {
             "color": "#2a3f5f"
            },
            "marker": {
             "line": {
              "color": "#E5ECF6",
              "width": 0.5
             }
            },
            "type": "bar"
           }
          ],
          "barpolar": [
           {
            "marker": {
             "line": {
              "color": "#E5ECF6",
              "width": 0.5
             }
            },
            "type": "barpolar"
           }
          ],
          "carpet": [
           {
            "aaxis": {
             "endlinecolor": "#2a3f5f",
             "gridcolor": "white",
             "linecolor": "white",
             "minorgridcolor": "white",
             "startlinecolor": "#2a3f5f"
            },
            "baxis": {
             "endlinecolor": "#2a3f5f",
             "gridcolor": "white",
             "linecolor": "white",
             "minorgridcolor": "white",
             "startlinecolor": "#2a3f5f"
            },
            "type": "carpet"
           }
          ],
          "choropleth": [
           {
            "colorbar": {
             "outlinewidth": 0,
             "ticks": ""
            },
            "type": "choropleth"
           }
          ],
          "contour": [
           {
            "colorbar": {
             "outlinewidth": 0,
             "ticks": ""
            },
            "colorscale": [
             [
              0,
              "#0d0887"
             ],
             [
              0.1111111111111111,
              "#46039f"
             ],
             [
              0.2222222222222222,
              "#7201a8"
             ],
             [
              0.3333333333333333,
              "#9c179e"
             ],
             [
              0.4444444444444444,
              "#bd3786"
             ],
             [
              0.5555555555555556,
              "#d8576b"
             ],
             [
              0.6666666666666666,
              "#ed7953"
             ],
             [
              0.7777777777777778,
              "#fb9f3a"
             ],
             [
              0.8888888888888888,
              "#fdca26"
             ],
             [
              1,
              "#f0f921"
             ]
            ],
            "type": "contour"
           }
          ],
          "contourcarpet": [
           {
            "colorbar": {
             "outlinewidth": 0,
             "ticks": ""
            },
            "type": "contourcarpet"
           }
          ],
          "heatmap": [
           {
            "colorbar": {
             "outlinewidth": 0,
             "ticks": ""
            },
            "colorscale": [
             [
              0,
              "#0d0887"
             ],
             [
              0.1111111111111111,
              "#46039f"
             ],
             [
              0.2222222222222222,
              "#7201a8"
             ],
             [
              0.3333333333333333,
              "#9c179e"
             ],
             [
              0.4444444444444444,
              "#bd3786"
             ],
             [
              0.5555555555555556,
              "#d8576b"
             ],
             [
              0.6666666666666666,
              "#ed7953"
             ],
             [
              0.7777777777777778,
              "#fb9f3a"
             ],
             [
              0.8888888888888888,
              "#fdca26"
             ],
             [
              1,
              "#f0f921"
             ]
            ],
            "type": "heatmap"
           }
          ],
          "heatmapgl": [
           {
            "colorbar": {
             "outlinewidth": 0,
             "ticks": ""
            },
            "colorscale": [
             [
              0,
              "#0d0887"
             ],
             [
              0.1111111111111111,
              "#46039f"
             ],
             [
              0.2222222222222222,
              "#7201a8"
             ],
             [
              0.3333333333333333,
              "#9c179e"
             ],
             [
              0.4444444444444444,
              "#bd3786"
             ],
             [
              0.5555555555555556,
              "#d8576b"
             ],
             [
              0.6666666666666666,
              "#ed7953"
             ],
             [
              0.7777777777777778,
              "#fb9f3a"
             ],
             [
              0.8888888888888888,
              "#fdca26"
             ],
             [
              1,
              "#f0f921"
             ]
            ],
            "type": "heatmapgl"
           }
          ],
          "histogram": [
           {
            "marker": {
             "colorbar": {
              "outlinewidth": 0,
              "ticks": ""
             }
            },
            "type": "histogram"
           }
          ],
          "histogram2d": [
           {
            "colorbar": {
             "outlinewidth": 0,
             "ticks": ""
            },
            "colorscale": [
             [
              0,
              "#0d0887"
             ],
             [
              0.1111111111111111,
              "#46039f"
             ],
             [
              0.2222222222222222,
              "#7201a8"
             ],
             [
              0.3333333333333333,
              "#9c179e"
             ],
             [
              0.4444444444444444,
              "#bd3786"
             ],
             [
              0.5555555555555556,
              "#d8576b"
             ],
             [
              0.6666666666666666,
              "#ed7953"
             ],
             [
              0.7777777777777778,
              "#fb9f3a"
             ],
             [
              0.8888888888888888,
              "#fdca26"
             ],
             [
              1,
              "#f0f921"
             ]
            ],
            "type": "histogram2d"
           }
          ],
          "histogram2dcontour": [
           {
            "colorbar": {
             "outlinewidth": 0,
             "ticks": ""
            },
            "colorscale": [
             [
              0,
              "#0d0887"
             ],
             [
              0.1111111111111111,
              "#46039f"
             ],
             [
              0.2222222222222222,
              "#7201a8"
             ],
             [
              0.3333333333333333,
              "#9c179e"
             ],
             [
              0.4444444444444444,
              "#bd3786"
             ],
             [
              0.5555555555555556,
              "#d8576b"
             ],
             [
              0.6666666666666666,
              "#ed7953"
             ],
             [
              0.7777777777777778,
              "#fb9f3a"
             ],
             [
              0.8888888888888888,
              "#fdca26"
             ],
             [
              1,
              "#f0f921"
             ]
            ],
            "type": "histogram2dcontour"
           }
          ],
          "mesh3d": [
           {
            "colorbar": {
             "outlinewidth": 0,
             "ticks": ""
            },
            "type": "mesh3d"
           }
          ],
          "parcoords": [
           {
            "line": {
             "colorbar": {
              "outlinewidth": 0,
              "ticks": ""
             }
            },
            "type": "parcoords"
           }
          ],
          "pie": [
           {
            "automargin": true,
            "type": "pie"
           }
          ],
          "scatter": [
           {
            "marker": {
             "colorbar": {
              "outlinewidth": 0,
              "ticks": ""
             }
            },
            "type": "scatter"
           }
          ],
          "scatter3d": [
           {
            "line": {
             "colorbar": {
              "outlinewidth": 0,
              "ticks": ""
             }
            },
            "marker": {
             "colorbar": {
              "outlinewidth": 0,
              "ticks": ""
             }
            },
            "type": "scatter3d"
           }
          ],
          "scattercarpet": [
           {
            "marker": {
             "colorbar": {
              "outlinewidth": 0,
              "ticks": ""
             }
            },
            "type": "scattercarpet"
           }
          ],
          "scattergeo": [
           {
            "marker": {
             "colorbar": {
              "outlinewidth": 0,
              "ticks": ""
             }
            },
            "type": "scattergeo"
           }
          ],
          "scattergl": [
           {
            "marker": {
             "colorbar": {
              "outlinewidth": 0,
              "ticks": ""
             }
            },
            "type": "scattergl"
           }
          ],
          "scattermapbox": [
           {
            "marker": {
             "colorbar": {
              "outlinewidth": 0,
              "ticks": ""
             }
            },
            "type": "scattermapbox"
           }
          ],
          "scatterpolar": [
           {
            "marker": {
             "colorbar": {
              "outlinewidth": 0,
              "ticks": ""
             }
            },
            "type": "scatterpolar"
           }
          ],
          "scatterpolargl": [
           {
            "marker": {
             "colorbar": {
              "outlinewidth": 0,
              "ticks": ""
             }
            },
            "type": "scatterpolargl"
           }
          ],
          "scatterternary": [
           {
            "marker": {
             "colorbar": {
              "outlinewidth": 0,
              "ticks": ""
             }
            },
            "type": "scatterternary"
           }
          ],
          "surface": [
           {
            "colorbar": {
             "outlinewidth": 0,
             "ticks": ""
            },
            "colorscale": [
             [
              0,
              "#0d0887"
             ],
             [
              0.1111111111111111,
              "#46039f"
             ],
             [
              0.2222222222222222,
              "#7201a8"
             ],
             [
              0.3333333333333333,
              "#9c179e"
             ],
             [
              0.4444444444444444,
              "#bd3786"
             ],
             [
              0.5555555555555556,
              "#d8576b"
             ],
             [
              0.6666666666666666,
              "#ed7953"
             ],
             [
              0.7777777777777778,
              "#fb9f3a"
             ],
             [
              0.8888888888888888,
              "#fdca26"
             ],
             [
              1,
              "#f0f921"
             ]
            ],
            "type": "surface"
           }
          ],
          "table": [
           {
            "cells": {
             "fill": {
              "color": "#EBF0F8"
             },
             "line": {
              "color": "white"
             }
            },
            "header": {
             "fill": {
              "color": "#C8D4E3"
             },
             "line": {
              "color": "white"
             }
            },
            "type": "table"
           }
          ]
         },
         "layout": {
          "annotationdefaults": {
           "arrowcolor": "#2a3f5f",
           "arrowhead": 0,
           "arrowwidth": 1
          },
          "coloraxis": {
           "colorbar": {
            "outlinewidth": 0,
            "ticks": ""
           }
          },
          "colorscale": {
           "diverging": [
            [
             0,
             "#8e0152"
            ],
            [
             0.1,
             "#c51b7d"
            ],
            [
             0.2,
             "#de77ae"
            ],
            [
             0.3,
             "#f1b6da"
            ],
            [
             0.4,
             "#fde0ef"
            ],
            [
             0.5,
             "#f7f7f7"
            ],
            [
             0.6,
             "#e6f5d0"
            ],
            [
             0.7,
             "#b8e186"
            ],
            [
             0.8,
             "#7fbc41"
            ],
            [
             0.9,
             "#4d9221"
            ],
            [
             1,
             "#276419"
            ]
           ],
           "sequential": [
            [
             0,
             "#0d0887"
            ],
            [
             0.1111111111111111,
             "#46039f"
            ],
            [
             0.2222222222222222,
             "#7201a8"
            ],
            [
             0.3333333333333333,
             "#9c179e"
            ],
            [
             0.4444444444444444,
             "#bd3786"
            ],
            [
             0.5555555555555556,
             "#d8576b"
            ],
            [
             0.6666666666666666,
             "#ed7953"
            ],
            [
             0.7777777777777778,
             "#fb9f3a"
            ],
            [
             0.8888888888888888,
             "#fdca26"
            ],
            [
             1,
             "#f0f921"
            ]
           ],
           "sequentialminus": [
            [
             0,
             "#0d0887"
            ],
            [
             0.1111111111111111,
             "#46039f"
            ],
            [
             0.2222222222222222,
             "#7201a8"
            ],
            [
             0.3333333333333333,
             "#9c179e"
            ],
            [
             0.4444444444444444,
             "#bd3786"
            ],
            [
             0.5555555555555556,
             "#d8576b"
            ],
            [
             0.6666666666666666,
             "#ed7953"
            ],
            [
             0.7777777777777778,
             "#fb9f3a"
            ],
            [
             0.8888888888888888,
             "#fdca26"
            ],
            [
             1,
             "#f0f921"
            ]
           ]
          },
          "colorway": [
           "#636efa",
           "#EF553B",
           "#00cc96",
           "#ab63fa",
           "#FFA15A",
           "#19d3f3",
           "#FF6692",
           "#B6E880",
           "#FF97FF",
           "#FECB52"
          ],
          "font": {
           "color": "#2a3f5f"
          },
          "geo": {
           "bgcolor": "white",
           "lakecolor": "white",
           "landcolor": "#E5ECF6",
           "showlakes": true,
           "showland": true,
           "subunitcolor": "white"
          },
          "hoverlabel": {
           "align": "left"
          },
          "hovermode": "closest",
          "mapbox": {
           "style": "light"
          },
          "paper_bgcolor": "white",
          "plot_bgcolor": "#E5ECF6",
          "polar": {
           "angularaxis": {
            "gridcolor": "white",
            "linecolor": "white",
            "ticks": ""
           },
           "bgcolor": "#E5ECF6",
           "radialaxis": {
            "gridcolor": "white",
            "linecolor": "white",
            "ticks": ""
           }
          },
          "scene": {
           "xaxis": {
            "backgroundcolor": "#E5ECF6",
            "gridcolor": "white",
            "gridwidth": 2,
            "linecolor": "white",
            "showbackground": true,
            "ticks": "",
            "zerolinecolor": "white"
           },
           "yaxis": {
            "backgroundcolor": "#E5ECF6",
            "gridcolor": "white",
            "gridwidth": 2,
            "linecolor": "white",
            "showbackground": true,
            "ticks": "",
            "zerolinecolor": "white"
           },
           "zaxis": {
            "backgroundcolor": "#E5ECF6",
            "gridcolor": "white",
            "gridwidth": 2,
            "linecolor": "white",
            "showbackground": true,
            "ticks": "",
            "zerolinecolor": "white"
           }
          },
          "shapedefaults": {
           "line": {
            "color": "#2a3f5f"
           }
          },
          "ternary": {
           "aaxis": {
            "gridcolor": "white",
            "linecolor": "white",
            "ticks": ""
           },
           "baxis": {
            "gridcolor": "white",
            "linecolor": "white",
            "ticks": ""
           },
           "bgcolor": "#E5ECF6",
           "caxis": {
            "gridcolor": "white",
            "linecolor": "white",
            "ticks": ""
           }
          },
          "title": {
           "x": 0.05
          },
          "xaxis": {
           "automargin": true,
           "gridcolor": "white",
           "linecolor": "white",
           "ticks": "",
           "title": {
            "standoff": 15
           },
           "zerolinecolor": "white",
           "zerolinewidth": 2
          },
          "yaxis": {
           "automargin": true,
           "gridcolor": "white",
           "linecolor": "white",
           "ticks": "",
           "title": {
            "standoff": 15
           },
           "zerolinecolor": "white",
           "zerolinewidth": 2
          }
         }
        }
       }
      },
      "text/html": [
       "<div>\n",
       "        \n",
       "        \n",
       "            <div id=\"95b26ad0-1a08-4122-82d9-514f8c2765c1\" class=\"plotly-graph-div\" style=\"height:525px; width:100%;\"></div>\n",
       "            <script type=\"text/javascript\">\n",
       "                require([\"plotly\"], function(Plotly) {\n",
       "                    window.PLOTLYENV=window.PLOTLYENV || {};\n",
       "                    \n",
       "                if (document.getElementById(\"95b26ad0-1a08-4122-82d9-514f8c2765c1\")) {\n",
       "                    Plotly.newPlot(\n",
       "                        '95b26ad0-1a08-4122-82d9-514f8c2765c1',\n",
       "                        [{\"domain\": {\"x\": [0.0, 1.0], \"y\": [0.0, 1.0]}, \"hovertemplate\": \"Country Name=%{label}<br>Total recovery=%{value}<extra></extra>\", \"labels\": [\"USA\", \"Spain\", \"Italy\", \"UK\", \"France\", \"Germany\", \"Turkey\", \"Russia\", \"Iran\", \"Brazil\", \"China\", \"Canada\", \"Belgium\", \"Peru\", \"Netherlands\", \"India\", \"Switzerland\", \"Ecuador\", \"Saudi Arabia\", \"Portugal\"], \"legendgroup\": \"\", \"name\": \"\", \"showlegend\": true, \"type\": \"pie\", \"values\": [170181, 146233, 79914, null, 50562, 129000, 58259, 15013, 77350, 38039, 77685, 23621, 12211, 12434, null, 10819, 24200, 2132, 3765, 1671]}],\n",
       "                        {\"legend\": {\"tracegroupgap\": 0}, \"margin\": {\"t\": 60}, \"template\": {\"data\": {\"bar\": [{\"error_x\": {\"color\": \"#2a3f5f\"}, \"error_y\": {\"color\": \"#2a3f5f\"}, \"marker\": {\"line\": {\"color\": \"#E5ECF6\", \"width\": 0.5}}, \"type\": \"bar\"}], \"barpolar\": [{\"marker\": {\"line\": {\"color\": \"#E5ECF6\", \"width\": 0.5}}, \"type\": \"barpolar\"}], \"carpet\": [{\"aaxis\": {\"endlinecolor\": \"#2a3f5f\", \"gridcolor\": \"white\", \"linecolor\": \"white\", \"minorgridcolor\": \"white\", \"startlinecolor\": \"#2a3f5f\"}, \"baxis\": {\"endlinecolor\": \"#2a3f5f\", \"gridcolor\": \"white\", \"linecolor\": \"white\", \"minorgridcolor\": \"white\", \"startlinecolor\": \"#2a3f5f\"}, \"type\": \"carpet\"}], \"choropleth\": [{\"colorbar\": {\"outlinewidth\": 0, \"ticks\": \"\"}, \"type\": \"choropleth\"}], \"contour\": [{\"colorbar\": {\"outlinewidth\": 0, \"ticks\": \"\"}, \"colorscale\": [[0.0, \"#0d0887\"], [0.1111111111111111, \"#46039f\"], [0.2222222222222222, \"#7201a8\"], [0.3333333333333333, \"#9c179e\"], [0.4444444444444444, \"#bd3786\"], [0.5555555555555556, \"#d8576b\"], [0.6666666666666666, \"#ed7953\"], [0.7777777777777778, \"#fb9f3a\"], [0.8888888888888888, \"#fdca26\"], [1.0, \"#f0f921\"]], \"type\": \"contour\"}], \"contourcarpet\": [{\"colorbar\": {\"outlinewidth\": 0, \"ticks\": \"\"}, \"type\": \"contourcarpet\"}], \"heatmap\": [{\"colorbar\": {\"outlinewidth\": 0, \"ticks\": \"\"}, \"colorscale\": [[0.0, \"#0d0887\"], [0.1111111111111111, \"#46039f\"], [0.2222222222222222, \"#7201a8\"], [0.3333333333333333, \"#9c179e\"], [0.4444444444444444, \"#bd3786\"], [0.5555555555555556, \"#d8576b\"], [0.6666666666666666, \"#ed7953\"], [0.7777777777777778, \"#fb9f3a\"], [0.8888888888888888, \"#fdca26\"], [1.0, \"#f0f921\"]], \"type\": \"heatmap\"}], \"heatmapgl\": [{\"colorbar\": {\"outlinewidth\": 0, \"ticks\": \"\"}, \"colorscale\": [[0.0, \"#0d0887\"], [0.1111111111111111, \"#46039f\"], [0.2222222222222222, \"#7201a8\"], [0.3333333333333333, \"#9c179e\"], [0.4444444444444444, \"#bd3786\"], [0.5555555555555556, \"#d8576b\"], [0.6666666666666666, \"#ed7953\"], [0.7777777777777778, \"#fb9f3a\"], [0.8888888888888888, \"#fdca26\"], [1.0, \"#f0f921\"]], \"type\": \"heatmapgl\"}], \"histogram\": [{\"marker\": {\"colorbar\": {\"outlinewidth\": 0, \"ticks\": \"\"}}, \"type\": \"histogram\"}], \"histogram2d\": [{\"colorbar\": {\"outlinewidth\": 0, \"ticks\": \"\"}, \"colorscale\": [[0.0, \"#0d0887\"], [0.1111111111111111, \"#46039f\"], [0.2222222222222222, \"#7201a8\"], [0.3333333333333333, \"#9c179e\"], [0.4444444444444444, \"#bd3786\"], [0.5555555555555556, \"#d8576b\"], [0.6666666666666666, \"#ed7953\"], [0.7777777777777778, \"#fb9f3a\"], [0.8888888888888888, \"#fdca26\"], [1.0, \"#f0f921\"]], \"type\": \"histogram2d\"}], \"histogram2dcontour\": [{\"colorbar\": {\"outlinewidth\": 0, \"ticks\": \"\"}, \"colorscale\": [[0.0, \"#0d0887\"], [0.1111111111111111, \"#46039f\"], [0.2222222222222222, \"#7201a8\"], [0.3333333333333333, \"#9c179e\"], [0.4444444444444444, \"#bd3786\"], [0.5555555555555556, \"#d8576b\"], [0.6666666666666666, \"#ed7953\"], [0.7777777777777778, \"#fb9f3a\"], [0.8888888888888888, \"#fdca26\"], [1.0, \"#f0f921\"]], \"type\": \"histogram2dcontour\"}], \"mesh3d\": [{\"colorbar\": {\"outlinewidth\": 0, \"ticks\": \"\"}, \"type\": \"mesh3d\"}], \"parcoords\": [{\"line\": {\"colorbar\": {\"outlinewidth\": 0, \"ticks\": \"\"}}, \"type\": \"parcoords\"}], \"pie\": [{\"automargin\": true, \"type\": \"pie\"}], \"scatter\": [{\"marker\": {\"colorbar\": {\"outlinewidth\": 0, \"ticks\": \"\"}}, \"type\": \"scatter\"}], \"scatter3d\": [{\"line\": {\"colorbar\": {\"outlinewidth\": 0, \"ticks\": \"\"}}, \"marker\": {\"colorbar\": {\"outlinewidth\": 0, \"ticks\": \"\"}}, \"type\": \"scatter3d\"}], \"scattercarpet\": [{\"marker\": {\"colorbar\": {\"outlinewidth\": 0, \"ticks\": \"\"}}, \"type\": \"scattercarpet\"}], \"scattergeo\": [{\"marker\": {\"colorbar\": {\"outlinewidth\": 0, \"ticks\": \"\"}}, \"type\": \"scattergeo\"}], \"scattergl\": [{\"marker\": {\"colorbar\": {\"outlinewidth\": 0, \"ticks\": \"\"}}, \"type\": \"scattergl\"}], \"scattermapbox\": [{\"marker\": {\"colorbar\": {\"outlinewidth\": 0, \"ticks\": \"\"}}, \"type\": \"scattermapbox\"}], \"scatterpolar\": [{\"marker\": {\"colorbar\": {\"outlinewidth\": 0, \"ticks\": \"\"}}, \"type\": \"scatterpolar\"}], \"scatterpolargl\": [{\"marker\": {\"colorbar\": {\"outlinewidth\": 0, \"ticks\": \"\"}}, \"type\": \"scatterpolargl\"}], \"scatterternary\": [{\"marker\": {\"colorbar\": {\"outlinewidth\": 0, \"ticks\": \"\"}}, \"type\": \"scatterternary\"}], \"surface\": [{\"colorbar\": {\"outlinewidth\": 0, \"ticks\": \"\"}, \"colorscale\": [[0.0, \"#0d0887\"], [0.1111111111111111, \"#46039f\"], [0.2222222222222222, \"#7201a8\"], [0.3333333333333333, \"#9c179e\"], [0.4444444444444444, \"#bd3786\"], [0.5555555555555556, \"#d8576b\"], [0.6666666666666666, \"#ed7953\"], [0.7777777777777778, \"#fb9f3a\"], [0.8888888888888888, \"#fdca26\"], [1.0, \"#f0f921\"]], \"type\": \"surface\"}], \"table\": [{\"cells\": {\"fill\": {\"color\": \"#EBF0F8\"}, \"line\": {\"color\": \"white\"}}, \"header\": {\"fill\": {\"color\": \"#C8D4E3\"}, \"line\": {\"color\": \"white\"}}, \"type\": \"table\"}]}, \"layout\": {\"annotationdefaults\": {\"arrowcolor\": \"#2a3f5f\", \"arrowhead\": 0, \"arrowwidth\": 1}, \"coloraxis\": {\"colorbar\": {\"outlinewidth\": 0, \"ticks\": \"\"}}, \"colorscale\": {\"diverging\": [[0, \"#8e0152\"], [0.1, \"#c51b7d\"], [0.2, \"#de77ae\"], [0.3, \"#f1b6da\"], [0.4, \"#fde0ef\"], [0.5, \"#f7f7f7\"], [0.6, \"#e6f5d0\"], [0.7, \"#b8e186\"], [0.8, \"#7fbc41\"], [0.9, \"#4d9221\"], [1, \"#276419\"]], \"sequential\": [[0.0, \"#0d0887\"], [0.1111111111111111, \"#46039f\"], [0.2222222222222222, \"#7201a8\"], [0.3333333333333333, \"#9c179e\"], [0.4444444444444444, \"#bd3786\"], [0.5555555555555556, \"#d8576b\"], [0.6666666666666666, \"#ed7953\"], [0.7777777777777778, \"#fb9f3a\"], [0.8888888888888888, \"#fdca26\"], [1.0, \"#f0f921\"]], \"sequentialminus\": [[0.0, \"#0d0887\"], [0.1111111111111111, \"#46039f\"], [0.2222222222222222, \"#7201a8\"], [0.3333333333333333, \"#9c179e\"], [0.4444444444444444, \"#bd3786\"], [0.5555555555555556, \"#d8576b\"], [0.6666666666666666, \"#ed7953\"], [0.7777777777777778, \"#fb9f3a\"], [0.8888888888888888, \"#fdca26\"], [1.0, \"#f0f921\"]]}, \"colorway\": [\"#636efa\", \"#EF553B\", \"#00cc96\", \"#ab63fa\", \"#FFA15A\", \"#19d3f3\", \"#FF6692\", \"#B6E880\", \"#FF97FF\", \"#FECB52\"], \"font\": {\"color\": \"#2a3f5f\"}, \"geo\": {\"bgcolor\": \"white\", \"lakecolor\": \"white\", \"landcolor\": \"#E5ECF6\", \"showlakes\": true, \"showland\": true, \"subunitcolor\": \"white\"}, \"hoverlabel\": {\"align\": \"left\"}, \"hovermode\": \"closest\", \"mapbox\": {\"style\": \"light\"}, \"paper_bgcolor\": \"white\", \"plot_bgcolor\": \"#E5ECF6\", \"polar\": {\"angularaxis\": {\"gridcolor\": \"white\", \"linecolor\": \"white\", \"ticks\": \"\"}, \"bgcolor\": \"#E5ECF6\", \"radialaxis\": {\"gridcolor\": \"white\", \"linecolor\": \"white\", \"ticks\": \"\"}}, \"scene\": {\"xaxis\": {\"backgroundcolor\": \"#E5ECF6\", \"gridcolor\": \"white\", \"gridwidth\": 2, \"linecolor\": \"white\", \"showbackground\": true, \"ticks\": \"\", \"zerolinecolor\": \"white\"}, \"yaxis\": {\"backgroundcolor\": \"#E5ECF6\", \"gridcolor\": \"white\", \"gridwidth\": 2, \"linecolor\": \"white\", \"showbackground\": true, \"ticks\": \"\", \"zerolinecolor\": \"white\"}, \"zaxis\": {\"backgroundcolor\": \"#E5ECF6\", \"gridcolor\": \"white\", \"gridwidth\": 2, \"linecolor\": \"white\", \"showbackground\": true, \"ticks\": \"\", \"zerolinecolor\": \"white\"}}, \"shapedefaults\": {\"line\": {\"color\": \"#2a3f5f\"}}, \"ternary\": {\"aaxis\": {\"gridcolor\": \"white\", \"linecolor\": \"white\", \"ticks\": \"\"}, \"baxis\": {\"gridcolor\": \"white\", \"linecolor\": \"white\", \"ticks\": \"\"}, \"bgcolor\": \"#E5ECF6\", \"caxis\": {\"gridcolor\": \"white\", \"linecolor\": \"white\", \"ticks\": \"\"}}, \"title\": {\"x\": 0.05}, \"xaxis\": {\"automargin\": true, \"gridcolor\": \"white\", \"linecolor\": \"white\", \"ticks\": \"\", \"title\": {\"standoff\": 15}, \"zerolinecolor\": \"white\", \"zerolinewidth\": 2}, \"yaxis\": {\"automargin\": true, \"gridcolor\": \"white\", \"linecolor\": \"white\", \"ticks\": \"\", \"title\": {\"standoff\": 15}, \"zerolinecolor\": \"white\", \"zerolinewidth\": 2}}}},\n",
       "                        {\"responsive\": true}\n",
       "                    ).then(function(){\n",
       "                            \n",
       "var gd = document.getElementById('95b26ad0-1a08-4122-82d9-514f8c2765c1');\n",
       "var x = new MutationObserver(function (mutations, observer) {{\n",
       "        var display = window.getComputedStyle(gd).display;\n",
       "        if (!display || display === 'none') {{\n",
       "            console.log([gd, 'removed!']);\n",
       "            Plotly.purge(gd);\n",
       "            observer.disconnect();\n",
       "        }}\n",
       "}});\n",
       "\n",
       "// Listen for the removal of the full notebook cells\n",
       "var notebookContainer = gd.closest('#notebook-container');\n",
       "if (notebookContainer) {{\n",
       "    x.observe(notebookContainer, {childList: true});\n",
       "}}\n",
       "\n",
       "// Listen for the clearing of the current output cell\n",
       "var outputEl = gd.closest('.output');\n",
       "if (outputEl) {{\n",
       "    x.observe(outputEl, {childList: true});\n",
       "}}\n",
       "\n",
       "                        })\n",
       "                };\n",
       "                });\n",
       "            </script>\n",
       "        </div>"
      ]
     },
     "metadata": {},
     "output_type": "display_data"
    }
   ],
   "source": [
    "px.pie(df,names='Country Name',values='Total recovery')"
   ]
  },
  {
   "cell_type": "code",
   "execution_count": 74,
   "metadata": {},
   "outputs": [
    {
     "data": {
      "application/vnd.plotly.v1+json": {
       "config": {
        "plotlyServerURL": "https://plot.ly"
       },
       "data": [
        {
         "domain": {
          "x": [
           0,
           1
          ],
          "y": [
           0,
           1
          ]
         },
         "hovertemplate": "Country Name=%{label}<br>Total Death=%{value}<extra></extra>",
         "labels": [
          "USA",
          "Spain",
          "Italy",
          "UK",
          "France",
          "Germany",
          "Turkey",
          "Russia",
          "Iran",
          "Brazil",
          "China",
          "Canada",
          "Belgium",
          "Peru",
          "Netherlands",
          "India",
          "Switzerland",
          "Ecuador",
          "Saudi Arabia",
          "Portugal"
         ],
         "legendgroup": "",
         "name": "",
         "showlegend": true,
         "type": "pie",
         "values": [
          68445,
          25376,
          29184,
          28752,
          24926,
          6830,
          3414,
          1275,
          6221,
          6572,
          4633,
          3737,
          7827,
          1276,
          5081,
          1423,
          1770,
          1679,
          183,
          1039
         ]
        }
       ],
       "layout": {
        "legend": {
         "tracegroupgap": 0
        },
        "margin": {
         "t": 60
        },
        "template": {
         "data": {
          "bar": [
           {
            "error_x": {
             "color": "#2a3f5f"
            },
            "error_y": {
             "color": "#2a3f5f"
            },
            "marker": {
             "line": {
              "color": "#E5ECF6",
              "width": 0.5
             }
            },
            "type": "bar"
           }
          ],
          "barpolar": [
           {
            "marker": {
             "line": {
              "color": "#E5ECF6",
              "width": 0.5
             }
            },
            "type": "barpolar"
           }
          ],
          "carpet": [
           {
            "aaxis": {
             "endlinecolor": "#2a3f5f",
             "gridcolor": "white",
             "linecolor": "white",
             "minorgridcolor": "white",
             "startlinecolor": "#2a3f5f"
            },
            "baxis": {
             "endlinecolor": "#2a3f5f",
             "gridcolor": "white",
             "linecolor": "white",
             "minorgridcolor": "white",
             "startlinecolor": "#2a3f5f"
            },
            "type": "carpet"
           }
          ],
          "choropleth": [
           {
            "colorbar": {
             "outlinewidth": 0,
             "ticks": ""
            },
            "type": "choropleth"
           }
          ],
          "contour": [
           {
            "colorbar": {
             "outlinewidth": 0,
             "ticks": ""
            },
            "colorscale": [
             [
              0,
              "#0d0887"
             ],
             [
              0.1111111111111111,
              "#46039f"
             ],
             [
              0.2222222222222222,
              "#7201a8"
             ],
             [
              0.3333333333333333,
              "#9c179e"
             ],
             [
              0.4444444444444444,
              "#bd3786"
             ],
             [
              0.5555555555555556,
              "#d8576b"
             ],
             [
              0.6666666666666666,
              "#ed7953"
             ],
             [
              0.7777777777777778,
              "#fb9f3a"
             ],
             [
              0.8888888888888888,
              "#fdca26"
             ],
             [
              1,
              "#f0f921"
             ]
            ],
            "type": "contour"
           }
          ],
          "contourcarpet": [
           {
            "colorbar": {
             "outlinewidth": 0,
             "ticks": ""
            },
            "type": "contourcarpet"
           }
          ],
          "heatmap": [
           {
            "colorbar": {
             "outlinewidth": 0,
             "ticks": ""
            },
            "colorscale": [
             [
              0,
              "#0d0887"
             ],
             [
              0.1111111111111111,
              "#46039f"
             ],
             [
              0.2222222222222222,
              "#7201a8"
             ],
             [
              0.3333333333333333,
              "#9c179e"
             ],
             [
              0.4444444444444444,
              "#bd3786"
             ],
             [
              0.5555555555555556,
              "#d8576b"
             ],
             [
              0.6666666666666666,
              "#ed7953"
             ],
             [
              0.7777777777777778,
              "#fb9f3a"
             ],
             [
              0.8888888888888888,
              "#fdca26"
             ],
             [
              1,
              "#f0f921"
             ]
            ],
            "type": "heatmap"
           }
          ],
          "heatmapgl": [
           {
            "colorbar": {
             "outlinewidth": 0,
             "ticks": ""
            },
            "colorscale": [
             [
              0,
              "#0d0887"
             ],
             [
              0.1111111111111111,
              "#46039f"
             ],
             [
              0.2222222222222222,
              "#7201a8"
             ],
             [
              0.3333333333333333,
              "#9c179e"
             ],
             [
              0.4444444444444444,
              "#bd3786"
             ],
             [
              0.5555555555555556,
              "#d8576b"
             ],
             [
              0.6666666666666666,
              "#ed7953"
             ],
             [
              0.7777777777777778,
              "#fb9f3a"
             ],
             [
              0.8888888888888888,
              "#fdca26"
             ],
             [
              1,
              "#f0f921"
             ]
            ],
            "type": "heatmapgl"
           }
          ],
          "histogram": [
           {
            "marker": {
             "colorbar": {
              "outlinewidth": 0,
              "ticks": ""
             }
            },
            "type": "histogram"
           }
          ],
          "histogram2d": [
           {
            "colorbar": {
             "outlinewidth": 0,
             "ticks": ""
            },
            "colorscale": [
             [
              0,
              "#0d0887"
             ],
             [
              0.1111111111111111,
              "#46039f"
             ],
             [
              0.2222222222222222,
              "#7201a8"
             ],
             [
              0.3333333333333333,
              "#9c179e"
             ],
             [
              0.4444444444444444,
              "#bd3786"
             ],
             [
              0.5555555555555556,
              "#d8576b"
             ],
             [
              0.6666666666666666,
              "#ed7953"
             ],
             [
              0.7777777777777778,
              "#fb9f3a"
             ],
             [
              0.8888888888888888,
              "#fdca26"
             ],
             [
              1,
              "#f0f921"
             ]
            ],
            "type": "histogram2d"
           }
          ],
          "histogram2dcontour": [
           {
            "colorbar": {
             "outlinewidth": 0,
             "ticks": ""
            },
            "colorscale": [
             [
              0,
              "#0d0887"
             ],
             [
              0.1111111111111111,
              "#46039f"
             ],
             [
              0.2222222222222222,
              "#7201a8"
             ],
             [
              0.3333333333333333,
              "#9c179e"
             ],
             [
              0.4444444444444444,
              "#bd3786"
             ],
             [
              0.5555555555555556,
              "#d8576b"
             ],
             [
              0.6666666666666666,
              "#ed7953"
             ],
             [
              0.7777777777777778,
              "#fb9f3a"
             ],
             [
              0.8888888888888888,
              "#fdca26"
             ],
             [
              1,
              "#f0f921"
             ]
            ],
            "type": "histogram2dcontour"
           }
          ],
          "mesh3d": [
           {
            "colorbar": {
             "outlinewidth": 0,
             "ticks": ""
            },
            "type": "mesh3d"
           }
          ],
          "parcoords": [
           {
            "line": {
             "colorbar": {
              "outlinewidth": 0,
              "ticks": ""
             }
            },
            "type": "parcoords"
           }
          ],
          "pie": [
           {
            "automargin": true,
            "type": "pie"
           }
          ],
          "scatter": [
           {
            "marker": {
             "colorbar": {
              "outlinewidth": 0,
              "ticks": ""
             }
            },
            "type": "scatter"
           }
          ],
          "scatter3d": [
           {
            "line": {
             "colorbar": {
              "outlinewidth": 0,
              "ticks": ""
             }
            },
            "marker": {
             "colorbar": {
              "outlinewidth": 0,
              "ticks": ""
             }
            },
            "type": "scatter3d"
           }
          ],
          "scattercarpet": [
           {
            "marker": {
             "colorbar": {
              "outlinewidth": 0,
              "ticks": ""
             }
            },
            "type": "scattercarpet"
           }
          ],
          "scattergeo": [
           {
            "marker": {
             "colorbar": {
              "outlinewidth": 0,
              "ticks": ""
             }
            },
            "type": "scattergeo"
           }
          ],
          "scattergl": [
           {
            "marker": {
             "colorbar": {
              "outlinewidth": 0,
              "ticks": ""
             }
            },
            "type": "scattergl"
           }
          ],
          "scattermapbox": [
           {
            "marker": {
             "colorbar": {
              "outlinewidth": 0,
              "ticks": ""
             }
            },
            "type": "scattermapbox"
           }
          ],
          "scatterpolar": [
           {
            "marker": {
             "colorbar": {
              "outlinewidth": 0,
              "ticks": ""
             }
            },
            "type": "scatterpolar"
           }
          ],
          "scatterpolargl": [
           {
            "marker": {
             "colorbar": {
              "outlinewidth": 0,
              "ticks": ""
             }
            },
            "type": "scatterpolargl"
           }
          ],
          "scatterternary": [
           {
            "marker": {
             "colorbar": {
              "outlinewidth": 0,
              "ticks": ""
             }
            },
            "type": "scatterternary"
           }
          ],
          "surface": [
           {
            "colorbar": {
             "outlinewidth": 0,
             "ticks": ""
            },
            "colorscale": [
             [
              0,
              "#0d0887"
             ],
             [
              0.1111111111111111,
              "#46039f"
             ],
             [
              0.2222222222222222,
              "#7201a8"
             ],
             [
              0.3333333333333333,
              "#9c179e"
             ],
             [
              0.4444444444444444,
              "#bd3786"
             ],
             [
              0.5555555555555556,
              "#d8576b"
             ],
             [
              0.6666666666666666,
              "#ed7953"
             ],
             [
              0.7777777777777778,
              "#fb9f3a"
             ],
             [
              0.8888888888888888,
              "#fdca26"
             ],
             [
              1,
              "#f0f921"
             ]
            ],
            "type": "surface"
           }
          ],
          "table": [
           {
            "cells": {
             "fill": {
              "color": "#EBF0F8"
             },
             "line": {
              "color": "white"
             }
            },
            "header": {
             "fill": {
              "color": "#C8D4E3"
             },
             "line": {
              "color": "white"
             }
            },
            "type": "table"
           }
          ]
         },
         "layout": {
          "annotationdefaults": {
           "arrowcolor": "#2a3f5f",
           "arrowhead": 0,
           "arrowwidth": 1
          },
          "coloraxis": {
           "colorbar": {
            "outlinewidth": 0,
            "ticks": ""
           }
          },
          "colorscale": {
           "diverging": [
            [
             0,
             "#8e0152"
            ],
            [
             0.1,
             "#c51b7d"
            ],
            [
             0.2,
             "#de77ae"
            ],
            [
             0.3,
             "#f1b6da"
            ],
            [
             0.4,
             "#fde0ef"
            ],
            [
             0.5,
             "#f7f7f7"
            ],
            [
             0.6,
             "#e6f5d0"
            ],
            [
             0.7,
             "#b8e186"
            ],
            [
             0.8,
             "#7fbc41"
            ],
            [
             0.9,
             "#4d9221"
            ],
            [
             1,
             "#276419"
            ]
           ],
           "sequential": [
            [
             0,
             "#0d0887"
            ],
            [
             0.1111111111111111,
             "#46039f"
            ],
            [
             0.2222222222222222,
             "#7201a8"
            ],
            [
             0.3333333333333333,
             "#9c179e"
            ],
            [
             0.4444444444444444,
             "#bd3786"
            ],
            [
             0.5555555555555556,
             "#d8576b"
            ],
            [
             0.6666666666666666,
             "#ed7953"
            ],
            [
             0.7777777777777778,
             "#fb9f3a"
            ],
            [
             0.8888888888888888,
             "#fdca26"
            ],
            [
             1,
             "#f0f921"
            ]
           ],
           "sequentialminus": [
            [
             0,
             "#0d0887"
            ],
            [
             0.1111111111111111,
             "#46039f"
            ],
            [
             0.2222222222222222,
             "#7201a8"
            ],
            [
             0.3333333333333333,
             "#9c179e"
            ],
            [
             0.4444444444444444,
             "#bd3786"
            ],
            [
             0.5555555555555556,
             "#d8576b"
            ],
            [
             0.6666666666666666,
             "#ed7953"
            ],
            [
             0.7777777777777778,
             "#fb9f3a"
            ],
            [
             0.8888888888888888,
             "#fdca26"
            ],
            [
             1,
             "#f0f921"
            ]
           ]
          },
          "colorway": [
           "#636efa",
           "#EF553B",
           "#00cc96",
           "#ab63fa",
           "#FFA15A",
           "#19d3f3",
           "#FF6692",
           "#B6E880",
           "#FF97FF",
           "#FECB52"
          ],
          "font": {
           "color": "#2a3f5f"
          },
          "geo": {
           "bgcolor": "white",
           "lakecolor": "white",
           "landcolor": "#E5ECF6",
           "showlakes": true,
           "showland": true,
           "subunitcolor": "white"
          },
          "hoverlabel": {
           "align": "left"
          },
          "hovermode": "closest",
          "mapbox": {
           "style": "light"
          },
          "paper_bgcolor": "white",
          "plot_bgcolor": "#E5ECF6",
          "polar": {
           "angularaxis": {
            "gridcolor": "white",
            "linecolor": "white",
            "ticks": ""
           },
           "bgcolor": "#E5ECF6",
           "radialaxis": {
            "gridcolor": "white",
            "linecolor": "white",
            "ticks": ""
           }
          },
          "scene": {
           "xaxis": {
            "backgroundcolor": "#E5ECF6",
            "gridcolor": "white",
            "gridwidth": 2,
            "linecolor": "white",
            "showbackground": true,
            "ticks": "",
            "zerolinecolor": "white"
           },
           "yaxis": {
            "backgroundcolor": "#E5ECF6",
            "gridcolor": "white",
            "gridwidth": 2,
            "linecolor": "white",
            "showbackground": true,
            "ticks": "",
            "zerolinecolor": "white"
           },
           "zaxis": {
            "backgroundcolor": "#E5ECF6",
            "gridcolor": "white",
            "gridwidth": 2,
            "linecolor": "white",
            "showbackground": true,
            "ticks": "",
            "zerolinecolor": "white"
           }
          },
          "shapedefaults": {
           "line": {
            "color": "#2a3f5f"
           }
          },
          "ternary": {
           "aaxis": {
            "gridcolor": "white",
            "linecolor": "white",
            "ticks": ""
           },
           "baxis": {
            "gridcolor": "white",
            "linecolor": "white",
            "ticks": ""
           },
           "bgcolor": "#E5ECF6",
           "caxis": {
            "gridcolor": "white",
            "linecolor": "white",
            "ticks": ""
           }
          },
          "title": {
           "x": 0.05
          },
          "xaxis": {
           "automargin": true,
           "gridcolor": "white",
           "linecolor": "white",
           "ticks": "",
           "title": {
            "standoff": 15
           },
           "zerolinecolor": "white",
           "zerolinewidth": 2
          },
          "yaxis": {
           "automargin": true,
           "gridcolor": "white",
           "linecolor": "white",
           "ticks": "",
           "title": {
            "standoff": 15
           },
           "zerolinecolor": "white",
           "zerolinewidth": 2
          }
         }
        }
       }
      },
      "text/html": [
       "<div>\n",
       "        \n",
       "        \n",
       "            <div id=\"d422ff8b-b4ff-4a81-bb05-246300d948da\" class=\"plotly-graph-div\" style=\"height:525px; width:100%;\"></div>\n",
       "            <script type=\"text/javascript\">\n",
       "                require([\"plotly\"], function(Plotly) {\n",
       "                    window.PLOTLYENV=window.PLOTLYENV || {};\n",
       "                    \n",
       "                if (document.getElementById(\"d422ff8b-b4ff-4a81-bb05-246300d948da\")) {\n",
       "                    Plotly.newPlot(\n",
       "                        'd422ff8b-b4ff-4a81-bb05-246300d948da',\n",
       "                        [{\"domain\": {\"x\": [0.0, 1.0], \"y\": [0.0, 1.0]}, \"hovertemplate\": \"Country Name=%{label}<br>Total Death=%{value}<extra></extra>\", \"labels\": [\"USA\", \"Spain\", \"Italy\", \"UK\", \"France\", \"Germany\", \"Turkey\", \"Russia\", \"Iran\", \"Brazil\", \"China\", \"Canada\", \"Belgium\", \"Peru\", \"Netherlands\", \"India\", \"Switzerland\", \"Ecuador\", \"Saudi Arabia\", \"Portugal\"], \"legendgroup\": \"\", \"name\": \"\", \"showlegend\": true, \"type\": \"pie\", \"values\": [68445, 25376, 29184, 28752, 24926, 6830, 3414, 1275, 6221, 6572, 4633, 3737, 7827, 1276, 5081, 1423, 1770, 1679, 183, 1039]}],\n",
       "                        {\"legend\": {\"tracegroupgap\": 0}, \"margin\": {\"t\": 60}, \"template\": {\"data\": {\"bar\": [{\"error_x\": {\"color\": \"#2a3f5f\"}, \"error_y\": {\"color\": \"#2a3f5f\"}, \"marker\": {\"line\": {\"color\": \"#E5ECF6\", \"width\": 0.5}}, \"type\": \"bar\"}], \"barpolar\": [{\"marker\": {\"line\": {\"color\": \"#E5ECF6\", \"width\": 0.5}}, \"type\": \"barpolar\"}], \"carpet\": [{\"aaxis\": {\"endlinecolor\": \"#2a3f5f\", \"gridcolor\": \"white\", \"linecolor\": \"white\", \"minorgridcolor\": \"white\", \"startlinecolor\": \"#2a3f5f\"}, \"baxis\": {\"endlinecolor\": \"#2a3f5f\", \"gridcolor\": \"white\", \"linecolor\": \"white\", \"minorgridcolor\": \"white\", \"startlinecolor\": \"#2a3f5f\"}, \"type\": \"carpet\"}], \"choropleth\": [{\"colorbar\": {\"outlinewidth\": 0, \"ticks\": \"\"}, \"type\": \"choropleth\"}], \"contour\": [{\"colorbar\": {\"outlinewidth\": 0, \"ticks\": \"\"}, \"colorscale\": [[0.0, \"#0d0887\"], [0.1111111111111111, \"#46039f\"], [0.2222222222222222, \"#7201a8\"], [0.3333333333333333, \"#9c179e\"], [0.4444444444444444, \"#bd3786\"], [0.5555555555555556, \"#d8576b\"], [0.6666666666666666, \"#ed7953\"], [0.7777777777777778, \"#fb9f3a\"], [0.8888888888888888, \"#fdca26\"], [1.0, \"#f0f921\"]], \"type\": \"contour\"}], \"contourcarpet\": [{\"colorbar\": {\"outlinewidth\": 0, \"ticks\": \"\"}, \"type\": \"contourcarpet\"}], \"heatmap\": [{\"colorbar\": {\"outlinewidth\": 0, \"ticks\": \"\"}, \"colorscale\": [[0.0, \"#0d0887\"], [0.1111111111111111, \"#46039f\"], [0.2222222222222222, \"#7201a8\"], [0.3333333333333333, \"#9c179e\"], [0.4444444444444444, \"#bd3786\"], [0.5555555555555556, \"#d8576b\"], [0.6666666666666666, \"#ed7953\"], [0.7777777777777778, \"#fb9f3a\"], [0.8888888888888888, \"#fdca26\"], [1.0, \"#f0f921\"]], \"type\": \"heatmap\"}], \"heatmapgl\": [{\"colorbar\": {\"outlinewidth\": 0, \"ticks\": \"\"}, \"colorscale\": [[0.0, \"#0d0887\"], [0.1111111111111111, \"#46039f\"], [0.2222222222222222, \"#7201a8\"], [0.3333333333333333, \"#9c179e\"], [0.4444444444444444, \"#bd3786\"], [0.5555555555555556, \"#d8576b\"], [0.6666666666666666, \"#ed7953\"], [0.7777777777777778, \"#fb9f3a\"], [0.8888888888888888, \"#fdca26\"], [1.0, \"#f0f921\"]], \"type\": \"heatmapgl\"}], \"histogram\": [{\"marker\": {\"colorbar\": {\"outlinewidth\": 0, \"ticks\": \"\"}}, \"type\": \"histogram\"}], \"histogram2d\": [{\"colorbar\": {\"outlinewidth\": 0, \"ticks\": \"\"}, \"colorscale\": [[0.0, \"#0d0887\"], [0.1111111111111111, \"#46039f\"], [0.2222222222222222, \"#7201a8\"], [0.3333333333333333, \"#9c179e\"], [0.4444444444444444, \"#bd3786\"], [0.5555555555555556, \"#d8576b\"], [0.6666666666666666, \"#ed7953\"], [0.7777777777777778, \"#fb9f3a\"], [0.8888888888888888, \"#fdca26\"], [1.0, \"#f0f921\"]], \"type\": \"histogram2d\"}], \"histogram2dcontour\": [{\"colorbar\": {\"outlinewidth\": 0, \"ticks\": \"\"}, \"colorscale\": [[0.0, \"#0d0887\"], [0.1111111111111111, \"#46039f\"], [0.2222222222222222, \"#7201a8\"], [0.3333333333333333, \"#9c179e\"], [0.4444444444444444, \"#bd3786\"], [0.5555555555555556, \"#d8576b\"], [0.6666666666666666, \"#ed7953\"], [0.7777777777777778, \"#fb9f3a\"], [0.8888888888888888, \"#fdca26\"], [1.0, \"#f0f921\"]], \"type\": \"histogram2dcontour\"}], \"mesh3d\": [{\"colorbar\": {\"outlinewidth\": 0, \"ticks\": \"\"}, \"type\": \"mesh3d\"}], \"parcoords\": [{\"line\": {\"colorbar\": {\"outlinewidth\": 0, \"ticks\": \"\"}}, \"type\": \"parcoords\"}], \"pie\": [{\"automargin\": true, \"type\": \"pie\"}], \"scatter\": [{\"marker\": {\"colorbar\": {\"outlinewidth\": 0, \"ticks\": \"\"}}, \"type\": \"scatter\"}], \"scatter3d\": [{\"line\": {\"colorbar\": {\"outlinewidth\": 0, \"ticks\": \"\"}}, \"marker\": {\"colorbar\": {\"outlinewidth\": 0, \"ticks\": \"\"}}, \"type\": \"scatter3d\"}], \"scattercarpet\": [{\"marker\": {\"colorbar\": {\"outlinewidth\": 0, \"ticks\": \"\"}}, \"type\": \"scattercarpet\"}], \"scattergeo\": [{\"marker\": {\"colorbar\": {\"outlinewidth\": 0, \"ticks\": \"\"}}, \"type\": \"scattergeo\"}], \"scattergl\": [{\"marker\": {\"colorbar\": {\"outlinewidth\": 0, \"ticks\": \"\"}}, \"type\": \"scattergl\"}], \"scattermapbox\": [{\"marker\": {\"colorbar\": {\"outlinewidth\": 0, \"ticks\": \"\"}}, \"type\": \"scattermapbox\"}], \"scatterpolar\": [{\"marker\": {\"colorbar\": {\"outlinewidth\": 0, \"ticks\": \"\"}}, \"type\": \"scatterpolar\"}], \"scatterpolargl\": [{\"marker\": {\"colorbar\": {\"outlinewidth\": 0, \"ticks\": \"\"}}, \"type\": \"scatterpolargl\"}], \"scatterternary\": [{\"marker\": {\"colorbar\": {\"outlinewidth\": 0, \"ticks\": \"\"}}, \"type\": \"scatterternary\"}], \"surface\": [{\"colorbar\": {\"outlinewidth\": 0, \"ticks\": \"\"}, \"colorscale\": [[0.0, \"#0d0887\"], [0.1111111111111111, \"#46039f\"], [0.2222222222222222, \"#7201a8\"], [0.3333333333333333, \"#9c179e\"], [0.4444444444444444, \"#bd3786\"], [0.5555555555555556, \"#d8576b\"], [0.6666666666666666, \"#ed7953\"], [0.7777777777777778, \"#fb9f3a\"], [0.8888888888888888, \"#fdca26\"], [1.0, \"#f0f921\"]], \"type\": \"surface\"}], \"table\": [{\"cells\": {\"fill\": {\"color\": \"#EBF0F8\"}, \"line\": {\"color\": \"white\"}}, \"header\": {\"fill\": {\"color\": \"#C8D4E3\"}, \"line\": {\"color\": \"white\"}}, \"type\": \"table\"}]}, \"layout\": {\"annotationdefaults\": {\"arrowcolor\": \"#2a3f5f\", \"arrowhead\": 0, \"arrowwidth\": 1}, \"coloraxis\": {\"colorbar\": {\"outlinewidth\": 0, \"ticks\": \"\"}}, \"colorscale\": {\"diverging\": [[0, \"#8e0152\"], [0.1, \"#c51b7d\"], [0.2, \"#de77ae\"], [0.3, \"#f1b6da\"], [0.4, \"#fde0ef\"], [0.5, \"#f7f7f7\"], [0.6, \"#e6f5d0\"], [0.7, \"#b8e186\"], [0.8, \"#7fbc41\"], [0.9, \"#4d9221\"], [1, \"#276419\"]], \"sequential\": [[0.0, \"#0d0887\"], [0.1111111111111111, \"#46039f\"], [0.2222222222222222, \"#7201a8\"], [0.3333333333333333, \"#9c179e\"], [0.4444444444444444, \"#bd3786\"], [0.5555555555555556, \"#d8576b\"], [0.6666666666666666, \"#ed7953\"], [0.7777777777777778, \"#fb9f3a\"], [0.8888888888888888, \"#fdca26\"], [1.0, \"#f0f921\"]], \"sequentialminus\": [[0.0, \"#0d0887\"], [0.1111111111111111, \"#46039f\"], [0.2222222222222222, \"#7201a8\"], [0.3333333333333333, \"#9c179e\"], [0.4444444444444444, \"#bd3786\"], [0.5555555555555556, \"#d8576b\"], [0.6666666666666666, \"#ed7953\"], [0.7777777777777778, \"#fb9f3a\"], [0.8888888888888888, \"#fdca26\"], [1.0, \"#f0f921\"]]}, \"colorway\": [\"#636efa\", \"#EF553B\", \"#00cc96\", \"#ab63fa\", \"#FFA15A\", \"#19d3f3\", \"#FF6692\", \"#B6E880\", \"#FF97FF\", \"#FECB52\"], \"font\": {\"color\": \"#2a3f5f\"}, \"geo\": {\"bgcolor\": \"white\", \"lakecolor\": \"white\", \"landcolor\": \"#E5ECF6\", \"showlakes\": true, \"showland\": true, \"subunitcolor\": \"white\"}, \"hoverlabel\": {\"align\": \"left\"}, \"hovermode\": \"closest\", \"mapbox\": {\"style\": \"light\"}, \"paper_bgcolor\": \"white\", \"plot_bgcolor\": \"#E5ECF6\", \"polar\": {\"angularaxis\": {\"gridcolor\": \"white\", \"linecolor\": \"white\", \"ticks\": \"\"}, \"bgcolor\": \"#E5ECF6\", \"radialaxis\": {\"gridcolor\": \"white\", \"linecolor\": \"white\", \"ticks\": \"\"}}, \"scene\": {\"xaxis\": {\"backgroundcolor\": \"#E5ECF6\", \"gridcolor\": \"white\", \"gridwidth\": 2, \"linecolor\": \"white\", \"showbackground\": true, \"ticks\": \"\", \"zerolinecolor\": \"white\"}, \"yaxis\": {\"backgroundcolor\": \"#E5ECF6\", \"gridcolor\": \"white\", \"gridwidth\": 2, \"linecolor\": \"white\", \"showbackground\": true, \"ticks\": \"\", \"zerolinecolor\": \"white\"}, \"zaxis\": {\"backgroundcolor\": \"#E5ECF6\", \"gridcolor\": \"white\", \"gridwidth\": 2, \"linecolor\": \"white\", \"showbackground\": true, \"ticks\": \"\", \"zerolinecolor\": \"white\"}}, \"shapedefaults\": {\"line\": {\"color\": \"#2a3f5f\"}}, \"ternary\": {\"aaxis\": {\"gridcolor\": \"white\", \"linecolor\": \"white\", \"ticks\": \"\"}, \"baxis\": {\"gridcolor\": \"white\", \"linecolor\": \"white\", \"ticks\": \"\"}, \"bgcolor\": \"#E5ECF6\", \"caxis\": {\"gridcolor\": \"white\", \"linecolor\": \"white\", \"ticks\": \"\"}}, \"title\": {\"x\": 0.05}, \"xaxis\": {\"automargin\": true, \"gridcolor\": \"white\", \"linecolor\": \"white\", \"ticks\": \"\", \"title\": {\"standoff\": 15}, \"zerolinecolor\": \"white\", \"zerolinewidth\": 2}, \"yaxis\": {\"automargin\": true, \"gridcolor\": \"white\", \"linecolor\": \"white\", \"ticks\": \"\", \"title\": {\"standoff\": 15}, \"zerolinecolor\": \"white\", \"zerolinewidth\": 2}}}},\n",
       "                        {\"responsive\": true}\n",
       "                    ).then(function(){\n",
       "                            \n",
       "var gd = document.getElementById('d422ff8b-b4ff-4a81-bb05-246300d948da');\n",
       "var x = new MutationObserver(function (mutations, observer) {{\n",
       "        var display = window.getComputedStyle(gd).display;\n",
       "        if (!display || display === 'none') {{\n",
       "            console.log([gd, 'removed!']);\n",
       "            Plotly.purge(gd);\n",
       "            observer.disconnect();\n",
       "        }}\n",
       "}});\n",
       "\n",
       "// Listen for the removal of the full notebook cells\n",
       "var notebookContainer = gd.closest('#notebook-container');\n",
       "if (notebookContainer) {{\n",
       "    x.observe(notebookContainer, {childList: true});\n",
       "}}\n",
       "\n",
       "// Listen for the clearing of the current output cell\n",
       "var outputEl = gd.closest('.output');\n",
       "if (outputEl) {{\n",
       "    x.observe(outputEl, {childList: true});\n",
       "}}\n",
       "\n",
       "                        })\n",
       "                };\n",
       "                });\n",
       "            </script>\n",
       "        </div>"
      ]
     },
     "metadata": {},
     "output_type": "display_data"
    }
   ],
   "source": [
    "px.pie(df,names='Country Name',values='Total Death')"
   ]
  },
  {
   "cell_type": "code",
   "execution_count": 94,
   "metadata": {
    "scrolled": true
   },
   "outputs": [
    {
     "name": "stdout",
     "output_type": "stream",
     "text": [
      "Help on package plotly.express in plotly:\n",
      "\n",
      "NAME\n",
      "    plotly.express\n",
      "\n",
      "DESCRIPTION\n",
      "    `plotly.express` is a terse, consistent, high-level wrapper around `plotly.graph_objects`\n",
      "    for rapid data exploration and figure generation. Learn more at https://plotly.express/\n",
      "\n",
      "PACKAGE CONTENTS\n",
      "    _chart_types\n",
      "    _core\n",
      "    _doc\n",
      "    _imshow\n",
      "    colors\n",
      "    data\n",
      "\n",
      "FUNCTIONS\n",
      "    area(data_frame=None, x=None, y=None, line_group=None, color=None, hover_name=None, hover_data=None, custom_data=None, text=None, facet_row=None, facet_col=None, facet_col_wrap=0, animation_frame=None, animation_group=None, category_orders={}, labels={}, color_discrete_sequence=None, color_discrete_map={}, orientation='v', groupnorm=None, log_x=False, log_y=False, range_x=None, range_y=None, line_shape=None, title=None, template=None, width=None, height=None)\n",
      "            In a stacked area plot, each row of `data_frame` is represented as\n",
      "            vertex of a polyline mark in 2D space. The area between successive\n",
      "            polylines is filled.\n",
      "            \n",
      "        Parameters\n",
      "        ----------\n",
      "        data_frame: DataFrame or array-like or dict\n",
      "            This argument needs to be passed for column names (and not keyword\n",
      "            names) to be used. Array-like and dict are tranformed internally to a\n",
      "            pandas DataFrame. Optional: if missing, a DataFrame gets constructed\n",
      "            under the hood using the other arguments.\n",
      "        x: str or int or Series or array-like\n",
      "            Either a name of a column in `data_frame`, or a pandas Series or\n",
      "            array_like object. Values from this column or array_like are used to\n",
      "            position marks along the x axis in cartesian coordinates. For\n",
      "            horizontal histograms, these values are used as inputs to `histfunc`.\n",
      "        y: str or int or Series or array-like\n",
      "            Either a name of a column in `data_frame`, or a pandas Series or\n",
      "            array_like object. Values from this column or array_like are used to\n",
      "            position marks along the y axis in cartesian coordinates. For vertical\n",
      "            histograms, these values are used as inputs to `histfunc`.\n",
      "        line_group: str or int or Series or array-like\n",
      "            Either a name of a column in `data_frame`, or a pandas Series or\n",
      "            array_like object. Values from this column or array_like are used to\n",
      "            group rows of `data_frame` into lines.\n",
      "        color: str or int or Series or array-like\n",
      "            Either a name of a column in `data_frame`, or a pandas Series or\n",
      "            array_like object. Values from this column or array_like are used to\n",
      "            assign color to marks.\n",
      "        hover_name: str or int or Series or array-like\n",
      "            Either a name of a column in `data_frame`, or a pandas Series or\n",
      "            array_like object. Values from this column or array_like appear in bold\n",
      "            in the hover tooltip.\n",
      "        hover_data: list of str or int, or Series or array-like\n",
      "            Either names of columns in `data_frame`, or pandas Series, or\n",
      "            array_like objects Values from these columns appear as extra data in\n",
      "            the hover tooltip.\n",
      "        custom_data: list of str or int, or Series or array-like\n",
      "            Either names of columns in `data_frame`, or pandas Series, or\n",
      "            array_like objects Values from these columns are extra data, to be used\n",
      "            in widgets or Dash callbacks for example. This data is not user-visible\n",
      "            but is included in events emitted by the figure (lasso selection etc.)\n",
      "        text: str or int or Series or array-like\n",
      "            Either a name of a column in `data_frame`, or a pandas Series or\n",
      "            array_like object. Values from this column or array_like appear in the\n",
      "            figure as text labels.\n",
      "        facet_row: str or int or Series or array-like\n",
      "            Either a name of a column in `data_frame`, or a pandas Series or\n",
      "            array_like object. Values from this column or array_like are used to\n",
      "            assign marks to facetted subplots in the vertical direction.\n",
      "        facet_col: str or int or Series or array-like\n",
      "            Either a name of a column in `data_frame`, or a pandas Series or\n",
      "            array_like object. Values from this column or array_like are used to\n",
      "            assign marks to facetted subplots in the horizontal direction.\n",
      "        facet_col_wrap: int\n",
      "            Maximum number of facet columns. Wraps the column variable at this\n",
      "            width, so that the column facets span multiple rows. Ignored if 0, and\n",
      "            forced to 0 if `facet_row` or a `marginal` is set.\n",
      "        animation_frame: str or int or Series or array-like\n",
      "            Either a name of a column in `data_frame`, or a pandas Series or\n",
      "            array_like object. Values from this column or array_like are used to\n",
      "            assign marks to animation frames.\n",
      "        animation_group: str or int or Series or array-like\n",
      "            Either a name of a column in `data_frame`, or a pandas Series or\n",
      "            array_like object. Values from this column or array_like are used to\n",
      "            provide object-constancy across animation frames: rows with matching\n",
      "            `animation_group`s will be treated as if they describe the same object\n",
      "            in each frame.\n",
      "        category_orders: dict with str keys and list of str values (default `{}`)\n",
      "            By default, in Python 3.6+, the order of categorical values in axes,\n",
      "            legends and facets depends on the order in which these values are first\n",
      "            encountered in `data_frame` (and no order is guaranteed by default in\n",
      "            Python below 3.6). This parameter is used to force a specific ordering\n",
      "            of values per column. The keys of this dict should correspond to column\n",
      "            names, and the values should be lists of strings corresponding to the\n",
      "            specific display order desired.\n",
      "        labels: dict with str keys and str values (default `{}`)\n",
      "            By default, column names are used in the figure for axis titles, legend\n",
      "            entries and hovers. This parameter allows this to be overridden. The\n",
      "            keys of this dict should correspond to column names, and the values\n",
      "            should correspond to the desired label to be displayed.\n",
      "        color_discrete_sequence: list of str\n",
      "            Strings should define valid CSS-colors. When `color` is set and the\n",
      "            values in the corresponding column are not numeric, values in that\n",
      "            column are assigned colors by cycling through `color_discrete_sequence`\n",
      "            in the order described in `category_orders`, unless the value of\n",
      "            `color` is a key in `color_discrete_map`. Various useful color\n",
      "            sequences are available in the `plotly.express.colors` submodules,\n",
      "            specifically `plotly.express.colors.qualitative`.\n",
      "        color_discrete_map: dict with str keys and str values (default `{}`)\n",
      "            String values should define valid CSS-colors Used to override\n",
      "            `color_discrete_sequence` to assign a specific colors to marks\n",
      "            corresponding with specific values. Keys in `color_discrete_map` should\n",
      "            be values in the column denoted by `color`.\n",
      "        orientation: str (default `'v'`)\n",
      "            One of `'h'` for horizontal or `'v'` for vertical)\n",
      "        groupnorm: str (default `None`)\n",
      "            One of `'fraction'` or `'percent'`. If `'fraction'`, the value of each\n",
      "            point is divided by the sum of all values at that location coordinate.\n",
      "            `'percent'` is the same but multiplied by 100 to show percentages.\n",
      "            `None` will stack up all values at each location coordinate.\n",
      "        log_x: boolean (default `False`)\n",
      "            If `True`, the x-axis is log-scaled in cartesian coordinates.\n",
      "        log_y: boolean (default `False`)\n",
      "            If `True`, the y-axis is log-scaled in cartesian coordinates.\n",
      "        range_x: list of two numbers\n",
      "            If provided, overrides auto-scaling on the x-axis in cartesian\n",
      "            coordinates.\n",
      "        range_y: list of two numbers\n",
      "            If provided, overrides auto-scaling on the y-axis in cartesian\n",
      "            coordinates.\n",
      "        line_shape: str (default `'linear'`)\n",
      "            One of `'linear'` or `'spline'`.\n",
      "        title: str\n",
      "            The figure title.\n",
      "        template: str or dict or plotly.graph_objects.layout.Template instance\n",
      "            The figure template name (must be a key in plotly.io.templates) or\n",
      "            definition.\n",
      "        width: int (default `None`)\n",
      "            The figure width in pixels.\n",
      "        height: int (default `None`)\n",
      "            The figure height in pixels.\n",
      "        \n",
      "        Returns\n",
      "        -------\n",
      "            plotly.graph_objects.Figure\n",
      "    \n",
      "    bar(data_frame=None, x=None, y=None, color=None, facet_row=None, facet_col=None, facet_col_wrap=0, hover_name=None, hover_data=None, custom_data=None, text=None, error_x=None, error_x_minus=None, error_y=None, error_y_minus=None, animation_frame=None, animation_group=None, category_orders={}, labels={}, color_discrete_sequence=None, color_discrete_map={}, color_continuous_scale=None, range_color=None, color_continuous_midpoint=None, opacity=None, orientation='v', barmode='relative', log_x=False, log_y=False, range_x=None, range_y=None, title=None, template=None, width=None, height=None)\n",
      "            In a bar plot, each row of `data_frame` is represented as a rectangular\n",
      "            mark.\n",
      "            \n",
      "        Parameters\n",
      "        ----------\n",
      "        data_frame: DataFrame or array-like or dict\n",
      "            This argument needs to be passed for column names (and not keyword\n",
      "            names) to be used. Array-like and dict are tranformed internally to a\n",
      "            pandas DataFrame. Optional: if missing, a DataFrame gets constructed\n",
      "            under the hood using the other arguments.\n",
      "        x: str or int or Series or array-like\n",
      "            Either a name of a column in `data_frame`, or a pandas Series or\n",
      "            array_like object. Values from this column or array_like are used to\n",
      "            position marks along the x axis in cartesian coordinates. For\n",
      "            horizontal histograms, these values are used as inputs to `histfunc`.\n",
      "        y: str or int or Series or array-like\n",
      "            Either a name of a column in `data_frame`, or a pandas Series or\n",
      "            array_like object. Values from this column or array_like are used to\n",
      "            position marks along the y axis in cartesian coordinates. For vertical\n",
      "            histograms, these values are used as inputs to `histfunc`.\n",
      "        color: str or int or Series or array-like\n",
      "            Either a name of a column in `data_frame`, or a pandas Series or\n",
      "            array_like object. Values from this column or array_like are used to\n",
      "            assign color to marks.\n",
      "        facet_row: str or int or Series or array-like\n",
      "            Either a name of a column in `data_frame`, or a pandas Series or\n",
      "            array_like object. Values from this column or array_like are used to\n",
      "            assign marks to facetted subplots in the vertical direction.\n",
      "        facet_col: str or int or Series or array-like\n",
      "            Either a name of a column in `data_frame`, or a pandas Series or\n",
      "            array_like object. Values from this column or array_like are used to\n",
      "            assign marks to facetted subplots in the horizontal direction.\n",
      "        facet_col_wrap: int\n",
      "            Maximum number of facet columns. Wraps the column variable at this\n",
      "            width, so that the column facets span multiple rows. Ignored if 0, and\n",
      "            forced to 0 if `facet_row` or a `marginal` is set.\n",
      "        hover_name: str or int or Series or array-like\n",
      "            Either a name of a column in `data_frame`, or a pandas Series or\n",
      "            array_like object. Values from this column or array_like appear in bold\n",
      "            in the hover tooltip.\n",
      "        hover_data: list of str or int, or Series or array-like\n",
      "            Either names of columns in `data_frame`, or pandas Series, or\n",
      "            array_like objects Values from these columns appear as extra data in\n",
      "            the hover tooltip.\n",
      "        custom_data: list of str or int, or Series or array-like\n",
      "            Either names of columns in `data_frame`, or pandas Series, or\n",
      "            array_like objects Values from these columns are extra data, to be used\n",
      "            in widgets or Dash callbacks for example. This data is not user-visible\n",
      "            but is included in events emitted by the figure (lasso selection etc.)\n",
      "        text: str or int or Series or array-like\n",
      "            Either a name of a column in `data_frame`, or a pandas Series or\n",
      "            array_like object. Values from this column or array_like appear in the\n",
      "            figure as text labels.\n",
      "        error_x: str or int or Series or array-like\n",
      "            Either a name of a column in `data_frame`, or a pandas Series or\n",
      "            array_like object. Values from this column or array_like are used to\n",
      "            size x-axis error bars. If `error_x_minus` is `None`, error bars will\n",
      "            be symmetrical, otherwise `error_x` is used for the positive direction\n",
      "            only.\n",
      "        error_x_minus: str or int or Series or array-like\n",
      "            Either a name of a column in `data_frame`, or a pandas Series or\n",
      "            array_like object. Values from this column or array_like are used to\n",
      "            size x-axis error bars in the negative direction. Ignored if `error_x`\n",
      "            is `None`.\n",
      "        error_y: str or int or Series or array-like\n",
      "            Either a name of a column in `data_frame`, or a pandas Series or\n",
      "            array_like object. Values from this column or array_like are used to\n",
      "            size y-axis error bars. If `error_y_minus` is `None`, error bars will\n",
      "            be symmetrical, otherwise `error_y` is used for the positive direction\n",
      "            only.\n",
      "        error_y_minus: str or int or Series or array-like\n",
      "            Either a name of a column in `data_frame`, or a pandas Series or\n",
      "            array_like object. Values from this column or array_like are used to\n",
      "            size y-axis error bars in the negative direction. Ignored if `error_y`\n",
      "            is `None`.\n",
      "        animation_frame: str or int or Series or array-like\n",
      "            Either a name of a column in `data_frame`, or a pandas Series or\n",
      "            array_like object. Values from this column or array_like are used to\n",
      "            assign marks to animation frames.\n",
      "        animation_group: str or int or Series or array-like\n",
      "            Either a name of a column in `data_frame`, or a pandas Series or\n",
      "            array_like object. Values from this column or array_like are used to\n",
      "            provide object-constancy across animation frames: rows with matching\n",
      "            `animation_group`s will be treated as if they describe the same object\n",
      "            in each frame.\n",
      "        category_orders: dict with str keys and list of str values (default `{}`)\n",
      "            By default, in Python 3.6+, the order of categorical values in axes,\n",
      "            legends and facets depends on the order in which these values are first\n",
      "            encountered in `data_frame` (and no order is guaranteed by default in\n",
      "            Python below 3.6). This parameter is used to force a specific ordering\n",
      "            of values per column. The keys of this dict should correspond to column\n",
      "            names, and the values should be lists of strings corresponding to the\n",
      "            specific display order desired.\n",
      "        labels: dict with str keys and str values (default `{}`)\n",
      "            By default, column names are used in the figure for axis titles, legend\n",
      "            entries and hovers. This parameter allows this to be overridden. The\n",
      "            keys of this dict should correspond to column names, and the values\n",
      "            should correspond to the desired label to be displayed.\n",
      "        color_discrete_sequence: list of str\n",
      "            Strings should define valid CSS-colors. When `color` is set and the\n",
      "            values in the corresponding column are not numeric, values in that\n",
      "            column are assigned colors by cycling through `color_discrete_sequence`\n",
      "            in the order described in `category_orders`, unless the value of\n",
      "            `color` is a key in `color_discrete_map`. Various useful color\n",
      "            sequences are available in the `plotly.express.colors` submodules,\n",
      "            specifically `plotly.express.colors.qualitative`.\n",
      "        color_discrete_map: dict with str keys and str values (default `{}`)\n",
      "            String values should define valid CSS-colors Used to override\n",
      "            `color_discrete_sequence` to assign a specific colors to marks\n",
      "            corresponding with specific values. Keys in `color_discrete_map` should\n",
      "            be values in the column denoted by `color`.\n",
      "        color_continuous_scale: list of str\n",
      "            Strings should define valid CSS-colors This list is used to build a\n",
      "            continuous color scale when the column denoted by `color` contains\n",
      "            numeric data. Various useful color scales are available in the\n",
      "            `plotly.express.colors` submodules, specifically\n",
      "            `plotly.express.colors.sequential`, `plotly.express.colors.diverging`\n",
      "            and `plotly.express.colors.cyclical`.\n",
      "        range_color: list of two numbers\n",
      "            If provided, overrides auto-scaling on the continuous color scale.\n",
      "        color_continuous_midpoint: number (default `None`)\n",
      "            If set, computes the bounds of the continuous color scale to have the\n",
      "            desired midpoint. Setting this value is recommended when using\n",
      "            `plotly.express.colors.diverging` color scales as the inputs to\n",
      "            `color_continuous_scale`.\n",
      "        opacity: float\n",
      "            Value between 0 and 1. Sets the opacity for markers.\n",
      "        orientation: str (default `'v'`)\n",
      "            One of `'h'` for horizontal or `'v'` for vertical)\n",
      "        barmode: str (default `'relative'`)\n",
      "            One of `'group'`, `'overlay'` or `'relative'` In `'relative'` mode,\n",
      "            bars are stacked above zero for positive values and below zero for\n",
      "            negative values. In `'overlay'` mode, bars are drawn on top of one\n",
      "            another. In `'group'` mode, bars are placed beside each other.\n",
      "        log_x: boolean (default `False`)\n",
      "            If `True`, the x-axis is log-scaled in cartesian coordinates.\n",
      "        log_y: boolean (default `False`)\n",
      "            If `True`, the y-axis is log-scaled in cartesian coordinates.\n",
      "        range_x: list of two numbers\n",
      "            If provided, overrides auto-scaling on the x-axis in cartesian\n",
      "            coordinates.\n",
      "        range_y: list of two numbers\n",
      "            If provided, overrides auto-scaling on the y-axis in cartesian\n",
      "            coordinates.\n",
      "        title: str\n",
      "            The figure title.\n",
      "        template: str or dict or plotly.graph_objects.layout.Template instance\n",
      "            The figure template name (must be a key in plotly.io.templates) or\n",
      "            definition.\n",
      "        width: int (default `None`)\n",
      "            The figure width in pixels.\n",
      "        height: int (default `None`)\n",
      "            The figure height in pixels.\n",
      "        \n",
      "        Returns\n",
      "        -------\n",
      "            plotly.graph_objects.Figure\n",
      "    \n",
      "    bar_polar(data_frame=None, r=None, theta=None, color=None, hover_name=None, hover_data=None, custom_data=None, animation_frame=None, animation_group=None, category_orders={}, labels={}, color_discrete_sequence=None, color_discrete_map={}, color_continuous_scale=None, range_color=None, color_continuous_midpoint=None, barnorm=None, barmode='relative', direction='clockwise', start_angle=90, range_r=None, range_theta=None, log_r=False, title=None, template=None, width=None, height=None)\n",
      "            In a polar bar plot, each row of `data_frame` is represented as a wedge\n",
      "            mark in polar coordinates.\n",
      "            \n",
      "        Parameters\n",
      "        ----------\n",
      "        data_frame: DataFrame or array-like or dict\n",
      "            This argument needs to be passed for column names (and not keyword\n",
      "            names) to be used. Array-like and dict are tranformed internally to a\n",
      "            pandas DataFrame. Optional: if missing, a DataFrame gets constructed\n",
      "            under the hood using the other arguments.\n",
      "        r: str or int or Series or array-like\n",
      "            Either a name of a column in `data_frame`, or a pandas Series or\n",
      "            array_like object. Values from this column or array_like are used to\n",
      "            position marks along the radial axis in polar coordinates.\n",
      "        theta: str or int or Series or array-like\n",
      "            Either a name of a column in `data_frame`, or a pandas Series or\n",
      "            array_like object. Values from this column or array_like are used to\n",
      "            position marks along the angular axis in polar coordinates.\n",
      "        color: str or int or Series or array-like\n",
      "            Either a name of a column in `data_frame`, or a pandas Series or\n",
      "            array_like object. Values from this column or array_like are used to\n",
      "            assign color to marks.\n",
      "        hover_name: str or int or Series or array-like\n",
      "            Either a name of a column in `data_frame`, or a pandas Series or\n",
      "            array_like object. Values from this column or array_like appear in bold\n",
      "            in the hover tooltip.\n",
      "        hover_data: list of str or int, or Series or array-like\n",
      "            Either names of columns in `data_frame`, or pandas Series, or\n",
      "            array_like objects Values from these columns appear as extra data in\n",
      "            the hover tooltip.\n",
      "        custom_data: list of str or int, or Series or array-like\n",
      "            Either names of columns in `data_frame`, or pandas Series, or\n",
      "            array_like objects Values from these columns are extra data, to be used\n",
      "            in widgets or Dash callbacks for example. This data is not user-visible\n",
      "            but is included in events emitted by the figure (lasso selection etc.)\n",
      "        animation_frame: str or int or Series or array-like\n",
      "            Either a name of a column in `data_frame`, or a pandas Series or\n",
      "            array_like object. Values from this column or array_like are used to\n",
      "            assign marks to animation frames.\n",
      "        animation_group: str or int or Series or array-like\n",
      "            Either a name of a column in `data_frame`, or a pandas Series or\n",
      "            array_like object. Values from this column or array_like are used to\n",
      "            provide object-constancy across animation frames: rows with matching\n",
      "            `animation_group`s will be treated as if they describe the same object\n",
      "            in each frame.\n",
      "        category_orders: dict with str keys and list of str values (default `{}`)\n",
      "            By default, in Python 3.6+, the order of categorical values in axes,\n",
      "            legends and facets depends on the order in which these values are first\n",
      "            encountered in `data_frame` (and no order is guaranteed by default in\n",
      "            Python below 3.6). This parameter is used to force a specific ordering\n",
      "            of values per column. The keys of this dict should correspond to column\n",
      "            names, and the values should be lists of strings corresponding to the\n",
      "            specific display order desired.\n",
      "        labels: dict with str keys and str values (default `{}`)\n",
      "            By default, column names are used in the figure for axis titles, legend\n",
      "            entries and hovers. This parameter allows this to be overridden. The\n",
      "            keys of this dict should correspond to column names, and the values\n",
      "            should correspond to the desired label to be displayed.\n",
      "        color_discrete_sequence: list of str\n",
      "            Strings should define valid CSS-colors. When `color` is set and the\n",
      "            values in the corresponding column are not numeric, values in that\n",
      "            column are assigned colors by cycling through `color_discrete_sequence`\n",
      "            in the order described in `category_orders`, unless the value of\n",
      "            `color` is a key in `color_discrete_map`. Various useful color\n",
      "            sequences are available in the `plotly.express.colors` submodules,\n",
      "            specifically `plotly.express.colors.qualitative`.\n",
      "        color_discrete_map: dict with str keys and str values (default `{}`)\n",
      "            String values should define valid CSS-colors Used to override\n",
      "            `color_discrete_sequence` to assign a specific colors to marks\n",
      "            corresponding with specific values. Keys in `color_discrete_map` should\n",
      "            be values in the column denoted by `color`.\n",
      "        color_continuous_scale: list of str\n",
      "            Strings should define valid CSS-colors This list is used to build a\n",
      "            continuous color scale when the column denoted by `color` contains\n",
      "            numeric data. Various useful color scales are available in the\n",
      "            `plotly.express.colors` submodules, specifically\n",
      "            `plotly.express.colors.sequential`, `plotly.express.colors.diverging`\n",
      "            and `plotly.express.colors.cyclical`.\n",
      "        range_color: list of two numbers\n",
      "            If provided, overrides auto-scaling on the continuous color scale.\n",
      "        color_continuous_midpoint: number (default `None`)\n",
      "            If set, computes the bounds of the continuous color scale to have the\n",
      "            desired midpoint. Setting this value is recommended when using\n",
      "            `plotly.express.colors.diverging` color scales as the inputs to\n",
      "            `color_continuous_scale`.\n",
      "        barnorm: str (default `None`)\n",
      "            One of `'fraction'` or `'percent'`. If `'fraction'`, the value of each\n",
      "            bar is divided by the sum of all values at that location coordinate.\n",
      "            `'percent'` is the same but multiplied by 100 to show percentages.\n",
      "            `None` will stack up all values at each location coordinate.\n",
      "        barmode: str (default `'relative'`)\n",
      "            One of `'group'`, `'overlay'` or `'relative'` In `'relative'` mode,\n",
      "            bars are stacked above zero for positive values and below zero for\n",
      "            negative values. In `'overlay'` mode, bars are drawn on top of one\n",
      "            another. In `'group'` mode, bars are placed beside each other.\n",
      "        direction: str\n",
      "            One of '`counterclockwise'` or `'clockwise'`. Default is `'clockwise'`\n",
      "            Sets the direction in which increasing values of the angular axis are\n",
      "            drawn.\n",
      "        start_angle: int (default `90`)\n",
      "            Sets start angle for the angular axis, with 0 being due east and 90\n",
      "            being due north.\n",
      "        range_r: list of two numbers\n",
      "            If provided, overrides auto-scaling on the radial axis in polar\n",
      "            coordinates.\n",
      "        range_theta: list of two numbers\n",
      "            If provided, overrides auto-scaling on the angular axis in polar\n",
      "            coordinates.\n",
      "        log_r: boolean (default `False`)\n",
      "            If `True`, the radial axis is log-scaled in polar coordinates.\n",
      "        title: str\n",
      "            The figure title.\n",
      "        template: str or dict or plotly.graph_objects.layout.Template instance\n",
      "            The figure template name (must be a key in plotly.io.templates) or\n",
      "            definition.\n",
      "        width: int (default `None`)\n",
      "            The figure width in pixels.\n",
      "        height: int (default `None`)\n",
      "            The figure height in pixels.\n",
      "        \n",
      "        Returns\n",
      "        -------\n",
      "            plotly.graph_objects.Figure\n",
      "    \n",
      "    box(data_frame=None, x=None, y=None, color=None, facet_row=None, facet_col=None, facet_col_wrap=0, hover_name=None, hover_data=None, custom_data=None, animation_frame=None, animation_group=None, category_orders={}, labels={}, color_discrete_sequence=None, color_discrete_map={}, orientation='v', boxmode='group', log_x=False, log_y=False, range_x=None, range_y=None, points=None, notched=False, title=None, template=None, width=None, height=None)\n",
      "            In a box plot, rows of `data_frame` are grouped together into a\n",
      "            box-and-whisker mark to visualize their distribution.\n",
      "        \n",
      "            Each box spans from quartile 1 (Q1) to quartile 3 (Q3). The second\n",
      "            quartile (Q2) is marked by a line inside the box. By default, the\n",
      "            whiskers correspond to the box' edges +/- 1.5 times the interquartile\n",
      "            range (IQR: Q3-Q1), see \"points\" for other options.\n",
      "            \n",
      "        Parameters\n",
      "        ----------\n",
      "        data_frame: DataFrame or array-like or dict\n",
      "            This argument needs to be passed for column names (and not keyword\n",
      "            names) to be used. Array-like and dict are tranformed internally to a\n",
      "            pandas DataFrame. Optional: if missing, a DataFrame gets constructed\n",
      "            under the hood using the other arguments.\n",
      "        x: str or int or Series or array-like\n",
      "            Either a name of a column in `data_frame`, or a pandas Series or\n",
      "            array_like object. Values from this column or array_like are used to\n",
      "            position marks along the x axis in cartesian coordinates. For\n",
      "            horizontal histograms, these values are used as inputs to `histfunc`.\n",
      "        y: str or int or Series or array-like\n",
      "            Either a name of a column in `data_frame`, or a pandas Series or\n",
      "            array_like object. Values from this column or array_like are used to\n",
      "            position marks along the y axis in cartesian coordinates. For vertical\n",
      "            histograms, these values are used as inputs to `histfunc`.\n",
      "        color: str or int or Series or array-like\n",
      "            Either a name of a column in `data_frame`, or a pandas Series or\n",
      "            array_like object. Values from this column or array_like are used to\n",
      "            assign color to marks.\n",
      "        facet_row: str or int or Series or array-like\n",
      "            Either a name of a column in `data_frame`, or a pandas Series or\n",
      "            array_like object. Values from this column or array_like are used to\n",
      "            assign marks to facetted subplots in the vertical direction.\n",
      "        facet_col: str or int or Series or array-like\n",
      "            Either a name of a column in `data_frame`, or a pandas Series or\n",
      "            array_like object. Values from this column or array_like are used to\n",
      "            assign marks to facetted subplots in the horizontal direction.\n",
      "        facet_col_wrap: int\n",
      "            Maximum number of facet columns. Wraps the column variable at this\n",
      "            width, so that the column facets span multiple rows. Ignored if 0, and\n",
      "            forced to 0 if `facet_row` or a `marginal` is set.\n",
      "        hover_name: str or int or Series or array-like\n",
      "            Either a name of a column in `data_frame`, or a pandas Series or\n",
      "            array_like object. Values from this column or array_like appear in bold\n",
      "            in the hover tooltip.\n",
      "        hover_data: list of str or int, or Series or array-like\n",
      "            Either names of columns in `data_frame`, or pandas Series, or\n",
      "            array_like objects Values from these columns appear as extra data in\n",
      "            the hover tooltip.\n",
      "        custom_data: list of str or int, or Series or array-like\n",
      "            Either names of columns in `data_frame`, or pandas Series, or\n",
      "            array_like objects Values from these columns are extra data, to be used\n",
      "            in widgets or Dash callbacks for example. This data is not user-visible\n",
      "            but is included in events emitted by the figure (lasso selection etc.)\n",
      "        animation_frame: str or int or Series or array-like\n",
      "            Either a name of a column in `data_frame`, or a pandas Series or\n",
      "            array_like object. Values from this column or array_like are used to\n",
      "            assign marks to animation frames.\n",
      "        animation_group: str or int or Series or array-like\n",
      "            Either a name of a column in `data_frame`, or a pandas Series or\n",
      "            array_like object. Values from this column or array_like are used to\n",
      "            provide object-constancy across animation frames: rows with matching\n",
      "            `animation_group`s will be treated as if they describe the same object\n",
      "            in each frame.\n",
      "        category_orders: dict with str keys and list of str values (default `{}`)\n",
      "            By default, in Python 3.6+, the order of categorical values in axes,\n",
      "            legends and facets depends on the order in which these values are first\n",
      "            encountered in `data_frame` (and no order is guaranteed by default in\n",
      "            Python below 3.6). This parameter is used to force a specific ordering\n",
      "            of values per column. The keys of this dict should correspond to column\n",
      "            names, and the values should be lists of strings corresponding to the\n",
      "            specific display order desired.\n",
      "        labels: dict with str keys and str values (default `{}`)\n",
      "            By default, column names are used in the figure for axis titles, legend\n",
      "            entries and hovers. This parameter allows this to be overridden. The\n",
      "            keys of this dict should correspond to column names, and the values\n",
      "            should correspond to the desired label to be displayed.\n",
      "        color_discrete_sequence: list of str\n",
      "            Strings should define valid CSS-colors. When `color` is set and the\n",
      "            values in the corresponding column are not numeric, values in that\n",
      "            column are assigned colors by cycling through `color_discrete_sequence`\n",
      "            in the order described in `category_orders`, unless the value of\n",
      "            `color` is a key in `color_discrete_map`. Various useful color\n",
      "            sequences are available in the `plotly.express.colors` submodules,\n",
      "            specifically `plotly.express.colors.qualitative`.\n",
      "        color_discrete_map: dict with str keys and str values (default `{}`)\n",
      "            String values should define valid CSS-colors Used to override\n",
      "            `color_discrete_sequence` to assign a specific colors to marks\n",
      "            corresponding with specific values. Keys in `color_discrete_map` should\n",
      "            be values in the column denoted by `color`.\n",
      "        orientation: str (default `'v'`)\n",
      "            One of `'h'` for horizontal or `'v'` for vertical)\n",
      "        boxmode: str (default `'group'`)\n",
      "            One of `'group'` or `'overlay'` In `'overlay'` mode, boxes are on drawn\n",
      "            top of one another. In `'group'` mode, baxes are placed beside each\n",
      "            other.\n",
      "        log_x: boolean (default `False`)\n",
      "            If `True`, the x-axis is log-scaled in cartesian coordinates.\n",
      "        log_y: boolean (default `False`)\n",
      "            If `True`, the y-axis is log-scaled in cartesian coordinates.\n",
      "        range_x: list of two numbers\n",
      "            If provided, overrides auto-scaling on the x-axis in cartesian\n",
      "            coordinates.\n",
      "        range_y: list of two numbers\n",
      "            If provided, overrides auto-scaling on the y-axis in cartesian\n",
      "            coordinates.\n",
      "        points: str or boolean (default `'outliers'`)\n",
      "            One of `'outliers'`, `'suspectedoutliers'`, `'all'`, or `False`. If\n",
      "            `'outliers'`, only the sample points lying outside the whiskers are\n",
      "            shown. If `'suspectedoutliers'`, all outlier points are shown and those\n",
      "            less than 4*Q1-3*Q3 or greater than 4*Q3-3*Q1 are highlighted with the\n",
      "            marker's `'outliercolor'`. If `'outliers'`, only the sample points\n",
      "            lying outside the whiskers are shown. If `'all'`, all sample points are\n",
      "            shown. If `False`, no sample points are shown and the whiskers extend\n",
      "            to the full range of the sample.\n",
      "        notched: boolean (default `False`)\n",
      "            If `True`, boxes are drawn with notches.\n",
      "        title: str\n",
      "            The figure title.\n",
      "        template: str or dict or plotly.graph_objects.layout.Template instance\n",
      "            The figure template name (must be a key in plotly.io.templates) or\n",
      "            definition.\n",
      "        width: int (default `None`)\n",
      "            The figure width in pixels.\n",
      "        height: int (default `None`)\n",
      "            The figure height in pixels.\n",
      "        \n",
      "        Returns\n",
      "        -------\n",
      "            plotly.graph_objects.Figure\n",
      "    \n",
      "    choropleth(data_frame=None, lat=None, lon=None, locations=None, locationmode=None, geojson=None, featureidkey=None, color=None, hover_name=None, hover_data=None, custom_data=None, animation_frame=None, animation_group=None, category_orders={}, labels={}, color_discrete_sequence=None, color_discrete_map={}, color_continuous_scale=None, range_color=None, color_continuous_midpoint=None, projection=None, scope=None, center=None, title=None, template=None, width=None, height=None)\n",
      "            In a choropleth map, each row of `data_frame` is represented by a\n",
      "            colored region mark on a map.\n",
      "            \n",
      "        Parameters\n",
      "        ----------\n",
      "        data_frame: DataFrame or array-like or dict\n",
      "            This argument needs to be passed for column names (and not keyword\n",
      "            names) to be used. Array-like and dict are tranformed internally to a\n",
      "            pandas DataFrame. Optional: if missing, a DataFrame gets constructed\n",
      "            under the hood using the other arguments.\n",
      "        lat: str or int or Series or array-like\n",
      "            Either a name of a column in `data_frame`, or a pandas Series or\n",
      "            array_like object. Values from this column or array_like are used to\n",
      "            position marks according to latitude on a map.\n",
      "        lon: str or int or Series or array-like\n",
      "            Either a name of a column in `data_frame`, or a pandas Series or\n",
      "            array_like object. Values from this column or array_like are used to\n",
      "            position marks according to longitude on a map.\n",
      "        locations: str or int or Series or array-like\n",
      "            Either a name of a column in `data_frame`, or a pandas Series or\n",
      "            array_like object. Values from this column or array_like are to be\n",
      "            interpreted according to `locationmode` and mapped to\n",
      "            longitude/latitude.\n",
      "        locationmode: str\n",
      "            One of 'ISO-3', 'USA-states', or 'country names' Determines the set of\n",
      "            locations used to match entries in `locations` to regions on the map.\n",
      "        geojson: GeoJSON-formatted dict\n",
      "            Must contain a Polygon feature collection, with IDs, which are\n",
      "            references from `locations`.\n",
      "        featureidkey: str (default: `'id'`)\n",
      "            Path to field in GeoJSON feature object with which to match the values\n",
      "            passed in to `locations`.The most common alternative to the default is\n",
      "            of the form `'properties.<key>`.\n",
      "        color: str or int or Series or array-like\n",
      "            Either a name of a column in `data_frame`, or a pandas Series or\n",
      "            array_like object. Values from this column or array_like are used to\n",
      "            assign color to marks.\n",
      "        hover_name: str or int or Series or array-like\n",
      "            Either a name of a column in `data_frame`, or a pandas Series or\n",
      "            array_like object. Values from this column or array_like appear in bold\n",
      "            in the hover tooltip.\n",
      "        hover_data: list of str or int, or Series or array-like\n",
      "            Either names of columns in `data_frame`, or pandas Series, or\n",
      "            array_like objects Values from these columns appear as extra data in\n",
      "            the hover tooltip.\n",
      "        custom_data: list of str or int, or Series or array-like\n",
      "            Either names of columns in `data_frame`, or pandas Series, or\n",
      "            array_like objects Values from these columns are extra data, to be used\n",
      "            in widgets or Dash callbacks for example. This data is not user-visible\n",
      "            but is included in events emitted by the figure (lasso selection etc.)\n",
      "        animation_frame: str or int or Series or array-like\n",
      "            Either a name of a column in `data_frame`, or a pandas Series or\n",
      "            array_like object. Values from this column or array_like are used to\n",
      "            assign marks to animation frames.\n",
      "        animation_group: str or int or Series or array-like\n",
      "            Either a name of a column in `data_frame`, or a pandas Series or\n",
      "            array_like object. Values from this column or array_like are used to\n",
      "            provide object-constancy across animation frames: rows with matching\n",
      "            `animation_group`s will be treated as if they describe the same object\n",
      "            in each frame.\n",
      "        category_orders: dict with str keys and list of str values (default `{}`)\n",
      "            By default, in Python 3.6+, the order of categorical values in axes,\n",
      "            legends and facets depends on the order in which these values are first\n",
      "            encountered in `data_frame` (and no order is guaranteed by default in\n",
      "            Python below 3.6). This parameter is used to force a specific ordering\n",
      "            of values per column. The keys of this dict should correspond to column\n",
      "            names, and the values should be lists of strings corresponding to the\n",
      "            specific display order desired.\n",
      "        labels: dict with str keys and str values (default `{}`)\n",
      "            By default, column names are used in the figure for axis titles, legend\n",
      "            entries and hovers. This parameter allows this to be overridden. The\n",
      "            keys of this dict should correspond to column names, and the values\n",
      "            should correspond to the desired label to be displayed.\n",
      "        color_discrete_sequence: list of str\n",
      "            Strings should define valid CSS-colors. When `color` is set and the\n",
      "            values in the corresponding column are not numeric, values in that\n",
      "            column are assigned colors by cycling through `color_discrete_sequence`\n",
      "            in the order described in `category_orders`, unless the value of\n",
      "            `color` is a key in `color_discrete_map`. Various useful color\n",
      "            sequences are available in the `plotly.express.colors` submodules,\n",
      "            specifically `plotly.express.colors.qualitative`.\n",
      "        color_discrete_map: dict with str keys and str values (default `{}`)\n",
      "            String values should define valid CSS-colors Used to override\n",
      "            `color_discrete_sequence` to assign a specific colors to marks\n",
      "            corresponding with specific values. Keys in `color_discrete_map` should\n",
      "            be values in the column denoted by `color`.\n",
      "        color_continuous_scale: list of str\n",
      "            Strings should define valid CSS-colors This list is used to build a\n",
      "            continuous color scale when the column denoted by `color` contains\n",
      "            numeric data. Various useful color scales are available in the\n",
      "            `plotly.express.colors` submodules, specifically\n",
      "            `plotly.express.colors.sequential`, `plotly.express.colors.diverging`\n",
      "            and `plotly.express.colors.cyclical`.\n",
      "        range_color: list of two numbers\n",
      "            If provided, overrides auto-scaling on the continuous color scale.\n",
      "        color_continuous_midpoint: number (default `None`)\n",
      "            If set, computes the bounds of the continuous color scale to have the\n",
      "            desired midpoint. Setting this value is recommended when using\n",
      "            `plotly.express.colors.diverging` color scales as the inputs to\n",
      "            `color_continuous_scale`.\n",
      "        projection: str \n",
      "            One of `'equirectangular'`, `'mercator'`, `'orthographic'`, `'natural\n",
      "            earth'`, `'kavrayskiy7'`, `'miller'`, `'robinson'`, `'eckert4'`,\n",
      "            `'azimuthal equal area'`, `'azimuthal equidistant'`, `'conic equal\n",
      "            area'`, `'conic conformal'`, `'conic equidistant'`, `'gnomonic'`,\n",
      "            `'stereographic'`, `'mollweide'`, `'hammer'`, `'transverse mercator'`,\n",
      "            `'albers usa'`, `'winkel tripel'`, `'aitoff'`, or `'sinusoidal'`Default\n",
      "            depends on `scope`.\n",
      "        scope: str (default `'world'`).\n",
      "            One of `'world'`, `'usa'`, `'europe'`, `'asia'`, `'africa'`, `'north\n",
      "            america'`, or `'south america'`)Default is `'world'` unless\n",
      "            `projection` is set to `'albers usa'`, which forces `'usa'`.\n",
      "        center: dict\n",
      "            Dict keys are `'lat'` and `'lon'` Sets the center point of the map.\n",
      "        title: str\n",
      "            The figure title.\n",
      "        template: str or dict or plotly.graph_objects.layout.Template instance\n",
      "            The figure template name (must be a key in plotly.io.templates) or\n",
      "            definition.\n",
      "        width: int (default `None`)\n",
      "            The figure width in pixels.\n",
      "        height: int (default `None`)\n",
      "            The figure height in pixels.\n",
      "        \n",
      "        Returns\n",
      "        -------\n",
      "            plotly.graph_objects.Figure\n",
      "    \n",
      "    choropleth_mapbox(data_frame=None, geojson=None, featureidkey=None, locations=None, color=None, hover_name=None, hover_data=None, custom_data=None, animation_frame=None, animation_group=None, category_orders={}, labels={}, color_discrete_sequence=None, color_discrete_map={}, color_continuous_scale=None, range_color=None, color_continuous_midpoint=None, opacity=None, zoom=8, center=None, mapbox_style=None, title=None, template=None, width=None, height=None)\n",
      "            In a Mapbox choropleth map, each row of `data_frame` is represented by a\n",
      "            colored region on a Mapbox map.\n",
      "            \n",
      "        Parameters\n",
      "        ----------\n",
      "        data_frame: DataFrame or array-like or dict\n",
      "            This argument needs to be passed for column names (and not keyword\n",
      "            names) to be used. Array-like and dict are tranformed internally to a\n",
      "            pandas DataFrame. Optional: if missing, a DataFrame gets constructed\n",
      "            under the hood using the other arguments.\n",
      "        geojson: GeoJSON-formatted dict\n",
      "            Must contain a Polygon feature collection, with IDs, which are\n",
      "            references from `locations`.\n",
      "        featureidkey: str (default: `'id'`)\n",
      "            Path to field in GeoJSON feature object with which to match the values\n",
      "            passed in to `locations`.The most common alternative to the default is\n",
      "            of the form `'properties.<key>`.\n",
      "        locations: str or int or Series or array-like\n",
      "            Either a name of a column in `data_frame`, or a pandas Series or\n",
      "            array_like object. Values from this column or array_like are to be\n",
      "            interpreted according to `locationmode` and mapped to\n",
      "            longitude/latitude.\n",
      "        color: str or int or Series or array-like\n",
      "            Either a name of a column in `data_frame`, or a pandas Series or\n",
      "            array_like object. Values from this column or array_like are used to\n",
      "            assign color to marks.\n",
      "        hover_name: str or int or Series or array-like\n",
      "            Either a name of a column in `data_frame`, or a pandas Series or\n",
      "            array_like object. Values from this column or array_like appear in bold\n",
      "            in the hover tooltip.\n",
      "        hover_data: list of str or int, or Series or array-like\n",
      "            Either names of columns in `data_frame`, or pandas Series, or\n",
      "            array_like objects Values from these columns appear as extra data in\n",
      "            the hover tooltip.\n",
      "        custom_data: list of str or int, or Series or array-like\n",
      "            Either names of columns in `data_frame`, or pandas Series, or\n",
      "            array_like objects Values from these columns are extra data, to be used\n",
      "            in widgets or Dash callbacks for example. This data is not user-visible\n",
      "            but is included in events emitted by the figure (lasso selection etc.)\n",
      "        animation_frame: str or int or Series or array-like\n",
      "            Either a name of a column in `data_frame`, or a pandas Series or\n",
      "            array_like object. Values from this column or array_like are used to\n",
      "            assign marks to animation frames.\n",
      "        animation_group: str or int or Series or array-like\n",
      "            Either a name of a column in `data_frame`, or a pandas Series or\n",
      "            array_like object. Values from this column or array_like are used to\n",
      "            provide object-constancy across animation frames: rows with matching\n",
      "            `animation_group`s will be treated as if they describe the same object\n",
      "            in each frame.\n",
      "        category_orders: dict with str keys and list of str values (default `{}`)\n",
      "            By default, in Python 3.6+, the order of categorical values in axes,\n",
      "            legends and facets depends on the order in which these values are first\n",
      "            encountered in `data_frame` (and no order is guaranteed by default in\n",
      "            Python below 3.6). This parameter is used to force a specific ordering\n",
      "            of values per column. The keys of this dict should correspond to column\n",
      "            names, and the values should be lists of strings corresponding to the\n",
      "            specific display order desired.\n",
      "        labels: dict with str keys and str values (default `{}`)\n",
      "            By default, column names are used in the figure for axis titles, legend\n",
      "            entries and hovers. This parameter allows this to be overridden. The\n",
      "            keys of this dict should correspond to column names, and the values\n",
      "            should correspond to the desired label to be displayed.\n",
      "        color_discrete_sequence: list of str\n",
      "            Strings should define valid CSS-colors. When `color` is set and the\n",
      "            values in the corresponding column are not numeric, values in that\n",
      "            column are assigned colors by cycling through `color_discrete_sequence`\n",
      "            in the order described in `category_orders`, unless the value of\n",
      "            `color` is a key in `color_discrete_map`. Various useful color\n",
      "            sequences are available in the `plotly.express.colors` submodules,\n",
      "            specifically `plotly.express.colors.qualitative`.\n",
      "        color_discrete_map: dict with str keys and str values (default `{}`)\n",
      "            String values should define valid CSS-colors Used to override\n",
      "            `color_discrete_sequence` to assign a specific colors to marks\n",
      "            corresponding with specific values. Keys in `color_discrete_map` should\n",
      "            be values in the column denoted by `color`.\n",
      "        color_continuous_scale: list of str\n",
      "            Strings should define valid CSS-colors This list is used to build a\n",
      "            continuous color scale when the column denoted by `color` contains\n",
      "            numeric data. Various useful color scales are available in the\n",
      "            `plotly.express.colors` submodules, specifically\n",
      "            `plotly.express.colors.sequential`, `plotly.express.colors.diverging`\n",
      "            and `plotly.express.colors.cyclical`.\n",
      "        range_color: list of two numbers\n",
      "            If provided, overrides auto-scaling on the continuous color scale.\n",
      "        color_continuous_midpoint: number (default `None`)\n",
      "            If set, computes the bounds of the continuous color scale to have the\n",
      "            desired midpoint. Setting this value is recommended when using\n",
      "            `plotly.express.colors.diverging` color scales as the inputs to\n",
      "            `color_continuous_scale`.\n",
      "        opacity: float\n",
      "            Value between 0 and 1. Sets the opacity for markers.\n",
      "        zoom: int (default `8`)\n",
      "            Between 0 and 20. Sets map zoom level.\n",
      "        center: dict\n",
      "            Dict keys are `'lat'` and `'lon'` Sets the center point of the map.\n",
      "        mapbox_style: str (default `'basic'`, needs Mapbox API token)\n",
      "            Identifier of base map style, some of which require a Mapbox API token\n",
      "            to be set using `plotly.express.set_mapbox_access_token()`. Allowed\n",
      "            values which do not require a Mapbox API token are `'open-street-map'`,\n",
      "            `'white-bg'`, `'carto-positron'`, `'carto-darkmatter'`, `'stamen-\n",
      "            terrain'`, `'stamen-toner'`, `'stamen-watercolor'`. Allowed values\n",
      "            which do require a Mapbox API token are `'basic'`, `'streets'`,\n",
      "            `'outdoors'`, `'light'`, `'dark'`, `'satellite'`, `'satellite-\n",
      "            streets'`.\n",
      "        title: str\n",
      "            The figure title.\n",
      "        template: str or dict or plotly.graph_objects.layout.Template instance\n",
      "            The figure template name (must be a key in plotly.io.templates) or\n",
      "            definition.\n",
      "        width: int (default `None`)\n",
      "            The figure width in pixels.\n",
      "        height: int (default `None`)\n",
      "            The figure height in pixels.\n",
      "        \n",
      "        Returns\n",
      "        -------\n",
      "            plotly.graph_objects.Figure\n",
      "    \n",
      "    density_contour(data_frame=None, x=None, y=None, z=None, color=None, facet_row=None, facet_col=None, facet_col_wrap=0, hover_name=None, hover_data=None, animation_frame=None, animation_group=None, category_orders={}, labels={}, color_discrete_sequence=None, color_discrete_map={}, marginal_x=None, marginal_y=None, trendline=None, trendline_color_override=None, log_x=False, log_y=False, range_x=None, range_y=None, histfunc=None, histnorm=None, nbinsx=None, nbinsy=None, title=None, template=None, width=None, height=None)\n",
      "            In a density contour plot, rows of `data_frame` are grouped together\n",
      "            into contour marks to visualize the 2D distribution of an aggregate\n",
      "            function `histfunc` (e.g. the count or sum) of the value `z`.\n",
      "            \n",
      "        Parameters\n",
      "        ----------\n",
      "        data_frame: DataFrame or array-like or dict\n",
      "            This argument needs to be passed for column names (and not keyword\n",
      "            names) to be used. Array-like and dict are tranformed internally to a\n",
      "            pandas DataFrame. Optional: if missing, a DataFrame gets constructed\n",
      "            under the hood using the other arguments.\n",
      "        x: str or int or Series or array-like\n",
      "            Either a name of a column in `data_frame`, or a pandas Series or\n",
      "            array_like object. Values from this column or array_like are used to\n",
      "            position marks along the x axis in cartesian coordinates. For\n",
      "            horizontal histograms, these values are used as inputs to `histfunc`.\n",
      "        y: str or int or Series or array-like\n",
      "            Either a name of a column in `data_frame`, or a pandas Series or\n",
      "            array_like object. Values from this column or array_like are used to\n",
      "            position marks along the y axis in cartesian coordinates. For vertical\n",
      "            histograms, these values are used as inputs to `histfunc`.\n",
      "        z: str or int or Series or array-like\n",
      "            Either a name of a column in `data_frame`, or a pandas Series or\n",
      "            array_like object. Values from this column or array_like are used to\n",
      "            position marks along the z axis in cartesian coordinates. For\n",
      "            `density_heatmap` and `density_contour` these values are used as the\n",
      "            inputs to `histfunc`.\n",
      "        color: str or int or Series or array-like\n",
      "            Either a name of a column in `data_frame`, or a pandas Series or\n",
      "            array_like object. Values from this column or array_like are used to\n",
      "            assign color to marks.\n",
      "        facet_row: str or int or Series or array-like\n",
      "            Either a name of a column in `data_frame`, or a pandas Series or\n",
      "            array_like object. Values from this column or array_like are used to\n",
      "            assign marks to facetted subplots in the vertical direction.\n",
      "        facet_col: str or int or Series or array-like\n",
      "            Either a name of a column in `data_frame`, or a pandas Series or\n",
      "            array_like object. Values from this column or array_like are used to\n",
      "            assign marks to facetted subplots in the horizontal direction.\n",
      "        facet_col_wrap: int\n",
      "            Maximum number of facet columns. Wraps the column variable at this\n",
      "            width, so that the column facets span multiple rows. Ignored if 0, and\n",
      "            forced to 0 if `facet_row` or a `marginal` is set.\n",
      "        hover_name: str or int or Series or array-like\n",
      "            Either a name of a column in `data_frame`, or a pandas Series or\n",
      "            array_like object. Values from this column or array_like appear in bold\n",
      "            in the hover tooltip.\n",
      "        hover_data: list of str or int, or Series or array-like\n",
      "            Either names of columns in `data_frame`, or pandas Series, or\n",
      "            array_like objects Values from these columns appear as extra data in\n",
      "            the hover tooltip.\n",
      "        animation_frame: str or int or Series or array-like\n",
      "            Either a name of a column in `data_frame`, or a pandas Series or\n",
      "            array_like object. Values from this column or array_like are used to\n",
      "            assign marks to animation frames.\n",
      "        animation_group: str or int or Series or array-like\n",
      "            Either a name of a column in `data_frame`, or a pandas Series or\n",
      "            array_like object. Values from this column or array_like are used to\n",
      "            provide object-constancy across animation frames: rows with matching\n",
      "            `animation_group`s will be treated as if they describe the same object\n",
      "            in each frame.\n",
      "        category_orders: dict with str keys and list of str values (default `{}`)\n",
      "            By default, in Python 3.6+, the order of categorical values in axes,\n",
      "            legends and facets depends on the order in which these values are first\n",
      "            encountered in `data_frame` (and no order is guaranteed by default in\n",
      "            Python below 3.6). This parameter is used to force a specific ordering\n",
      "            of values per column. The keys of this dict should correspond to column\n",
      "            names, and the values should be lists of strings corresponding to the\n",
      "            specific display order desired.\n",
      "        labels: dict with str keys and str values (default `{}`)\n",
      "            By default, column names are used in the figure for axis titles, legend\n",
      "            entries and hovers. This parameter allows this to be overridden. The\n",
      "            keys of this dict should correspond to column names, and the values\n",
      "            should correspond to the desired label to be displayed.\n",
      "        color_discrete_sequence: list of str\n",
      "            Strings should define valid CSS-colors. When `color` is set and the\n",
      "            values in the corresponding column are not numeric, values in that\n",
      "            column are assigned colors by cycling through `color_discrete_sequence`\n",
      "            in the order described in `category_orders`, unless the value of\n",
      "            `color` is a key in `color_discrete_map`. Various useful color\n",
      "            sequences are available in the `plotly.express.colors` submodules,\n",
      "            specifically `plotly.express.colors.qualitative`.\n",
      "        color_discrete_map: dict with str keys and str values (default `{}`)\n",
      "            String values should define valid CSS-colors Used to override\n",
      "            `color_discrete_sequence` to assign a specific colors to marks\n",
      "            corresponding with specific values. Keys in `color_discrete_map` should\n",
      "            be values in the column denoted by `color`.\n",
      "        marginal_x: str\n",
      "            One of `'rug'`, `'box'`, `'violin'`, or `'histogram'`. If set, a\n",
      "            horizontal subplot is drawn above the main plot, visualizing the\n",
      "            x-distribution.\n",
      "        marginal_y: str\n",
      "            One of `'rug'`, `'box'`, `'violin'`, or `'histogram'`. If set, a\n",
      "            vertical subplot is drawn to the right of the main plot, visualizing\n",
      "            the y-distribution.\n",
      "        trendline: str\n",
      "            One of `'ols'` or `'lowess'`. If `'ols'`, an Ordinary Least Squares\n",
      "            regression line will be drawn for each discrete-color/symbol group. If\n",
      "            `'lowess`', a Locally Weighted Scatterplot Smoothing line will be drawn\n",
      "            for each discrete-color/symbol group.\n",
      "        trendline_color_override: str\n",
      "            Valid CSS color. If provided, and if `trendline` is set, all trendlines\n",
      "            will be drawn in this color.\n",
      "        log_x: boolean (default `False`)\n",
      "            If `True`, the x-axis is log-scaled in cartesian coordinates.\n",
      "        log_y: boolean (default `False`)\n",
      "            If `True`, the y-axis is log-scaled in cartesian coordinates.\n",
      "        range_x: list of two numbers\n",
      "            If provided, overrides auto-scaling on the x-axis in cartesian\n",
      "            coordinates.\n",
      "        range_y: list of two numbers\n",
      "            If provided, overrides auto-scaling on the y-axis in cartesian\n",
      "            coordinates.\n",
      "        histfunc: str (default `'count'`)\n",
      "            One of `'count'`, `'sum'`, `'avg'`, `'min'`, or `'max'`.Function used\n",
      "            to aggregate values for summarization (note: can be normalized with\n",
      "            `histnorm`). The arguments to this function for `histogram` are the\n",
      "            values of `y` if `orientation` is `'v'`, otherwise the arguements are\n",
      "            the values of `x`. The arguments to this function for `density_heatmap`\n",
      "            and `density_contour` are the values of `z`.\n",
      "        histnorm: str (default `None`)\n",
      "            One of `'percent'`, `'probability'`, `'density'`, or `'probability\n",
      "            density'` If `None`, the output of `histfunc` is used as is. If\n",
      "            `'probability'`, the output of `histfunc` for a given bin is divided by\n",
      "            the sum of the output of `histfunc` for all bins. If `'percent'`, the\n",
      "            output of `histfunc` for a given bin is divided by the sum of the\n",
      "            output of `histfunc` for all bins and multiplied by 100. If\n",
      "            `'density'`, the output of `histfunc` for a given bin is divided by the\n",
      "            size of the bin. If `'probability density'`, the output of `histfunc`\n",
      "            for a given bin is normalized such that it corresponds to the\n",
      "            probability that a random event whose distribution is described by the\n",
      "            output of `histfunc` will fall into that bin.\n",
      "        nbinsx: int\n",
      "            Positive integer. Sets the number of bins along the x axis.\n",
      "        nbinsy: int\n",
      "            Positive integer. Sets the number of bins along the y axis.\n",
      "        title: str\n",
      "            The figure title.\n",
      "        template: str or dict or plotly.graph_objects.layout.Template instance\n",
      "            The figure template name (must be a key in plotly.io.templates) or\n",
      "            definition.\n",
      "        width: int (default `None`)\n",
      "            The figure width in pixels.\n",
      "        height: int (default `None`)\n",
      "            The figure height in pixels.\n",
      "        \n",
      "        Returns\n",
      "        -------\n",
      "            plotly.graph_objects.Figure\n",
      "    \n",
      "    density_heatmap(data_frame=None, x=None, y=None, z=None, facet_row=None, facet_col=None, facet_col_wrap=0, hover_name=None, hover_data=None, animation_frame=None, animation_group=None, category_orders={}, labels={}, color_continuous_scale=None, range_color=None, color_continuous_midpoint=None, marginal_x=None, marginal_y=None, opacity=None, log_x=False, log_y=False, range_x=None, range_y=None, histfunc=None, histnorm=None, nbinsx=None, nbinsy=None, title=None, template=None, width=None, height=None)\n",
      "            In a density heatmap, rows of `data_frame` are grouped together into\n",
      "            colored rectangular tiles to visualize the 2D distribution of an\n",
      "            aggregate function `histfunc` (e.g. the count or sum) of the value `z`.\n",
      "            \n",
      "        Parameters\n",
      "        ----------\n",
      "        data_frame: DataFrame or array-like or dict\n",
      "            This argument needs to be passed for column names (and not keyword\n",
      "            names) to be used. Array-like and dict are tranformed internally to a\n",
      "            pandas DataFrame. Optional: if missing, a DataFrame gets constructed\n",
      "            under the hood using the other arguments.\n",
      "        x: str or int or Series or array-like\n",
      "            Either a name of a column in `data_frame`, or a pandas Series or\n",
      "            array_like object. Values from this column or array_like are used to\n",
      "            position marks along the x axis in cartesian coordinates. For\n",
      "            horizontal histograms, these values are used as inputs to `histfunc`.\n",
      "        y: str or int or Series or array-like\n",
      "            Either a name of a column in `data_frame`, or a pandas Series or\n",
      "            array_like object. Values from this column or array_like are used to\n",
      "            position marks along the y axis in cartesian coordinates. For vertical\n",
      "            histograms, these values are used as inputs to `histfunc`.\n",
      "        z: str or int or Series or array-like\n",
      "            Either a name of a column in `data_frame`, or a pandas Series or\n",
      "            array_like object. Values from this column or array_like are used to\n",
      "            position marks along the z axis in cartesian coordinates. For\n",
      "            `density_heatmap` and `density_contour` these values are used as the\n",
      "            inputs to `histfunc`.\n",
      "        facet_row: str or int or Series or array-like\n",
      "            Either a name of a column in `data_frame`, or a pandas Series or\n",
      "            array_like object. Values from this column or array_like are used to\n",
      "            assign marks to facetted subplots in the vertical direction.\n",
      "        facet_col: str or int or Series or array-like\n",
      "            Either a name of a column in `data_frame`, or a pandas Series or\n",
      "            array_like object. Values from this column or array_like are used to\n",
      "            assign marks to facetted subplots in the horizontal direction.\n",
      "        facet_col_wrap: int\n",
      "            Maximum number of facet columns. Wraps the column variable at this\n",
      "            width, so that the column facets span multiple rows. Ignored if 0, and\n",
      "            forced to 0 if `facet_row` or a `marginal` is set.\n",
      "        hover_name: str or int or Series or array-like\n",
      "            Either a name of a column in `data_frame`, or a pandas Series or\n",
      "            array_like object. Values from this column or array_like appear in bold\n",
      "            in the hover tooltip.\n",
      "        hover_data: list of str or int, or Series or array-like\n",
      "            Either names of columns in `data_frame`, or pandas Series, or\n",
      "            array_like objects Values from these columns appear as extra data in\n",
      "            the hover tooltip.\n",
      "        animation_frame: str or int or Series or array-like\n",
      "            Either a name of a column in `data_frame`, or a pandas Series or\n",
      "            array_like object. Values from this column or array_like are used to\n",
      "            assign marks to animation frames.\n",
      "        animation_group: str or int or Series or array-like\n",
      "            Either a name of a column in `data_frame`, or a pandas Series or\n",
      "            array_like object. Values from this column or array_like are used to\n",
      "            provide object-constancy across animation frames: rows with matching\n",
      "            `animation_group`s will be treated as if they describe the same object\n",
      "            in each frame.\n",
      "        category_orders: dict with str keys and list of str values (default `{}`)\n",
      "            By default, in Python 3.6+, the order of categorical values in axes,\n",
      "            legends and facets depends on the order in which these values are first\n",
      "            encountered in `data_frame` (and no order is guaranteed by default in\n",
      "            Python below 3.6). This parameter is used to force a specific ordering\n",
      "            of values per column. The keys of this dict should correspond to column\n",
      "            names, and the values should be lists of strings corresponding to the\n",
      "            specific display order desired.\n",
      "        labels: dict with str keys and str values (default `{}`)\n",
      "            By default, column names are used in the figure for axis titles, legend\n",
      "            entries and hovers. This parameter allows this to be overridden. The\n",
      "            keys of this dict should correspond to column names, and the values\n",
      "            should correspond to the desired label to be displayed.\n",
      "        color_continuous_scale: list of str\n",
      "            Strings should define valid CSS-colors This list is used to build a\n",
      "            continuous color scale when the column denoted by `color` contains\n",
      "            numeric data. Various useful color scales are available in the\n",
      "            `plotly.express.colors` submodules, specifically\n",
      "            `plotly.express.colors.sequential`, `plotly.express.colors.diverging`\n",
      "            and `plotly.express.colors.cyclical`.\n",
      "        range_color: list of two numbers\n",
      "            If provided, overrides auto-scaling on the continuous color scale.\n",
      "        color_continuous_midpoint: number (default `None`)\n",
      "            If set, computes the bounds of the continuous color scale to have the\n",
      "            desired midpoint. Setting this value is recommended when using\n",
      "            `plotly.express.colors.diverging` color scales as the inputs to\n",
      "            `color_continuous_scale`.\n",
      "        marginal_x: str\n",
      "            One of `'rug'`, `'box'`, `'violin'`, or `'histogram'`. If set, a\n",
      "            horizontal subplot is drawn above the main plot, visualizing the\n",
      "            x-distribution.\n",
      "        marginal_y: str\n",
      "            One of `'rug'`, `'box'`, `'violin'`, or `'histogram'`. If set, a\n",
      "            vertical subplot is drawn to the right of the main plot, visualizing\n",
      "            the y-distribution.\n",
      "        opacity: float\n",
      "            Value between 0 and 1. Sets the opacity for markers.\n",
      "        log_x: boolean (default `False`)\n",
      "            If `True`, the x-axis is log-scaled in cartesian coordinates.\n",
      "        log_y: boolean (default `False`)\n",
      "            If `True`, the y-axis is log-scaled in cartesian coordinates.\n",
      "        range_x: list of two numbers\n",
      "            If provided, overrides auto-scaling on the x-axis in cartesian\n",
      "            coordinates.\n",
      "        range_y: list of two numbers\n",
      "            If provided, overrides auto-scaling on the y-axis in cartesian\n",
      "            coordinates.\n",
      "        histfunc: str (default `'count'`)\n",
      "            One of `'count'`, `'sum'`, `'avg'`, `'min'`, or `'max'`.Function used\n",
      "            to aggregate values for summarization (note: can be normalized with\n",
      "            `histnorm`). The arguments to this function for `histogram` are the\n",
      "            values of `y` if `orientation` is `'v'`, otherwise the arguements are\n",
      "            the values of `x`. The arguments to this function for `density_heatmap`\n",
      "            and `density_contour` are the values of `z`.\n",
      "        histnorm: str (default `None`)\n",
      "            One of `'percent'`, `'probability'`, `'density'`, or `'probability\n",
      "            density'` If `None`, the output of `histfunc` is used as is. If\n",
      "            `'probability'`, the output of `histfunc` for a given bin is divided by\n",
      "            the sum of the output of `histfunc` for all bins. If `'percent'`, the\n",
      "            output of `histfunc` for a given bin is divided by the sum of the\n",
      "            output of `histfunc` for all bins and multiplied by 100. If\n",
      "            `'density'`, the output of `histfunc` for a given bin is divided by the\n",
      "            size of the bin. If `'probability density'`, the output of `histfunc`\n",
      "            for a given bin is normalized such that it corresponds to the\n",
      "            probability that a random event whose distribution is described by the\n",
      "            output of `histfunc` will fall into that bin.\n",
      "        nbinsx: int\n",
      "            Positive integer. Sets the number of bins along the x axis.\n",
      "        nbinsy: int\n",
      "            Positive integer. Sets the number of bins along the y axis.\n",
      "        title: str\n",
      "            The figure title.\n",
      "        template: str or dict or plotly.graph_objects.layout.Template instance\n",
      "            The figure template name (must be a key in plotly.io.templates) or\n",
      "            definition.\n",
      "        width: int (default `None`)\n",
      "            The figure width in pixels.\n",
      "        height: int (default `None`)\n",
      "            The figure height in pixels.\n",
      "        \n",
      "        Returns\n",
      "        -------\n",
      "            plotly.graph_objects.Figure\n",
      "    \n",
      "    density_mapbox(data_frame=None, lat=None, lon=None, z=None, hover_name=None, hover_data=None, custom_data=None, animation_frame=None, animation_group=None, category_orders={}, labels={}, color_continuous_scale=None, range_color=None, color_continuous_midpoint=None, opacity=None, zoom=8, center=None, mapbox_style=None, radius=None, title=None, template=None, width=None, height=None)\n",
      "            In a Mapbox density map, each row of `data_frame` contributes to the intensity of\n",
      "            the color of the region around the corresponding point on the map\n",
      "            \n",
      "        Parameters\n",
      "        ----------\n",
      "        data_frame: DataFrame or array-like or dict\n",
      "            This argument needs to be passed for column names (and not keyword\n",
      "            names) to be used. Array-like and dict are tranformed internally to a\n",
      "            pandas DataFrame. Optional: if missing, a DataFrame gets constructed\n",
      "            under the hood using the other arguments.\n",
      "        lat: str or int or Series or array-like\n",
      "            Either a name of a column in `data_frame`, or a pandas Series or\n",
      "            array_like object. Values from this column or array_like are used to\n",
      "            position marks according to latitude on a map.\n",
      "        lon: str or int or Series or array-like\n",
      "            Either a name of a column in `data_frame`, or a pandas Series or\n",
      "            array_like object. Values from this column or array_like are used to\n",
      "            position marks according to longitude on a map.\n",
      "        z: str or int or Series or array-like\n",
      "            Either a name of a column in `data_frame`, or a pandas Series or\n",
      "            array_like object. Values from this column or array_like are used to\n",
      "            position marks along the z axis in cartesian coordinates. For\n",
      "            `density_heatmap` and `density_contour` these values are used as the\n",
      "            inputs to `histfunc`.\n",
      "        hover_name: str or int or Series or array-like\n",
      "            Either a name of a column in `data_frame`, or a pandas Series or\n",
      "            array_like object. Values from this column or array_like appear in bold\n",
      "            in the hover tooltip.\n",
      "        hover_data: list of str or int, or Series or array-like\n",
      "            Either names of columns in `data_frame`, or pandas Series, or\n",
      "            array_like objects Values from these columns appear as extra data in\n",
      "            the hover tooltip.\n",
      "        custom_data: list of str or int, or Series or array-like\n",
      "            Either names of columns in `data_frame`, or pandas Series, or\n",
      "            array_like objects Values from these columns are extra data, to be used\n",
      "            in widgets or Dash callbacks for example. This data is not user-visible\n",
      "            but is included in events emitted by the figure (lasso selection etc.)\n",
      "        animation_frame: str or int or Series or array-like\n",
      "            Either a name of a column in `data_frame`, or a pandas Series or\n",
      "            array_like object. Values from this column or array_like are used to\n",
      "            assign marks to animation frames.\n",
      "        animation_group: str or int or Series or array-like\n",
      "            Either a name of a column in `data_frame`, or a pandas Series or\n",
      "            array_like object. Values from this column or array_like are used to\n",
      "            provide object-constancy across animation frames: rows with matching\n",
      "            `animation_group`s will be treated as if they describe the same object\n",
      "            in each frame.\n",
      "        category_orders: dict with str keys and list of str values (default `{}`)\n",
      "            By default, in Python 3.6+, the order of categorical values in axes,\n",
      "            legends and facets depends on the order in which these values are first\n",
      "            encountered in `data_frame` (and no order is guaranteed by default in\n",
      "            Python below 3.6). This parameter is used to force a specific ordering\n",
      "            of values per column. The keys of this dict should correspond to column\n",
      "            names, and the values should be lists of strings corresponding to the\n",
      "            specific display order desired.\n",
      "        labels: dict with str keys and str values (default `{}`)\n",
      "            By default, column names are used in the figure for axis titles, legend\n",
      "            entries and hovers. This parameter allows this to be overridden. The\n",
      "            keys of this dict should correspond to column names, and the values\n",
      "            should correspond to the desired label to be displayed.\n",
      "        color_continuous_scale: list of str\n",
      "            Strings should define valid CSS-colors This list is used to build a\n",
      "            continuous color scale when the column denoted by `color` contains\n",
      "            numeric data. Various useful color scales are available in the\n",
      "            `plotly.express.colors` submodules, specifically\n",
      "            `plotly.express.colors.sequential`, `plotly.express.colors.diverging`\n",
      "            and `plotly.express.colors.cyclical`.\n",
      "        range_color: list of two numbers\n",
      "            If provided, overrides auto-scaling on the continuous color scale.\n",
      "        color_continuous_midpoint: number (default `None`)\n",
      "            If set, computes the bounds of the continuous color scale to have the\n",
      "            desired midpoint. Setting this value is recommended when using\n",
      "            `plotly.express.colors.diverging` color scales as the inputs to\n",
      "            `color_continuous_scale`.\n",
      "        opacity: float\n",
      "            Value between 0 and 1. Sets the opacity for markers.\n",
      "        zoom: int (default `8`)\n",
      "            Between 0 and 20. Sets map zoom level.\n",
      "        center: dict\n",
      "            Dict keys are `'lat'` and `'lon'` Sets the center point of the map.\n",
      "        mapbox_style: str (default `'basic'`, needs Mapbox API token)\n",
      "            Identifier of base map style, some of which require a Mapbox API token\n",
      "            to be set using `plotly.express.set_mapbox_access_token()`. Allowed\n",
      "            values which do not require a Mapbox API token are `'open-street-map'`,\n",
      "            `'white-bg'`, `'carto-positron'`, `'carto-darkmatter'`, `'stamen-\n",
      "            terrain'`, `'stamen-toner'`, `'stamen-watercolor'`. Allowed values\n",
      "            which do require a Mapbox API token are `'basic'`, `'streets'`,\n",
      "            `'outdoors'`, `'light'`, `'dark'`, `'satellite'`, `'satellite-\n",
      "            streets'`.\n",
      "        radius: int (default is 30)\n",
      "            Sets the radius of influence of each point.\n",
      "        title: str\n",
      "            The figure title.\n",
      "        template: str or dict or plotly.graph_objects.layout.Template instance\n",
      "            The figure template name (must be a key in plotly.io.templates) or\n",
      "            definition.\n",
      "        width: int (default `None`)\n",
      "            The figure width in pixels.\n",
      "        height: int (default `None`)\n",
      "            The figure height in pixels.\n",
      "        \n",
      "        Returns\n",
      "        -------\n",
      "            plotly.graph_objects.Figure\n",
      "    \n",
      "    funnel(data_frame=None, x=None, y=None, color=None, facet_row=None, facet_col=None, facet_col_wrap=0, hover_name=None, hover_data=None, custom_data=None, text=None, animation_frame=None, animation_group=None, category_orders={}, labels={}, color_discrete_sequence=None, color_discrete_map={}, opacity=None, orientation='h', log_x=False, log_y=False, range_x=None, range_y=None, title=None, template=None, width=None, height=None)\n",
      "            In a funnel plot, each row of `data_frame` is represented as a\n",
      "            rectangular sector of a funnel.\n",
      "            \n",
      "        Parameters\n",
      "        ----------\n",
      "        data_frame: DataFrame or array-like or dict\n",
      "            This argument needs to be passed for column names (and not keyword\n",
      "            names) to be used. Array-like and dict are tranformed internally to a\n",
      "            pandas DataFrame. Optional: if missing, a DataFrame gets constructed\n",
      "            under the hood using the other arguments.\n",
      "        x: str or int or Series or array-like\n",
      "            Either a name of a column in `data_frame`, or a pandas Series or\n",
      "            array_like object. Values from this column or array_like are used to\n",
      "            position marks along the x axis in cartesian coordinates. For\n",
      "            horizontal histograms, these values are used as inputs to `histfunc`.\n",
      "        y: str or int or Series or array-like\n",
      "            Either a name of a column in `data_frame`, or a pandas Series or\n",
      "            array_like object. Values from this column or array_like are used to\n",
      "            position marks along the y axis in cartesian coordinates. For vertical\n",
      "            histograms, these values are used as inputs to `histfunc`.\n",
      "        color: str or int or Series or array-like\n",
      "            Either a name of a column in `data_frame`, or a pandas Series or\n",
      "            array_like object. Values from this column or array_like are used to\n",
      "            assign color to marks.\n",
      "        facet_row: str or int or Series or array-like\n",
      "            Either a name of a column in `data_frame`, or a pandas Series or\n",
      "            array_like object. Values from this column or array_like are used to\n",
      "            assign marks to facetted subplots in the vertical direction.\n",
      "        facet_col: str or int or Series or array-like\n",
      "            Either a name of a column in `data_frame`, or a pandas Series or\n",
      "            array_like object. Values from this column or array_like are used to\n",
      "            assign marks to facetted subplots in the horizontal direction.\n",
      "        facet_col_wrap: int\n",
      "            Maximum number of facet columns. Wraps the column variable at this\n",
      "            width, so that the column facets span multiple rows. Ignored if 0, and\n",
      "            forced to 0 if `facet_row` or a `marginal` is set.\n",
      "        hover_name: str or int or Series or array-like\n",
      "            Either a name of a column in `data_frame`, or a pandas Series or\n",
      "            array_like object. Values from this column or array_like appear in bold\n",
      "            in the hover tooltip.\n",
      "        hover_data: list of str or int, or Series or array-like\n",
      "            Either names of columns in `data_frame`, or pandas Series, or\n",
      "            array_like objects Values from these columns appear as extra data in\n",
      "            the hover tooltip.\n",
      "        custom_data: list of str or int, or Series or array-like\n",
      "            Either names of columns in `data_frame`, or pandas Series, or\n",
      "            array_like objects Values from these columns are extra data, to be used\n",
      "            in widgets or Dash callbacks for example. This data is not user-visible\n",
      "            but is included in events emitted by the figure (lasso selection etc.)\n",
      "        text: str or int or Series or array-like\n",
      "            Either a name of a column in `data_frame`, or a pandas Series or\n",
      "            array_like object. Values from this column or array_like appear in the\n",
      "            figure as text labels.\n",
      "        animation_frame: str or int or Series or array-like\n",
      "            Either a name of a column in `data_frame`, or a pandas Series or\n",
      "            array_like object. Values from this column or array_like are used to\n",
      "            assign marks to animation frames.\n",
      "        animation_group: str or int or Series or array-like\n",
      "            Either a name of a column in `data_frame`, or a pandas Series or\n",
      "            array_like object. Values from this column or array_like are used to\n",
      "            provide object-constancy across animation frames: rows with matching\n",
      "            `animation_group`s will be treated as if they describe the same object\n",
      "            in each frame.\n",
      "        category_orders: dict with str keys and list of str values (default `{}`)\n",
      "            By default, in Python 3.6+, the order of categorical values in axes,\n",
      "            legends and facets depends on the order in which these values are first\n",
      "            encountered in `data_frame` (and no order is guaranteed by default in\n",
      "            Python below 3.6). This parameter is used to force a specific ordering\n",
      "            of values per column. The keys of this dict should correspond to column\n",
      "            names, and the values should be lists of strings corresponding to the\n",
      "            specific display order desired.\n",
      "        labels: dict with str keys and str values (default `{}`)\n",
      "            By default, column names are used in the figure for axis titles, legend\n",
      "            entries and hovers. This parameter allows this to be overridden. The\n",
      "            keys of this dict should correspond to column names, and the values\n",
      "            should correspond to the desired label to be displayed.\n",
      "        color_discrete_sequence: list of str\n",
      "            Strings should define valid CSS-colors. When `color` is set and the\n",
      "            values in the corresponding column are not numeric, values in that\n",
      "            column are assigned colors by cycling through `color_discrete_sequence`\n",
      "            in the order described in `category_orders`, unless the value of\n",
      "            `color` is a key in `color_discrete_map`. Various useful color\n",
      "            sequences are available in the `plotly.express.colors` submodules,\n",
      "            specifically `plotly.express.colors.qualitative`.\n",
      "        color_discrete_map: dict with str keys and str values (default `{}`)\n",
      "            String values should define valid CSS-colors Used to override\n",
      "            `color_discrete_sequence` to assign a specific colors to marks\n",
      "            corresponding with specific values. Keys in `color_discrete_map` should\n",
      "            be values in the column denoted by `color`.\n",
      "        opacity: float\n",
      "            Value between 0 and 1. Sets the opacity for markers.\n",
      "        orientation: str (default `'v'`)\n",
      "            One of `'h'` for horizontal or `'v'` for vertical)\n",
      "        log_x: boolean (default `False`)\n",
      "            If `True`, the x-axis is log-scaled in cartesian coordinates.\n",
      "        log_y: boolean (default `False`)\n",
      "            If `True`, the y-axis is log-scaled in cartesian coordinates.\n",
      "        range_x: list of two numbers\n",
      "            If provided, overrides auto-scaling on the x-axis in cartesian\n",
      "            coordinates.\n",
      "        range_y: list of two numbers\n",
      "            If provided, overrides auto-scaling on the y-axis in cartesian\n",
      "            coordinates.\n",
      "        title: str\n",
      "            The figure title.\n",
      "        template: str or dict or plotly.graph_objects.layout.Template instance\n",
      "            The figure template name (must be a key in plotly.io.templates) or\n",
      "            definition.\n",
      "        width: int (default `None`)\n",
      "            The figure width in pixels.\n",
      "        height: int (default `None`)\n",
      "            The figure height in pixels.\n",
      "        \n",
      "        Returns\n",
      "        -------\n",
      "            plotly.graph_objects.Figure\n",
      "    \n",
      "    funnel_area(data_frame=None, names=None, values=None, color=None, color_discrete_sequence=None, color_discrete_map={}, hover_name=None, hover_data=None, custom_data=None, labels={}, title=None, template=None, width=None, height=None, opacity=None)\n",
      "            In a funnel area plot, each row of `data_frame` is represented as a\n",
      "            trapezoidal sector of a funnel.\n",
      "            \n",
      "        Parameters\n",
      "        ----------\n",
      "        data_frame: DataFrame or array-like or dict\n",
      "            This argument needs to be passed for column names (and not keyword\n",
      "            names) to be used. Array-like and dict are tranformed internally to a\n",
      "            pandas DataFrame. Optional: if missing, a DataFrame gets constructed\n",
      "            under the hood using the other arguments.\n",
      "        names: str or int or Series or array-like\n",
      "            Either a name of a column in `data_frame`, or a pandas Series or\n",
      "            array_like object. Values from this column or array_like are used as\n",
      "            labels for sectors.\n",
      "        values: str or int or Series or array-like\n",
      "            Either a name of a column in `data_frame`, or a pandas Series or\n",
      "            array_like object. Values from this column or array_like are used to\n",
      "            set values associated to sectors.\n",
      "        color: str or int or Series or array-like\n",
      "            Either a name of a column in `data_frame`, or a pandas Series or\n",
      "            array_like object. Values from this column or array_like are used to\n",
      "            assign color to marks.\n",
      "        color_discrete_sequence: list of str\n",
      "            Strings should define valid CSS-colors. When `color` is set and the\n",
      "            values in the corresponding column are not numeric, values in that\n",
      "            column are assigned colors by cycling through `color_discrete_sequence`\n",
      "            in the order described in `category_orders`, unless the value of\n",
      "            `color` is a key in `color_discrete_map`. Various useful color\n",
      "            sequences are available in the `plotly.express.colors` submodules,\n",
      "            specifically `plotly.express.colors.qualitative`.\n",
      "        color_discrete_map: dict with str keys and str values (default `{}`)\n",
      "            String values should define valid CSS-colors Used to override\n",
      "            `color_discrete_sequence` to assign a specific colors to marks\n",
      "            corresponding with specific values. Keys in `color_discrete_map` should\n",
      "            be values in the column denoted by `color`.\n",
      "        hover_name: str or int or Series or array-like\n",
      "            Either a name of a column in `data_frame`, or a pandas Series or\n",
      "            array_like object. Values from this column or array_like appear in bold\n",
      "            in the hover tooltip.\n",
      "        hover_data: list of str or int, or Series or array-like\n",
      "            Either names of columns in `data_frame`, or pandas Series, or\n",
      "            array_like objects Values from these columns appear as extra data in\n",
      "            the hover tooltip.\n",
      "        custom_data: list of str or int, or Series or array-like\n",
      "            Either names of columns in `data_frame`, or pandas Series, or\n",
      "            array_like objects Values from these columns are extra data, to be used\n",
      "            in widgets or Dash callbacks for example. This data is not user-visible\n",
      "            but is included in events emitted by the figure (lasso selection etc.)\n",
      "        labels: dict with str keys and str values (default `{}`)\n",
      "            By default, column names are used in the figure for axis titles, legend\n",
      "            entries and hovers. This parameter allows this to be overridden. The\n",
      "            keys of this dict should correspond to column names, and the values\n",
      "            should correspond to the desired label to be displayed.\n",
      "        title: str\n",
      "            The figure title.\n",
      "        template: str or dict or plotly.graph_objects.layout.Template instance\n",
      "            The figure template name (must be a key in plotly.io.templates) or\n",
      "            definition.\n",
      "        width: int (default `None`)\n",
      "            The figure width in pixels.\n",
      "        height: int (default `None`)\n",
      "            The figure height in pixels.\n",
      "        opacity: float\n",
      "            Value between 0 and 1. Sets the opacity for markers.\n",
      "        \n",
      "        Returns\n",
      "        -------\n",
      "            plotly.graph_objects.Figure\n",
      "    \n",
      "    get_trendline_results(fig)\n",
      "        Extracts fit statistics for trendlines (when applied to figures generated with\n",
      "        the `trendline` argument set to `\"ols\"`).\n",
      "        \n",
      "        Arguments:\n",
      "            fig: the output of a `plotly.express` charting call\n",
      "        Returns:\n",
      "            A `pandas.DataFrame` with a column \"px_fit_results\" containing the `statsmodels`\n",
      "            results objects, along with columns identifying the subset of the data the\n",
      "            trendline was fit on.\n",
      "    \n",
      "    histogram(data_frame=None, x=None, y=None, color=None, facet_row=None, facet_col=None, facet_col_wrap=0, hover_name=None, hover_data=None, animation_frame=None, animation_group=None, category_orders={}, labels={}, color_discrete_sequence=None, color_discrete_map={}, marginal=None, opacity=None, orientation='v', barmode='relative', barnorm=None, histnorm=None, log_x=False, log_y=False, range_x=None, range_y=None, histfunc=None, cumulative=None, nbins=None, title=None, template=None, width=None, height=None)\n",
      "            In a histogram, rows of `data_frame` are grouped together into a\n",
      "            rectangular mark to visualize the 1D distribution of an aggregate\n",
      "            function `histfunc` (e.g. the count or sum) of the value `y` (or `x` if\n",
      "            `orientation` is `'h'`).\n",
      "            \n",
      "        Parameters\n",
      "        ----------\n",
      "        data_frame: DataFrame or array-like or dict\n",
      "            This argument needs to be passed for column names (and not keyword\n",
      "            names) to be used. Array-like and dict are tranformed internally to a\n",
      "            pandas DataFrame. Optional: if missing, a DataFrame gets constructed\n",
      "            under the hood using the other arguments.\n",
      "        x: str or int or Series or array-like\n",
      "            Either a name of a column in `data_frame`, or a pandas Series or\n",
      "            array_like object. Values from this column or array_like are used to\n",
      "            position marks along the x axis in cartesian coordinates. For\n",
      "            horizontal histograms, these values are used as inputs to `histfunc`.\n",
      "        y: str or int or Series or array-like\n",
      "            Either a name of a column in `data_frame`, or a pandas Series or\n",
      "            array_like object. Values from this column or array_like are used to\n",
      "            position marks along the y axis in cartesian coordinates. For vertical\n",
      "            histograms, these values are used as inputs to `histfunc`.\n",
      "        color: str or int or Series or array-like\n",
      "            Either a name of a column in `data_frame`, or a pandas Series or\n",
      "            array_like object. Values from this column or array_like are used to\n",
      "            assign color to marks.\n",
      "        facet_row: str or int or Series or array-like\n",
      "            Either a name of a column in `data_frame`, or a pandas Series or\n",
      "            array_like object. Values from this column or array_like are used to\n",
      "            assign marks to facetted subplots in the vertical direction.\n",
      "        facet_col: str or int or Series or array-like\n",
      "            Either a name of a column in `data_frame`, or a pandas Series or\n",
      "            array_like object. Values from this column or array_like are used to\n",
      "            assign marks to facetted subplots in the horizontal direction.\n",
      "        facet_col_wrap: int\n",
      "            Maximum number of facet columns. Wraps the column variable at this\n",
      "            width, so that the column facets span multiple rows. Ignored if 0, and\n",
      "            forced to 0 if `facet_row` or a `marginal` is set.\n",
      "        hover_name: str or int or Series or array-like\n",
      "            Either a name of a column in `data_frame`, or a pandas Series or\n",
      "            array_like object. Values from this column or array_like appear in bold\n",
      "            in the hover tooltip.\n",
      "        hover_data: list of str or int, or Series or array-like\n",
      "            Either names of columns in `data_frame`, or pandas Series, or\n",
      "            array_like objects Values from these columns appear as extra data in\n",
      "            the hover tooltip.\n",
      "        animation_frame: str or int or Series or array-like\n",
      "            Either a name of a column in `data_frame`, or a pandas Series or\n",
      "            array_like object. Values from this column or array_like are used to\n",
      "            assign marks to animation frames.\n",
      "        animation_group: str or int or Series or array-like\n",
      "            Either a name of a column in `data_frame`, or a pandas Series or\n",
      "            array_like object. Values from this column or array_like are used to\n",
      "            provide object-constancy across animation frames: rows with matching\n",
      "            `animation_group`s will be treated as if they describe the same object\n",
      "            in each frame.\n",
      "        category_orders: dict with str keys and list of str values (default `{}`)\n",
      "            By default, in Python 3.6+, the order of categorical values in axes,\n",
      "            legends and facets depends on the order in which these values are first\n",
      "            encountered in `data_frame` (and no order is guaranteed by default in\n",
      "            Python below 3.6). This parameter is used to force a specific ordering\n",
      "            of values per column. The keys of this dict should correspond to column\n",
      "            names, and the values should be lists of strings corresponding to the\n",
      "            specific display order desired.\n",
      "        labels: dict with str keys and str values (default `{}`)\n",
      "            By default, column names are used in the figure for axis titles, legend\n",
      "            entries and hovers. This parameter allows this to be overridden. The\n",
      "            keys of this dict should correspond to column names, and the values\n",
      "            should correspond to the desired label to be displayed.\n",
      "        color_discrete_sequence: list of str\n",
      "            Strings should define valid CSS-colors. When `color` is set and the\n",
      "            values in the corresponding column are not numeric, values in that\n",
      "            column are assigned colors by cycling through `color_discrete_sequence`\n",
      "            in the order described in `category_orders`, unless the value of\n",
      "            `color` is a key in `color_discrete_map`. Various useful color\n",
      "            sequences are available in the `plotly.express.colors` submodules,\n",
      "            specifically `plotly.express.colors.qualitative`.\n",
      "        color_discrete_map: dict with str keys and str values (default `{}`)\n",
      "            String values should define valid CSS-colors Used to override\n",
      "            `color_discrete_sequence` to assign a specific colors to marks\n",
      "            corresponding with specific values. Keys in `color_discrete_map` should\n",
      "            be values in the column denoted by `color`.\n",
      "        marginal: str\n",
      "            One of `'rug'`, `'box'`, `'violin'`, or `'histogram'`. If set, a\n",
      "            subplot is drawn alongside the main plot, visualizing the distribution.\n",
      "        opacity: float\n",
      "            Value between 0 and 1. Sets the opacity for markers.\n",
      "        orientation: str (default `'v'`)\n",
      "            One of `'h'` for horizontal or `'v'` for vertical)\n",
      "        barmode: str (default `'relative'`)\n",
      "            One of `'group'`, `'overlay'` or `'relative'` In `'relative'` mode,\n",
      "            bars are stacked above zero for positive values and below zero for\n",
      "            negative values. In `'overlay'` mode, bars are drawn on top of one\n",
      "            another. In `'group'` mode, bars are placed beside each other.\n",
      "        barnorm: str (default `None`)\n",
      "            One of `'fraction'` or `'percent'`. If `'fraction'`, the value of each\n",
      "            bar is divided by the sum of all values at that location coordinate.\n",
      "            `'percent'` is the same but multiplied by 100 to show percentages.\n",
      "            `None` will stack up all values at each location coordinate.\n",
      "        histnorm: str (default `None`)\n",
      "            One of `'percent'`, `'probability'`, `'density'`, or `'probability\n",
      "            density'` If `None`, the output of `histfunc` is used as is. If\n",
      "            `'probability'`, the output of `histfunc` for a given bin is divided by\n",
      "            the sum of the output of `histfunc` for all bins. If `'percent'`, the\n",
      "            output of `histfunc` for a given bin is divided by the sum of the\n",
      "            output of `histfunc` for all bins and multiplied by 100. If\n",
      "            `'density'`, the output of `histfunc` for a given bin is divided by the\n",
      "            size of the bin. If `'probability density'`, the output of `histfunc`\n",
      "            for a given bin is normalized such that it corresponds to the\n",
      "            probability that a random event whose distribution is described by the\n",
      "            output of `histfunc` will fall into that bin.\n",
      "        log_x: boolean (default `False`)\n",
      "            If `True`, the x-axis is log-scaled in cartesian coordinates.\n",
      "        log_y: boolean (default `False`)\n",
      "            If `True`, the y-axis is log-scaled in cartesian coordinates.\n",
      "        range_x: list of two numbers\n",
      "            If provided, overrides auto-scaling on the x-axis in cartesian\n",
      "            coordinates.\n",
      "        range_y: list of two numbers\n",
      "            If provided, overrides auto-scaling on the y-axis in cartesian\n",
      "            coordinates.\n",
      "        histfunc: str (default `'count'`)\n",
      "            One of `'count'`, `'sum'`, `'avg'`, `'min'`, or `'max'`.Function used\n",
      "            to aggregate values for summarization (note: can be normalized with\n",
      "            `histnorm`). The arguments to this function for `histogram` are the\n",
      "            values of `y` if `orientation` is `'v'`, otherwise the arguements are\n",
      "            the values of `x`. The arguments to this function for `density_heatmap`\n",
      "            and `density_contour` are the values of `z`.\n",
      "        cumulative: boolean (default `False`)\n",
      "            If `True`, histogram values are cumulative.\n",
      "        nbins: int\n",
      "            Positive integer. Sets the number of bins.\n",
      "        title: str\n",
      "            The figure title.\n",
      "        template: str or dict or plotly.graph_objects.layout.Template instance\n",
      "            The figure template name (must be a key in plotly.io.templates) or\n",
      "            definition.\n",
      "        width: int (default `None`)\n",
      "            The figure width in pixels.\n",
      "        height: int (default `None`)\n",
      "            The figure height in pixels.\n",
      "        \n",
      "        Returns\n",
      "        -------\n",
      "            plotly.graph_objects.Figure\n",
      "    \n",
      "    imshow(img, zmin=None, zmax=None, origin=None, labels={}, x=None, y=None, color_continuous_scale=None, color_continuous_midpoint=None, range_color=None, title=None, template=None, width=None, height=None, aspect=None)\n",
      "        Display an image, i.e. data on a 2D regular raster.\n",
      "        \n",
      "        Parameters\n",
      "        ----------\n",
      "        \n",
      "        img: array-like image, or xarray\n",
      "            The image data. Supported array shapes are\n",
      "        \n",
      "            - (M, N): an image with scalar data. The data is visualized\n",
      "              using a colormap.\n",
      "            - (M, N, 3): an image with RGB values.\n",
      "            - (M, N, 4): an image with RGBA values, i.e. including transparency.\n",
      "        \n",
      "        zmin, zmax : scalar or iterable, optional\n",
      "            zmin and zmax define the scalar range that the colormap covers. By default,\n",
      "            zmin and zmax correspond to the min and max values of the datatype for integer\n",
      "            datatypes (ie [0-255] for uint8 images, [0, 65535] for uint16 images, etc.). For\n",
      "            a multichannel image of floats, the max of the image is computed and zmax is the\n",
      "            smallest power of 256 (1, 255, 65535) greater than this max value,\n",
      "            with a 5% tolerance. For a single-channel image, the max of the image is used.\n",
      "            Overridden by range_color.\n",
      "        \n",
      "        origin : str, 'upper' or 'lower' (default 'upper')\n",
      "            position of the [0, 0] pixel of the image array, in the upper left or lower left\n",
      "            corner. The convention 'upper' is typically used for matrices and images.\n",
      "        \n",
      "        labels : dict with str keys and str values (default `{}`)\n",
      "            Sets names used in the figure for axis titles (keys ``x`` and ``y``),\n",
      "            colorbar title and hoverlabel (key ``color``). The values should correspond\n",
      "            to the desired label to be displayed. If ``img`` is an xarray, dimension\n",
      "            names are used for axis titles, and long name for the colorbar title\n",
      "            (unless overridden in ``labels``). Possible keys are: x, y, and color.\n",
      "        \n",
      "        x, y: list-like, optional\n",
      "            x and y are used to label the axes of single-channel heatmap visualizations and\n",
      "            their lengths must match the lengths of the second and first dimensions of the\n",
      "            img argument. They are auto-populated if the input is an xarray.\n",
      "        \n",
      "        color_continuous_scale : str or list of str\n",
      "            colormap used to map scalar data to colors (for a 2D image). This parameter is\n",
      "            not used for RGB or RGBA images. If a string is provided, it should be the name\n",
      "            of a known color scale, and if a list is provided, it should be a list of CSS-\n",
      "            compatible colors.\n",
      "        \n",
      "        color_continuous_midpoint : number\n",
      "            If set, computes the bounds of the continuous color scale to have the desired\n",
      "            midpoint. Overridden by range_color or zmin and zmax.\n",
      "        \n",
      "        range_color : list of two numbers\n",
      "            If provided, overrides auto-scaling on the continuous color scale, including\n",
      "            overriding `color_continuous_midpoint`. Also overrides zmin and zmax. Used only\n",
      "            for single-channel images.\n",
      "        \n",
      "        title : str\n",
      "            The figure title.\n",
      "        \n",
      "        template : str or dict or plotly.graph_objects.layout.Template instance\n",
      "            The figure template name or definition.\n",
      "        \n",
      "        width : number\n",
      "            The figure width in pixels.\n",
      "        \n",
      "        height: number\n",
      "            The figure height in pixels.\n",
      "        \n",
      "        aspect: 'equal', 'auto', or None\n",
      "          - 'equal': Ensures an aspect ratio of 1 or pixels (square pixels)\n",
      "          - 'auto': The axes is kept fixed and the aspect ratio of pixels is\n",
      "            adjusted so that the data fit in the axes. In general, this will\n",
      "            result in non-square pixels.\n",
      "          - if None, 'equal' is used for numpy arrays and 'auto' for xarrays\n",
      "            (which have typically heterogeneous coordinates)\n",
      "        \n",
      "        Returns\n",
      "        -------\n",
      "        fig : graph_objects.Figure containing the displayed image\n",
      "        \n",
      "        See also\n",
      "        --------\n",
      "        \n",
      "        plotly.graph_objects.Image : image trace\n",
      "        plotly.graph_objects.Heatmap : heatmap trace\n",
      "        \n",
      "        Notes\n",
      "        -----\n",
      "        \n",
      "        In order to update and customize the returned figure, use\n",
      "        `go.Figure.update_traces` or `go.Figure.update_layout`.\n",
      "        \n",
      "        If an xarray is passed, dimensions names and coordinates are used for\n",
      "        axes labels and ticks.\n",
      "    \n",
      "    line(data_frame=None, x=None, y=None, line_group=None, color=None, line_dash=None, hover_name=None, hover_data=None, custom_data=None, text=None, facet_row=None, facet_col=None, facet_col_wrap=0, error_x=None, error_x_minus=None, error_y=None, error_y_minus=None, animation_frame=None, animation_group=None, category_orders={}, labels={}, color_discrete_sequence=None, color_discrete_map={}, line_dash_sequence=None, line_dash_map={}, log_x=False, log_y=False, range_x=None, range_y=None, line_shape=None, render_mode='auto', title=None, template=None, width=None, height=None)\n",
      "            In a 2D line plot, each row of `data_frame` is represented as vertex of\n",
      "            a polyline mark in 2D space.\n",
      "            \n",
      "        Parameters\n",
      "        ----------\n",
      "        data_frame: DataFrame or array-like or dict\n",
      "            This argument needs to be passed for column names (and not keyword\n",
      "            names) to be used. Array-like and dict are tranformed internally to a\n",
      "            pandas DataFrame. Optional: if missing, a DataFrame gets constructed\n",
      "            under the hood using the other arguments.\n",
      "        x: str or int or Series or array-like\n",
      "            Either a name of a column in `data_frame`, or a pandas Series or\n",
      "            array_like object. Values from this column or array_like are used to\n",
      "            position marks along the x axis in cartesian coordinates. For\n",
      "            horizontal histograms, these values are used as inputs to `histfunc`.\n",
      "        y: str or int or Series or array-like\n",
      "            Either a name of a column in `data_frame`, or a pandas Series or\n",
      "            array_like object. Values from this column or array_like are used to\n",
      "            position marks along the y axis in cartesian coordinates. For vertical\n",
      "            histograms, these values are used as inputs to `histfunc`.\n",
      "        line_group: str or int or Series or array-like\n",
      "            Either a name of a column in `data_frame`, or a pandas Series or\n",
      "            array_like object. Values from this column or array_like are used to\n",
      "            group rows of `data_frame` into lines.\n",
      "        color: str or int or Series or array-like\n",
      "            Either a name of a column in `data_frame`, or a pandas Series or\n",
      "            array_like object. Values from this column or array_like are used to\n",
      "            assign color to marks.\n",
      "        line_dash: str or int or Series or array-like\n",
      "            Either a name of a column in `data_frame`, or a pandas Series or\n",
      "            array_like object. Values from this column or array_like are used to\n",
      "            assign dash-patterns to lines.\n",
      "        hover_name: str or int or Series or array-like\n",
      "            Either a name of a column in `data_frame`, or a pandas Series or\n",
      "            array_like object. Values from this column or array_like appear in bold\n",
      "            in the hover tooltip.\n",
      "        hover_data: list of str or int, or Series or array-like\n",
      "            Either names of columns in `data_frame`, or pandas Series, or\n",
      "            array_like objects Values from these columns appear as extra data in\n",
      "            the hover tooltip.\n",
      "        custom_data: list of str or int, or Series or array-like\n",
      "            Either names of columns in `data_frame`, or pandas Series, or\n",
      "            array_like objects Values from these columns are extra data, to be used\n",
      "            in widgets or Dash callbacks for example. This data is not user-visible\n",
      "            but is included in events emitted by the figure (lasso selection etc.)\n",
      "        text: str or int or Series or array-like\n",
      "            Either a name of a column in `data_frame`, or a pandas Series or\n",
      "            array_like object. Values from this column or array_like appear in the\n",
      "            figure as text labels.\n",
      "        facet_row: str or int or Series or array-like\n",
      "            Either a name of a column in `data_frame`, or a pandas Series or\n",
      "            array_like object. Values from this column or array_like are used to\n",
      "            assign marks to facetted subplots in the vertical direction.\n",
      "        facet_col: str or int or Series or array-like\n",
      "            Either a name of a column in `data_frame`, or a pandas Series or\n",
      "            array_like object. Values from this column or array_like are used to\n",
      "            assign marks to facetted subplots in the horizontal direction.\n",
      "        facet_col_wrap: int\n",
      "            Maximum number of facet columns. Wraps the column variable at this\n",
      "            width, so that the column facets span multiple rows. Ignored if 0, and\n",
      "            forced to 0 if `facet_row` or a `marginal` is set.\n",
      "        error_x: str or int or Series or array-like\n",
      "            Either a name of a column in `data_frame`, or a pandas Series or\n",
      "            array_like object. Values from this column or array_like are used to\n",
      "            size x-axis error bars. If `error_x_minus` is `None`, error bars will\n",
      "            be symmetrical, otherwise `error_x` is used for the positive direction\n",
      "            only.\n",
      "        error_x_minus: str or int or Series or array-like\n",
      "            Either a name of a column in `data_frame`, or a pandas Series or\n",
      "            array_like object. Values from this column or array_like are used to\n",
      "            size x-axis error bars in the negative direction. Ignored if `error_x`\n",
      "            is `None`.\n",
      "        error_y: str or int or Series or array-like\n",
      "            Either a name of a column in `data_frame`, or a pandas Series or\n",
      "            array_like object. Values from this column or array_like are used to\n",
      "            size y-axis error bars. If `error_y_minus` is `None`, error bars will\n",
      "            be symmetrical, otherwise `error_y` is used for the positive direction\n",
      "            only.\n",
      "        error_y_minus: str or int or Series or array-like\n",
      "            Either a name of a column in `data_frame`, or a pandas Series or\n",
      "            array_like object. Values from this column or array_like are used to\n",
      "            size y-axis error bars in the negative direction. Ignored if `error_y`\n",
      "            is `None`.\n",
      "        animation_frame: str or int or Series or array-like\n",
      "            Either a name of a column in `data_frame`, or a pandas Series or\n",
      "            array_like object. Values from this column or array_like are used to\n",
      "            assign marks to animation frames.\n",
      "        animation_group: str or int or Series or array-like\n",
      "            Either a name of a column in `data_frame`, or a pandas Series or\n",
      "            array_like object. Values from this column or array_like are used to\n",
      "            provide object-constancy across animation frames: rows with matching\n",
      "            `animation_group`s will be treated as if they describe the same object\n",
      "            in each frame.\n",
      "        category_orders: dict with str keys and list of str values (default `{}`)\n",
      "            By default, in Python 3.6+, the order of categorical values in axes,\n",
      "            legends and facets depends on the order in which these values are first\n",
      "            encountered in `data_frame` (and no order is guaranteed by default in\n",
      "            Python below 3.6). This parameter is used to force a specific ordering\n",
      "            of values per column. The keys of this dict should correspond to column\n",
      "            names, and the values should be lists of strings corresponding to the\n",
      "            specific display order desired.\n",
      "        labels: dict with str keys and str values (default `{}`)\n",
      "            By default, column names are used in the figure for axis titles, legend\n",
      "            entries and hovers. This parameter allows this to be overridden. The\n",
      "            keys of this dict should correspond to column names, and the values\n",
      "            should correspond to the desired label to be displayed.\n",
      "        color_discrete_sequence: list of str\n",
      "            Strings should define valid CSS-colors. When `color` is set and the\n",
      "            values in the corresponding column are not numeric, values in that\n",
      "            column are assigned colors by cycling through `color_discrete_sequence`\n",
      "            in the order described in `category_orders`, unless the value of\n",
      "            `color` is a key in `color_discrete_map`. Various useful color\n",
      "            sequences are available in the `plotly.express.colors` submodules,\n",
      "            specifically `plotly.express.colors.qualitative`.\n",
      "        color_discrete_map: dict with str keys and str values (default `{}`)\n",
      "            String values should define valid CSS-colors Used to override\n",
      "            `color_discrete_sequence` to assign a specific colors to marks\n",
      "            corresponding with specific values. Keys in `color_discrete_map` should\n",
      "            be values in the column denoted by `color`.\n",
      "        line_dash_sequence: list of str\n",
      "            Strings should define valid plotly.js dash-patterns. When `line_dash`\n",
      "            is set, values in that column are assigned dash-patterns by cycling\n",
      "            through `line_dash_sequence` in the order described in\n",
      "            `category_orders`, unless the value of `line_dash` is a key in\n",
      "            `line_dash_map`.\n",
      "        line_dash_map: dict with str keys and str values (default `{}`)\n",
      "            Strings values define plotly.js dash-patterns. Used to override\n",
      "            `line_dash_sequences` to assign a specific dash-patterns to lines\n",
      "            corresponding with specific values. Keys in `line_dash_map` should be\n",
      "            values in the column denoted by `line_dash`.\n",
      "        log_x: boolean (default `False`)\n",
      "            If `True`, the x-axis is log-scaled in cartesian coordinates.\n",
      "        log_y: boolean (default `False`)\n",
      "            If `True`, the y-axis is log-scaled in cartesian coordinates.\n",
      "        range_x: list of two numbers\n",
      "            If provided, overrides auto-scaling on the x-axis in cartesian\n",
      "            coordinates.\n",
      "        range_y: list of two numbers\n",
      "            If provided, overrides auto-scaling on the y-axis in cartesian\n",
      "            coordinates.\n",
      "        line_shape: str (default `'linear'`)\n",
      "            One of `'linear'` or `'spline'`.\n",
      "        render_mode: str\n",
      "            One of `'auto'`, `'svg'` or `'webgl'`, default `'auto'` Controls the\n",
      "            browser API used to draw marks. `'svg`' is appropriate for figures of\n",
      "            less than 1000 data points, and will allow for fully-vectorized output.\n",
      "            `'webgl'` is likely necessary for acceptable performance above 1000\n",
      "            points but rasterizes part of the output.  `'auto'` uses heuristics to\n",
      "            choose the mode.\n",
      "        title: str\n",
      "            The figure title.\n",
      "        template: str or dict or plotly.graph_objects.layout.Template instance\n",
      "            The figure template name (must be a key in plotly.io.templates) or\n",
      "            definition.\n",
      "        width: int (default `None`)\n",
      "            The figure width in pixels.\n",
      "        height: int (default `None`)\n",
      "            The figure height in pixels.\n",
      "        \n",
      "        Returns\n",
      "        -------\n",
      "            plotly.graph_objects.Figure\n",
      "    \n",
      "    line_3d(data_frame=None, x=None, y=None, z=None, color=None, line_dash=None, text=None, line_group=None, hover_name=None, hover_data=None, custom_data=None, error_x=None, error_x_minus=None, error_y=None, error_y_minus=None, error_z=None, error_z_minus=None, animation_frame=None, animation_group=None, category_orders={}, labels={}, color_discrete_sequence=None, color_discrete_map={}, line_dash_sequence=None, line_dash_map={}, log_x=False, log_y=False, log_z=False, range_x=None, range_y=None, range_z=None, title=None, template=None, width=None, height=None)\n",
      "            In a 3D line plot, each row of `data_frame` is represented as vertex of\n",
      "            a polyline mark in 3D space.\n",
      "            \n",
      "        Parameters\n",
      "        ----------\n",
      "        data_frame: DataFrame or array-like or dict\n",
      "            This argument needs to be passed for column names (and not keyword\n",
      "            names) to be used. Array-like and dict are tranformed internally to a\n",
      "            pandas DataFrame. Optional: if missing, a DataFrame gets constructed\n",
      "            under the hood using the other arguments.\n",
      "        x: str or int or Series or array-like\n",
      "            Either a name of a column in `data_frame`, or a pandas Series or\n",
      "            array_like object. Values from this column or array_like are used to\n",
      "            position marks along the x axis in cartesian coordinates. For\n",
      "            horizontal histograms, these values are used as inputs to `histfunc`.\n",
      "        y: str or int or Series or array-like\n",
      "            Either a name of a column in `data_frame`, or a pandas Series or\n",
      "            array_like object. Values from this column or array_like are used to\n",
      "            position marks along the y axis in cartesian coordinates. For vertical\n",
      "            histograms, these values are used as inputs to `histfunc`.\n",
      "        z: str or int or Series or array-like\n",
      "            Either a name of a column in `data_frame`, or a pandas Series or\n",
      "            array_like object. Values from this column or array_like are used to\n",
      "            position marks along the z axis in cartesian coordinates. For\n",
      "            `density_heatmap` and `density_contour` these values are used as the\n",
      "            inputs to `histfunc`.\n",
      "        color: str or int or Series or array-like\n",
      "            Either a name of a column in `data_frame`, or a pandas Series or\n",
      "            array_like object. Values from this column or array_like are used to\n",
      "            assign color to marks.\n",
      "        line_dash: str or int or Series or array-like\n",
      "            Either a name of a column in `data_frame`, or a pandas Series or\n",
      "            array_like object. Values from this column or array_like are used to\n",
      "            assign dash-patterns to lines.\n",
      "        text: str or int or Series or array-like\n",
      "            Either a name of a column in `data_frame`, or a pandas Series or\n",
      "            array_like object. Values from this column or array_like appear in the\n",
      "            figure as text labels.\n",
      "        line_group: str or int or Series or array-like\n",
      "            Either a name of a column in `data_frame`, or a pandas Series or\n",
      "            array_like object. Values from this column or array_like are used to\n",
      "            group rows of `data_frame` into lines.\n",
      "        hover_name: str or int or Series or array-like\n",
      "            Either a name of a column in `data_frame`, or a pandas Series or\n",
      "            array_like object. Values from this column or array_like appear in bold\n",
      "            in the hover tooltip.\n",
      "        hover_data: list of str or int, or Series or array-like\n",
      "            Either names of columns in `data_frame`, or pandas Series, or\n",
      "            array_like objects Values from these columns appear as extra data in\n",
      "            the hover tooltip.\n",
      "        custom_data: list of str or int, or Series or array-like\n",
      "            Either names of columns in `data_frame`, or pandas Series, or\n",
      "            array_like objects Values from these columns are extra data, to be used\n",
      "            in widgets or Dash callbacks for example. This data is not user-visible\n",
      "            but is included in events emitted by the figure (lasso selection etc.)\n",
      "        error_x: str or int or Series or array-like\n",
      "            Either a name of a column in `data_frame`, or a pandas Series or\n",
      "            array_like object. Values from this column or array_like are used to\n",
      "            size x-axis error bars. If `error_x_minus` is `None`, error bars will\n",
      "            be symmetrical, otherwise `error_x` is used for the positive direction\n",
      "            only.\n",
      "        error_x_minus: str or int or Series or array-like\n",
      "            Either a name of a column in `data_frame`, or a pandas Series or\n",
      "            array_like object. Values from this column or array_like are used to\n",
      "            size x-axis error bars in the negative direction. Ignored if `error_x`\n",
      "            is `None`.\n",
      "        error_y: str or int or Series or array-like\n",
      "            Either a name of a column in `data_frame`, or a pandas Series or\n",
      "            array_like object. Values from this column or array_like are used to\n",
      "            size y-axis error bars. If `error_y_minus` is `None`, error bars will\n",
      "            be symmetrical, otherwise `error_y` is used for the positive direction\n",
      "            only.\n",
      "        error_y_minus: str or int or Series or array-like\n",
      "            Either a name of a column in `data_frame`, or a pandas Series or\n",
      "            array_like object. Values from this column or array_like are used to\n",
      "            size y-axis error bars in the negative direction. Ignored if `error_y`\n",
      "            is `None`.\n",
      "        error_z: str or int or Series or array-like\n",
      "            Either a name of a column in `data_frame`, or a pandas Series or\n",
      "            array_like object. Values from this column or array_like are used to\n",
      "            size z-axis error bars. If `error_z_minus` is `None`, error bars will\n",
      "            be symmetrical, otherwise `error_z` is used for the positive direction\n",
      "            only.\n",
      "        error_z_minus: str or int or Series or array-like\n",
      "            Either a name of a column in `data_frame`, or a pandas Series or\n",
      "            array_like object. Values from this column or array_like are used to\n",
      "            size z-axis error bars in the negative direction. Ignored if `error_z`\n",
      "            is `None`.\n",
      "        animation_frame: str or int or Series or array-like\n",
      "            Either a name of a column in `data_frame`, or a pandas Series or\n",
      "            array_like object. Values from this column or array_like are used to\n",
      "            assign marks to animation frames.\n",
      "        animation_group: str or int or Series or array-like\n",
      "            Either a name of a column in `data_frame`, or a pandas Series or\n",
      "            array_like object. Values from this column or array_like are used to\n",
      "            provide object-constancy across animation frames: rows with matching\n",
      "            `animation_group`s will be treated as if they describe the same object\n",
      "            in each frame.\n",
      "        category_orders: dict with str keys and list of str values (default `{}`)\n",
      "            By default, in Python 3.6+, the order of categorical values in axes,\n",
      "            legends and facets depends on the order in which these values are first\n",
      "            encountered in `data_frame` (and no order is guaranteed by default in\n",
      "            Python below 3.6). This parameter is used to force a specific ordering\n",
      "            of values per column. The keys of this dict should correspond to column\n",
      "            names, and the values should be lists of strings corresponding to the\n",
      "            specific display order desired.\n",
      "        labels: dict with str keys and str values (default `{}`)\n",
      "            By default, column names are used in the figure for axis titles, legend\n",
      "            entries and hovers. This parameter allows this to be overridden. The\n",
      "            keys of this dict should correspond to column names, and the values\n",
      "            should correspond to the desired label to be displayed.\n",
      "        color_discrete_sequence: list of str\n",
      "            Strings should define valid CSS-colors. When `color` is set and the\n",
      "            values in the corresponding column are not numeric, values in that\n",
      "            column are assigned colors by cycling through `color_discrete_sequence`\n",
      "            in the order described in `category_orders`, unless the value of\n",
      "            `color` is a key in `color_discrete_map`. Various useful color\n",
      "            sequences are available in the `plotly.express.colors` submodules,\n",
      "            specifically `plotly.express.colors.qualitative`.\n",
      "        color_discrete_map: dict with str keys and str values (default `{}`)\n",
      "            String values should define valid CSS-colors Used to override\n",
      "            `color_discrete_sequence` to assign a specific colors to marks\n",
      "            corresponding with specific values. Keys in `color_discrete_map` should\n",
      "            be values in the column denoted by `color`.\n",
      "        line_dash_sequence: list of str\n",
      "            Strings should define valid plotly.js dash-patterns. When `line_dash`\n",
      "            is set, values in that column are assigned dash-patterns by cycling\n",
      "            through `line_dash_sequence` in the order described in\n",
      "            `category_orders`, unless the value of `line_dash` is a key in\n",
      "            `line_dash_map`.\n",
      "        line_dash_map: dict with str keys and str values (default `{}`)\n",
      "            Strings values define plotly.js dash-patterns. Used to override\n",
      "            `line_dash_sequences` to assign a specific dash-patterns to lines\n",
      "            corresponding with specific values. Keys in `line_dash_map` should be\n",
      "            values in the column denoted by `line_dash`.\n",
      "        log_x: boolean (default `False`)\n",
      "            If `True`, the x-axis is log-scaled in cartesian coordinates.\n",
      "        log_y: boolean (default `False`)\n",
      "            If `True`, the y-axis is log-scaled in cartesian coordinates.\n",
      "        log_z: boolean (default `False`)\n",
      "            If `True`, the z-axis is log-scaled in cartesian coordinates.\n",
      "        range_x: list of two numbers\n",
      "            If provided, overrides auto-scaling on the x-axis in cartesian\n",
      "            coordinates.\n",
      "        range_y: list of two numbers\n",
      "            If provided, overrides auto-scaling on the y-axis in cartesian\n",
      "            coordinates.\n",
      "        range_z: list of two numbers\n",
      "            If provided, overrides auto-scaling on the z-axis in cartesian\n",
      "            coordinates.\n",
      "        title: str\n",
      "            The figure title.\n",
      "        template: str or dict or plotly.graph_objects.layout.Template instance\n",
      "            The figure template name (must be a key in plotly.io.templates) or\n",
      "            definition.\n",
      "        width: int (default `None`)\n",
      "            The figure width in pixels.\n",
      "        height: int (default `None`)\n",
      "            The figure height in pixels.\n",
      "        \n",
      "        Returns\n",
      "        -------\n",
      "            plotly.graph_objects.Figure\n",
      "    \n",
      "    line_geo(data_frame=None, lat=None, lon=None, locations=None, locationmode=None, color=None, line_dash=None, text=None, hover_name=None, hover_data=None, custom_data=None, line_group=None, animation_frame=None, animation_group=None, category_orders={}, labels={}, color_discrete_sequence=None, color_discrete_map={}, line_dash_sequence=None, line_dash_map={}, projection=None, scope=None, center=None, title=None, template=None, width=None, height=None)\n",
      "            In a geographic line plot, each row of `data_frame` is represented as\n",
      "            vertex of a polyline mark on a map.\n",
      "            \n",
      "        Parameters\n",
      "        ----------\n",
      "        data_frame: DataFrame or array-like or dict\n",
      "            This argument needs to be passed for column names (and not keyword\n",
      "            names) to be used. Array-like and dict are tranformed internally to a\n",
      "            pandas DataFrame. Optional: if missing, a DataFrame gets constructed\n",
      "            under the hood using the other arguments.\n",
      "        lat: str or int or Series or array-like\n",
      "            Either a name of a column in `data_frame`, or a pandas Series or\n",
      "            array_like object. Values from this column or array_like are used to\n",
      "            position marks according to latitude on a map.\n",
      "        lon: str or int or Series or array-like\n",
      "            Either a name of a column in `data_frame`, or a pandas Series or\n",
      "            array_like object. Values from this column or array_like are used to\n",
      "            position marks according to longitude on a map.\n",
      "        locations: str or int or Series or array-like\n",
      "            Either a name of a column in `data_frame`, or a pandas Series or\n",
      "            array_like object. Values from this column or array_like are to be\n",
      "            interpreted according to `locationmode` and mapped to\n",
      "            longitude/latitude.\n",
      "        locationmode: str\n",
      "            One of 'ISO-3', 'USA-states', or 'country names' Determines the set of\n",
      "            locations used to match entries in `locations` to regions on the map.\n",
      "        color: str or int or Series or array-like\n",
      "            Either a name of a column in `data_frame`, or a pandas Series or\n",
      "            array_like object. Values from this column or array_like are used to\n",
      "            assign color to marks.\n",
      "        line_dash: str or int or Series or array-like\n",
      "            Either a name of a column in `data_frame`, or a pandas Series or\n",
      "            array_like object. Values from this column or array_like are used to\n",
      "            assign dash-patterns to lines.\n",
      "        text: str or int or Series or array-like\n",
      "            Either a name of a column in `data_frame`, or a pandas Series or\n",
      "            array_like object. Values from this column or array_like appear in the\n",
      "            figure as text labels.\n",
      "        hover_name: str or int or Series or array-like\n",
      "            Either a name of a column in `data_frame`, or a pandas Series or\n",
      "            array_like object. Values from this column or array_like appear in bold\n",
      "            in the hover tooltip.\n",
      "        hover_data: list of str or int, or Series or array-like\n",
      "            Either names of columns in `data_frame`, or pandas Series, or\n",
      "            array_like objects Values from these columns appear as extra data in\n",
      "            the hover tooltip.\n",
      "        custom_data: list of str or int, or Series or array-like\n",
      "            Either names of columns in `data_frame`, or pandas Series, or\n",
      "            array_like objects Values from these columns are extra data, to be used\n",
      "            in widgets or Dash callbacks for example. This data is not user-visible\n",
      "            but is included in events emitted by the figure (lasso selection etc.)\n",
      "        line_group: str or int or Series or array-like\n",
      "            Either a name of a column in `data_frame`, or a pandas Series or\n",
      "            array_like object. Values from this column or array_like are used to\n",
      "            group rows of `data_frame` into lines.\n",
      "        animation_frame: str or int or Series or array-like\n",
      "            Either a name of a column in `data_frame`, or a pandas Series or\n",
      "            array_like object. Values from this column or array_like are used to\n",
      "            assign marks to animation frames.\n",
      "        animation_group: str or int or Series or array-like\n",
      "            Either a name of a column in `data_frame`, or a pandas Series or\n",
      "            array_like object. Values from this column or array_like are used to\n",
      "            provide object-constancy across animation frames: rows with matching\n",
      "            `animation_group`s will be treated as if they describe the same object\n",
      "            in each frame.\n",
      "        category_orders: dict with str keys and list of str values (default `{}`)\n",
      "            By default, in Python 3.6+, the order of categorical values in axes,\n",
      "            legends and facets depends on the order in which these values are first\n",
      "            encountered in `data_frame` (and no order is guaranteed by default in\n",
      "            Python below 3.6). This parameter is used to force a specific ordering\n",
      "            of values per column. The keys of this dict should correspond to column\n",
      "            names, and the values should be lists of strings corresponding to the\n",
      "            specific display order desired.\n",
      "        labels: dict with str keys and str values (default `{}`)\n",
      "            By default, column names are used in the figure for axis titles, legend\n",
      "            entries and hovers. This parameter allows this to be overridden. The\n",
      "            keys of this dict should correspond to column names, and the values\n",
      "            should correspond to the desired label to be displayed.\n",
      "        color_discrete_sequence: list of str\n",
      "            Strings should define valid CSS-colors. When `color` is set and the\n",
      "            values in the corresponding column are not numeric, values in that\n",
      "            column are assigned colors by cycling through `color_discrete_sequence`\n",
      "            in the order described in `category_orders`, unless the value of\n",
      "            `color` is a key in `color_discrete_map`. Various useful color\n",
      "            sequences are available in the `plotly.express.colors` submodules,\n",
      "            specifically `plotly.express.colors.qualitative`.\n",
      "        color_discrete_map: dict with str keys and str values (default `{}`)\n",
      "            String values should define valid CSS-colors Used to override\n",
      "            `color_discrete_sequence` to assign a specific colors to marks\n",
      "            corresponding with specific values. Keys in `color_discrete_map` should\n",
      "            be values in the column denoted by `color`.\n",
      "        line_dash_sequence: list of str\n",
      "            Strings should define valid plotly.js dash-patterns. When `line_dash`\n",
      "            is set, values in that column are assigned dash-patterns by cycling\n",
      "            through `line_dash_sequence` in the order described in\n",
      "            `category_orders`, unless the value of `line_dash` is a key in\n",
      "            `line_dash_map`.\n",
      "        line_dash_map: dict with str keys and str values (default `{}`)\n",
      "            Strings values define plotly.js dash-patterns. Used to override\n",
      "            `line_dash_sequences` to assign a specific dash-patterns to lines\n",
      "            corresponding with specific values. Keys in `line_dash_map` should be\n",
      "            values in the column denoted by `line_dash`.\n",
      "        projection: str \n",
      "            One of `'equirectangular'`, `'mercator'`, `'orthographic'`, `'natural\n",
      "            earth'`, `'kavrayskiy7'`, `'miller'`, `'robinson'`, `'eckert4'`,\n",
      "            `'azimuthal equal area'`, `'azimuthal equidistant'`, `'conic equal\n",
      "            area'`, `'conic conformal'`, `'conic equidistant'`, `'gnomonic'`,\n",
      "            `'stereographic'`, `'mollweide'`, `'hammer'`, `'transverse mercator'`,\n",
      "            `'albers usa'`, `'winkel tripel'`, `'aitoff'`, or `'sinusoidal'`Default\n",
      "            depends on `scope`.\n",
      "        scope: str (default `'world'`).\n",
      "            One of `'world'`, `'usa'`, `'europe'`, `'asia'`, `'africa'`, `'north\n",
      "            america'`, or `'south america'`)Default is `'world'` unless\n",
      "            `projection` is set to `'albers usa'`, which forces `'usa'`.\n",
      "        center: dict\n",
      "            Dict keys are `'lat'` and `'lon'` Sets the center point of the map.\n",
      "        title: str\n",
      "            The figure title.\n",
      "        template: str or dict or plotly.graph_objects.layout.Template instance\n",
      "            The figure template name (must be a key in plotly.io.templates) or\n",
      "            definition.\n",
      "        width: int (default `None`)\n",
      "            The figure width in pixels.\n",
      "        height: int (default `None`)\n",
      "            The figure height in pixels.\n",
      "        \n",
      "        Returns\n",
      "        -------\n",
      "            plotly.graph_objects.Figure\n",
      "    \n",
      "    line_mapbox(data_frame=None, lat=None, lon=None, color=None, text=None, hover_name=None, hover_data=None, custom_data=None, line_group=None, animation_frame=None, animation_group=None, category_orders={}, labels={}, color_discrete_sequence=None, color_discrete_map={}, zoom=8, center=None, mapbox_style=None, title=None, template=None, width=None, height=None)\n",
      "            In a Mapbox line plot, each row of `data_frame` is represented as\n",
      "            vertex of a polyline mark on a Mapbox map.\n",
      "            \n",
      "        Parameters\n",
      "        ----------\n",
      "        data_frame: DataFrame or array-like or dict\n",
      "            This argument needs to be passed for column names (and not keyword\n",
      "            names) to be used. Array-like and dict are tranformed internally to a\n",
      "            pandas DataFrame. Optional: if missing, a DataFrame gets constructed\n",
      "            under the hood using the other arguments.\n",
      "        lat: str or int or Series or array-like\n",
      "            Either a name of a column in `data_frame`, or a pandas Series or\n",
      "            array_like object. Values from this column or array_like are used to\n",
      "            position marks according to latitude on a map.\n",
      "        lon: str or int or Series or array-like\n",
      "            Either a name of a column in `data_frame`, or a pandas Series or\n",
      "            array_like object. Values from this column or array_like are used to\n",
      "            position marks according to longitude on a map.\n",
      "        color: str or int or Series or array-like\n",
      "            Either a name of a column in `data_frame`, or a pandas Series or\n",
      "            array_like object. Values from this column or array_like are used to\n",
      "            assign color to marks.\n",
      "        text: str or int or Series or array-like\n",
      "            Either a name of a column in `data_frame`, or a pandas Series or\n",
      "            array_like object. Values from this column or array_like appear in the\n",
      "            figure as text labels.\n",
      "        hover_name: str or int or Series or array-like\n",
      "            Either a name of a column in `data_frame`, or a pandas Series or\n",
      "            array_like object. Values from this column or array_like appear in bold\n",
      "            in the hover tooltip.\n",
      "        hover_data: list of str or int, or Series or array-like\n",
      "            Either names of columns in `data_frame`, or pandas Series, or\n",
      "            array_like objects Values from these columns appear as extra data in\n",
      "            the hover tooltip.\n",
      "        custom_data: list of str or int, or Series or array-like\n",
      "            Either names of columns in `data_frame`, or pandas Series, or\n",
      "            array_like objects Values from these columns are extra data, to be used\n",
      "            in widgets or Dash callbacks for example. This data is not user-visible\n",
      "            but is included in events emitted by the figure (lasso selection etc.)\n",
      "        line_group: str or int or Series or array-like\n",
      "            Either a name of a column in `data_frame`, or a pandas Series or\n",
      "            array_like object. Values from this column or array_like are used to\n",
      "            group rows of `data_frame` into lines.\n",
      "        animation_frame: str or int or Series or array-like\n",
      "            Either a name of a column in `data_frame`, or a pandas Series or\n",
      "            array_like object. Values from this column or array_like are used to\n",
      "            assign marks to animation frames.\n",
      "        animation_group: str or int or Series or array-like\n",
      "            Either a name of a column in `data_frame`, or a pandas Series or\n",
      "            array_like object. Values from this column or array_like are used to\n",
      "            provide object-constancy across animation frames: rows with matching\n",
      "            `animation_group`s will be treated as if they describe the same object\n",
      "            in each frame.\n",
      "        category_orders: dict with str keys and list of str values (default `{}`)\n",
      "            By default, in Python 3.6+, the order of categorical values in axes,\n",
      "            legends and facets depends on the order in which these values are first\n",
      "            encountered in `data_frame` (and no order is guaranteed by default in\n",
      "            Python below 3.6). This parameter is used to force a specific ordering\n",
      "            of values per column. The keys of this dict should correspond to column\n",
      "            names, and the values should be lists of strings corresponding to the\n",
      "            specific display order desired.\n",
      "        labels: dict with str keys and str values (default `{}`)\n",
      "            By default, column names are used in the figure for axis titles, legend\n",
      "            entries and hovers. This parameter allows this to be overridden. The\n",
      "            keys of this dict should correspond to column names, and the values\n",
      "            should correspond to the desired label to be displayed.\n",
      "        color_discrete_sequence: list of str\n",
      "            Strings should define valid CSS-colors. When `color` is set and the\n",
      "            values in the corresponding column are not numeric, values in that\n",
      "            column are assigned colors by cycling through `color_discrete_sequence`\n",
      "            in the order described in `category_orders`, unless the value of\n",
      "            `color` is a key in `color_discrete_map`. Various useful color\n",
      "            sequences are available in the `plotly.express.colors` submodules,\n",
      "            specifically `plotly.express.colors.qualitative`.\n",
      "        color_discrete_map: dict with str keys and str values (default `{}`)\n",
      "            String values should define valid CSS-colors Used to override\n",
      "            `color_discrete_sequence` to assign a specific colors to marks\n",
      "            corresponding with specific values. Keys in `color_discrete_map` should\n",
      "            be values in the column denoted by `color`.\n",
      "        zoom: int (default `8`)\n",
      "            Between 0 and 20. Sets map zoom level.\n",
      "        center: dict\n",
      "            Dict keys are `'lat'` and `'lon'` Sets the center point of the map.\n",
      "        mapbox_style: str (default `'basic'`, needs Mapbox API token)\n",
      "            Identifier of base map style, some of which require a Mapbox API token\n",
      "            to be set using `plotly.express.set_mapbox_access_token()`. Allowed\n",
      "            values which do not require a Mapbox API token are `'open-street-map'`,\n",
      "            `'white-bg'`, `'carto-positron'`, `'carto-darkmatter'`, `'stamen-\n",
      "            terrain'`, `'stamen-toner'`, `'stamen-watercolor'`. Allowed values\n",
      "            which do require a Mapbox API token are `'basic'`, `'streets'`,\n",
      "            `'outdoors'`, `'light'`, `'dark'`, `'satellite'`, `'satellite-\n",
      "            streets'`.\n",
      "        title: str\n",
      "            The figure title.\n",
      "        template: str or dict or plotly.graph_objects.layout.Template instance\n",
      "            The figure template name (must be a key in plotly.io.templates) or\n",
      "            definition.\n",
      "        width: int (default `None`)\n",
      "            The figure width in pixels.\n",
      "        height: int (default `None`)\n",
      "            The figure height in pixels.\n",
      "        \n",
      "        Returns\n",
      "        -------\n",
      "            plotly.graph_objects.Figure\n",
      "    \n",
      "    line_polar(data_frame=None, r=None, theta=None, color=None, line_dash=None, hover_name=None, hover_data=None, custom_data=None, line_group=None, text=None, animation_frame=None, animation_group=None, category_orders={}, labels={}, color_discrete_sequence=None, color_discrete_map={}, line_dash_sequence=None, line_dash_map={}, direction='clockwise', start_angle=90, line_close=False, line_shape=None, render_mode='auto', range_r=None, range_theta=None, log_r=False, title=None, template=None, width=None, height=None)\n",
      "            In a polar line plot, each row of `data_frame` is represented as vertex\n",
      "            of a polyline mark in polar coordinates.\n",
      "            \n",
      "        Parameters\n",
      "        ----------\n",
      "        data_frame: DataFrame or array-like or dict\n",
      "            This argument needs to be passed for column names (and not keyword\n",
      "            names) to be used. Array-like and dict are tranformed internally to a\n",
      "            pandas DataFrame. Optional: if missing, a DataFrame gets constructed\n",
      "            under the hood using the other arguments.\n",
      "        r: str or int or Series or array-like\n",
      "            Either a name of a column in `data_frame`, or a pandas Series or\n",
      "            array_like object. Values from this column or array_like are used to\n",
      "            position marks along the radial axis in polar coordinates.\n",
      "        theta: str or int or Series or array-like\n",
      "            Either a name of a column in `data_frame`, or a pandas Series or\n",
      "            array_like object. Values from this column or array_like are used to\n",
      "            position marks along the angular axis in polar coordinates.\n",
      "        color: str or int or Series or array-like\n",
      "            Either a name of a column in `data_frame`, or a pandas Series or\n",
      "            array_like object. Values from this column or array_like are used to\n",
      "            assign color to marks.\n",
      "        line_dash: str or int or Series or array-like\n",
      "            Either a name of a column in `data_frame`, or a pandas Series or\n",
      "            array_like object. Values from this column or array_like are used to\n",
      "            assign dash-patterns to lines.\n",
      "        hover_name: str or int or Series or array-like\n",
      "            Either a name of a column in `data_frame`, or a pandas Series or\n",
      "            array_like object. Values from this column or array_like appear in bold\n",
      "            in the hover tooltip.\n",
      "        hover_data: list of str or int, or Series or array-like\n",
      "            Either names of columns in `data_frame`, or pandas Series, or\n",
      "            array_like objects Values from these columns appear as extra data in\n",
      "            the hover tooltip.\n",
      "        custom_data: list of str or int, or Series or array-like\n",
      "            Either names of columns in `data_frame`, or pandas Series, or\n",
      "            array_like objects Values from these columns are extra data, to be used\n",
      "            in widgets or Dash callbacks for example. This data is not user-visible\n",
      "            but is included in events emitted by the figure (lasso selection etc.)\n",
      "        line_group: str or int or Series or array-like\n",
      "            Either a name of a column in `data_frame`, or a pandas Series or\n",
      "            array_like object. Values from this column or array_like are used to\n",
      "            group rows of `data_frame` into lines.\n",
      "        text: str or int or Series or array-like\n",
      "            Either a name of a column in `data_frame`, or a pandas Series or\n",
      "            array_like object. Values from this column or array_like appear in the\n",
      "            figure as text labels.\n",
      "        animation_frame: str or int or Series or array-like\n",
      "            Either a name of a column in `data_frame`, or a pandas Series or\n",
      "            array_like object. Values from this column or array_like are used to\n",
      "            assign marks to animation frames.\n",
      "        animation_group: str or int or Series or array-like\n",
      "            Either a name of a column in `data_frame`, or a pandas Series or\n",
      "            array_like object. Values from this column or array_like are used to\n",
      "            provide object-constancy across animation frames: rows with matching\n",
      "            `animation_group`s will be treated as if they describe the same object\n",
      "            in each frame.\n",
      "        category_orders: dict with str keys and list of str values (default `{}`)\n",
      "            By default, in Python 3.6+, the order of categorical values in axes,\n",
      "            legends and facets depends on the order in which these values are first\n",
      "            encountered in `data_frame` (and no order is guaranteed by default in\n",
      "            Python below 3.6). This parameter is used to force a specific ordering\n",
      "            of values per column. The keys of this dict should correspond to column\n",
      "            names, and the values should be lists of strings corresponding to the\n",
      "            specific display order desired.\n",
      "        labels: dict with str keys and str values (default `{}`)\n",
      "            By default, column names are used in the figure for axis titles, legend\n",
      "            entries and hovers. This parameter allows this to be overridden. The\n",
      "            keys of this dict should correspond to column names, and the values\n",
      "            should correspond to the desired label to be displayed.\n",
      "        color_discrete_sequence: list of str\n",
      "            Strings should define valid CSS-colors. When `color` is set and the\n",
      "            values in the corresponding column are not numeric, values in that\n",
      "            column are assigned colors by cycling through `color_discrete_sequence`\n",
      "            in the order described in `category_orders`, unless the value of\n",
      "            `color` is a key in `color_discrete_map`. Various useful color\n",
      "            sequences are available in the `plotly.express.colors` submodules,\n",
      "            specifically `plotly.express.colors.qualitative`.\n",
      "        color_discrete_map: dict with str keys and str values (default `{}`)\n",
      "            String values should define valid CSS-colors Used to override\n",
      "            `color_discrete_sequence` to assign a specific colors to marks\n",
      "            corresponding with specific values. Keys in `color_discrete_map` should\n",
      "            be values in the column denoted by `color`.\n",
      "        line_dash_sequence: list of str\n",
      "            Strings should define valid plotly.js dash-patterns. When `line_dash`\n",
      "            is set, values in that column are assigned dash-patterns by cycling\n",
      "            through `line_dash_sequence` in the order described in\n",
      "            `category_orders`, unless the value of `line_dash` is a key in\n",
      "            `line_dash_map`.\n",
      "        line_dash_map: dict with str keys and str values (default `{}`)\n",
      "            Strings values define plotly.js dash-patterns. Used to override\n",
      "            `line_dash_sequences` to assign a specific dash-patterns to lines\n",
      "            corresponding with specific values. Keys in `line_dash_map` should be\n",
      "            values in the column denoted by `line_dash`.\n",
      "        direction: str\n",
      "            One of '`counterclockwise'` or `'clockwise'`. Default is `'clockwise'`\n",
      "            Sets the direction in which increasing values of the angular axis are\n",
      "            drawn.\n",
      "        start_angle: int (default `90`)\n",
      "            Sets start angle for the angular axis, with 0 being due east and 90\n",
      "            being due north.\n",
      "        line_close: boolean (default `False`)\n",
      "            If `True`, an extra line segment is drawn between the first and last\n",
      "            point.\n",
      "        line_shape: str (default `'linear'`)\n",
      "            One of `'linear'` or `'spline'`.\n",
      "        render_mode: str\n",
      "            One of `'auto'`, `'svg'` or `'webgl'`, default `'auto'` Controls the\n",
      "            browser API used to draw marks. `'svg`' is appropriate for figures of\n",
      "            less than 1000 data points, and will allow for fully-vectorized output.\n",
      "            `'webgl'` is likely necessary for acceptable performance above 1000\n",
      "            points but rasterizes part of the output.  `'auto'` uses heuristics to\n",
      "            choose the mode.\n",
      "        range_r: list of two numbers\n",
      "            If provided, overrides auto-scaling on the radial axis in polar\n",
      "            coordinates.\n",
      "        range_theta: list of two numbers\n",
      "            If provided, overrides auto-scaling on the angular axis in polar\n",
      "            coordinates.\n",
      "        log_r: boolean (default `False`)\n",
      "            If `True`, the radial axis is log-scaled in polar coordinates.\n",
      "        title: str\n",
      "            The figure title.\n",
      "        template: str or dict or plotly.graph_objects.layout.Template instance\n",
      "            The figure template name (must be a key in plotly.io.templates) or\n",
      "            definition.\n",
      "        width: int (default `None`)\n",
      "            The figure width in pixels.\n",
      "        height: int (default `None`)\n",
      "            The figure height in pixels.\n",
      "        \n",
      "        Returns\n",
      "        -------\n",
      "            plotly.graph_objects.Figure\n",
      "    \n",
      "    line_ternary(data_frame=None, a=None, b=None, c=None, color=None, line_dash=None, line_group=None, hover_name=None, hover_data=None, custom_data=None, text=None, animation_frame=None, animation_group=None, category_orders={}, labels={}, color_discrete_sequence=None, color_discrete_map={}, line_dash_sequence=None, line_dash_map={}, line_shape=None, title=None, template=None, width=None, height=None)\n",
      "            In a ternary line plot, each row of `data_frame` is represented as\n",
      "            vertex of a polyline mark in ternary coordinates.\n",
      "            \n",
      "        Parameters\n",
      "        ----------\n",
      "        data_frame: DataFrame or array-like or dict\n",
      "            This argument needs to be passed for column names (and not keyword\n",
      "            names) to be used. Array-like and dict are tranformed internally to a\n",
      "            pandas DataFrame. Optional: if missing, a DataFrame gets constructed\n",
      "            under the hood using the other arguments.\n",
      "        a: str or int or Series or array-like\n",
      "            Either a name of a column in `data_frame`, or a pandas Series or\n",
      "            array_like object. Values from this column or array_like are used to\n",
      "            position marks along the a axis in ternary coordinates.\n",
      "        b: str or int or Series or array-like\n",
      "            Either a name of a column in `data_frame`, or a pandas Series or\n",
      "            array_like object. Values from this column or array_like are used to\n",
      "            position marks along the b axis in ternary coordinates.\n",
      "        c: str or int or Series or array-like\n",
      "            Either a name of a column in `data_frame`, or a pandas Series or\n",
      "            array_like object. Values from this column or array_like are used to\n",
      "            position marks along the c axis in ternary coordinates.\n",
      "        color: str or int or Series or array-like\n",
      "            Either a name of a column in `data_frame`, or a pandas Series or\n",
      "            array_like object. Values from this column or array_like are used to\n",
      "            assign color to marks.\n",
      "        line_dash: str or int or Series or array-like\n",
      "            Either a name of a column in `data_frame`, or a pandas Series or\n",
      "            array_like object. Values from this column or array_like are used to\n",
      "            assign dash-patterns to lines.\n",
      "        line_group: str or int or Series or array-like\n",
      "            Either a name of a column in `data_frame`, or a pandas Series or\n",
      "            array_like object. Values from this column or array_like are used to\n",
      "            group rows of `data_frame` into lines.\n",
      "        hover_name: str or int or Series or array-like\n",
      "            Either a name of a column in `data_frame`, or a pandas Series or\n",
      "            array_like object. Values from this column or array_like appear in bold\n",
      "            in the hover tooltip.\n",
      "        hover_data: list of str or int, or Series or array-like\n",
      "            Either names of columns in `data_frame`, or pandas Series, or\n",
      "            array_like objects Values from these columns appear as extra data in\n",
      "            the hover tooltip.\n",
      "        custom_data: list of str or int, or Series or array-like\n",
      "            Either names of columns in `data_frame`, or pandas Series, or\n",
      "            array_like objects Values from these columns are extra data, to be used\n",
      "            in widgets or Dash callbacks for example. This data is not user-visible\n",
      "            but is included in events emitted by the figure (lasso selection etc.)\n",
      "        text: str or int or Series or array-like\n",
      "            Either a name of a column in `data_frame`, or a pandas Series or\n",
      "            array_like object. Values from this column or array_like appear in the\n",
      "            figure as text labels.\n",
      "        animation_frame: str or int or Series or array-like\n",
      "            Either a name of a column in `data_frame`, or a pandas Series or\n",
      "            array_like object. Values from this column or array_like are used to\n",
      "            assign marks to animation frames.\n",
      "        animation_group: str or int or Series or array-like\n",
      "            Either a name of a column in `data_frame`, or a pandas Series or\n",
      "            array_like object. Values from this column or array_like are used to\n",
      "            provide object-constancy across animation frames: rows with matching\n",
      "            `animation_group`s will be treated as if they describe the same object\n",
      "            in each frame.\n",
      "        category_orders: dict with str keys and list of str values (default `{}`)\n",
      "            By default, in Python 3.6+, the order of categorical values in axes,\n",
      "            legends and facets depends on the order in which these values are first\n",
      "            encountered in `data_frame` (and no order is guaranteed by default in\n",
      "            Python below 3.6). This parameter is used to force a specific ordering\n",
      "            of values per column. The keys of this dict should correspond to column\n",
      "            names, and the values should be lists of strings corresponding to the\n",
      "            specific display order desired.\n",
      "        labels: dict with str keys and str values (default `{}`)\n",
      "            By default, column names are used in the figure for axis titles, legend\n",
      "            entries and hovers. This parameter allows this to be overridden. The\n",
      "            keys of this dict should correspond to column names, and the values\n",
      "            should correspond to the desired label to be displayed.\n",
      "        color_discrete_sequence: list of str\n",
      "            Strings should define valid CSS-colors. When `color` is set and the\n",
      "            values in the corresponding column are not numeric, values in that\n",
      "            column are assigned colors by cycling through `color_discrete_sequence`\n",
      "            in the order described in `category_orders`, unless the value of\n",
      "            `color` is a key in `color_discrete_map`. Various useful color\n",
      "            sequences are available in the `plotly.express.colors` submodules,\n",
      "            specifically `plotly.express.colors.qualitative`.\n",
      "        color_discrete_map: dict with str keys and str values (default `{}`)\n",
      "            String values should define valid CSS-colors Used to override\n",
      "            `color_discrete_sequence` to assign a specific colors to marks\n",
      "            corresponding with specific values. Keys in `color_discrete_map` should\n",
      "            be values in the column denoted by `color`.\n",
      "        line_dash_sequence: list of str\n",
      "            Strings should define valid plotly.js dash-patterns. When `line_dash`\n",
      "            is set, values in that column are assigned dash-patterns by cycling\n",
      "            through `line_dash_sequence` in the order described in\n",
      "            `category_orders`, unless the value of `line_dash` is a key in\n",
      "            `line_dash_map`.\n",
      "        line_dash_map: dict with str keys and str values (default `{}`)\n",
      "            Strings values define plotly.js dash-patterns. Used to override\n",
      "            `line_dash_sequences` to assign a specific dash-patterns to lines\n",
      "            corresponding with specific values. Keys in `line_dash_map` should be\n",
      "            values in the column denoted by `line_dash`.\n",
      "        line_shape: str (default `'linear'`)\n",
      "            One of `'linear'` or `'spline'`.\n",
      "        title: str\n",
      "            The figure title.\n",
      "        template: str or dict or plotly.graph_objects.layout.Template instance\n",
      "            The figure template name (must be a key in plotly.io.templates) or\n",
      "            definition.\n",
      "        width: int (default `None`)\n",
      "            The figure width in pixels.\n",
      "        height: int (default `None`)\n",
      "            The figure height in pixels.\n",
      "        \n",
      "        Returns\n",
      "        -------\n",
      "            plotly.graph_objects.Figure\n",
      "    \n",
      "    parallel_categories(data_frame=None, dimensions=None, color=None, labels={}, color_continuous_scale=None, range_color=None, color_continuous_midpoint=None, title=None, template=None, width=None, height=None, dimensions_max_cardinality=50)\n",
      "            In a parallel categories (or parallel sets) plot, each row of\n",
      "            `data_frame` is grouped with other rows that share the same values of\n",
      "            `dimensions` and then plotted as a polyline mark through a set of\n",
      "            parallel axes, one for each of the `dimensions`.\n",
      "            \n",
      "        Parameters\n",
      "        ----------\n",
      "        data_frame: DataFrame or array-like or dict\n",
      "            This argument needs to be passed for column names (and not keyword\n",
      "            names) to be used. Array-like and dict are tranformed internally to a\n",
      "            pandas DataFrame. Optional: if missing, a DataFrame gets constructed\n",
      "            under the hood using the other arguments.\n",
      "        dimensions: list of str or int, or Series or array-like\n",
      "            Either names of columns in `data_frame`, or pandas Series, or\n",
      "            array_like objects Values from these columns are used for\n",
      "            multidimensional visualization.\n",
      "        color: str or int or Series or array-like\n",
      "            Either a name of a column in `data_frame`, or a pandas Series or\n",
      "            array_like object. Values from this column or array_like are used to\n",
      "            assign color to marks.\n",
      "        labels: dict with str keys and str values (default `{}`)\n",
      "            By default, column names are used in the figure for axis titles, legend\n",
      "            entries and hovers. This parameter allows this to be overridden. The\n",
      "            keys of this dict should correspond to column names, and the values\n",
      "            should correspond to the desired label to be displayed.\n",
      "        color_continuous_scale: list of str\n",
      "            Strings should define valid CSS-colors This list is used to build a\n",
      "            continuous color scale when the column denoted by `color` contains\n",
      "            numeric data. Various useful color scales are available in the\n",
      "            `plotly.express.colors` submodules, specifically\n",
      "            `plotly.express.colors.sequential`, `plotly.express.colors.diverging`\n",
      "            and `plotly.express.colors.cyclical`.\n",
      "        range_color: list of two numbers\n",
      "            If provided, overrides auto-scaling on the continuous color scale.\n",
      "        color_continuous_midpoint: number (default `None`)\n",
      "            If set, computes the bounds of the continuous color scale to have the\n",
      "            desired midpoint. Setting this value is recommended when using\n",
      "            `plotly.express.colors.diverging` color scales as the inputs to\n",
      "            `color_continuous_scale`.\n",
      "        title: str\n",
      "            The figure title.\n",
      "        template: str or dict or plotly.graph_objects.layout.Template instance\n",
      "            The figure template name (must be a key in plotly.io.templates) or\n",
      "            definition.\n",
      "        width: int (default `None`)\n",
      "            The figure width in pixels.\n",
      "        height: int (default `None`)\n",
      "            The figure height in pixels.\n",
      "        dimensions_max_cardinality: int (default 50)\n",
      "            When `dimensions` is `None` and `data_frame` is provided, columns with\n",
      "            more than this number of unique values are excluded from the output.\n",
      "            Not used when `dimensions` is passed.\n",
      "        \n",
      "        Returns\n",
      "        -------\n",
      "            plotly.graph_objects.Figure\n",
      "    \n",
      "    parallel_coordinates(data_frame=None, dimensions=None, color=None, labels={}, color_continuous_scale=None, range_color=None, color_continuous_midpoint=None, title=None, template=None, width=None, height=None)\n",
      "            In a parallel coordinates plot, each row of `data_frame` is represented\n",
      "            by a polyline mark which traverses a set of parallel axes, one for each\n",
      "            of the `dimensions`.\n",
      "            \n",
      "        Parameters\n",
      "        ----------\n",
      "        data_frame: DataFrame or array-like or dict\n",
      "            This argument needs to be passed for column names (and not keyword\n",
      "            names) to be used. Array-like and dict are tranformed internally to a\n",
      "            pandas DataFrame. Optional: if missing, a DataFrame gets constructed\n",
      "            under the hood using the other arguments.\n",
      "        dimensions: list of str or int, or Series or array-like\n",
      "            Either names of columns in `data_frame`, or pandas Series, or\n",
      "            array_like objects Values from these columns are used for\n",
      "            multidimensional visualization.\n",
      "        color: str or int or Series or array-like\n",
      "            Either a name of a column in `data_frame`, or a pandas Series or\n",
      "            array_like object. Values from this column or array_like are used to\n",
      "            assign color to marks.\n",
      "        labels: dict with str keys and str values (default `{}`)\n",
      "            By default, column names are used in the figure for axis titles, legend\n",
      "            entries and hovers. This parameter allows this to be overridden. The\n",
      "            keys of this dict should correspond to column names, and the values\n",
      "            should correspond to the desired label to be displayed.\n",
      "        color_continuous_scale: list of str\n",
      "            Strings should define valid CSS-colors This list is used to build a\n",
      "            continuous color scale when the column denoted by `color` contains\n",
      "            numeric data. Various useful color scales are available in the\n",
      "            `plotly.express.colors` submodules, specifically\n",
      "            `plotly.express.colors.sequential`, `plotly.express.colors.diverging`\n",
      "            and `plotly.express.colors.cyclical`.\n",
      "        range_color: list of two numbers\n",
      "            If provided, overrides auto-scaling on the continuous color scale.\n",
      "        color_continuous_midpoint: number (default `None`)\n",
      "            If set, computes the bounds of the continuous color scale to have the\n",
      "            desired midpoint. Setting this value is recommended when using\n",
      "            `plotly.express.colors.diverging` color scales as the inputs to\n",
      "            `color_continuous_scale`.\n",
      "        title: str\n",
      "            The figure title.\n",
      "        template: str or dict or plotly.graph_objects.layout.Template instance\n",
      "            The figure template name (must be a key in plotly.io.templates) or\n",
      "            definition.\n",
      "        width: int (default `None`)\n",
      "            The figure width in pixels.\n",
      "        height: int (default `None`)\n",
      "            The figure height in pixels.\n",
      "        \n",
      "        Returns\n",
      "        -------\n",
      "            plotly.graph_objects.Figure\n",
      "    \n",
      "    pie(data_frame=None, names=None, values=None, color=None, color_discrete_sequence=None, color_discrete_map={}, hover_name=None, hover_data=None, custom_data=None, labels={}, title=None, template=None, width=None, height=None, opacity=None, hole=None)\n",
      "            In a pie plot, each row of `data_frame` is represented as a sector of a\n",
      "            pie.\n",
      "            \n",
      "        Parameters\n",
      "        ----------\n",
      "        data_frame: DataFrame or array-like or dict\n",
      "            This argument needs to be passed for column names (and not keyword\n",
      "            names) to be used. Array-like and dict are tranformed internally to a\n",
      "            pandas DataFrame. Optional: if missing, a DataFrame gets constructed\n",
      "            under the hood using the other arguments.\n",
      "        names: str or int or Series or array-like\n",
      "            Either a name of a column in `data_frame`, or a pandas Series or\n",
      "            array_like object. Values from this column or array_like are used as\n",
      "            labels for sectors.\n",
      "        values: str or int or Series or array-like\n",
      "            Either a name of a column in `data_frame`, or a pandas Series or\n",
      "            array_like object. Values from this column or array_like are used to\n",
      "            set values associated to sectors.\n",
      "        color: str or int or Series or array-like\n",
      "            Either a name of a column in `data_frame`, or a pandas Series or\n",
      "            array_like object. Values from this column or array_like are used to\n",
      "            assign color to marks.\n",
      "        color_discrete_sequence: list of str\n",
      "            Strings should define valid CSS-colors. When `color` is set and the\n",
      "            values in the corresponding column are not numeric, values in that\n",
      "            column are assigned colors by cycling through `color_discrete_sequence`\n",
      "            in the order described in `category_orders`, unless the value of\n",
      "            `color` is a key in `color_discrete_map`. Various useful color\n",
      "            sequences are available in the `plotly.express.colors` submodules,\n",
      "            specifically `plotly.express.colors.qualitative`.\n",
      "        color_discrete_map: dict with str keys and str values (default `{}`)\n",
      "            String values should define valid CSS-colors Used to override\n",
      "            `color_discrete_sequence` to assign a specific colors to marks\n",
      "            corresponding with specific values. Keys in `color_discrete_map` should\n",
      "            be values in the column denoted by `color`.\n",
      "        hover_name: str or int or Series or array-like\n",
      "            Either a name of a column in `data_frame`, or a pandas Series or\n",
      "            array_like object. Values from this column or array_like appear in bold\n",
      "            in the hover tooltip.\n",
      "        hover_data: list of str or int, or Series or array-like\n",
      "            Either names of columns in `data_frame`, or pandas Series, or\n",
      "            array_like objects Values from these columns appear as extra data in\n",
      "            the hover tooltip.\n",
      "        custom_data: list of str or int, or Series or array-like\n",
      "            Either names of columns in `data_frame`, or pandas Series, or\n",
      "            array_like objects Values from these columns are extra data, to be used\n",
      "            in widgets or Dash callbacks for example. This data is not user-visible\n",
      "            but is included in events emitted by the figure (lasso selection etc.)\n",
      "        labels: dict with str keys and str values (default `{}`)\n",
      "            By default, column names are used in the figure for axis titles, legend\n",
      "            entries and hovers. This parameter allows this to be overridden. The\n",
      "            keys of this dict should correspond to column names, and the values\n",
      "            should correspond to the desired label to be displayed.\n",
      "        title: str\n",
      "            The figure title.\n",
      "        template: str or dict or plotly.graph_objects.layout.Template instance\n",
      "            The figure template name (must be a key in plotly.io.templates) or\n",
      "            definition.\n",
      "        width: int (default `None`)\n",
      "            The figure width in pixels.\n",
      "        height: int (default `None`)\n",
      "            The figure height in pixels.\n",
      "        opacity: float\n",
      "            Value between 0 and 1. Sets the opacity for markers.\n",
      "        hole: float\n",
      "        (documentation missing from map)\n",
      "        \n",
      "        Returns\n",
      "        -------\n",
      "            plotly.graph_objects.Figure\n",
      "    \n",
      "    scatter(data_frame=None, x=None, y=None, color=None, symbol=None, size=None, hover_name=None, hover_data=None, custom_data=None, text=None, facet_row=None, facet_col=None, facet_col_wrap=0, error_x=None, error_x_minus=None, error_y=None, error_y_minus=None, animation_frame=None, animation_group=None, category_orders={}, labels={}, color_discrete_sequence=None, color_discrete_map={}, color_continuous_scale=None, range_color=None, color_continuous_midpoint=None, symbol_sequence=None, symbol_map={}, opacity=None, size_max=None, marginal_x=None, marginal_y=None, trendline=None, trendline_color_override=None, log_x=False, log_y=False, range_x=None, range_y=None, render_mode='auto', title=None, template=None, width=None, height=None)\n",
      "            In a scatter plot, each row of `data_frame` is represented by a symbol\n",
      "            mark in 2D space.\n",
      "            \n",
      "        Parameters\n",
      "        ----------\n",
      "        data_frame: DataFrame or array-like or dict\n",
      "            This argument needs to be passed for column names (and not keyword\n",
      "            names) to be used. Array-like and dict are tranformed internally to a\n",
      "            pandas DataFrame. Optional: if missing, a DataFrame gets constructed\n",
      "            under the hood using the other arguments.\n",
      "        x: str or int or Series or array-like\n",
      "            Either a name of a column in `data_frame`, or a pandas Series or\n",
      "            array_like object. Values from this column or array_like are used to\n",
      "            position marks along the x axis in cartesian coordinates. For\n",
      "            horizontal histograms, these values are used as inputs to `histfunc`.\n",
      "        y: str or int or Series or array-like\n",
      "            Either a name of a column in `data_frame`, or a pandas Series or\n",
      "            array_like object. Values from this column or array_like are used to\n",
      "            position marks along the y axis in cartesian coordinates. For vertical\n",
      "            histograms, these values are used as inputs to `histfunc`.\n",
      "        color: str or int or Series or array-like\n",
      "            Either a name of a column in `data_frame`, or a pandas Series or\n",
      "            array_like object. Values from this column or array_like are used to\n",
      "            assign color to marks.\n",
      "        symbol: str or int or Series or array-like\n",
      "            Either a name of a column in `data_frame`, or a pandas Series or\n",
      "            array_like object. Values from this column or array_like are used to\n",
      "            assign symbols to marks.\n",
      "        size: str or int or Series or array-like\n",
      "            Either a name of a column in `data_frame`, or a pandas Series or\n",
      "            array_like object. Values from this column or array_like are used to\n",
      "            assign mark sizes.\n",
      "        hover_name: str or int or Series or array-like\n",
      "            Either a name of a column in `data_frame`, or a pandas Series or\n",
      "            array_like object. Values from this column or array_like appear in bold\n",
      "            in the hover tooltip.\n",
      "        hover_data: list of str or int, or Series or array-like\n",
      "            Either names of columns in `data_frame`, or pandas Series, or\n",
      "            array_like objects Values from these columns appear as extra data in\n",
      "            the hover tooltip.\n",
      "        custom_data: list of str or int, or Series or array-like\n",
      "            Either names of columns in `data_frame`, or pandas Series, or\n",
      "            array_like objects Values from these columns are extra data, to be used\n",
      "            in widgets or Dash callbacks for example. This data is not user-visible\n",
      "            but is included in events emitted by the figure (lasso selection etc.)\n",
      "        text: str or int or Series or array-like\n",
      "            Either a name of a column in `data_frame`, or a pandas Series or\n",
      "            array_like object. Values from this column or array_like appear in the\n",
      "            figure as text labels.\n",
      "        facet_row: str or int or Series or array-like\n",
      "            Either a name of a column in `data_frame`, or a pandas Series or\n",
      "            array_like object. Values from this column or array_like are used to\n",
      "            assign marks to facetted subplots in the vertical direction.\n",
      "        facet_col: str or int or Series or array-like\n",
      "            Either a name of a column in `data_frame`, or a pandas Series or\n",
      "            array_like object. Values from this column or array_like are used to\n",
      "            assign marks to facetted subplots in the horizontal direction.\n",
      "        facet_col_wrap: int\n",
      "            Maximum number of facet columns. Wraps the column variable at this\n",
      "            width, so that the column facets span multiple rows. Ignored if 0, and\n",
      "            forced to 0 if `facet_row` or a `marginal` is set.\n",
      "        error_x: str or int or Series or array-like\n",
      "            Either a name of a column in `data_frame`, or a pandas Series or\n",
      "            array_like object. Values from this column or array_like are used to\n",
      "            size x-axis error bars. If `error_x_minus` is `None`, error bars will\n",
      "            be symmetrical, otherwise `error_x` is used for the positive direction\n",
      "            only.\n",
      "        error_x_minus: str or int or Series or array-like\n",
      "            Either a name of a column in `data_frame`, or a pandas Series or\n",
      "            array_like object. Values from this column or array_like are used to\n",
      "            size x-axis error bars in the negative direction. Ignored if `error_x`\n",
      "            is `None`.\n",
      "        error_y: str or int or Series or array-like\n",
      "            Either a name of a column in `data_frame`, or a pandas Series or\n",
      "            array_like object. Values from this column or array_like are used to\n",
      "            size y-axis error bars. If `error_y_minus` is `None`, error bars will\n",
      "            be symmetrical, otherwise `error_y` is used for the positive direction\n",
      "            only.\n",
      "        error_y_minus: str or int or Series or array-like\n",
      "            Either a name of a column in `data_frame`, or a pandas Series or\n",
      "            array_like object. Values from this column or array_like are used to\n",
      "            size y-axis error bars in the negative direction. Ignored if `error_y`\n",
      "            is `None`.\n",
      "        animation_frame: str or int or Series or array-like\n",
      "            Either a name of a column in `data_frame`, or a pandas Series or\n",
      "            array_like object. Values from this column or array_like are used to\n",
      "            assign marks to animation frames.\n",
      "        animation_group: str or int or Series or array-like\n",
      "            Either a name of a column in `data_frame`, or a pandas Series or\n",
      "            array_like object. Values from this column or array_like are used to\n",
      "            provide object-constancy across animation frames: rows with matching\n",
      "            `animation_group`s will be treated as if they describe the same object\n",
      "            in each frame.\n",
      "        category_orders: dict with str keys and list of str values (default `{}`)\n",
      "            By default, in Python 3.6+, the order of categorical values in axes,\n",
      "            legends and facets depends on the order in which these values are first\n",
      "            encountered in `data_frame` (and no order is guaranteed by default in\n",
      "            Python below 3.6). This parameter is used to force a specific ordering\n",
      "            of values per column. The keys of this dict should correspond to column\n",
      "            names, and the values should be lists of strings corresponding to the\n",
      "            specific display order desired.\n",
      "        labels: dict with str keys and str values (default `{}`)\n",
      "            By default, column names are used in the figure for axis titles, legend\n",
      "            entries and hovers. This parameter allows this to be overridden. The\n",
      "            keys of this dict should correspond to column names, and the values\n",
      "            should correspond to the desired label to be displayed.\n",
      "        color_discrete_sequence: list of str\n",
      "            Strings should define valid CSS-colors. When `color` is set and the\n",
      "            values in the corresponding column are not numeric, values in that\n",
      "            column are assigned colors by cycling through `color_discrete_sequence`\n",
      "            in the order described in `category_orders`, unless the value of\n",
      "            `color` is a key in `color_discrete_map`. Various useful color\n",
      "            sequences are available in the `plotly.express.colors` submodules,\n",
      "            specifically `plotly.express.colors.qualitative`.\n",
      "        color_discrete_map: dict with str keys and str values (default `{}`)\n",
      "            String values should define valid CSS-colors Used to override\n",
      "            `color_discrete_sequence` to assign a specific colors to marks\n",
      "            corresponding with specific values. Keys in `color_discrete_map` should\n",
      "            be values in the column denoted by `color`.\n",
      "        color_continuous_scale: list of str\n",
      "            Strings should define valid CSS-colors This list is used to build a\n",
      "            continuous color scale when the column denoted by `color` contains\n",
      "            numeric data. Various useful color scales are available in the\n",
      "            `plotly.express.colors` submodules, specifically\n",
      "            `plotly.express.colors.sequential`, `plotly.express.colors.diverging`\n",
      "            and `plotly.express.colors.cyclical`.\n",
      "        range_color: list of two numbers\n",
      "            If provided, overrides auto-scaling on the continuous color scale.\n",
      "        color_continuous_midpoint: number (default `None`)\n",
      "            If set, computes the bounds of the continuous color scale to have the\n",
      "            desired midpoint. Setting this value is recommended when using\n",
      "            `plotly.express.colors.diverging` color scales as the inputs to\n",
      "            `color_continuous_scale`.\n",
      "        symbol_sequence: list of str\n",
      "            Strings should define valid plotly.js symbols. When `symbol` is set,\n",
      "            values in that column are assigned symbols by cycling through\n",
      "            `symbol_sequence` in the order described in `category_orders`, unless\n",
      "            the value of `symbol` is a key in `symbol_map`.\n",
      "        symbol_map: dict with str keys and str values (default `{}`)\n",
      "            String values should define plotly.js symbols Used to override\n",
      "            `symbol_sequence` to assign a specific symbols to marks corresponding\n",
      "            with specific values. Keys in `symbol_map` should be values in the\n",
      "            column denoted by `symbol`.\n",
      "        opacity: float\n",
      "            Value between 0 and 1. Sets the opacity for markers.\n",
      "        size_max: int (default `20`)\n",
      "            Set the maximum mark size when using `size`.\n",
      "        marginal_x: str\n",
      "            One of `'rug'`, `'box'`, `'violin'`, or `'histogram'`. If set, a\n",
      "            horizontal subplot is drawn above the main plot, visualizing the\n",
      "            x-distribution.\n",
      "        marginal_y: str\n",
      "            One of `'rug'`, `'box'`, `'violin'`, or `'histogram'`. If set, a\n",
      "            vertical subplot is drawn to the right of the main plot, visualizing\n",
      "            the y-distribution.\n",
      "        trendline: str\n",
      "            One of `'ols'` or `'lowess'`. If `'ols'`, an Ordinary Least Squares\n",
      "            regression line will be drawn for each discrete-color/symbol group. If\n",
      "            `'lowess`', a Locally Weighted Scatterplot Smoothing line will be drawn\n",
      "            for each discrete-color/symbol group.\n",
      "        trendline_color_override: str\n",
      "            Valid CSS color. If provided, and if `trendline` is set, all trendlines\n",
      "            will be drawn in this color.\n",
      "        log_x: boolean (default `False`)\n",
      "            If `True`, the x-axis is log-scaled in cartesian coordinates.\n",
      "        log_y: boolean (default `False`)\n",
      "            If `True`, the y-axis is log-scaled in cartesian coordinates.\n",
      "        range_x: list of two numbers\n",
      "            If provided, overrides auto-scaling on the x-axis in cartesian\n",
      "            coordinates.\n",
      "        range_y: list of two numbers\n",
      "            If provided, overrides auto-scaling on the y-axis in cartesian\n",
      "            coordinates.\n",
      "        render_mode: str\n",
      "            One of `'auto'`, `'svg'` or `'webgl'`, default `'auto'` Controls the\n",
      "            browser API used to draw marks. `'svg`' is appropriate for figures of\n",
      "            less than 1000 data points, and will allow for fully-vectorized output.\n",
      "            `'webgl'` is likely necessary for acceptable performance above 1000\n",
      "            points but rasterizes part of the output.  `'auto'` uses heuristics to\n",
      "            choose the mode.\n",
      "        title: str\n",
      "            The figure title.\n",
      "        template: str or dict or plotly.graph_objects.layout.Template instance\n",
      "            The figure template name (must be a key in plotly.io.templates) or\n",
      "            definition.\n",
      "        width: int (default `None`)\n",
      "            The figure width in pixels.\n",
      "        height: int (default `None`)\n",
      "            The figure height in pixels.\n",
      "        \n",
      "        Returns\n",
      "        -------\n",
      "            plotly.graph_objects.Figure\n",
      "    \n",
      "    scatter_3d(data_frame=None, x=None, y=None, z=None, color=None, symbol=None, size=None, text=None, hover_name=None, hover_data=None, custom_data=None, error_x=None, error_x_minus=None, error_y=None, error_y_minus=None, error_z=None, error_z_minus=None, animation_frame=None, animation_group=None, category_orders={}, labels={}, size_max=None, color_discrete_sequence=None, color_discrete_map={}, color_continuous_scale=None, range_color=None, color_continuous_midpoint=None, symbol_sequence=None, symbol_map={}, opacity=None, log_x=False, log_y=False, log_z=False, range_x=None, range_y=None, range_z=None, title=None, template=None, width=None, height=None)\n",
      "            In a 3D scatter plot, each row of `data_frame` is represented by a\n",
      "            symbol mark in 3D space.\n",
      "            \n",
      "        Parameters\n",
      "        ----------\n",
      "        data_frame: DataFrame or array-like or dict\n",
      "            This argument needs to be passed for column names (and not keyword\n",
      "            names) to be used. Array-like and dict are tranformed internally to a\n",
      "            pandas DataFrame. Optional: if missing, a DataFrame gets constructed\n",
      "            under the hood using the other arguments.\n",
      "        x: str or int or Series or array-like\n",
      "            Either a name of a column in `data_frame`, or a pandas Series or\n",
      "            array_like object. Values from this column or array_like are used to\n",
      "            position marks along the x axis in cartesian coordinates. For\n",
      "            horizontal histograms, these values are used as inputs to `histfunc`.\n",
      "        y: str or int or Series or array-like\n",
      "            Either a name of a column in `data_frame`, or a pandas Series or\n",
      "            array_like object. Values from this column or array_like are used to\n",
      "            position marks along the y axis in cartesian coordinates. For vertical\n",
      "            histograms, these values are used as inputs to `histfunc`.\n",
      "        z: str or int or Series or array-like\n",
      "            Either a name of a column in `data_frame`, or a pandas Series or\n",
      "            array_like object. Values from this column or array_like are used to\n",
      "            position marks along the z axis in cartesian coordinates. For\n",
      "            `density_heatmap` and `density_contour` these values are used as the\n",
      "            inputs to `histfunc`.\n",
      "        color: str or int or Series or array-like\n",
      "            Either a name of a column in `data_frame`, or a pandas Series or\n",
      "            array_like object. Values from this column or array_like are used to\n",
      "            assign color to marks.\n",
      "        symbol: str or int or Series or array-like\n",
      "            Either a name of a column in `data_frame`, or a pandas Series or\n",
      "            array_like object. Values from this column or array_like are used to\n",
      "            assign symbols to marks.\n",
      "        size: str or int or Series or array-like\n",
      "            Either a name of a column in `data_frame`, or a pandas Series or\n",
      "            array_like object. Values from this column or array_like are used to\n",
      "            assign mark sizes.\n",
      "        text: str or int or Series or array-like\n",
      "            Either a name of a column in `data_frame`, or a pandas Series or\n",
      "            array_like object. Values from this column or array_like appear in the\n",
      "            figure as text labels.\n",
      "        hover_name: str or int or Series or array-like\n",
      "            Either a name of a column in `data_frame`, or a pandas Series or\n",
      "            array_like object. Values from this column or array_like appear in bold\n",
      "            in the hover tooltip.\n",
      "        hover_data: list of str or int, or Series or array-like\n",
      "            Either names of columns in `data_frame`, or pandas Series, or\n",
      "            array_like objects Values from these columns appear as extra data in\n",
      "            the hover tooltip.\n",
      "        custom_data: list of str or int, or Series or array-like\n",
      "            Either names of columns in `data_frame`, or pandas Series, or\n",
      "            array_like objects Values from these columns are extra data, to be used\n",
      "            in widgets or Dash callbacks for example. This data is not user-visible\n",
      "            but is included in events emitted by the figure (lasso selection etc.)\n",
      "        error_x: str or int or Series or array-like\n",
      "            Either a name of a column in `data_frame`, or a pandas Series or\n",
      "            array_like object. Values from this column or array_like are used to\n",
      "            size x-axis error bars. If `error_x_minus` is `None`, error bars will\n",
      "            be symmetrical, otherwise `error_x` is used for the positive direction\n",
      "            only.\n",
      "        error_x_minus: str or int or Series or array-like\n",
      "            Either a name of a column in `data_frame`, or a pandas Series or\n",
      "            array_like object. Values from this column or array_like are used to\n",
      "            size x-axis error bars in the negative direction. Ignored if `error_x`\n",
      "            is `None`.\n",
      "        error_y: str or int or Series or array-like\n",
      "            Either a name of a column in `data_frame`, or a pandas Series or\n",
      "            array_like object. Values from this column or array_like are used to\n",
      "            size y-axis error bars. If `error_y_minus` is `None`, error bars will\n",
      "            be symmetrical, otherwise `error_y` is used for the positive direction\n",
      "            only.\n",
      "        error_y_minus: str or int or Series or array-like\n",
      "            Either a name of a column in `data_frame`, or a pandas Series or\n",
      "            array_like object. Values from this column or array_like are used to\n",
      "            size y-axis error bars in the negative direction. Ignored if `error_y`\n",
      "            is `None`.\n",
      "        error_z: str or int or Series or array-like\n",
      "            Either a name of a column in `data_frame`, or a pandas Series or\n",
      "            array_like object. Values from this column or array_like are used to\n",
      "            size z-axis error bars. If `error_z_minus` is `None`, error bars will\n",
      "            be symmetrical, otherwise `error_z` is used for the positive direction\n",
      "            only.\n",
      "        error_z_minus: str or int or Series or array-like\n",
      "            Either a name of a column in `data_frame`, or a pandas Series or\n",
      "            array_like object. Values from this column or array_like are used to\n",
      "            size z-axis error bars in the negative direction. Ignored if `error_z`\n",
      "            is `None`.\n",
      "        animation_frame: str or int or Series or array-like\n",
      "            Either a name of a column in `data_frame`, or a pandas Series or\n",
      "            array_like object. Values from this column or array_like are used to\n",
      "            assign marks to animation frames.\n",
      "        animation_group: str or int or Series or array-like\n",
      "            Either a name of a column in `data_frame`, or a pandas Series or\n",
      "            array_like object. Values from this column or array_like are used to\n",
      "            provide object-constancy across animation frames: rows with matching\n",
      "            `animation_group`s will be treated as if they describe the same object\n",
      "            in each frame.\n",
      "        category_orders: dict with str keys and list of str values (default `{}`)\n",
      "            By default, in Python 3.6+, the order of categorical values in axes,\n",
      "            legends and facets depends on the order in which these values are first\n",
      "            encountered in `data_frame` (and no order is guaranteed by default in\n",
      "            Python below 3.6). This parameter is used to force a specific ordering\n",
      "            of values per column. The keys of this dict should correspond to column\n",
      "            names, and the values should be lists of strings corresponding to the\n",
      "            specific display order desired.\n",
      "        labels: dict with str keys and str values (default `{}`)\n",
      "            By default, column names are used in the figure for axis titles, legend\n",
      "            entries and hovers. This parameter allows this to be overridden. The\n",
      "            keys of this dict should correspond to column names, and the values\n",
      "            should correspond to the desired label to be displayed.\n",
      "        size_max: int (default `20`)\n",
      "            Set the maximum mark size when using `size`.\n",
      "        color_discrete_sequence: list of str\n",
      "            Strings should define valid CSS-colors. When `color` is set and the\n",
      "            values in the corresponding column are not numeric, values in that\n",
      "            column are assigned colors by cycling through `color_discrete_sequence`\n",
      "            in the order described in `category_orders`, unless the value of\n",
      "            `color` is a key in `color_discrete_map`. Various useful color\n",
      "            sequences are available in the `plotly.express.colors` submodules,\n",
      "            specifically `plotly.express.colors.qualitative`.\n",
      "        color_discrete_map: dict with str keys and str values (default `{}`)\n",
      "            String values should define valid CSS-colors Used to override\n",
      "            `color_discrete_sequence` to assign a specific colors to marks\n",
      "            corresponding with specific values. Keys in `color_discrete_map` should\n",
      "            be values in the column denoted by `color`.\n",
      "        color_continuous_scale: list of str\n",
      "            Strings should define valid CSS-colors This list is used to build a\n",
      "            continuous color scale when the column denoted by `color` contains\n",
      "            numeric data. Various useful color scales are available in the\n",
      "            `plotly.express.colors` submodules, specifically\n",
      "            `plotly.express.colors.sequential`, `plotly.express.colors.diverging`\n",
      "            and `plotly.express.colors.cyclical`.\n",
      "        range_color: list of two numbers\n",
      "            If provided, overrides auto-scaling on the continuous color scale.\n",
      "        color_continuous_midpoint: number (default `None`)\n",
      "            If set, computes the bounds of the continuous color scale to have the\n",
      "            desired midpoint. Setting this value is recommended when using\n",
      "            `plotly.express.colors.diverging` color scales as the inputs to\n",
      "            `color_continuous_scale`.\n",
      "        symbol_sequence: list of str\n",
      "            Strings should define valid plotly.js symbols. When `symbol` is set,\n",
      "            values in that column are assigned symbols by cycling through\n",
      "            `symbol_sequence` in the order described in `category_orders`, unless\n",
      "            the value of `symbol` is a key in `symbol_map`.\n",
      "        symbol_map: dict with str keys and str values (default `{}`)\n",
      "            String values should define plotly.js symbols Used to override\n",
      "            `symbol_sequence` to assign a specific symbols to marks corresponding\n",
      "            with specific values. Keys in `symbol_map` should be values in the\n",
      "            column denoted by `symbol`.\n",
      "        opacity: float\n",
      "            Value between 0 and 1. Sets the opacity for markers.\n",
      "        log_x: boolean (default `False`)\n",
      "            If `True`, the x-axis is log-scaled in cartesian coordinates.\n",
      "        log_y: boolean (default `False`)\n",
      "            If `True`, the y-axis is log-scaled in cartesian coordinates.\n",
      "        log_z: boolean (default `False`)\n",
      "            If `True`, the z-axis is log-scaled in cartesian coordinates.\n",
      "        range_x: list of two numbers\n",
      "            If provided, overrides auto-scaling on the x-axis in cartesian\n",
      "            coordinates.\n",
      "        range_y: list of two numbers\n",
      "            If provided, overrides auto-scaling on the y-axis in cartesian\n",
      "            coordinates.\n",
      "        range_z: list of two numbers\n",
      "            If provided, overrides auto-scaling on the z-axis in cartesian\n",
      "            coordinates.\n",
      "        title: str\n",
      "            The figure title.\n",
      "        template: str or dict or plotly.graph_objects.layout.Template instance\n",
      "            The figure template name (must be a key in plotly.io.templates) or\n",
      "            definition.\n",
      "        width: int (default `None`)\n",
      "            The figure width in pixels.\n",
      "        height: int (default `None`)\n",
      "            The figure height in pixels.\n",
      "        \n",
      "        Returns\n",
      "        -------\n",
      "            plotly.graph_objects.Figure\n",
      "    \n",
      "    scatter_geo(data_frame=None, lat=None, lon=None, locations=None, locationmode=None, color=None, text=None, hover_name=None, hover_data=None, custom_data=None, size=None, animation_frame=None, animation_group=None, category_orders={}, labels={}, color_discrete_sequence=None, color_discrete_map={}, color_continuous_scale=None, range_color=None, color_continuous_midpoint=None, opacity=None, size_max=None, projection=None, scope=None, center=None, title=None, template=None, width=None, height=None)\n",
      "            In a geographic scatter plot, each row of `data_frame` is represented\n",
      "            by a symbol mark on a map.\n",
      "            \n",
      "        Parameters\n",
      "        ----------\n",
      "        data_frame: DataFrame or array-like or dict\n",
      "            This argument needs to be passed for column names (and not keyword\n",
      "            names) to be used. Array-like and dict are tranformed internally to a\n",
      "            pandas DataFrame. Optional: if missing, a DataFrame gets constructed\n",
      "            under the hood using the other arguments.\n",
      "        lat: str or int or Series or array-like\n",
      "            Either a name of a column in `data_frame`, or a pandas Series or\n",
      "            array_like object. Values from this column or array_like are used to\n",
      "            position marks according to latitude on a map.\n",
      "        lon: str or int or Series or array-like\n",
      "            Either a name of a column in `data_frame`, or a pandas Series or\n",
      "            array_like object. Values from this column or array_like are used to\n",
      "            position marks according to longitude on a map.\n",
      "        locations: str or int or Series or array-like\n",
      "            Either a name of a column in `data_frame`, or a pandas Series or\n",
      "            array_like object. Values from this column or array_like are to be\n",
      "            interpreted according to `locationmode` and mapped to\n",
      "            longitude/latitude.\n",
      "        locationmode: str\n",
      "            One of 'ISO-3', 'USA-states', or 'country names' Determines the set of\n",
      "            locations used to match entries in `locations` to regions on the map.\n",
      "        color: str or int or Series or array-like\n",
      "            Either a name of a column in `data_frame`, or a pandas Series or\n",
      "            array_like object. Values from this column or array_like are used to\n",
      "            assign color to marks.\n",
      "        text: str or int or Series or array-like\n",
      "            Either a name of a column in `data_frame`, or a pandas Series or\n",
      "            array_like object. Values from this column or array_like appear in the\n",
      "            figure as text labels.\n",
      "        hover_name: str or int or Series or array-like\n",
      "            Either a name of a column in `data_frame`, or a pandas Series or\n",
      "            array_like object. Values from this column or array_like appear in bold\n",
      "            in the hover tooltip.\n",
      "        hover_data: list of str or int, or Series or array-like\n",
      "            Either names of columns in `data_frame`, or pandas Series, or\n",
      "            array_like objects Values from these columns appear as extra data in\n",
      "            the hover tooltip.\n",
      "        custom_data: list of str or int, or Series or array-like\n",
      "            Either names of columns in `data_frame`, or pandas Series, or\n",
      "            array_like objects Values from these columns are extra data, to be used\n",
      "            in widgets or Dash callbacks for example. This data is not user-visible\n",
      "            but is included in events emitted by the figure (lasso selection etc.)\n",
      "        size: str or int or Series or array-like\n",
      "            Either a name of a column in `data_frame`, or a pandas Series or\n",
      "            array_like object. Values from this column or array_like are used to\n",
      "            assign mark sizes.\n",
      "        animation_frame: str or int or Series or array-like\n",
      "            Either a name of a column in `data_frame`, or a pandas Series or\n",
      "            array_like object. Values from this column or array_like are used to\n",
      "            assign marks to animation frames.\n",
      "        animation_group: str or int or Series or array-like\n",
      "            Either a name of a column in `data_frame`, or a pandas Series or\n",
      "            array_like object. Values from this column or array_like are used to\n",
      "            provide object-constancy across animation frames: rows with matching\n",
      "            `animation_group`s will be treated as if they describe the same object\n",
      "            in each frame.\n",
      "        category_orders: dict with str keys and list of str values (default `{}`)\n",
      "            By default, in Python 3.6+, the order of categorical values in axes,\n",
      "            legends and facets depends on the order in which these values are first\n",
      "            encountered in `data_frame` (and no order is guaranteed by default in\n",
      "            Python below 3.6). This parameter is used to force a specific ordering\n",
      "            of values per column. The keys of this dict should correspond to column\n",
      "            names, and the values should be lists of strings corresponding to the\n",
      "            specific display order desired.\n",
      "        labels: dict with str keys and str values (default `{}`)\n",
      "            By default, column names are used in the figure for axis titles, legend\n",
      "            entries and hovers. This parameter allows this to be overridden. The\n",
      "            keys of this dict should correspond to column names, and the values\n",
      "            should correspond to the desired label to be displayed.\n",
      "        color_discrete_sequence: list of str\n",
      "            Strings should define valid CSS-colors. When `color` is set and the\n",
      "            values in the corresponding column are not numeric, values in that\n",
      "            column are assigned colors by cycling through `color_discrete_sequence`\n",
      "            in the order described in `category_orders`, unless the value of\n",
      "            `color` is a key in `color_discrete_map`. Various useful color\n",
      "            sequences are available in the `plotly.express.colors` submodules,\n",
      "            specifically `plotly.express.colors.qualitative`.\n",
      "        color_discrete_map: dict with str keys and str values (default `{}`)\n",
      "            String values should define valid CSS-colors Used to override\n",
      "            `color_discrete_sequence` to assign a specific colors to marks\n",
      "            corresponding with specific values. Keys in `color_discrete_map` should\n",
      "            be values in the column denoted by `color`.\n",
      "        color_continuous_scale: list of str\n",
      "            Strings should define valid CSS-colors This list is used to build a\n",
      "            continuous color scale when the column denoted by `color` contains\n",
      "            numeric data. Various useful color scales are available in the\n",
      "            `plotly.express.colors` submodules, specifically\n",
      "            `plotly.express.colors.sequential`, `plotly.express.colors.diverging`\n",
      "            and `plotly.express.colors.cyclical`.\n",
      "        range_color: list of two numbers\n",
      "            If provided, overrides auto-scaling on the continuous color scale.\n",
      "        color_continuous_midpoint: number (default `None`)\n",
      "            If set, computes the bounds of the continuous color scale to have the\n",
      "            desired midpoint. Setting this value is recommended when using\n",
      "            `plotly.express.colors.diverging` color scales as the inputs to\n",
      "            `color_continuous_scale`.\n",
      "        opacity: float\n",
      "            Value between 0 and 1. Sets the opacity for markers.\n",
      "        size_max: int (default `20`)\n",
      "            Set the maximum mark size when using `size`.\n",
      "        projection: str \n",
      "            One of `'equirectangular'`, `'mercator'`, `'orthographic'`, `'natural\n",
      "            earth'`, `'kavrayskiy7'`, `'miller'`, `'robinson'`, `'eckert4'`,\n",
      "            `'azimuthal equal area'`, `'azimuthal equidistant'`, `'conic equal\n",
      "            area'`, `'conic conformal'`, `'conic equidistant'`, `'gnomonic'`,\n",
      "            `'stereographic'`, `'mollweide'`, `'hammer'`, `'transverse mercator'`,\n",
      "            `'albers usa'`, `'winkel tripel'`, `'aitoff'`, or `'sinusoidal'`Default\n",
      "            depends on `scope`.\n",
      "        scope: str (default `'world'`).\n",
      "            One of `'world'`, `'usa'`, `'europe'`, `'asia'`, `'africa'`, `'north\n",
      "            america'`, or `'south america'`)Default is `'world'` unless\n",
      "            `projection` is set to `'albers usa'`, which forces `'usa'`.\n",
      "        center: dict\n",
      "            Dict keys are `'lat'` and `'lon'` Sets the center point of the map.\n",
      "        title: str\n",
      "            The figure title.\n",
      "        template: str or dict or plotly.graph_objects.layout.Template instance\n",
      "            The figure template name (must be a key in plotly.io.templates) or\n",
      "            definition.\n",
      "        width: int (default `None`)\n",
      "            The figure width in pixels.\n",
      "        height: int (default `None`)\n",
      "            The figure height in pixels.\n",
      "        \n",
      "        Returns\n",
      "        -------\n",
      "            plotly.graph_objects.Figure\n",
      "    \n",
      "    scatter_mapbox(data_frame=None, lat=None, lon=None, color=None, text=None, hover_name=None, hover_data=None, custom_data=None, size=None, animation_frame=None, animation_group=None, category_orders={}, labels={}, color_discrete_sequence=None, color_discrete_map={}, color_continuous_scale=None, range_color=None, color_continuous_midpoint=None, opacity=None, size_max=None, zoom=8, center=None, mapbox_style=None, title=None, template=None, width=None, height=None)\n",
      "            In a Mapbox scatter plot, each row of `data_frame` is represented by a\n",
      "            symbol mark on a Mapbox map.\n",
      "            \n",
      "        Parameters\n",
      "        ----------\n",
      "        data_frame: DataFrame or array-like or dict\n",
      "            This argument needs to be passed for column names (and not keyword\n",
      "            names) to be used. Array-like and dict are tranformed internally to a\n",
      "            pandas DataFrame. Optional: if missing, a DataFrame gets constructed\n",
      "            under the hood using the other arguments.\n",
      "        lat: str or int or Series or array-like\n",
      "            Either a name of a column in `data_frame`, or a pandas Series or\n",
      "            array_like object. Values from this column or array_like are used to\n",
      "            position marks according to latitude on a map.\n",
      "        lon: str or int or Series or array-like\n",
      "            Either a name of a column in `data_frame`, or a pandas Series or\n",
      "            array_like object. Values from this column or array_like are used to\n",
      "            position marks according to longitude on a map.\n",
      "        color: str or int or Series or array-like\n",
      "            Either a name of a column in `data_frame`, or a pandas Series or\n",
      "            array_like object. Values from this column or array_like are used to\n",
      "            assign color to marks.\n",
      "        text: str or int or Series or array-like\n",
      "            Either a name of a column in `data_frame`, or a pandas Series or\n",
      "            array_like object. Values from this column or array_like appear in the\n",
      "            figure as text labels.\n",
      "        hover_name: str or int or Series or array-like\n",
      "            Either a name of a column in `data_frame`, or a pandas Series or\n",
      "            array_like object. Values from this column or array_like appear in bold\n",
      "            in the hover tooltip.\n",
      "        hover_data: list of str or int, or Series or array-like\n",
      "            Either names of columns in `data_frame`, or pandas Series, or\n",
      "            array_like objects Values from these columns appear as extra data in\n",
      "            the hover tooltip.\n",
      "        custom_data: list of str or int, or Series or array-like\n",
      "            Either names of columns in `data_frame`, or pandas Series, or\n",
      "            array_like objects Values from these columns are extra data, to be used\n",
      "            in widgets or Dash callbacks for example. This data is not user-visible\n",
      "            but is included in events emitted by the figure (lasso selection etc.)\n",
      "        size: str or int or Series or array-like\n",
      "            Either a name of a column in `data_frame`, or a pandas Series or\n",
      "            array_like object. Values from this column or array_like are used to\n",
      "            assign mark sizes.\n",
      "        animation_frame: str or int or Series or array-like\n",
      "            Either a name of a column in `data_frame`, or a pandas Series or\n",
      "            array_like object. Values from this column or array_like are used to\n",
      "            assign marks to animation frames.\n",
      "        animation_group: str or int or Series or array-like\n",
      "            Either a name of a column in `data_frame`, or a pandas Series or\n",
      "            array_like object. Values from this column or array_like are used to\n",
      "            provide object-constancy across animation frames: rows with matching\n",
      "            `animation_group`s will be treated as if they describe the same object\n",
      "            in each frame.\n",
      "        category_orders: dict with str keys and list of str values (default `{}`)\n",
      "            By default, in Python 3.6+, the order of categorical values in axes,\n",
      "            legends and facets depends on the order in which these values are first\n",
      "            encountered in `data_frame` (and no order is guaranteed by default in\n",
      "            Python below 3.6). This parameter is used to force a specific ordering\n",
      "            of values per column. The keys of this dict should correspond to column\n",
      "            names, and the values should be lists of strings corresponding to the\n",
      "            specific display order desired.\n",
      "        labels: dict with str keys and str values (default `{}`)\n",
      "            By default, column names are used in the figure for axis titles, legend\n",
      "            entries and hovers. This parameter allows this to be overridden. The\n",
      "            keys of this dict should correspond to column names, and the values\n",
      "            should correspond to the desired label to be displayed.\n",
      "        color_discrete_sequence: list of str\n",
      "            Strings should define valid CSS-colors. When `color` is set and the\n",
      "            values in the corresponding column are not numeric, values in that\n",
      "            column are assigned colors by cycling through `color_discrete_sequence`\n",
      "            in the order described in `category_orders`, unless the value of\n",
      "            `color` is a key in `color_discrete_map`. Various useful color\n",
      "            sequences are available in the `plotly.express.colors` submodules,\n",
      "            specifically `plotly.express.colors.qualitative`.\n",
      "        color_discrete_map: dict with str keys and str values (default `{}`)\n",
      "            String values should define valid CSS-colors Used to override\n",
      "            `color_discrete_sequence` to assign a specific colors to marks\n",
      "            corresponding with specific values. Keys in `color_discrete_map` should\n",
      "            be values in the column denoted by `color`.\n",
      "        color_continuous_scale: list of str\n",
      "            Strings should define valid CSS-colors This list is used to build a\n",
      "            continuous color scale when the column denoted by `color` contains\n",
      "            numeric data. Various useful color scales are available in the\n",
      "            `plotly.express.colors` submodules, specifically\n",
      "            `plotly.express.colors.sequential`, `plotly.express.colors.diverging`\n",
      "            and `plotly.express.colors.cyclical`.\n",
      "        range_color: list of two numbers\n",
      "            If provided, overrides auto-scaling on the continuous color scale.\n",
      "        color_continuous_midpoint: number (default `None`)\n",
      "            If set, computes the bounds of the continuous color scale to have the\n",
      "            desired midpoint. Setting this value is recommended when using\n",
      "            `plotly.express.colors.diverging` color scales as the inputs to\n",
      "            `color_continuous_scale`.\n",
      "        opacity: float\n",
      "            Value between 0 and 1. Sets the opacity for markers.\n",
      "        size_max: int (default `20`)\n",
      "            Set the maximum mark size when using `size`.\n",
      "        zoom: int (default `8`)\n",
      "            Between 0 and 20. Sets map zoom level.\n",
      "        center: dict\n",
      "            Dict keys are `'lat'` and `'lon'` Sets the center point of the map.\n",
      "        mapbox_style: str (default `'basic'`, needs Mapbox API token)\n",
      "            Identifier of base map style, some of which require a Mapbox API token\n",
      "            to be set using `plotly.express.set_mapbox_access_token()`. Allowed\n",
      "            values which do not require a Mapbox API token are `'open-street-map'`,\n",
      "            `'white-bg'`, `'carto-positron'`, `'carto-darkmatter'`, `'stamen-\n",
      "            terrain'`, `'stamen-toner'`, `'stamen-watercolor'`. Allowed values\n",
      "            which do require a Mapbox API token are `'basic'`, `'streets'`,\n",
      "            `'outdoors'`, `'light'`, `'dark'`, `'satellite'`, `'satellite-\n",
      "            streets'`.\n",
      "        title: str\n",
      "            The figure title.\n",
      "        template: str or dict or plotly.graph_objects.layout.Template instance\n",
      "            The figure template name (must be a key in plotly.io.templates) or\n",
      "            definition.\n",
      "        width: int (default `None`)\n",
      "            The figure width in pixels.\n",
      "        height: int (default `None`)\n",
      "            The figure height in pixels.\n",
      "        \n",
      "        Returns\n",
      "        -------\n",
      "            plotly.graph_objects.Figure\n",
      "    \n",
      "    scatter_matrix(data_frame=None, dimensions=None, color=None, symbol=None, size=None, hover_name=None, hover_data=None, custom_data=None, category_orders={}, labels={}, color_discrete_sequence=None, color_discrete_map={}, color_continuous_scale=None, range_color=None, color_continuous_midpoint=None, symbol_sequence=None, symbol_map={}, opacity=None, size_max=None, title=None, template=None, width=None, height=None)\n",
      "            In a scatter plot matrix (or SPLOM), each row of `data_frame` is\n",
      "            represented by a multiple symbol marks, one in each cell of a grid of\n",
      "            2D scatter plots, which plot each pair of `dimensions` against each\n",
      "            other.\n",
      "            \n",
      "        Parameters\n",
      "        ----------\n",
      "        data_frame: DataFrame or array-like or dict\n",
      "            This argument needs to be passed for column names (and not keyword\n",
      "            names) to be used. Array-like and dict are tranformed internally to a\n",
      "            pandas DataFrame. Optional: if missing, a DataFrame gets constructed\n",
      "            under the hood using the other arguments.\n",
      "        dimensions: list of str or int, or Series or array-like\n",
      "            Either names of columns in `data_frame`, or pandas Series, or\n",
      "            array_like objects Values from these columns are used for\n",
      "            multidimensional visualization.\n",
      "        color: str or int or Series or array-like\n",
      "            Either a name of a column in `data_frame`, or a pandas Series or\n",
      "            array_like object. Values from this column or array_like are used to\n",
      "            assign color to marks.\n",
      "        symbol: str or int or Series or array-like\n",
      "            Either a name of a column in `data_frame`, or a pandas Series or\n",
      "            array_like object. Values from this column or array_like are used to\n",
      "            assign symbols to marks.\n",
      "        size: str or int or Series or array-like\n",
      "            Either a name of a column in `data_frame`, or a pandas Series or\n",
      "            array_like object. Values from this column or array_like are used to\n",
      "            assign mark sizes.\n",
      "        hover_name: str or int or Series or array-like\n",
      "            Either a name of a column in `data_frame`, or a pandas Series or\n",
      "            array_like object. Values from this column or array_like appear in bold\n",
      "            in the hover tooltip.\n",
      "        hover_data: list of str or int, or Series or array-like\n",
      "            Either names of columns in `data_frame`, or pandas Series, or\n",
      "            array_like objects Values from these columns appear as extra data in\n",
      "            the hover tooltip.\n",
      "        custom_data: list of str or int, or Series or array-like\n",
      "            Either names of columns in `data_frame`, or pandas Series, or\n",
      "            array_like objects Values from these columns are extra data, to be used\n",
      "            in widgets or Dash callbacks for example. This data is not user-visible\n",
      "            but is included in events emitted by the figure (lasso selection etc.)\n",
      "        category_orders: dict with str keys and list of str values (default `{}`)\n",
      "            By default, in Python 3.6+, the order of categorical values in axes,\n",
      "            legends and facets depends on the order in which these values are first\n",
      "            encountered in `data_frame` (and no order is guaranteed by default in\n",
      "            Python below 3.6). This parameter is used to force a specific ordering\n",
      "            of values per column. The keys of this dict should correspond to column\n",
      "            names, and the values should be lists of strings corresponding to the\n",
      "            specific display order desired.\n",
      "        labels: dict with str keys and str values (default `{}`)\n",
      "            By default, column names are used in the figure for axis titles, legend\n",
      "            entries and hovers. This parameter allows this to be overridden. The\n",
      "            keys of this dict should correspond to column names, and the values\n",
      "            should correspond to the desired label to be displayed.\n",
      "        color_discrete_sequence: list of str\n",
      "            Strings should define valid CSS-colors. When `color` is set and the\n",
      "            values in the corresponding column are not numeric, values in that\n",
      "            column are assigned colors by cycling through `color_discrete_sequence`\n",
      "            in the order described in `category_orders`, unless the value of\n",
      "            `color` is a key in `color_discrete_map`. Various useful color\n",
      "            sequences are available in the `plotly.express.colors` submodules,\n",
      "            specifically `plotly.express.colors.qualitative`.\n",
      "        color_discrete_map: dict with str keys and str values (default `{}`)\n",
      "            String values should define valid CSS-colors Used to override\n",
      "            `color_discrete_sequence` to assign a specific colors to marks\n",
      "            corresponding with specific values. Keys in `color_discrete_map` should\n",
      "            be values in the column denoted by `color`.\n",
      "        color_continuous_scale: list of str\n",
      "            Strings should define valid CSS-colors This list is used to build a\n",
      "            continuous color scale when the column denoted by `color` contains\n",
      "            numeric data. Various useful color scales are available in the\n",
      "            `plotly.express.colors` submodules, specifically\n",
      "            `plotly.express.colors.sequential`, `plotly.express.colors.diverging`\n",
      "            and `plotly.express.colors.cyclical`.\n",
      "        range_color: list of two numbers\n",
      "            If provided, overrides auto-scaling on the continuous color scale.\n",
      "        color_continuous_midpoint: number (default `None`)\n",
      "            If set, computes the bounds of the continuous color scale to have the\n",
      "            desired midpoint. Setting this value is recommended when using\n",
      "            `plotly.express.colors.diverging` color scales as the inputs to\n",
      "            `color_continuous_scale`.\n",
      "        symbol_sequence: list of str\n",
      "            Strings should define valid plotly.js symbols. When `symbol` is set,\n",
      "            values in that column are assigned symbols by cycling through\n",
      "            `symbol_sequence` in the order described in `category_orders`, unless\n",
      "            the value of `symbol` is a key in `symbol_map`.\n",
      "        symbol_map: dict with str keys and str values (default `{}`)\n",
      "            String values should define plotly.js symbols Used to override\n",
      "            `symbol_sequence` to assign a specific symbols to marks corresponding\n",
      "            with specific values. Keys in `symbol_map` should be values in the\n",
      "            column denoted by `symbol`.\n",
      "        opacity: float\n",
      "            Value between 0 and 1. Sets the opacity for markers.\n",
      "        size_max: int (default `20`)\n",
      "            Set the maximum mark size when using `size`.\n",
      "        title: str\n",
      "            The figure title.\n",
      "        template: str or dict or plotly.graph_objects.layout.Template instance\n",
      "            The figure template name (must be a key in plotly.io.templates) or\n",
      "            definition.\n",
      "        width: int (default `None`)\n",
      "            The figure width in pixels.\n",
      "        height: int (default `None`)\n",
      "            The figure height in pixels.\n",
      "        \n",
      "        Returns\n",
      "        -------\n",
      "            plotly.graph_objects.Figure\n",
      "    \n",
      "    scatter_polar(data_frame=None, r=None, theta=None, color=None, symbol=None, size=None, hover_name=None, hover_data=None, custom_data=None, text=None, animation_frame=None, animation_group=None, category_orders={}, labels={}, color_discrete_sequence=None, color_discrete_map={}, color_continuous_scale=None, range_color=None, color_continuous_midpoint=None, symbol_sequence=None, symbol_map={}, opacity=None, direction='clockwise', start_angle=90, size_max=None, range_r=None, range_theta=None, log_r=False, render_mode='auto', title=None, template=None, width=None, height=None)\n",
      "            In a polar scatter plot, each row of `data_frame` is represented by a\n",
      "            symbol mark in polar coordinates.\n",
      "            \n",
      "        Parameters\n",
      "        ----------\n",
      "        data_frame: DataFrame or array-like or dict\n",
      "            This argument needs to be passed for column names (and not keyword\n",
      "            names) to be used. Array-like and dict are tranformed internally to a\n",
      "            pandas DataFrame. Optional: if missing, a DataFrame gets constructed\n",
      "            under the hood using the other arguments.\n",
      "        r: str or int or Series or array-like\n",
      "            Either a name of a column in `data_frame`, or a pandas Series or\n",
      "            array_like object. Values from this column or array_like are used to\n",
      "            position marks along the radial axis in polar coordinates.\n",
      "        theta: str or int or Series or array-like\n",
      "            Either a name of a column in `data_frame`, or a pandas Series or\n",
      "            array_like object. Values from this column or array_like are used to\n",
      "            position marks along the angular axis in polar coordinates.\n",
      "        color: str or int or Series or array-like\n",
      "            Either a name of a column in `data_frame`, or a pandas Series or\n",
      "            array_like object. Values from this column or array_like are used to\n",
      "            assign color to marks.\n",
      "        symbol: str or int or Series or array-like\n",
      "            Either a name of a column in `data_frame`, or a pandas Series or\n",
      "            array_like object. Values from this column or array_like are used to\n",
      "            assign symbols to marks.\n",
      "        size: str or int or Series or array-like\n",
      "            Either a name of a column in `data_frame`, or a pandas Series or\n",
      "            array_like object. Values from this column or array_like are used to\n",
      "            assign mark sizes.\n",
      "        hover_name: str or int or Series or array-like\n",
      "            Either a name of a column in `data_frame`, or a pandas Series or\n",
      "            array_like object. Values from this column or array_like appear in bold\n",
      "            in the hover tooltip.\n",
      "        hover_data: list of str or int, or Series or array-like\n",
      "            Either names of columns in `data_frame`, or pandas Series, or\n",
      "            array_like objects Values from these columns appear as extra data in\n",
      "            the hover tooltip.\n",
      "        custom_data: list of str or int, or Series or array-like\n",
      "            Either names of columns in `data_frame`, or pandas Series, or\n",
      "            array_like objects Values from these columns are extra data, to be used\n",
      "            in widgets or Dash callbacks for example. This data is not user-visible\n",
      "            but is included in events emitted by the figure (lasso selection etc.)\n",
      "        text: str or int or Series or array-like\n",
      "            Either a name of a column in `data_frame`, or a pandas Series or\n",
      "            array_like object. Values from this column or array_like appear in the\n",
      "            figure as text labels.\n",
      "        animation_frame: str or int or Series or array-like\n",
      "            Either a name of a column in `data_frame`, or a pandas Series or\n",
      "            array_like object. Values from this column or array_like are used to\n",
      "            assign marks to animation frames.\n",
      "        animation_group: str or int or Series or array-like\n",
      "            Either a name of a column in `data_frame`, or a pandas Series or\n",
      "            array_like object. Values from this column or array_like are used to\n",
      "            provide object-constancy across animation frames: rows with matching\n",
      "            `animation_group`s will be treated as if they describe the same object\n",
      "            in each frame.\n",
      "        category_orders: dict with str keys and list of str values (default `{}`)\n",
      "            By default, in Python 3.6+, the order of categorical values in axes,\n",
      "            legends and facets depends on the order in which these values are first\n",
      "            encountered in `data_frame` (and no order is guaranteed by default in\n",
      "            Python below 3.6). This parameter is used to force a specific ordering\n",
      "            of values per column. The keys of this dict should correspond to column\n",
      "            names, and the values should be lists of strings corresponding to the\n",
      "            specific display order desired.\n",
      "        labels: dict with str keys and str values (default `{}`)\n",
      "            By default, column names are used in the figure for axis titles, legend\n",
      "            entries and hovers. This parameter allows this to be overridden. The\n",
      "            keys of this dict should correspond to column names, and the values\n",
      "            should correspond to the desired label to be displayed.\n",
      "        color_discrete_sequence: list of str\n",
      "            Strings should define valid CSS-colors. When `color` is set and the\n",
      "            values in the corresponding column are not numeric, values in that\n",
      "            column are assigned colors by cycling through `color_discrete_sequence`\n",
      "            in the order described in `category_orders`, unless the value of\n",
      "            `color` is a key in `color_discrete_map`. Various useful color\n",
      "            sequences are available in the `plotly.express.colors` submodules,\n",
      "            specifically `plotly.express.colors.qualitative`.\n",
      "        color_discrete_map: dict with str keys and str values (default `{}`)\n",
      "            String values should define valid CSS-colors Used to override\n",
      "            `color_discrete_sequence` to assign a specific colors to marks\n",
      "            corresponding with specific values. Keys in `color_discrete_map` should\n",
      "            be values in the column denoted by `color`.\n",
      "        color_continuous_scale: list of str\n",
      "            Strings should define valid CSS-colors This list is used to build a\n",
      "            continuous color scale when the column denoted by `color` contains\n",
      "            numeric data. Various useful color scales are available in the\n",
      "            `plotly.express.colors` submodules, specifically\n",
      "            `plotly.express.colors.sequential`, `plotly.express.colors.diverging`\n",
      "            and `plotly.express.colors.cyclical`.\n",
      "        range_color: list of two numbers\n",
      "            If provided, overrides auto-scaling on the continuous color scale.\n",
      "        color_continuous_midpoint: number (default `None`)\n",
      "            If set, computes the bounds of the continuous color scale to have the\n",
      "            desired midpoint. Setting this value is recommended when using\n",
      "            `plotly.express.colors.diverging` color scales as the inputs to\n",
      "            `color_continuous_scale`.\n",
      "        symbol_sequence: list of str\n",
      "            Strings should define valid plotly.js symbols. When `symbol` is set,\n",
      "            values in that column are assigned symbols by cycling through\n",
      "            `symbol_sequence` in the order described in `category_orders`, unless\n",
      "            the value of `symbol` is a key in `symbol_map`.\n",
      "        symbol_map: dict with str keys and str values (default `{}`)\n",
      "            String values should define plotly.js symbols Used to override\n",
      "            `symbol_sequence` to assign a specific symbols to marks corresponding\n",
      "            with specific values. Keys in `symbol_map` should be values in the\n",
      "            column denoted by `symbol`.\n",
      "        opacity: float\n",
      "            Value between 0 and 1. Sets the opacity for markers.\n",
      "        direction: str\n",
      "            One of '`counterclockwise'` or `'clockwise'`. Default is `'clockwise'`\n",
      "            Sets the direction in which increasing values of the angular axis are\n",
      "            drawn.\n",
      "        start_angle: int (default `90`)\n",
      "            Sets start angle for the angular axis, with 0 being due east and 90\n",
      "            being due north.\n",
      "        size_max: int (default `20`)\n",
      "            Set the maximum mark size when using `size`.\n",
      "        range_r: list of two numbers\n",
      "            If provided, overrides auto-scaling on the radial axis in polar\n",
      "            coordinates.\n",
      "        range_theta: list of two numbers\n",
      "            If provided, overrides auto-scaling on the angular axis in polar\n",
      "            coordinates.\n",
      "        log_r: boolean (default `False`)\n",
      "            If `True`, the radial axis is log-scaled in polar coordinates.\n",
      "        render_mode: str\n",
      "            One of `'auto'`, `'svg'` or `'webgl'`, default `'auto'` Controls the\n",
      "            browser API used to draw marks. `'svg`' is appropriate for figures of\n",
      "            less than 1000 data points, and will allow for fully-vectorized output.\n",
      "            `'webgl'` is likely necessary for acceptable performance above 1000\n",
      "            points but rasterizes part of the output.  `'auto'` uses heuristics to\n",
      "            choose the mode.\n",
      "        title: str\n",
      "            The figure title.\n",
      "        template: str or dict or plotly.graph_objects.layout.Template instance\n",
      "            The figure template name (must be a key in plotly.io.templates) or\n",
      "            definition.\n",
      "        width: int (default `None`)\n",
      "            The figure width in pixels.\n",
      "        height: int (default `None`)\n",
      "            The figure height in pixels.\n",
      "        \n",
      "        Returns\n",
      "        -------\n",
      "            plotly.graph_objects.Figure\n",
      "    \n",
      "    scatter_ternary(data_frame=None, a=None, b=None, c=None, color=None, symbol=None, size=None, text=None, hover_name=None, hover_data=None, custom_data=None, animation_frame=None, animation_group=None, category_orders={}, labels={}, color_discrete_sequence=None, color_discrete_map={}, color_continuous_scale=None, range_color=None, color_continuous_midpoint=None, symbol_sequence=None, symbol_map={}, opacity=None, size_max=None, title=None, template=None, width=None, height=None)\n",
      "            In a ternary scatter plot, each row of `data_frame` is represented by a\n",
      "            symbol mark in ternary coordinates.\n",
      "            \n",
      "        Parameters\n",
      "        ----------\n",
      "        data_frame: DataFrame or array-like or dict\n",
      "            This argument needs to be passed for column names (and not keyword\n",
      "            names) to be used. Array-like and dict are tranformed internally to a\n",
      "            pandas DataFrame. Optional: if missing, a DataFrame gets constructed\n",
      "            under the hood using the other arguments.\n",
      "        a: str or int or Series or array-like\n",
      "            Either a name of a column in `data_frame`, or a pandas Series or\n",
      "            array_like object. Values from this column or array_like are used to\n",
      "            position marks along the a axis in ternary coordinates.\n",
      "        b: str or int or Series or array-like\n",
      "            Either a name of a column in `data_frame`, or a pandas Series or\n",
      "            array_like object. Values from this column or array_like are used to\n",
      "            position marks along the b axis in ternary coordinates.\n",
      "        c: str or int or Series or array-like\n",
      "            Either a name of a column in `data_frame`, or a pandas Series or\n",
      "            array_like object. Values from this column or array_like are used to\n",
      "            position marks along the c axis in ternary coordinates.\n",
      "        color: str or int or Series or array-like\n",
      "            Either a name of a column in `data_frame`, or a pandas Series or\n",
      "            array_like object. Values from this column or array_like are used to\n",
      "            assign color to marks.\n",
      "        symbol: str or int or Series or array-like\n",
      "            Either a name of a column in `data_frame`, or a pandas Series or\n",
      "            array_like object. Values from this column or array_like are used to\n",
      "            assign symbols to marks.\n",
      "        size: str or int or Series or array-like\n",
      "            Either a name of a column in `data_frame`, or a pandas Series or\n",
      "            array_like object. Values from this column or array_like are used to\n",
      "            assign mark sizes.\n",
      "        text: str or int or Series or array-like\n",
      "            Either a name of a column in `data_frame`, or a pandas Series or\n",
      "            array_like object. Values from this column or array_like appear in the\n",
      "            figure as text labels.\n",
      "        hover_name: str or int or Series or array-like\n",
      "            Either a name of a column in `data_frame`, or a pandas Series or\n",
      "            array_like object. Values from this column or array_like appear in bold\n",
      "            in the hover tooltip.\n",
      "        hover_data: list of str or int, or Series or array-like\n",
      "            Either names of columns in `data_frame`, or pandas Series, or\n",
      "            array_like objects Values from these columns appear as extra data in\n",
      "            the hover tooltip.\n",
      "        custom_data: list of str or int, or Series or array-like\n",
      "            Either names of columns in `data_frame`, or pandas Series, or\n",
      "            array_like objects Values from these columns are extra data, to be used\n",
      "            in widgets or Dash callbacks for example. This data is not user-visible\n",
      "            but is included in events emitted by the figure (lasso selection etc.)\n",
      "        animation_frame: str or int or Series or array-like\n",
      "            Either a name of a column in `data_frame`, or a pandas Series or\n",
      "            array_like object. Values from this column or array_like are used to\n",
      "            assign marks to animation frames.\n",
      "        animation_group: str or int or Series or array-like\n",
      "            Either a name of a column in `data_frame`, or a pandas Series or\n",
      "            array_like object. Values from this column or array_like are used to\n",
      "            provide object-constancy across animation frames: rows with matching\n",
      "            `animation_group`s will be treated as if they describe the same object\n",
      "            in each frame.\n",
      "        category_orders: dict with str keys and list of str values (default `{}`)\n",
      "            By default, in Python 3.6+, the order of categorical values in axes,\n",
      "            legends and facets depends on the order in which these values are first\n",
      "            encountered in `data_frame` (and no order is guaranteed by default in\n",
      "            Python below 3.6). This parameter is used to force a specific ordering\n",
      "            of values per column. The keys of this dict should correspond to column\n",
      "            names, and the values should be lists of strings corresponding to the\n",
      "            specific display order desired.\n",
      "        labels: dict with str keys and str values (default `{}`)\n",
      "            By default, column names are used in the figure for axis titles, legend\n",
      "            entries and hovers. This parameter allows this to be overridden. The\n",
      "            keys of this dict should correspond to column names, and the values\n",
      "            should correspond to the desired label to be displayed.\n",
      "        color_discrete_sequence: list of str\n",
      "            Strings should define valid CSS-colors. When `color` is set and the\n",
      "            values in the corresponding column are not numeric, values in that\n",
      "            column are assigned colors by cycling through `color_discrete_sequence`\n",
      "            in the order described in `category_orders`, unless the value of\n",
      "            `color` is a key in `color_discrete_map`. Various useful color\n",
      "            sequences are available in the `plotly.express.colors` submodules,\n",
      "            specifically `plotly.express.colors.qualitative`.\n",
      "        color_discrete_map: dict with str keys and str values (default `{}`)\n",
      "            String values should define valid CSS-colors Used to override\n",
      "            `color_discrete_sequence` to assign a specific colors to marks\n",
      "            corresponding with specific values. Keys in `color_discrete_map` should\n",
      "            be values in the column denoted by `color`.\n",
      "        color_continuous_scale: list of str\n",
      "            Strings should define valid CSS-colors This list is used to build a\n",
      "            continuous color scale when the column denoted by `color` contains\n",
      "            numeric data. Various useful color scales are available in the\n",
      "            `plotly.express.colors` submodules, specifically\n",
      "            `plotly.express.colors.sequential`, `plotly.express.colors.diverging`\n",
      "            and `plotly.express.colors.cyclical`.\n",
      "        range_color: list of two numbers\n",
      "            If provided, overrides auto-scaling on the continuous color scale.\n",
      "        color_continuous_midpoint: number (default `None`)\n",
      "            If set, computes the bounds of the continuous color scale to have the\n",
      "            desired midpoint. Setting this value is recommended when using\n",
      "            `plotly.express.colors.diverging` color scales as the inputs to\n",
      "            `color_continuous_scale`.\n",
      "        symbol_sequence: list of str\n",
      "            Strings should define valid plotly.js symbols. When `symbol` is set,\n",
      "            values in that column are assigned symbols by cycling through\n",
      "            `symbol_sequence` in the order described in `category_orders`, unless\n",
      "            the value of `symbol` is a key in `symbol_map`.\n",
      "        symbol_map: dict with str keys and str values (default `{}`)\n",
      "            String values should define plotly.js symbols Used to override\n",
      "            `symbol_sequence` to assign a specific symbols to marks corresponding\n",
      "            with specific values. Keys in `symbol_map` should be values in the\n",
      "            column denoted by `symbol`.\n",
      "        opacity: float\n",
      "            Value between 0 and 1. Sets the opacity for markers.\n",
      "        size_max: int (default `20`)\n",
      "            Set the maximum mark size when using `size`.\n",
      "        title: str\n",
      "            The figure title.\n",
      "        template: str or dict or plotly.graph_objects.layout.Template instance\n",
      "            The figure template name (must be a key in plotly.io.templates) or\n",
      "            definition.\n",
      "        width: int (default `None`)\n",
      "            The figure width in pixels.\n",
      "        height: int (default `None`)\n",
      "            The figure height in pixels.\n",
      "        \n",
      "        Returns\n",
      "        -------\n",
      "            plotly.graph_objects.Figure\n",
      "    \n",
      "    set_mapbox_access_token(token)\n",
      "        Arguments:\n",
      "            token: A Mapbox token to be used in `plotly.express.scatter_mapbox` and         `plotly.express.line_mapbox` figures. See         https://docs.mapbox.com/help/how-mapbox-works/access-tokens/ for more details\n",
      "    \n",
      "    strip(data_frame=None, x=None, y=None, color=None, facet_row=None, facet_col=None, facet_col_wrap=0, hover_name=None, hover_data=None, custom_data=None, animation_frame=None, animation_group=None, category_orders={}, labels={}, color_discrete_sequence=None, color_discrete_map={}, orientation='v', stripmode='group', log_x=False, log_y=False, range_x=None, range_y=None, title=None, template=None, width=None, height=None)\n",
      "            In a strip plot each row of `data_frame` is represented as a jittered\n",
      "            mark within categories.\n",
      "            \n",
      "        Parameters\n",
      "        ----------\n",
      "        data_frame: DataFrame or array-like or dict\n",
      "            This argument needs to be passed for column names (and not keyword\n",
      "            names) to be used. Array-like and dict are tranformed internally to a\n",
      "            pandas DataFrame. Optional: if missing, a DataFrame gets constructed\n",
      "            under the hood using the other arguments.\n",
      "        x: str or int or Series or array-like\n",
      "            Either a name of a column in `data_frame`, or a pandas Series or\n",
      "            array_like object. Values from this column or array_like are used to\n",
      "            position marks along the x axis in cartesian coordinates. For\n",
      "            horizontal histograms, these values are used as inputs to `histfunc`.\n",
      "        y: str or int or Series or array-like\n",
      "            Either a name of a column in `data_frame`, or a pandas Series or\n",
      "            array_like object. Values from this column or array_like are used to\n",
      "            position marks along the y axis in cartesian coordinates. For vertical\n",
      "            histograms, these values are used as inputs to `histfunc`.\n",
      "        color: str or int or Series or array-like\n",
      "            Either a name of a column in `data_frame`, or a pandas Series or\n",
      "            array_like object. Values from this column or array_like are used to\n",
      "            assign color to marks.\n",
      "        facet_row: str or int or Series or array-like\n",
      "            Either a name of a column in `data_frame`, or a pandas Series or\n",
      "            array_like object. Values from this column or array_like are used to\n",
      "            assign marks to facetted subplots in the vertical direction.\n",
      "        facet_col: str or int or Series or array-like\n",
      "            Either a name of a column in `data_frame`, or a pandas Series or\n",
      "            array_like object. Values from this column or array_like are used to\n",
      "            assign marks to facetted subplots in the horizontal direction.\n",
      "        facet_col_wrap: int\n",
      "            Maximum number of facet columns. Wraps the column variable at this\n",
      "            width, so that the column facets span multiple rows. Ignored if 0, and\n",
      "            forced to 0 if `facet_row` or a `marginal` is set.\n",
      "        hover_name: str or int or Series or array-like\n",
      "            Either a name of a column in `data_frame`, or a pandas Series or\n",
      "            array_like object. Values from this column or array_like appear in bold\n",
      "            in the hover tooltip.\n",
      "        hover_data: list of str or int, or Series or array-like\n",
      "            Either names of columns in `data_frame`, or pandas Series, or\n",
      "            array_like objects Values from these columns appear as extra data in\n",
      "            the hover tooltip.\n",
      "        custom_data: list of str or int, or Series or array-like\n",
      "            Either names of columns in `data_frame`, or pandas Series, or\n",
      "            array_like objects Values from these columns are extra data, to be used\n",
      "            in widgets or Dash callbacks for example. This data is not user-visible\n",
      "            but is included in events emitted by the figure (lasso selection etc.)\n",
      "        animation_frame: str or int or Series or array-like\n",
      "            Either a name of a column in `data_frame`, or a pandas Series or\n",
      "            array_like object. Values from this column or array_like are used to\n",
      "            assign marks to animation frames.\n",
      "        animation_group: str or int or Series or array-like\n",
      "            Either a name of a column in `data_frame`, or a pandas Series or\n",
      "            array_like object. Values from this column or array_like are used to\n",
      "            provide object-constancy across animation frames: rows with matching\n",
      "            `animation_group`s will be treated as if they describe the same object\n",
      "            in each frame.\n",
      "        category_orders: dict with str keys and list of str values (default `{}`)\n",
      "            By default, in Python 3.6+, the order of categorical values in axes,\n",
      "            legends and facets depends on the order in which these values are first\n",
      "            encountered in `data_frame` (and no order is guaranteed by default in\n",
      "            Python below 3.6). This parameter is used to force a specific ordering\n",
      "            of values per column. The keys of this dict should correspond to column\n",
      "            names, and the values should be lists of strings corresponding to the\n",
      "            specific display order desired.\n",
      "        labels: dict with str keys and str values (default `{}`)\n",
      "            By default, column names are used in the figure for axis titles, legend\n",
      "            entries and hovers. This parameter allows this to be overridden. The\n",
      "            keys of this dict should correspond to column names, and the values\n",
      "            should correspond to the desired label to be displayed.\n",
      "        color_discrete_sequence: list of str\n",
      "            Strings should define valid CSS-colors. When `color` is set and the\n",
      "            values in the corresponding column are not numeric, values in that\n",
      "            column are assigned colors by cycling through `color_discrete_sequence`\n",
      "            in the order described in `category_orders`, unless the value of\n",
      "            `color` is a key in `color_discrete_map`. Various useful color\n",
      "            sequences are available in the `plotly.express.colors` submodules,\n",
      "            specifically `plotly.express.colors.qualitative`.\n",
      "        color_discrete_map: dict with str keys and str values (default `{}`)\n",
      "            String values should define valid CSS-colors Used to override\n",
      "            `color_discrete_sequence` to assign a specific colors to marks\n",
      "            corresponding with specific values. Keys in `color_discrete_map` should\n",
      "            be values in the column denoted by `color`.\n",
      "        orientation: str (default `'v'`)\n",
      "            One of `'h'` for horizontal or `'v'` for vertical)\n",
      "        stripmode: str (default `'group'`)\n",
      "            One of `'group'` or `'overlay'` In `'overlay'` mode, strips are on\n",
      "            drawn top of one another. In `'group'` mode, strips are placed beside\n",
      "            each other.\n",
      "        log_x: boolean (default `False`)\n",
      "            If `True`, the x-axis is log-scaled in cartesian coordinates.\n",
      "        log_y: boolean (default `False`)\n",
      "            If `True`, the y-axis is log-scaled in cartesian coordinates.\n",
      "        range_x: list of two numbers\n",
      "            If provided, overrides auto-scaling on the x-axis in cartesian\n",
      "            coordinates.\n",
      "        range_y: list of two numbers\n",
      "            If provided, overrides auto-scaling on the y-axis in cartesian\n",
      "            coordinates.\n",
      "        title: str\n",
      "            The figure title.\n",
      "        template: str or dict or plotly.graph_objects.layout.Template instance\n",
      "            The figure template name (must be a key in plotly.io.templates) or\n",
      "            definition.\n",
      "        width: int (default `None`)\n",
      "            The figure width in pixels.\n",
      "        height: int (default `None`)\n",
      "            The figure height in pixels.\n",
      "        \n",
      "        Returns\n",
      "        -------\n",
      "            plotly.graph_objects.Figure\n",
      "    \n",
      "    sunburst(data_frame=None, names=None, values=None, parents=None, path=None, ids=None, color=None, color_continuous_scale=None, range_color=None, color_continuous_midpoint=None, color_discrete_sequence=None, color_discrete_map={}, hover_name=None, hover_data=None, custom_data=None, labels={}, title=None, template=None, width=None, height=None, branchvalues=None, maxdepth=None)\n",
      "            A sunburst plot represents hierarchial data as sectors laid out over\n",
      "            several levels of concentric rings.\n",
      "            \n",
      "        Parameters\n",
      "        ----------\n",
      "        data_frame: DataFrame or array-like or dict\n",
      "            This argument needs to be passed for column names (and not keyword\n",
      "            names) to be used. Array-like and dict are tranformed internally to a\n",
      "            pandas DataFrame. Optional: if missing, a DataFrame gets constructed\n",
      "            under the hood using the other arguments.\n",
      "        names: str or int or Series or array-like\n",
      "            Either a name of a column in `data_frame`, or a pandas Series or\n",
      "            array_like object. Values from this column or array_like are used as\n",
      "            labels for sectors.\n",
      "        values: str or int or Series or array-like\n",
      "            Either a name of a column in `data_frame`, or a pandas Series or\n",
      "            array_like object. Values from this column or array_like are used to\n",
      "            set values associated to sectors.\n",
      "        parents: str or int or Series or array-like\n",
      "            Either a name of a column in `data_frame`, or a pandas Series or\n",
      "            array_like object. Values from this column or array_like are used as\n",
      "            parents in sunburst and treemap charts.\n",
      "        path: list of str or int, or Series or array-like\n",
      "            Either names of columns in `data_frame`, or pandas Series, or\n",
      "            array_like objects List of columns names or columns of a rectangular\n",
      "            dataframe defining the hierarchy of sectors, from root to leaves. An\n",
      "            error is raised if path AND ids or parents is passed\n",
      "        ids: str or int or Series or array-like\n",
      "            Either a name of a column in `data_frame`, or a pandas Series or\n",
      "            array_like object. Values from this column or array_like are used to\n",
      "            set ids of sectors\n",
      "        color: str or int or Series or array-like\n",
      "            Either a name of a column in `data_frame`, or a pandas Series or\n",
      "            array_like object. Values from this column or array_like are used to\n",
      "            assign color to marks.\n",
      "        color_continuous_scale: list of str\n",
      "            Strings should define valid CSS-colors This list is used to build a\n",
      "            continuous color scale when the column denoted by `color` contains\n",
      "            numeric data. Various useful color scales are available in the\n",
      "            `plotly.express.colors` submodules, specifically\n",
      "            `plotly.express.colors.sequential`, `plotly.express.colors.diverging`\n",
      "            and `plotly.express.colors.cyclical`.\n",
      "        range_color: list of two numbers\n",
      "            If provided, overrides auto-scaling on the continuous color scale.\n",
      "        color_continuous_midpoint: number (default `None`)\n",
      "            If set, computes the bounds of the continuous color scale to have the\n",
      "            desired midpoint. Setting this value is recommended when using\n",
      "            `plotly.express.colors.diverging` color scales as the inputs to\n",
      "            `color_continuous_scale`.\n",
      "        color_discrete_sequence: list of str\n",
      "            Strings should define valid CSS-colors. When `color` is set and the\n",
      "            values in the corresponding column are not numeric, values in that\n",
      "            column are assigned colors by cycling through `color_discrete_sequence`\n",
      "            in the order described in `category_orders`, unless the value of\n",
      "            `color` is a key in `color_discrete_map`. Various useful color\n",
      "            sequences are available in the `plotly.express.colors` submodules,\n",
      "            specifically `plotly.express.colors.qualitative`.\n",
      "        color_discrete_map: dict with str keys and str values (default `{}`)\n",
      "            String values should define valid CSS-colors Used to override\n",
      "            `color_discrete_sequence` to assign a specific colors to marks\n",
      "            corresponding with specific values. Keys in `color_discrete_map` should\n",
      "            be values in the column denoted by `color`.\n",
      "        hover_name: str or int or Series or array-like\n",
      "            Either a name of a column in `data_frame`, or a pandas Series or\n",
      "            array_like object. Values from this column or array_like appear in bold\n",
      "            in the hover tooltip.\n",
      "        hover_data: list of str or int, or Series or array-like\n",
      "            Either names of columns in `data_frame`, or pandas Series, or\n",
      "            array_like objects Values from these columns appear as extra data in\n",
      "            the hover tooltip.\n",
      "        custom_data: list of str or int, or Series or array-like\n",
      "            Either names of columns in `data_frame`, or pandas Series, or\n",
      "            array_like objects Values from these columns are extra data, to be used\n",
      "            in widgets or Dash callbacks for example. This data is not user-visible\n",
      "            but is included in events emitted by the figure (lasso selection etc.)\n",
      "        labels: dict with str keys and str values (default `{}`)\n",
      "            By default, column names are used in the figure for axis titles, legend\n",
      "            entries and hovers. This parameter allows this to be overridden. The\n",
      "            keys of this dict should correspond to column names, and the values\n",
      "            should correspond to the desired label to be displayed.\n",
      "        title: str\n",
      "            The figure title.\n",
      "        template: str or dict or plotly.graph_objects.layout.Template instance\n",
      "            The figure template name (must be a key in plotly.io.templates) or\n",
      "            definition.\n",
      "        width: int (default `None`)\n",
      "            The figure width in pixels.\n",
      "        height: int (default `None`)\n",
      "            The figure height in pixels.\n",
      "        branchvalues: str\n",
      "            'total' or 'remainder' Determines how the items in `values` are summed.\n",
      "            Whenset to 'total', items in `values` are taken to be valueof all its\n",
      "            descendants. When set to 'remainder', itemsin `values` corresponding to\n",
      "            the root and the branches:sectors are taken to be the extra part not\n",
      "            part of thesum of the values at their leaves.\n",
      "        maxdepth: int\n",
      "            Positive integer Sets the number of rendered sectors from any given\n",
      "            `level`. Set `maxdepth` to -1 to render all thelevels in the hierarchy.\n",
      "        \n",
      "        Returns\n",
      "        -------\n",
      "            plotly.graph_objects.Figure\n",
      "    \n",
      "    treemap(data_frame=None, names=None, values=None, parents=None, ids=None, path=None, color=None, color_continuous_scale=None, range_color=None, color_continuous_midpoint=None, color_discrete_sequence=None, color_discrete_map={}, hover_name=None, hover_data=None, custom_data=None, labels={}, title=None, template=None, width=None, height=None, branchvalues=None, maxdepth=None)\n",
      "            A treemap plot represents hierarchial data as nested rectangular\n",
      "            sectors.\n",
      "            \n",
      "        Parameters\n",
      "        ----------\n",
      "        data_frame: DataFrame or array-like or dict\n",
      "            This argument needs to be passed for column names (and not keyword\n",
      "            names) to be used. Array-like and dict are tranformed internally to a\n",
      "            pandas DataFrame. Optional: if missing, a DataFrame gets constructed\n",
      "            under the hood using the other arguments.\n",
      "        names: str or int or Series or array-like\n",
      "            Either a name of a column in `data_frame`, or a pandas Series or\n",
      "            array_like object. Values from this column or array_like are used as\n",
      "            labels for sectors.\n",
      "        values: str or int or Series or array-like\n",
      "            Either a name of a column in `data_frame`, or a pandas Series or\n",
      "            array_like object. Values from this column or array_like are used to\n",
      "            set values associated to sectors.\n",
      "        parents: str or int or Series or array-like\n",
      "            Either a name of a column in `data_frame`, or a pandas Series or\n",
      "            array_like object. Values from this column or array_like are used as\n",
      "            parents in sunburst and treemap charts.\n",
      "        ids: str or int or Series or array-like\n",
      "            Either a name of a column in `data_frame`, or a pandas Series or\n",
      "            array_like object. Values from this column or array_like are used to\n",
      "            set ids of sectors\n",
      "        path: list of str or int, or Series or array-like\n",
      "            Either names of columns in `data_frame`, or pandas Series, or\n",
      "            array_like objects List of columns names or columns of a rectangular\n",
      "            dataframe defining the hierarchy of sectors, from root to leaves. An\n",
      "            error is raised if path AND ids or parents is passed\n",
      "        color: str or int or Series or array-like\n",
      "            Either a name of a column in `data_frame`, or a pandas Series or\n",
      "            array_like object. Values from this column or array_like are used to\n",
      "            assign color to marks.\n",
      "        color_continuous_scale: list of str\n",
      "            Strings should define valid CSS-colors This list is used to build a\n",
      "            continuous color scale when the column denoted by `color` contains\n",
      "            numeric data. Various useful color scales are available in the\n",
      "            `plotly.express.colors` submodules, specifically\n",
      "            `plotly.express.colors.sequential`, `plotly.express.colors.diverging`\n",
      "            and `plotly.express.colors.cyclical`.\n",
      "        range_color: list of two numbers\n",
      "            If provided, overrides auto-scaling on the continuous color scale.\n",
      "        color_continuous_midpoint: number (default `None`)\n",
      "            If set, computes the bounds of the continuous color scale to have the\n",
      "            desired midpoint. Setting this value is recommended when using\n",
      "            `plotly.express.colors.diverging` color scales as the inputs to\n",
      "            `color_continuous_scale`.\n",
      "        color_discrete_sequence: list of str\n",
      "            Strings should define valid CSS-colors. When `color` is set and the\n",
      "            values in the corresponding column are not numeric, values in that\n",
      "            column are assigned colors by cycling through `color_discrete_sequence`\n",
      "            in the order described in `category_orders`, unless the value of\n",
      "            `color` is a key in `color_discrete_map`. Various useful color\n",
      "            sequences are available in the `plotly.express.colors` submodules,\n",
      "            specifically `plotly.express.colors.qualitative`.\n",
      "        color_discrete_map: dict with str keys and str values (default `{}`)\n",
      "            String values should define valid CSS-colors Used to override\n",
      "            `color_discrete_sequence` to assign a specific colors to marks\n",
      "            corresponding with specific values. Keys in `color_discrete_map` should\n",
      "            be values in the column denoted by `color`.\n",
      "        hover_name: str or int or Series or array-like\n",
      "            Either a name of a column in `data_frame`, or a pandas Series or\n",
      "            array_like object. Values from this column or array_like appear in bold\n",
      "            in the hover tooltip.\n",
      "        hover_data: list of str or int, or Series or array-like\n",
      "            Either names of columns in `data_frame`, or pandas Series, or\n",
      "            array_like objects Values from these columns appear as extra data in\n",
      "            the hover tooltip.\n",
      "        custom_data: list of str or int, or Series or array-like\n",
      "            Either names of columns in `data_frame`, or pandas Series, or\n",
      "            array_like objects Values from these columns are extra data, to be used\n",
      "            in widgets or Dash callbacks for example. This data is not user-visible\n",
      "            but is included in events emitted by the figure (lasso selection etc.)\n",
      "        labels: dict with str keys and str values (default `{}`)\n",
      "            By default, column names are used in the figure for axis titles, legend\n",
      "            entries and hovers. This parameter allows this to be overridden. The\n",
      "            keys of this dict should correspond to column names, and the values\n",
      "            should correspond to the desired label to be displayed.\n",
      "        title: str\n",
      "            The figure title.\n",
      "        template: str or dict or plotly.graph_objects.layout.Template instance\n",
      "            The figure template name (must be a key in plotly.io.templates) or\n",
      "            definition.\n",
      "        width: int (default `None`)\n",
      "            The figure width in pixels.\n",
      "        height: int (default `None`)\n",
      "            The figure height in pixels.\n",
      "        branchvalues: str\n",
      "            'total' or 'remainder' Determines how the items in `values` are summed.\n",
      "            Whenset to 'total', items in `values` are taken to be valueof all its\n",
      "            descendants. When set to 'remainder', itemsin `values` corresponding to\n",
      "            the root and the branches:sectors are taken to be the extra part not\n",
      "            part of thesum of the values at their leaves.\n",
      "        maxdepth: int\n",
      "            Positive integer Sets the number of rendered sectors from any given\n",
      "            `level`. Set `maxdepth` to -1 to render all thelevels in the hierarchy.\n",
      "        \n",
      "        Returns\n",
      "        -------\n",
      "            plotly.graph_objects.Figure\n",
      "    \n",
      "    violin(data_frame=None, x=None, y=None, color=None, facet_row=None, facet_col=None, facet_col_wrap=0, hover_name=None, hover_data=None, custom_data=None, animation_frame=None, animation_group=None, category_orders={}, labels={}, color_discrete_sequence=None, color_discrete_map={}, orientation='v', violinmode='group', log_x=False, log_y=False, range_x=None, range_y=None, points=None, box=False, title=None, template=None, width=None, height=None)\n",
      "            In a violin plot, rows of `data_frame` are grouped together into a\n",
      "            curved mark to visualize their distribution.\n",
      "            \n",
      "        Parameters\n",
      "        ----------\n",
      "        data_frame: DataFrame or array-like or dict\n",
      "            This argument needs to be passed for column names (and not keyword\n",
      "            names) to be used. Array-like and dict are tranformed internally to a\n",
      "            pandas DataFrame. Optional: if missing, a DataFrame gets constructed\n",
      "            under the hood using the other arguments.\n",
      "        x: str or int or Series or array-like\n",
      "            Either a name of a column in `data_frame`, or a pandas Series or\n",
      "            array_like object. Values from this column or array_like are used to\n",
      "            position marks along the x axis in cartesian coordinates. For\n",
      "            horizontal histograms, these values are used as inputs to `histfunc`.\n",
      "        y: str or int or Series or array-like\n",
      "            Either a name of a column in `data_frame`, or a pandas Series or\n",
      "            array_like object. Values from this column or array_like are used to\n",
      "            position marks along the y axis in cartesian coordinates. For vertical\n",
      "            histograms, these values are used as inputs to `histfunc`.\n",
      "        color: str or int or Series or array-like\n",
      "            Either a name of a column in `data_frame`, or a pandas Series or\n",
      "            array_like object. Values from this column or array_like are used to\n",
      "            assign color to marks.\n",
      "        facet_row: str or int or Series or array-like\n",
      "            Either a name of a column in `data_frame`, or a pandas Series or\n",
      "            array_like object. Values from this column or array_like are used to\n",
      "            assign marks to facetted subplots in the vertical direction.\n",
      "        facet_col: str or int or Series or array-like\n",
      "            Either a name of a column in `data_frame`, or a pandas Series or\n",
      "            array_like object. Values from this column or array_like are used to\n",
      "            assign marks to facetted subplots in the horizontal direction.\n",
      "        facet_col_wrap: int\n",
      "            Maximum number of facet columns. Wraps the column variable at this\n",
      "            width, so that the column facets span multiple rows. Ignored if 0, and\n",
      "            forced to 0 if `facet_row` or a `marginal` is set.\n",
      "        hover_name: str or int or Series or array-like\n",
      "            Either a name of a column in `data_frame`, or a pandas Series or\n",
      "            array_like object. Values from this column or array_like appear in bold\n",
      "            in the hover tooltip.\n",
      "        hover_data: list of str or int, or Series or array-like\n",
      "            Either names of columns in `data_frame`, or pandas Series, or\n",
      "            array_like objects Values from these columns appear as extra data in\n",
      "            the hover tooltip.\n",
      "        custom_data: list of str or int, or Series or array-like\n",
      "            Either names of columns in `data_frame`, or pandas Series, or\n",
      "            array_like objects Values from these columns are extra data, to be used\n",
      "            in widgets or Dash callbacks for example. This data is not user-visible\n",
      "            but is included in events emitted by the figure (lasso selection etc.)\n",
      "        animation_frame: str or int or Series or array-like\n",
      "            Either a name of a column in `data_frame`, or a pandas Series or\n",
      "            array_like object. Values from this column or array_like are used to\n",
      "            assign marks to animation frames.\n",
      "        animation_group: str or int or Series or array-like\n",
      "            Either a name of a column in `data_frame`, or a pandas Series or\n",
      "            array_like object. Values from this column or array_like are used to\n",
      "            provide object-constancy across animation frames: rows with matching\n",
      "            `animation_group`s will be treated as if they describe the same object\n",
      "            in each frame.\n",
      "        category_orders: dict with str keys and list of str values (default `{}`)\n",
      "            By default, in Python 3.6+, the order of categorical values in axes,\n",
      "            legends and facets depends on the order in which these values are first\n",
      "            encountered in `data_frame` (and no order is guaranteed by default in\n",
      "            Python below 3.6). This parameter is used to force a specific ordering\n",
      "            of values per column. The keys of this dict should correspond to column\n",
      "            names, and the values should be lists of strings corresponding to the\n",
      "            specific display order desired.\n",
      "        labels: dict with str keys and str values (default `{}`)\n",
      "            By default, column names are used in the figure for axis titles, legend\n",
      "            entries and hovers. This parameter allows this to be overridden. The\n",
      "            keys of this dict should correspond to column names, and the values\n",
      "            should correspond to the desired label to be displayed.\n",
      "        color_discrete_sequence: list of str\n",
      "            Strings should define valid CSS-colors. When `color` is set and the\n",
      "            values in the corresponding column are not numeric, values in that\n",
      "            column are assigned colors by cycling through `color_discrete_sequence`\n",
      "            in the order described in `category_orders`, unless the value of\n",
      "            `color` is a key in `color_discrete_map`. Various useful color\n",
      "            sequences are available in the `plotly.express.colors` submodules,\n",
      "            specifically `plotly.express.colors.qualitative`.\n",
      "        color_discrete_map: dict with str keys and str values (default `{}`)\n",
      "            String values should define valid CSS-colors Used to override\n",
      "            `color_discrete_sequence` to assign a specific colors to marks\n",
      "            corresponding with specific values. Keys in `color_discrete_map` should\n",
      "            be values in the column denoted by `color`.\n",
      "        orientation: str (default `'v'`)\n",
      "            One of `'h'` for horizontal or `'v'` for vertical)\n",
      "        violinmode: str (default `'group'`)\n",
      "            One of `'group'` or `'overlay'` In `'overlay'` mode, violins are on\n",
      "            drawn top of one another. In `'group'` mode, violins are placed beside\n",
      "            each other.\n",
      "        log_x: boolean (default `False`)\n",
      "            If `True`, the x-axis is log-scaled in cartesian coordinates.\n",
      "        log_y: boolean (default `False`)\n",
      "            If `True`, the y-axis is log-scaled in cartesian coordinates.\n",
      "        range_x: list of two numbers\n",
      "            If provided, overrides auto-scaling on the x-axis in cartesian\n",
      "            coordinates.\n",
      "        range_y: list of two numbers\n",
      "            If provided, overrides auto-scaling on the y-axis in cartesian\n",
      "            coordinates.\n",
      "        points: str or boolean (default `'outliers'`)\n",
      "            One of `'outliers'`, `'suspectedoutliers'`, `'all'`, or `False`. If\n",
      "            `'outliers'`, only the sample points lying outside the whiskers are\n",
      "            shown. If `'suspectedoutliers'`, all outlier points are shown and those\n",
      "            less than 4*Q1-3*Q3 or greater than 4*Q3-3*Q1 are highlighted with the\n",
      "            marker's `'outliercolor'`. If `'outliers'`, only the sample points\n",
      "            lying outside the whiskers are shown. If `'all'`, all sample points are\n",
      "            shown. If `False`, no sample points are shown and the whiskers extend\n",
      "            to the full range of the sample.\n",
      "        box: boolean (default `False`)\n",
      "            If `True`, boxes are drawn inside the violins.\n",
      "        title: str\n",
      "            The figure title.\n",
      "        template: str or dict or plotly.graph_objects.layout.Template instance\n",
      "            The figure template name (must be a key in plotly.io.templates) or\n",
      "            definition.\n",
      "        width: int (default `None`)\n",
      "            The figure width in pixels.\n",
      "        height: int (default `None`)\n",
      "            The figure height in pixels.\n",
      "        \n",
      "        Returns\n",
      "        -------\n",
      "            plotly.graph_objects.Figure\n",
      "\n",
      "DATA\n",
      "    __all__ = ['scatter', 'scatter_3d', 'scatter_polar', 'scatter_ternary'...\n",
      "\n",
      "FILE\n",
      "    c:\\programdata\\anaconda3\\lib\\site-packages\\plotly\\express\\__init__.py\n",
      "\n",
      "\n"
     ]
    }
   ],
   "source": [
    "help(px)"
   ]
  },
  {
   "cell_type": "code",
   "execution_count": 86,
   "metadata": {
    "scrolled": false
   },
   "outputs": [
    {
     "name": "stdout",
     "output_type": "stream",
     "text": [
      "Help on _iLocIndexer in module pandas.core.indexing object:\n",
      "\n",
      "class _iLocIndexer(_LocationIndexer)\n",
      " |  Purely integer-location based indexing for selection by position.\n",
      " |  \n",
      " |  ``.iloc[]`` is primarily integer position based (from ``0`` to\n",
      " |  ``length-1`` of the axis), but may also be used with a boolean\n",
      " |  array.\n",
      " |  \n",
      " |  Allowed inputs are:\n",
      " |  \n",
      " |  - An integer, e.g. ``5``.\n",
      " |  - A list or array of integers, e.g. ``[4, 3, 0]``.\n",
      " |  - A slice object with ints, e.g. ``1:7``.\n",
      " |  - A boolean array.\n",
      " |  - A ``callable`` function with one argument (the calling Series or\n",
      " |    DataFrame) and that returns valid output for indexing (one of the above).\n",
      " |    This is useful in method chains, when you don't have a reference to the\n",
      " |    calling object, but would like to base your selection on some value.\n",
      " |  \n",
      " |  ``.iloc`` will raise ``IndexError`` if a requested indexer is\n",
      " |  out-of-bounds, except *slice* indexers which allow out-of-bounds\n",
      " |  indexing (this conforms with python/numpy *slice* semantics).\n",
      " |  \n",
      " |  See more at :ref:`Selection by Position <indexing.integer>`.\n",
      " |  \n",
      " |  See Also\n",
      " |  --------\n",
      " |  DataFrame.iat : Fast integer location scalar accessor.\n",
      " |  DataFrame.loc : Purely label-location based indexer for selection by label.\n",
      " |  Series.iloc : Purely integer-location based indexing for\n",
      " |                 selection by position.\n",
      " |  \n",
      " |  Examples\n",
      " |  --------\n",
      " |  \n",
      " |  >>> mydict = [{'a': 1, 'b': 2, 'c': 3, 'd': 4},\n",
      " |  ...           {'a': 100, 'b': 200, 'c': 300, 'd': 400},\n",
      " |  ...           {'a': 1000, 'b': 2000, 'c': 3000, 'd': 4000 }]\n",
      " |  >>> df = pd.DataFrame(mydict)\n",
      " |  >>> df\n",
      " |        a     b     c     d\n",
      " |  0     1     2     3     4\n",
      " |  1   100   200   300   400\n",
      " |  2  1000  2000  3000  4000\n",
      " |  \n",
      " |  **Indexing just the rows**\n",
      " |  \n",
      " |  With a scalar integer.\n",
      " |  \n",
      " |  >>> type(df.iloc[0])\n",
      " |  <class 'pandas.core.series.Series'>\n",
      " |  >>> df.iloc[0]\n",
      " |  a    1\n",
      " |  b    2\n",
      " |  c    3\n",
      " |  d    4\n",
      " |  Name: 0, dtype: int64\n",
      " |  \n",
      " |  With a list of integers.\n",
      " |  \n",
      " |  >>> df.iloc[[0]]\n",
      " |     a  b  c  d\n",
      " |  0  1  2  3  4\n",
      " |  >>> type(df.iloc[[0]])\n",
      " |  <class 'pandas.core.frame.DataFrame'>\n",
      " |  \n",
      " |  >>> df.iloc[[0, 1]]\n",
      " |       a    b    c    d\n",
      " |  0    1    2    3    4\n",
      " |  1  100  200  300  400\n",
      " |  \n",
      " |  With a `slice` object.\n",
      " |  \n",
      " |  >>> df.iloc[:3]\n",
      " |        a     b     c     d\n",
      " |  0     1     2     3     4\n",
      " |  1   100   200   300   400\n",
      " |  2  1000  2000  3000  4000\n",
      " |  \n",
      " |  With a boolean mask the same length as the index.\n",
      " |  \n",
      " |  >>> df.iloc[[True, False, True]]\n",
      " |        a     b     c     d\n",
      " |  0     1     2     3     4\n",
      " |  2  1000  2000  3000  4000\n",
      " |  \n",
      " |  With a callable, useful in method chains. The `x` passed\n",
      " |  to the ``lambda`` is the DataFrame being sliced. This selects\n",
      " |  the rows whose index label even.\n",
      " |  \n",
      " |  >>> df.iloc[lambda x: x.index % 2 == 0]\n",
      " |        a     b     c     d\n",
      " |  0     1     2     3     4\n",
      " |  2  1000  2000  3000  4000\n",
      " |  \n",
      " |  **Indexing both axes**\n",
      " |  \n",
      " |  You can mix the indexer types for the index and columns. Use ``:`` to\n",
      " |  select the entire axis.\n",
      " |  \n",
      " |  With scalar integers.\n",
      " |  \n",
      " |  >>> df.iloc[0, 1]\n",
      " |  2\n",
      " |  \n",
      " |  With lists of integers.\n",
      " |  \n",
      " |  >>> df.iloc[[0, 2], [1, 3]]\n",
      " |        b     d\n",
      " |  0     2     4\n",
      " |  2  2000  4000\n",
      " |  \n",
      " |  With `slice` objects.\n",
      " |  \n",
      " |  >>> df.iloc[1:3, 0:3]\n",
      " |        a     b     c\n",
      " |  1   100   200   300\n",
      " |  2  1000  2000  3000\n",
      " |  \n",
      " |  With a boolean array whose length matches the columns.\n",
      " |  \n",
      " |  >>> df.iloc[:, [True, False, True, False]]\n",
      " |        a     c\n",
      " |  0     1     3\n",
      " |  1   100   300\n",
      " |  2  1000  3000\n",
      " |  \n",
      " |  With a callable function that expects the Series or DataFrame.\n",
      " |  \n",
      " |  >>> df.iloc[:, lambda df: [0, 2]]\n",
      " |        a     c\n",
      " |  0     1     3\n",
      " |  1   100   300\n",
      " |  2  1000  3000\n",
      " |  \n",
      " |  Method resolution order:\n",
      " |      _iLocIndexer\n",
      " |      _LocationIndexer\n",
      " |      _NDFrameIndexer\n",
      " |      pandas._libs.indexing._NDFrameIndexerBase\n",
      " |      builtins.object\n",
      " |  \n",
      " |  Methods inherited from _LocationIndexer:\n",
      " |  \n",
      " |  __getitem__(self, key)\n",
      " |  \n",
      " |  ----------------------------------------------------------------------\n",
      " |  Methods inherited from _NDFrameIndexer:\n",
      " |  \n",
      " |  __call__(self, axis=None)\n",
      " |      Call self as a function.\n",
      " |  \n",
      " |  __iter__(self)\n",
      " |  \n",
      " |  __setitem__(self, key, value)\n",
      " |  \n",
      " |  ----------------------------------------------------------------------\n",
      " |  Data descriptors inherited from _NDFrameIndexer:\n",
      " |  \n",
      " |  __dict__\n",
      " |      dictionary for instance variables (if defined)\n",
      " |  \n",
      " |  __weakref__\n",
      " |      list of weak references to the object (if defined)\n",
      " |  \n",
      " |  ----------------------------------------------------------------------\n",
      " |  Data and other attributes inherited from _NDFrameIndexer:\n",
      " |  \n",
      " |  axis = None\n",
      " |  \n",
      " |  ----------------------------------------------------------------------\n",
      " |  Methods inherited from pandas._libs.indexing._NDFrameIndexerBase:\n",
      " |  \n",
      " |  __init__(self, /, *args, **kwargs)\n",
      " |      Initialize self.  See help(type(self)) for accurate signature.\n",
      " |  \n",
      " |  __reduce__ = __reduce_cython__(...)\n",
      " |  \n",
      " |  __setstate__ = __setstate_cython__(...)\n",
      " |  \n",
      " |  ----------------------------------------------------------------------\n",
      " |  Static methods inherited from pandas._libs.indexing._NDFrameIndexerBase:\n",
      " |  \n",
      " |  __new__(*args, **kwargs) from builtins.type\n",
      " |      Create and return a new object.  See help(type) for accurate signature.\n",
      " |  \n",
      " |  ----------------------------------------------------------------------\n",
      " |  Data descriptors inherited from pandas._libs.indexing._NDFrameIndexerBase:\n",
      " |  \n",
      " |  name\n",
      " |  \n",
      " |  ndim\n",
      " |  \n",
      " |  obj\n",
      "\n"
     ]
    }
   ],
   "source": [
    "help(df.iloc)"
   ]
  },
  {
   "cell_type": "code",
   "execution_count": 87,
   "metadata": {
    "scrolled": true
   },
   "outputs": [
    {
     "data": {
      "text/html": [
       "<div>\n",
       "<style scoped>\n",
       "    .dataframe tbody tr th:only-of-type {\n",
       "        vertical-align: middle;\n",
       "    }\n",
       "\n",
       "    .dataframe tbody tr th {\n",
       "        vertical-align: top;\n",
       "    }\n",
       "\n",
       "    .dataframe thead th {\n",
       "        text-align: right;\n",
       "    }\n",
       "</style>\n",
       "<table border=\"1\" class=\"dataframe\">\n",
       "  <thead>\n",
       "    <tr style=\"text-align: right;\">\n",
       "      <th></th>\n",
       "      <th>Country Name</th>\n",
       "      <th>Total cases</th>\n",
       "      <th>Total Death</th>\n",
       "      <th>Total recovery</th>\n",
       "      <th>Active Cases</th>\n",
       "    </tr>\n",
       "  </thead>\n",
       "  <tbody>\n",
       "    <tr>\n",
       "      <td>1</td>\n",
       "      <td>USA</td>\n",
       "      <td>1178832</td>\n",
       "      <td>68445</td>\n",
       "      <td>170181</td>\n",
       "      <td>940206</td>\n",
       "    </tr>\n",
       "    <tr>\n",
       "      <td>2</td>\n",
       "      <td>Spain</td>\n",
       "      <td>248155</td>\n",
       "      <td>25376</td>\n",
       "      <td>146233</td>\n",
       "      <td>76546</td>\n",
       "    </tr>\n",
       "    <tr>\n",
       "      <td>3</td>\n",
       "      <td>Italy</td>\n",
       "      <td>211228</td>\n",
       "      <td>29184</td>\n",
       "      <td>79914</td>\n",
       "      <td>102130</td>\n",
       "    </tr>\n",
       "    <tr>\n",
       "      <td>4</td>\n",
       "      <td>UK</td>\n",
       "      <td>187066</td>\n",
       "      <td>28752</td>\n",
       "      <td>NaN</td>\n",
       "      <td>NaN</td>\n",
       "    </tr>\n",
       "    <tr>\n",
       "      <td>5</td>\n",
       "      <td>France</td>\n",
       "      <td>169446</td>\n",
       "      <td>24926</td>\n",
       "      <td>50562</td>\n",
       "      <td>93958</td>\n",
       "    </tr>\n",
       "    <tr>\n",
       "      <td>6</td>\n",
       "      <td>Germany</td>\n",
       "      <td>165327</td>\n",
       "      <td>6830</td>\n",
       "      <td>129000</td>\n",
       "      <td>29497</td>\n",
       "    </tr>\n",
       "    <tr>\n",
       "      <td>7</td>\n",
       "      <td>Turkey</td>\n",
       "      <td>126358</td>\n",
       "      <td>3414</td>\n",
       "      <td>58259</td>\n",
       "      <td>64685</td>\n",
       "    </tr>\n",
       "    <tr>\n",
       "      <td>8</td>\n",
       "      <td>Russia</td>\n",
       "      <td>133677</td>\n",
       "      <td>1275</td>\n",
       "      <td>15013</td>\n",
       "      <td>117389</td>\n",
       "    </tr>\n",
       "    <tr>\n",
       "      <td>9</td>\n",
       "      <td>Iran</td>\n",
       "      <td>97250</td>\n",
       "      <td>6221</td>\n",
       "      <td>77350</td>\n",
       "      <td>13679</td>\n",
       "    </tr>\n",
       "    <tr>\n",
       "      <td>10</td>\n",
       "      <td>Brazil</td>\n",
       "      <td>93621</td>\n",
       "      <td>6572</td>\n",
       "      <td>38039</td>\n",
       "      <td>49010</td>\n",
       "    </tr>\n",
       "    <tr>\n",
       "      <td>11</td>\n",
       "      <td>China</td>\n",
       "      <td>82876</td>\n",
       "      <td>4633</td>\n",
       "      <td>77685</td>\n",
       "      <td>558</td>\n",
       "    </tr>\n",
       "    <tr>\n",
       "      <td>12</td>\n",
       "      <td>Canada</td>\n",
       "      <td>58161</td>\n",
       "      <td>3737</td>\n",
       "      <td>23621</td>\n",
       "      <td>30803</td>\n",
       "    </tr>\n",
       "    <tr>\n",
       "      <td>13</td>\n",
       "      <td>Belgium</td>\n",
       "      <td>50002</td>\n",
       "      <td>7827</td>\n",
       "      <td>12211</td>\n",
       "      <td>29964</td>\n",
       "    </tr>\n",
       "    <tr>\n",
       "      <td>14</td>\n",
       "      <td>Peru</td>\n",
       "      <td>44609</td>\n",
       "      <td>1276</td>\n",
       "      <td>12434</td>\n",
       "      <td>30899</td>\n",
       "    </tr>\n",
       "    <tr>\n",
       "      <td>15</td>\n",
       "      <td>Netherlands</td>\n",
       "      <td>40681</td>\n",
       "      <td>5081</td>\n",
       "      <td>NaN</td>\n",
       "      <td>NaN</td>\n",
       "    </tr>\n",
       "    <tr>\n",
       "      <td>16</td>\n",
       "      <td>India</td>\n",
       "      <td>42141</td>\n",
       "      <td>1423</td>\n",
       "      <td>10819</td>\n",
       "      <td>29899</td>\n",
       "    </tr>\n",
       "    <tr>\n",
       "      <td>17</td>\n",
       "      <td>Switzerland</td>\n",
       "      <td>29929</td>\n",
       "      <td>1770</td>\n",
       "      <td>24200</td>\n",
       "      <td>3959</td>\n",
       "    </tr>\n",
       "    <tr>\n",
       "      <td>18</td>\n",
       "      <td>Ecuador</td>\n",
       "      <td>28592</td>\n",
       "      <td>1679</td>\n",
       "      <td>2132</td>\n",
       "      <td>24781</td>\n",
       "    </tr>\n",
       "    <tr>\n",
       "      <td>19</td>\n",
       "      <td>Saudi Arabia</td>\n",
       "      <td>26821</td>\n",
       "      <td>183</td>\n",
       "      <td>3765</td>\n",
       "      <td>22873</td>\n",
       "    </tr>\n",
       "    <tr>\n",
       "      <td>20</td>\n",
       "      <td>Portugal</td>\n",
       "      <td>25393</td>\n",
       "      <td>1039</td>\n",
       "      <td>1671</td>\n",
       "      <td>22683</td>\n",
       "    </tr>\n",
       "  </tbody>\n",
       "</table>\n",
       "</div>"
      ],
      "text/plain": [
       "    Country Name Total cases Total Death Total recovery Active Cases\n",
       "1            USA     1178832       68445         170181       940206\n",
       "2          Spain      248155       25376         146233        76546\n",
       "3          Italy      211228       29184          79914       102130\n",
       "4             UK      187066       28752            NaN          NaN\n",
       "5         France      169446       24926          50562        93958\n",
       "6        Germany      165327        6830         129000        29497\n",
       "7         Turkey      126358        3414          58259        64685\n",
       "8         Russia      133677        1275          15013       117389\n",
       "9           Iran       97250        6221          77350        13679\n",
       "10        Brazil       93621        6572          38039        49010\n",
       "11         China       82876        4633          77685          558\n",
       "12        Canada       58161        3737          23621        30803\n",
       "13       Belgium       50002        7827          12211        29964\n",
       "14          Peru       44609        1276          12434        30899\n",
       "15   Netherlands       40681        5081            NaN          NaN\n",
       "16         India       42141        1423          10819        29899\n",
       "17   Switzerland       29929        1770          24200         3959\n",
       "18       Ecuador       28592        1679           2132        24781\n",
       "19  Saudi Arabia       26821         183           3765        22873\n",
       "20      Portugal       25393        1039           1671        22683"
      ]
     },
     "execution_count": 87,
     "metadata": {},
     "output_type": "execute_result"
    }
   ],
   "source": [
    "df\n"
   ]
  },
  {
   "cell_type": "code",
   "execution_count": 93,
   "metadata": {},
   "outputs": [
    {
     "data": {
      "text/html": [
       "<div>\n",
       "<style scoped>\n",
       "    .dataframe tbody tr th:only-of-type {\n",
       "        vertical-align: middle;\n",
       "    }\n",
       "\n",
       "    .dataframe tbody tr th {\n",
       "        vertical-align: top;\n",
       "    }\n",
       "\n",
       "    .dataframe thead th {\n",
       "        text-align: right;\n",
       "    }\n",
       "</style>\n",
       "<table border=\"1\" class=\"dataframe\">\n",
       "  <thead>\n",
       "    <tr style=\"text-align: right;\">\n",
       "      <th></th>\n",
       "      <th>Country Name</th>\n",
       "      <th>Total cases</th>\n",
       "      <th>Total Death</th>\n",
       "      <th>Total recovery</th>\n",
       "      <th>Active Cases</th>\n",
       "    </tr>\n",
       "  </thead>\n",
       "  <tbody>\n",
       "    <tr>\n",
       "      <td>1</td>\n",
       "      <td>USA</td>\n",
       "      <td>1178832</td>\n",
       "      <td>68445</td>\n",
       "      <td>170181</td>\n",
       "      <td>940206</td>\n",
       "    </tr>\n",
       "    <tr>\n",
       "      <td>2</td>\n",
       "      <td>Spain</td>\n",
       "      <td>248155</td>\n",
       "      <td>25376</td>\n",
       "      <td>146233</td>\n",
       "      <td>76546</td>\n",
       "    </tr>\n",
       "    <tr>\n",
       "      <td>3</td>\n",
       "      <td>Italy</td>\n",
       "      <td>211228</td>\n",
       "      <td>29184</td>\n",
       "      <td>79914</td>\n",
       "      <td>102130</td>\n",
       "    </tr>\n",
       "    <tr>\n",
       "      <td>4</td>\n",
       "      <td>UK</td>\n",
       "      <td>187066</td>\n",
       "      <td>28752</td>\n",
       "      <td>NaN</td>\n",
       "      <td>NaN</td>\n",
       "    </tr>\n",
       "    <tr>\n",
       "      <td>5</td>\n",
       "      <td>France</td>\n",
       "      <td>169446</td>\n",
       "      <td>24926</td>\n",
       "      <td>50562</td>\n",
       "      <td>93958</td>\n",
       "    </tr>\n",
       "    <tr>\n",
       "      <td>6</td>\n",
       "      <td>Germany</td>\n",
       "      <td>165327</td>\n",
       "      <td>6830</td>\n",
       "      <td>129000</td>\n",
       "      <td>29497</td>\n",
       "    </tr>\n",
       "    <tr>\n",
       "      <td>7</td>\n",
       "      <td>Turkey</td>\n",
       "      <td>126358</td>\n",
       "      <td>3414</td>\n",
       "      <td>58259</td>\n",
       "      <td>64685</td>\n",
       "    </tr>\n",
       "    <tr>\n",
       "      <td>8</td>\n",
       "      <td>Russia</td>\n",
       "      <td>133677</td>\n",
       "      <td>1275</td>\n",
       "      <td>15013</td>\n",
       "      <td>117389</td>\n",
       "    </tr>\n",
       "    <tr>\n",
       "      <td>9</td>\n",
       "      <td>Iran</td>\n",
       "      <td>97250</td>\n",
       "      <td>6221</td>\n",
       "      <td>77350</td>\n",
       "      <td>13679</td>\n",
       "    </tr>\n",
       "    <tr>\n",
       "      <td>10</td>\n",
       "      <td>Brazil</td>\n",
       "      <td>93621</td>\n",
       "      <td>6572</td>\n",
       "      <td>38039</td>\n",
       "      <td>49010</td>\n",
       "    </tr>\n",
       "  </tbody>\n",
       "</table>\n",
       "</div>"
      ],
      "text/plain": [
       "   Country Name Total cases Total Death Total recovery Active Cases\n",
       "1           USA     1178832       68445         170181       940206\n",
       "2         Spain      248155       25376         146233        76546\n",
       "3         Italy      211228       29184          79914       102130\n",
       "4            UK      187066       28752            NaN          NaN\n",
       "5        France      169446       24926          50562        93958\n",
       "6       Germany      165327        6830         129000        29497\n",
       "7        Turkey      126358        3414          58259        64685\n",
       "8        Russia      133677        1275          15013       117389\n",
       "9          Iran       97250        6221          77350        13679\n",
       "10       Brazil       93621        6572          38039        49010"
      ]
     },
     "execution_count": 93,
     "metadata": {},
     "output_type": "execute_result"
    }
   ],
   "source": []
  },
  {
   "cell_type": "code",
   "execution_count": null,
   "metadata": {},
   "outputs": [],
   "source": []
  }
 ],
 "metadata": {
  "kernelspec": {
   "display_name": "Python 3",
   "language": "python",
   "name": "python3"
  },
  "language_info": {
   "codemirror_mode": {
    "name": "ipython",
    "version": 3
   },
   "file_extension": ".py",
   "mimetype": "text/x-python",
   "name": "python",
   "nbconvert_exporter": "python",
   "pygments_lexer": "ipython3",
   "version": "3.7.4"
  }
 },
 "nbformat": 4,
 "nbformat_minor": 2
}
